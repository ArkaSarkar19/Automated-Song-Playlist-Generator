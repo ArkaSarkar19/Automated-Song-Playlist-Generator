{
 "cells": [
  {
   "cell_type": "code",
   "execution_count": 121,
   "metadata": {},
   "outputs": [],
   "source": [
    "import pandas as pd\n",
    "import numpy as np\n",
    "from sklearn.linear_model import LogisticRegression, SGDClassifier\n",
    "from sklearn.model_selection import train_test_split\n",
    "from sklearn.metrics import precision_score\n",
    "from sklearn.metrics import f1_score\n",
    "from sklearn.metrics import balanced_accuracy_score\n",
    "from sklearn.preprocessing import StandardScaler\n",
    "from sklearn.metrics import recall_score"
   ]
  },
  {
   "cell_type": "code",
   "execution_count": 122,
   "metadata": {},
   "outputs": [],
   "source": [
    "df = pd.read_csv(\"../Data_Scrape/Dataset/updated_dataset_3.csv\")"
   ]
  },
  {
   "cell_type": "code",
   "execution_count": 123,
   "metadata": {},
   "outputs": [
    {
     "data": {
      "text/html": [
       "<div>\n",
       "<style scoped>\n",
       "    .dataframe tbody tr th:only-of-type {\n",
       "        vertical-align: middle;\n",
       "    }\n",
       "\n",
       "    .dataframe tbody tr th {\n",
       "        vertical-align: top;\n",
       "    }\n",
       "\n",
       "    .dataframe thead th {\n",
       "        text-align: right;\n",
       "    }\n",
       "</style>\n",
       "<table border=\"1\" class=\"dataframe\">\n",
       "  <thead>\n",
       "    <tr style=\"text-align: right;\">\n",
       "      <th></th>\n",
       "      <th>sp_song_id</th>\n",
       "      <th>danceability</th>\n",
       "      <th>energy</th>\n",
       "      <th>key</th>\n",
       "      <th>loudness</th>\n",
       "      <th>mode</th>\n",
       "      <th>speechiness</th>\n",
       "      <th>acousticness</th>\n",
       "      <th>instrumentalness</th>\n",
       "      <th>liveness</th>\n",
       "      <th>valence</th>\n",
       "      <th>tempo</th>\n",
       "      <th>duration_ms</th>\n",
       "      <th>release_date</th>\n",
       "      <th>popularity</th>\n",
       "      <th>lda_topic_0</th>\n",
       "      <th>lda_topic_1</th>\n",
       "      <th>lda_topic_2</th>\n",
       "      <th>Playlists</th>\n",
       "    </tr>\n",
       "  </thead>\n",
       "  <tbody>\n",
       "    <tr>\n",
       "      <td>0</td>\n",
       "      <td>6edQfeOlqbGteYixpJl3Sm</td>\n",
       "      <td>0.857</td>\n",
       "      <td>0.602</td>\n",
       "      <td>10</td>\n",
       "      <td>-8.311</td>\n",
       "      <td>1</td>\n",
       "      <td>0.0290</td>\n",
       "      <td>0.489000</td>\n",
       "      <td>0.02440</td>\n",
       "      <td>0.3170</td>\n",
       "      <td>0.957</td>\n",
       "      <td>105.157</td>\n",
       "      <td>239627</td>\n",
       "      <td>1999</td>\n",
       "      <td>48</td>\n",
       "      <td>0.921150</td>\n",
       "      <td>0.078573</td>\n",
       "      <td>0.0</td>\n",
       "      <td>[165]</td>\n",
       "    </tr>\n",
       "    <tr>\n",
       "      <td>1</td>\n",
       "      <td>5Oe7wHPL4hdEXeF4AOayCi</td>\n",
       "      <td>0.322</td>\n",
       "      <td>0.990</td>\n",
       "      <td>8</td>\n",
       "      <td>-1.785</td>\n",
       "      <td>1</td>\n",
       "      <td>0.1710</td>\n",
       "      <td>0.000044</td>\n",
       "      <td>0.41700</td>\n",
       "      <td>0.0366</td>\n",
       "      <td>0.146</td>\n",
       "      <td>104.678</td>\n",
       "      <td>210867</td>\n",
       "      <td>2006</td>\n",
       "      <td>44</td>\n",
       "      <td>0.000000</td>\n",
       "      <td>0.998903</td>\n",
       "      <td>0.0</td>\n",
       "      <td>[79]</td>\n",
       "    </tr>\n",
       "    <tr>\n",
       "      <td>2</td>\n",
       "      <td>6i1uWZYWabNHq2wQnoca58</td>\n",
       "      <td>0.666</td>\n",
       "      <td>0.884</td>\n",
       "      <td>9</td>\n",
       "      <td>-5.243</td>\n",
       "      <td>0</td>\n",
       "      <td>0.0429</td>\n",
       "      <td>0.506000</td>\n",
       "      <td>0.00612</td>\n",
       "      <td>0.0408</td>\n",
       "      <td>0.754</td>\n",
       "      <td>92.005</td>\n",
       "      <td>298573</td>\n",
       "      <td>1989</td>\n",
       "      <td>54</td>\n",
       "      <td>0.996161</td>\n",
       "      <td>0.000000</td>\n",
       "      <td>0.0</td>\n",
       "      <td>[15]</td>\n",
       "    </tr>\n",
       "    <tr>\n",
       "      <td>3</td>\n",
       "      <td>4BzBtS6PBreni5hNPo2hos</td>\n",
       "      <td>0.609</td>\n",
       "      <td>0.578</td>\n",
       "      <td>9</td>\n",
       "      <td>-7.081</td>\n",
       "      <td>1</td>\n",
       "      <td>0.0414</td>\n",
       "      <td>0.296000</td>\n",
       "      <td>0.00000</td>\n",
       "      <td>0.1500</td>\n",
       "      <td>0.343</td>\n",
       "      <td>123.925</td>\n",
       "      <td>233947</td>\n",
       "      <td>2006</td>\n",
       "      <td>19</td>\n",
       "      <td>0.186477</td>\n",
       "      <td>0.813353</td>\n",
       "      <td>0.0</td>\n",
       "      <td>[168]</td>\n",
       "    </tr>\n",
       "    <tr>\n",
       "      <td>4</td>\n",
       "      <td>0GvhHQbWSnGltjl0je61dI</td>\n",
       "      <td>0.699</td>\n",
       "      <td>0.514</td>\n",
       "      <td>4</td>\n",
       "      <td>-12.610</td>\n",
       "      <td>1</td>\n",
       "      <td>0.0315</td>\n",
       "      <td>0.587000</td>\n",
       "      <td>0.02900</td>\n",
       "      <td>0.2200</td>\n",
       "      <td>0.630</td>\n",
       "      <td>120.758</td>\n",
       "      <td>144947</td>\n",
       "      <td>1959</td>\n",
       "      <td>53</td>\n",
       "      <td>0.166753</td>\n",
       "      <td>0.832920</td>\n",
       "      <td>0.0</td>\n",
       "      <td>[30, 133]</td>\n",
       "    </tr>\n",
       "  </tbody>\n",
       "</table>\n",
       "</div>"
      ],
      "text/plain": [
       "               sp_song_id  danceability  energy  key  loudness  mode  \\\n",
       "0  6edQfeOlqbGteYixpJl3Sm         0.857   0.602   10    -8.311     1   \n",
       "1  5Oe7wHPL4hdEXeF4AOayCi         0.322   0.990    8    -1.785     1   \n",
       "2  6i1uWZYWabNHq2wQnoca58         0.666   0.884    9    -5.243     0   \n",
       "3  4BzBtS6PBreni5hNPo2hos         0.609   0.578    9    -7.081     1   \n",
       "4  0GvhHQbWSnGltjl0je61dI         0.699   0.514    4   -12.610     1   \n",
       "\n",
       "   speechiness  acousticness  instrumentalness  liveness  valence    tempo  \\\n",
       "0       0.0290      0.489000           0.02440    0.3170    0.957  105.157   \n",
       "1       0.1710      0.000044           0.41700    0.0366    0.146  104.678   \n",
       "2       0.0429      0.506000           0.00612    0.0408    0.754   92.005   \n",
       "3       0.0414      0.296000           0.00000    0.1500    0.343  123.925   \n",
       "4       0.0315      0.587000           0.02900    0.2200    0.630  120.758   \n",
       "\n",
       "   duration_ms  release_date  popularity  lda_topic_0  lda_topic_1  \\\n",
       "0       239627          1999          48     0.921150     0.078573   \n",
       "1       210867          2006          44     0.000000     0.998903   \n",
       "2       298573          1989          54     0.996161     0.000000   \n",
       "3       233947          2006          19     0.186477     0.813353   \n",
       "4       144947          1959          53     0.166753     0.832920   \n",
       "\n",
       "   lda_topic_2  Playlists  \n",
       "0          0.0      [165]  \n",
       "1          0.0       [79]  \n",
       "2          0.0       [15]  \n",
       "3          0.0      [168]  \n",
       "4          0.0  [30, 133]  "
      ]
     },
     "execution_count": 123,
     "metadata": {},
     "output_type": "execute_result"
    }
   ],
   "source": [
    "df.head()"
   ]
  },
  {
   "cell_type": "code",
   "execution_count": 126,
   "metadata": {},
   "outputs": [
    {
     "name": "stdout",
     "output_type": "stream",
     "text": [
      "4\n",
      "(542, 19)\n",
      "['3wz2dLhHFuhgXBDZ4cDqy4' 0.597 0.667 7 -6.221 0 0.0405\n",
      " 0.11599999999999999 0.0 0.314 0.6940000000000001 91.992 182227 2017 30\n",
      " 0.993575394153595 0.0 0.0 '[132]']\n"
     ]
    }
   ],
   "source": [
    "playlists_multi = [30,76,132, 159]\n",
    "dict_playlists_to_songs = {}\n",
    "data = np.array(df)\n",
    "Dataset = []\n",
    "for j in playlists_multi:\n",
    "    l0 = []\n",
    "    for i in df.index:\n",
    "        l = eval(df[\"Playlists\"][i])\n",
    "        if(j in l and len(l) == 1):\n",
    "            l0.append(df[\"sp_song_id\"][i])\n",
    "            Dataset.append(data[i])\n",
    "                \n",
    "    dict_playlists_to_songs[j] = l0\n",
    "#     print(len(l0))\n",
    "print(len(dict_playlists_to_songs))\n",
    "Dataset = np.array(Dataset)\n",
    "print(Dataset.shape)\n",
    "np.random.shuffle(Dataset)\n",
    "print(Dataset[0])\n",
    "\n"
   ]
  },
  {
   "cell_type": "code",
   "execution_count": 127,
   "metadata": {},
   "outputs": [
    {
     "name": "stdout",
     "output_type": "stream",
     "text": [
      "(542, 17)\n",
      "(542,)\n",
      "[132 30 159 132 76 132 159 76 76 76 30 76 159 30 76 30 76 132 159 76 30 30\n",
      " 132 76 30 132 30 159 30 159 132 76 159 30 76 159 76 132 132 76 76 30 76\n",
      " 76 159 159 30 132 159 159 76 30 132 76 132 30 132 76 159 132 159 132 76\n",
      " 159 132 132 159 132 159 76 159 159 30 30 76 132 132 132 159 132 159 159\n",
      " 159 30 76 30 132 132 76 30 30 76 132 30 159 132 159 132 159 159 132 76 30\n",
      " 76 132 159 30 30 76 132 132 30 132 132 132 159 76 76 76 76 159 30 76 76\n",
      " 132 132 76 159 132 132 159 76 132 159 132 132 132 76 76 132 30 132 159 76\n",
      " 159 30 30 30 159 30 30 132 30 30 76 132 159 132 159 132 132 159 76 76 159\n",
      " 30 159 159 132 30 30 30 30 30 76 30 30 76 30 132 76 132 159 159 30 30 76\n",
      " 76 76 132 30 76 30 76 30 30 76 132 30 159 132 132 132 159 76 30 30 30 132\n",
      " 76 30 30 132 76 30 30 132 132 30 132 159 30 159 159 159 30 76 76 30 76\n",
      " 159 159 132 30 159 30 132 30 76 132 132 76 30 30 132 159 132 30 30 159 30\n",
      " 159 30 30 30 76 30 30 132 30 30 132 132 30 30 132 132 30 159 30 132 76 30\n",
      " 30 30 76 30 30 30 30 30 159 159 159 30 159 76 76 30 159 30 132 30 132 30\n",
      " 30 159 30 30 30 132 30 132 76 76 159 76 159 76 132 30 159 159 30 132 159\n",
      " 159 30 76 76 132 132 30 159 30 159 159 159 30 30 30 30 30 159 30 159 30\n",
      " 132 76 30 76 132 159 132 30 30 132 132 76 76 132 159 30 132 132 76 30 30\n",
      " 159 30 76 159 76 132 30 30 30 76 159 30 132 132 30 159 76 132 132 132 30\n",
      " 76 30 159 30 159 159 159 30 132 159 30 30 132 159 159 132 30 132 30 76\n",
      " 132 30 159 30 132 159 30 132 30 30 132 76 76 76 159 76 159 132 159 159\n",
      " 132 30 159 30 30 132 159 132 132 30 159 76 132 30 159 30 132 30 159 159\n",
      " 30 159 159 30 159 30 132 76 30 159 132 159 159 76 132 76 132 159 76 159\n",
      " 159 159 30 30 159 132 76 159 76 30 132 159 76 30 30 76 76 132 159 159 132\n",
      " 30 159 76 30 30 76 30 159 159 30 159 159 30 76 30 132 132 132 159 132 76\n",
      " 30 30 159 30 30 132 30 132 30 159 132 76 159 132 132 30 159 132 132 30\n",
      " 132 159 30 76 30 132 132 76 132 132 132 76 159 159 132 132 132 30 30 159\n",
      " 30]\n"
     ]
    }
   ],
   "source": [
    "X = Dataset[:,1:-1]\n",
    "Y = Dataset[:,-1]\n",
    "for i in range(len(Y)):\n",
    "    Y[i] = eval(Y[i])\n",
    "    Y[i] = Y[i][0]\n",
    "    \n",
    "print(X.shape)\n",
    "print(Y.shape)\n",
    "\n",
    "\n",
    "print(Y)"
   ]
  },
  {
   "cell_type": "code",
   "execution_count": 128,
   "metadata": {},
   "outputs": [
    {
     "name": "stdout",
     "output_type": "stream",
     "text": [
      "[2 0 3 2 1 2 3 1 1 1 0 1 3 0 1 0 1 2 3 1 0 0 2 1 0 2 0 3 0 3 2 1 3 0 1 3 1\n",
      " 2 2 1 1 0 1 1 3 3 0 2 3 3 1 0 2 1 2 0 2 1 3 2 3 2 1 3 2 2 3 2 3 1 3 3 0 0\n",
      " 1 2 2 2 3 2 3 3 3 0 1 0 2 2 1 0 0 1 2 0 3 2 3 2 3 3 2 1 0 1 2 3 0 0 1 2 2\n",
      " 0 2 2 2 3 1 1 1 1 3 0 1 1 2 2 1 3 2 2 3 1 2 3 2 2 2 1 1 2 0 2 3 1 3 0 0 0\n",
      " 3 0 0 2 0 0 1 2 3 2 3 2 2 3 1 1 3 0 3 3 2 0 0 0 0 0 1 0 0 1 0 2 1 2 3 3 0\n",
      " 0 1 1 1 2 0 1 0 1 0 0 1 2 0 3 2 2 2 3 1 0 0 0 2 1 0 0 2 1 0 0 2 2 0 2 3 0\n",
      " 3 3 3 0 1 1 0 1 3 3 2 0 3 0 2 0 1 2 2 1 0 0 2 3 2 0 0 3 0 3 0 0 0 1 0 0 2\n",
      " 0 0 2 2 0 0 2 2 0 3 0 2 1 0 0 0 1 0 0 0 0 0 3 3 3 0 3 1 1 0 3 0 2 0 2 0 0\n",
      " 3 0 0 0 2 0 2 1 1 3 1 3 1 2 0 3 3 0 2 3 3 0 1 1 2 2 0 3 0 3 3 3 0 0 0 0 0\n",
      " 3 0 3 0 2 1 0 1 2 3 2 0 0 2 2 1 1 2 3 0 2 2 1 0 0 3 0 1 3 1 2 0 0 0 1 3 0\n",
      " 2 2 0 3 1 2 2 2 0 1 0 3 0 3 3 3 0 2 3 0 0 2 3 3 2 0 2 0 1 2 0 3 0 2 3 0 2\n",
      " 0 0 2 1 1 1 3 1 3 2 3 3 2 0 3 0 0 2 3 2 2 0 3 1 2 0 3 0 2 0 3 3 0 3 3 0 3\n",
      " 0 2 1 0 3 2 3 3 1 2 1 2 3 1 3 3 3 0 0 3 2 1 3 1 0 2 3 1 0 0 1 1 2 3 3 2 0\n",
      " 3 1 0 0 1 0 3 3 0 3 3 0 1 0 2 2 2 3 2 1 0 0 3 0 0 2 0 2 0 3 2 1 3 2 2 0 3\n",
      " 2 2 0 2 3 0 1 0 2 2 1 2 2 2 1 3 3 2 2 2 0 0 3 0]\n"
     ]
    }
   ],
   "source": [
    "for i in range(len(Y)):\n",
    "    for j in range(len(playlists_multi)):\n",
    "#         print(playlists_multi[j])\n",
    "        if playlists_multi[j] == Y[i]:\n",
    "            Y[i] = j\n",
    "print(Y)"
   ]
  },
  {
   "cell_type": "code",
   "execution_count": null,
   "metadata": {},
   "outputs": [],
   "source": [
    "X = []\n",
    "y = []\n",
    "playlist_selected = [57]\n",
    "c = 0\n",
    "for i in df.index:\n",
    "    features = df.columns[1:-1]\n",
    "#     print(features)\n",
    "    a = []\n",
    "    for feature in features:\n",
    "        a.append(df[feature][i])\n",
    "    playlists = eval(df['Playlists'][i])\n",
    "    flag = 0\n",
    "    for i in range(len(playlist_selected)):\n",
    "        if playlist_selected[i] in playlists:\n",
    "            c += 1\n",
    "            flag = 1\n",
    "    y.append(flag)\n",
    "    X.append(a)"
   ]
  },
  {
   "cell_type": "code",
   "execution_count": 4,
   "metadata": {},
   "outputs": [
    {
     "name": "stdout",
     "output_type": "stream",
     "text": [
      "183\n"
     ]
    }
   ],
   "source": [
    "\"\"\" For binary class \"\"\"\n",
    "\n",
    "X = []\n",
    "y = []\n",
    "playlist_selected = [57]\n",
    "c = 0\n",
    "for i in df.index:\n",
    "    features = df.columns[1:-1]\n",
    "#     print(features)\n",
    "    a = []\n",
    "    for feature in features:\n",
    "        a.append(df[feature][i])\n",
    "    playlists = eval(df['Playlists'][i])\n",
    "    flag = 0\n",
    "    for i in range(len(playlist_selected)):\n",
    "        if playlist_selected[i] in playlists:\n",
    "            c += 1\n",
    "            flag = 1\n",
    "    y.append(flag)\n",
    "    X.append(a)\n",
    "print(c)"
   ]
  },
  {
   "cell_type": "code",
   "execution_count": 129,
   "metadata": {},
   "outputs": [
    {
     "name": "stdout",
     "output_type": "stream",
     "text": [
      "(542, 17) (542, 1)\n",
      "[2 0 3 2 1 2 3 1 1 1 0 1 3 0 1 0 1 2 3 1 0 0 2 1 0 2 0 3 0 3 2 1 3 0 1 3 1\n",
      " 2 2 1 1 0 1 1 3 3 0 2 3 3 1 0 2 1 2 0 2 1 3 2 3 2 1 3 2 2 3 2 3 1 3 3 0 0\n",
      " 1 2 2 2 3 2 3 3 3 0 1 0 2 2 1 0 0 1 2 0 3 2 3 2 3 3 2 1 0 1 2 3 0 0 1 2 2\n",
      " 0 2 2 2 3 1 1 1 1 3 0 1 1 2 2 1 3 2 2 3 1 2 3 2 2 2 1 1 2 0 2 3 1 3 0 0 0\n",
      " 3 0 0 2 0 0 1 2 3 2 3 2 2 3 1 1 3 0 3 3 2 0 0 0 0 0 1 0 0 1 0 2 1 2 3 3 0\n",
      " 0 1 1 1 2 0 1 0 1 0 0 1 2 0 3 2 2 2 3 1 0 0 0 2 1 0 0 2 1 0 0 2 2 0 2 3 0\n",
      " 3 3 3 0 1 1 0 1 3 3 2 0 3 0 2 0 1 2 2 1 0 0 2 3 2 0 0 3 0 3 0 0 0 1 0 0 2\n",
      " 0 0 2 2 0 0 2 2 0 3 0 2 1 0 0 0 1 0 0 0 0 0 3 3 3 0 3 1 1 0 3 0 2 0 2 0 0\n",
      " 3 0 0 0 2 0 2 1 1 3 1 3 1 2 0 3 3 0 2 3 3 0 1 1 2 2 0 3 0 3 3 3 0 0 0 0 0\n",
      " 3 0 3 0 2 1 0 1 2 3 2 0 0 2 2 1 1 2 3 0 2 2 1 0 0 3 0 1 3 1 2 0 0 0 1 3 0\n",
      " 2 2 0 3 1 2 2 2 0 1 0 3 0 3 3 3 0 2 3 0 0 2 3 3 2 0 2 0 1 2 0 3 0 2 3 0 2\n",
      " 0 0 2 1 1 1 3 1 3 2 3 3 2 0 3 0 0 2 3 2 2 0 3 1 2 0 3 0 2 0 3 3 0 3 3 0 3\n",
      " 0 2 1 0 3 2 3 3 1 2 1 2 3 1 3 3 3 0 0 3 2 1 3 1 0 2 3 1 0 0 1 1 2 3 3 2 0\n",
      " 3 1 0 0 1 0 3 3 0 3 3 0 1 0 2 2 2 3 2 1 0 0 3 0 0 2 0 2 0 3 2 1 3 2 2 0 3\n",
      " 2 2 0 2 3 0 1 0 2 2 1 2 2 2 1 3 3 2 2 2 0 0 3 0]\n"
     ]
    }
   ],
   "source": [
    "X = np.array(X)\n",
    "y = np.array(Y)\n",
    "y = Y.reshape(-1, 1)\n",
    "standardScalar = StandardScaler()\n",
    "X = standardScalar.fit_transform(X)\n",
    "print(X.shape, y.shape)\n",
    "y = np.squeeze(y)\n",
    "print(y)"
   ]
  },
  {
   "cell_type": "code",
   "execution_count": 130,
   "metadata": {},
   "outputs": [],
   "source": [
    "X_train, X_test, y_train, y_test = train_test_split(X, y, test_size=0.2, random_state=42)"
   ]
  },
  {
   "cell_type": "code",
   "execution_count": 131,
   "metadata": {
    "scrolled": true
   },
   "outputs": [
    {
     "name": "stderr",
     "output_type": "stream",
     "text": [
      "C:\\Users\\Asus\\Anaconda3\\lib\\site-packages\\sklearn\\linear_model\\logistic.py:432: FutureWarning: Default solver will be changed to 'lbfgs' in 0.22. Specify a solver to silence this warning.\n",
      "  FutureWarning)\n"
     ]
    },
    {
     "ename": "ValueError",
     "evalue": "Unknown label type: 'unknown'",
     "output_type": "error",
     "traceback": [
      "\u001b[1;31m---------------------------------------------------------------------------\u001b[0m",
      "\u001b[1;31mValueError\u001b[0m                                Traceback (most recent call last)",
      "\u001b[1;32m<ipython-input-131-7ac24480b67b>\u001b[0m in \u001b[0;36m<module>\u001b[1;34m\u001b[0m\n\u001b[0;32m      3\u001b[0m \u001b[0mlogistic\u001b[0m \u001b[1;33m=\u001b[0m \u001b[0mLogisticRegression\u001b[0m\u001b[1;33m(\u001b[0m \u001b[0mmax_iter\u001b[0m \u001b[1;33m=\u001b[0m \u001b[1;36m5000\u001b[0m\u001b[1;33m,\u001b[0m \u001b[0mC\u001b[0m \u001b[1;33m=\u001b[0m \u001b[1;36m1\u001b[0m\u001b[1;33m)\u001b[0m\u001b[1;33m\u001b[0m\u001b[1;33m\u001b[0m\u001b[0m\n\u001b[0;32m      4\u001b[0m \u001b[1;33m\u001b[0m\u001b[0m\n\u001b[1;32m----> 5\u001b[1;33m \u001b[0mlogistic\u001b[0m\u001b[1;33m.\u001b[0m\u001b[0mfit\u001b[0m\u001b[1;33m(\u001b[0m\u001b[0mX_train\u001b[0m\u001b[1;33m,\u001b[0m \u001b[0my_train\u001b[0m\u001b[1;33m)\u001b[0m\u001b[1;33m\u001b[0m\u001b[1;33m\u001b[0m\u001b[0m\n\u001b[0m\u001b[0;32m      6\u001b[0m \u001b[1;33m\u001b[0m\u001b[0m\n\u001b[0;32m      7\u001b[0m \u001b[0mtest_score\u001b[0m \u001b[1;33m=\u001b[0m \u001b[0mlogistic\u001b[0m\u001b[1;33m.\u001b[0m\u001b[0mscore\u001b[0m\u001b[1;33m(\u001b[0m\u001b[0mX_test\u001b[0m\u001b[1;33m,\u001b[0m \u001b[0my_test\u001b[0m\u001b[1;33m)\u001b[0m\u001b[1;33m\u001b[0m\u001b[1;33m\u001b[0m\u001b[0m\n",
      "\u001b[1;32m~\\Anaconda3\\lib\\site-packages\\sklearn\\linear_model\\logistic.py\u001b[0m in \u001b[0;36mfit\u001b[1;34m(self, X, y, sample_weight)\u001b[0m\n\u001b[0;32m   1531\u001b[0m         X, y = check_X_y(X, y, accept_sparse='csr', dtype=_dtype, order=\"C\",\n\u001b[0;32m   1532\u001b[0m                          accept_large_sparse=solver != 'liblinear')\n\u001b[1;32m-> 1533\u001b[1;33m         \u001b[0mcheck_classification_targets\u001b[0m\u001b[1;33m(\u001b[0m\u001b[0my\u001b[0m\u001b[1;33m)\u001b[0m\u001b[1;33m\u001b[0m\u001b[1;33m\u001b[0m\u001b[0m\n\u001b[0m\u001b[0;32m   1534\u001b[0m         \u001b[0mself\u001b[0m\u001b[1;33m.\u001b[0m\u001b[0mclasses_\u001b[0m \u001b[1;33m=\u001b[0m \u001b[0mnp\u001b[0m\u001b[1;33m.\u001b[0m\u001b[0munique\u001b[0m\u001b[1;33m(\u001b[0m\u001b[0my\u001b[0m\u001b[1;33m)\u001b[0m\u001b[1;33m\u001b[0m\u001b[1;33m\u001b[0m\u001b[0m\n\u001b[0;32m   1535\u001b[0m         \u001b[0mn_samples\u001b[0m\u001b[1;33m,\u001b[0m \u001b[0mn_features\u001b[0m \u001b[1;33m=\u001b[0m \u001b[0mX\u001b[0m\u001b[1;33m.\u001b[0m\u001b[0mshape\u001b[0m\u001b[1;33m\u001b[0m\u001b[1;33m\u001b[0m\u001b[0m\n",
      "\u001b[1;32m~\\Anaconda3\\lib\\site-packages\\sklearn\\utils\\multiclass.py\u001b[0m in \u001b[0;36mcheck_classification_targets\u001b[1;34m(y)\u001b[0m\n\u001b[0;32m    167\u001b[0m     if y_type not in ['binary', 'multiclass', 'multiclass-multioutput',\n\u001b[0;32m    168\u001b[0m                       'multilabel-indicator', 'multilabel-sequences']:\n\u001b[1;32m--> 169\u001b[1;33m         \u001b[1;32mraise\u001b[0m \u001b[0mValueError\u001b[0m\u001b[1;33m(\u001b[0m\u001b[1;34m\"Unknown label type: %r\"\u001b[0m \u001b[1;33m%\u001b[0m \u001b[0my_type\u001b[0m\u001b[1;33m)\u001b[0m\u001b[1;33m\u001b[0m\u001b[1;33m\u001b[0m\u001b[0m\n\u001b[0m\u001b[0;32m    170\u001b[0m \u001b[1;33m\u001b[0m\u001b[0m\n\u001b[0;32m    171\u001b[0m \u001b[1;33m\u001b[0m\u001b[0m\n",
      "\u001b[1;31mValueError\u001b[0m: Unknown label type: 'unknown'"
     ]
    }
   ],
   "source": [
    "# print(y_test[:1000])\n",
    "\n",
    "logistic = LogisticRegression( max_iter = 5000, C = 1)\n",
    "\n",
    "logistic.fit(X_train, y_train)\n",
    "\n",
    "test_score = logistic.score(X_test, y_test)\n",
    "\n",
    "y_pred = logistic.predict(X_test)\n",
    "pres_score = precision_score(y_test, y_pred, average='weighted')\n",
    "\n",
    "f1= f1_score(y_test, y_pred, average='weighted')\n",
    "recall_Score = recall_score(y_test, y_pred)\n",
    "print(test_score, pres_score, f1, recall_Score)\n",
    "\n",
    "c_1_1 = 0\n",
    "c_1_0 = 0\n",
    "c_0_1 = 0\n",
    "for i in range(len(y_test)):\n",
    "    print( \"(\", y_test[i] , y_pred[i], \")\", end = \" \")\n",
    "    \n",
    "    if y_test[i] == 1 and y_pred[i] == 1:\n",
    "        c_1_1 += 1\n",
    "    \n",
    "    if y_test[i] == 1 and y_pred[i] == 0:\n",
    "        c_1_0 += 1\n",
    "    \n",
    "    if y_test[i] == 0 and y_pred[i] == 1:\n",
    "        c_0_1 += 1\n",
    "\n",
    "print(c_1_1, c_1_0, c_0_1)\n",
    "        \n",
    "\n",
    "# y_pred_train = logistic.predict(X_train)\n",
    "    \n",
    "# for i in range(len(y_train)):\n",
    "#     print( \"(\", y_train[i] , y_pred_train[i], \")\", end = \" \")\n"
   ]
  },
  {
   "cell_type": "code",
   "execution_count": null,
   "metadata": {},
   "outputs": [],
   "source": [
    "from sklearn.decomposition import PCA\n",
    "\n",
    "pca = PCA()\n",
    "X_train = pca.fit_transform(X_train)\n",
    "X_test = pca.transform(X_test)"
   ]
  },
  {
   "cell_type": "code",
   "execution_count": null,
   "metadata": {},
   "outputs": [],
   "source": [
    "explained_variance = pca.explained_variance_ratio_\n",
    "print(explained_variance)"
   ]
  },
  {
   "cell_type": "code",
   "execution_count": null,
   "metadata": {},
   "outputs": [],
   "source": [
    "logistic = LogisticRegression(solver = \"saga\")\n",
    "\n",
    "logistic.fit(X_train, y_train)\n",
    "\n",
    "test_score = logistic.score(X_test, y_test)\n",
    "\n",
    "y_pred = logistic.predict(X_test)\n",
    "pres_score = precision_score(y_test, y_pred, average='macro')\n",
    "\n",
    "f1= f1_score(y_test, y_pred, average='macro')\n",
    "\n",
    "bal_acc_score = balanced_accuracy_score(y_test, y_pred)\n",
    "\n",
    "print(test_score, pres_score, f1, bal_acc_score)"
   ]
  },
  {
   "cell_type": "code",
   "execution_count": null,
   "metadata": {},
   "outputs": [],
   "source": [
    "from sklearn.manifold import TSNE\n",
    "tsne_em = TSNE(n_components=3, perplexity=30.0, n_iter=1000, verbose=1).fit_transform(X_train)\n",
    "print(tsne_em)"
   ]
  },
  {
   "cell_type": "code",
   "execution_count": null,
   "metadata": {},
   "outputs": [],
   "source": [
    "import matplotlib.pyplot as plt\n",
    "from mpl_toolkits.mplot3d import axes3d, Axes3D #<-- Note the capitalization! \n",
    "fig = plt.figure(figsize = (10,10))\n",
    "\n",
    "ax = Axes3D(fig) #<-- Note the difference from your original code...\n",
    "\n",
    "X, Y, Z = tsne_em[:,0], tsne_em[:,1], tsne_em[:,2]\n",
    "cset = ax.scatter3D(X, Y, Z)\n",
    "ax.clabel(cset, fontsize=9, inline=1)\n",
    "plt.show()"
   ]
  },
  {
   "cell_type": "code",
   "execution_count": null,
   "metadata": {},
   "outputs": [],
   "source": [
    "tsne_em = TSNE(n_components=2, perplexity=30.0, n_iter=1000, verbose=1).fit_transform(X_train)\n",
    "print(tsne_em)"
   ]
  },
  {
   "cell_type": "code",
   "execution_count": null,
   "metadata": {},
   "outputs": [],
   "source": [
    "import matplotlib.pyplot as plt\n",
    "plt.figure(figsize = (10,10))\n",
    "plt.scatter(tsne_em[:,0], tsne_em[:,1],color = \"green\");\n",
    "plt.show()"
   ]
  },
  {
   "cell_type": "code",
   "execution_count": null,
   "metadata": {},
   "outputs": [],
   "source": []
  }
 ],
 "metadata": {
  "kernelspec": {
   "display_name": "Python 3",
   "language": "python",
   "name": "python3"
  },
  "language_info": {
   "codemirror_mode": {
    "name": "ipython",
    "version": 3
   },
   "file_extension": ".py",
   "mimetype": "text/x-python",
   "name": "python",
   "nbconvert_exporter": "python",
   "pygments_lexer": "ipython3",
   "version": "3.7.4"
  }
 },
 "nbformat": 4,
 "nbformat_minor": 4
}
