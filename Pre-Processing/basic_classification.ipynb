{
 "cells": [
  {
   "cell_type": "code",
   "execution_count": 1,
   "metadata": {},
   "outputs": [],
   "source": [
    "import pandas as pd\n",
    "import numpy as np\n",
    "from sklearn.linear_model import LogisticRegression, SGDClassifier\n",
    "from sklearn.model_selection import train_test_split\n",
    "from sklearn.metrics import precision_score\n",
    "from sklearn.metrics import f1_score\n",
    "from sklearn.metrics import balanced_accuracy_score"
   ]
  },
  {
   "cell_type": "code",
   "execution_count": 2,
   "metadata": {},
   "outputs": [],
   "source": [
    "df = pd.read_csv(\"../Data_Scrape/Dataset/updated_dataset.csv\")"
   ]
  },
  {
   "cell_type": "code",
   "execution_count": 3,
   "metadata": {},
   "outputs": [
    {
     "name": "stdout",
     "output_type": "stream",
     "text": [
      "               sp_song_id  danceability  energy  key  loudness  mode  \\\n",
      "0  6edQfeOlqbGteYixpJl3Sm         0.857   0.602   10    -8.311     1   \n",
      "1  5Oe7wHPL4hdEXeF4AOayCi         0.322   0.990    8    -1.785     1   \n",
      "2  6i1uWZYWabNHq2wQnoca58         0.666   0.884    9    -5.243     0   \n",
      "3  4BzBtS6PBreni5hNPo2hos         0.609   0.578    9    -7.081     1   \n",
      "4  0GvhHQbWSnGltjl0je61dI         0.699   0.514    4   -12.610     1   \n",
      "\n",
      "   speechiness  acousticness  instrumentalness  liveness  ...  lda_topic_11  \\\n",
      "0       0.0290      0.489000           0.02440    0.3170  ...           0.0   \n",
      "1       0.1710      0.000044           0.41700    0.0366  ...           0.0   \n",
      "2       0.0429      0.506000           0.00612    0.0408  ...           0.0   \n",
      "3       0.0414      0.296000           0.00000    0.1500  ...           0.0   \n",
      "4       0.0315      0.587000           0.02900    0.2200  ...           0.0   \n",
      "\n",
      "   lda_topic_12  lda_topic_13  lda_topic_14  lda_topic_15  lda_topic_16  \\\n",
      "0      0.022993      0.000000      0.122078           0.0      0.000000   \n",
      "1      0.000000      0.163142      0.022999           0.0      0.144614   \n",
      "2      0.000000      0.000000      0.000000           0.0      0.000000   \n",
      "3      0.000000      0.511716      0.084905           0.0      0.000000   \n",
      "4      0.000000      0.000000      0.401954           0.0      0.000000   \n",
      "\n",
      "   lda_topic_17  lda_topic_18  lda_topic_19  Playlists  \n",
      "0      0.000000      0.081108      0.386042      [165]  \n",
      "1      0.187207      0.000000      0.000000       [79]  \n",
      "2      0.000000      0.000000      0.582131       [15]  \n",
      "3      0.000000      0.115004      0.108140      [168]  \n",
      "4      0.000000      0.000000      0.000000  [30, 133]  \n",
      "\n",
      "[5 rows x 36 columns]\n",
      "Index(['sp_song_id', 'danceability', 'energy', 'key', 'loudness', 'mode',\n",
      "       'speechiness', 'acousticness', 'instrumentalness', 'liveness',\n",
      "       'valence', 'tempo', 'duration_ms', 'release_date', 'popularity',\n",
      "       'lda_topic_0', 'lda_topic_1', 'lda_topic_2', 'lda_topic_3',\n",
      "       'lda_topic_4', 'lda_topic_5', 'lda_topic_6', 'lda_topic_7',\n",
      "       'lda_topic_8', 'lda_topic_9', 'lda_topic_10', 'lda_topic_11',\n",
      "       'lda_topic_12', 'lda_topic_13', 'lda_topic_14', 'lda_topic_15',\n",
      "       'lda_topic_16', 'lda_topic_17', 'lda_topic_18', 'lda_topic_19',\n",
      "       'Playlists'],\n",
      "      dtype='object')\n"
     ]
    }
   ],
   "source": [
    "print(df.head())\n",
    "print(df.columns)"
   ]
  },
  {
   "cell_type": "code",
   "execution_count": 4,
   "metadata": {},
   "outputs": [
    {
     "name": "stdout",
     "output_type": "stream",
     "text": [
      "689\n"
     ]
    }
   ],
   "source": [
    "X = []\n",
    "y = []\n",
    "playlist_selected = 132\n",
    "c = 0\n",
    "for i in df.index:\n",
    "    features = df.columns[1:-1]\n",
    "#     print(features)\n",
    "    a = []\n",
    "    for feature in features:\n",
    "        a.append(df[feature][i])\n",
    "    playlists = eval(df['Playlists'][i])\n",
    "    if playlist_selected in playlists:\n",
    "        y.append(1)\n",
    "        c += 1\n",
    "    else:\n",
    "        y.append(0)\n",
    "    X.append(a)\n",
    "print(c)"
   ]
  },
  {
   "cell_type": "code",
   "execution_count": 5,
   "metadata": {},
   "outputs": [
    {
     "name": "stdout",
     "output_type": "stream",
     "text": [
      "(11161, 14) (11161, 1)\n"
     ]
    }
   ],
   "source": [
    "X = np.array(X)\n",
    "y = np.array(y)\n",
    "y = y.reshape(-1, 1)\n",
    "X = (X - X.mean(axis = 0))/X.std(axis = 0)\n",
    "print(X.shape, y.shape)"
   ]
  },
  {
   "cell_type": "code",
   "execution_count": 6,
   "metadata": {},
   "outputs": [],
   "source": [
    "X_train, X_test, y_train, y_test = train_test_split(X, y, test_size=0.2, random_state=42)"
   ]
  },
  {
   "cell_type": "code",
   "execution_count": 7,
   "metadata": {},
   "outputs": [
    {
     "name": "stdout",
     "output_type": "stream",
     "text": [
      "0.9440214957456337 0.8477108705457825 0.5660592662378952 0.5441604010025063\n"
     ]
    },
    {
     "name": "stderr",
     "output_type": "stream",
     "text": [
      "/home/pankil/.local/lib/python3.8/site-packages/sklearn/utils/validation.py:760: DataConversionWarning: A column-vector y was passed when a 1d array was expected. Please change the shape of y to (n_samples, ), for example using ravel().\n",
      "  y = column_or_1d(y, warn=True)\n"
     ]
    }
   ],
   "source": [
    "# print(y_test[:1000])\n",
    "\n",
    "logistic = LogisticRegression()\n",
    "\n",
    "logistic.fit(X_train, y_train)\n",
    "\n",
    "test_score = logistic.score(X_test, y_test)\n",
    "\n",
    "y_pred = logistic.predict(X_test)\n",
    "pres_score = precision_score(y_test, y_pred, average='macro')\n",
    "\n",
    "f1_score = f1_score(y_test, y_pred, average='macro')\n",
    "\n",
    "bal_acc_score = balanced_accuracy_score(y_test, y_pred)\n",
    "\n",
    "print(test_score, pres_score, f1_score, bal_acc_score)\n",
    "\n"
   ]
  },
  {
   "cell_type": "code",
   "execution_count": null,
   "metadata": {},
   "outputs": [],
   "source": []
  },
  {
   "cell_type": "code",
   "execution_count": null,
   "metadata": {},
   "outputs": [],
   "source": []
  }
 ],
 "metadata": {
  "kernelspec": {
   "display_name": "Python 3",
   "language": "python",
   "name": "python3"
  },
  "language_info": {
   "codemirror_mode": {
    "name": "ipython",
    "version": 3
   },
   "file_extension": ".py",
   "mimetype": "text/x-python",
   "name": "python",
   "nbconvert_exporter": "python",
   "pygments_lexer": "ipython3",
   "version": "3.8.2"
  }
 },
 "nbformat": 4,
 "nbformat_minor": 4
}
