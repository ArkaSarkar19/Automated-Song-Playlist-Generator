{
 "cells": [
  {
   "cell_type": "code",
   "execution_count": 8,
   "metadata": {},
   "outputs": [],
   "source": [
    "import lyricsgenius as genius"
   ]
  },
  {
   "cell_type": "code",
   "execution_count": 34,
   "metadata": {},
   "outputs": [],
   "source": [
    "api = genius.Genius('hVMr77CREdBmeFB0NsGtpvvl7wrcKq5DcN32a3N0YWPtSRAQrbkFIY6XQ4Jfi6fa', skip_non_songs=True, excluded_terms=[\"(Remix)\", \"(Live)\"], remove_section_headers=True)"
   ]
  },
  {
   "cell_type": "code",
   "execution_count": 37,
   "metadata": {},
   "outputs": [
    {
     "name": "stdout",
     "output_type": "stream",
     "text": [
      "Searching for songs by Ariana Grande...\n",
      "\n",
      "Song 1: \"​thank u, next\"\n",
      "Song 2: \"7 rings\"\n",
      "Song 3: \"​God is a woman\"\n",
      "Song 4: \"Side To Side\"\n",
      "Song 5: \"​​no tears left to cry\"\n",
      "Song 6: \"​​breathin\"\n",
      "Song 7: \"​break up with your girlfriend, i’m bored\"\n",
      "Song 8: \"​positions\"\n",
      "Song 9: \"​imagine\"\n",
      "Song 10: \"​needy\"\n",
      "Song 11: \"34+35\"\n",
      "Song 12: \"​pov\"\n",
      "Song 13: \"​ghostin\"\n",
      "Song 14: \"​pete davidson\"\n",
      "Song 15: \"​sweetener\"\n",
      "Song 16: \"​in my head\"\n",
      "Song 17: \"​R.E.M.\"\n",
      "Song 18: \"NASA\"\n",
      "Song 19: \"Into You\"\n",
      "Song 20: \"Let Me Love You\"\n",
      "Song 21: \"​bloodline\"\n",
      "Song 22: \"Dangerous Woman\"\n",
      "Song 23: \"​fake smile\"\n",
      "Song 24: \"​goodnight n go\"\n",
      "Song 25: \"​the light is coming\"\n",
      "Song 26: \"One Last Time\"\n",
      "Song 27: \"​bad idea\"\n",
      "Song 28: \"​better off\"\n",
      "Song 29: \"​make up\"\n",
      "Song 30: \"​get well soon\"\n",
      "Song 31: \"The Way\"\n",
      "Song 32: \"Problem\"\n",
      "Song 33: \"​everytime\"\n",
      "Song 34: \"Focus\"\n",
      "Song 35: \"Everyday\"\n",
      "Song 36: \"Moonlight\"\n",
      "Song 37: \"​raindrops (an angel cried)\"\n",
      "Song 38: \"​just like magic\"\n",
      "Song 39: \"​successful\"\n",
      "Song 40: \"Be Alright\"\n",
      "Song 41: \"​nasty\"\n",
      "Song 42: \"​safety net\"\n",
      "Song 43: \"​shut up\"\n",
      "Song 44: \"​obvious\"\n",
      "Song 45: \"​my hair\"\n",
      "Song 46: \"​six thirty\"\n",
      "Song 47: \"Break Free\"\n",
      "Song 48: \"​love language\"\n",
      "Song 49: \"My Everything\"\n",
      "Song 50: \"​borderline\"\n",
      "\n",
      "Reached user-specified song limit (50).\n",
      "Done. Found 50 songs.\n"
     ]
    }
   ],
   "source": [
    "name = \"Ariana Grande\"\n",
    "songs = (api.search_artist(name, max_songs=50, sort='popularity')).songs\n",
    "s = [song.lyrics for song in songs]\n"
   ]
  },
  {
   "cell_type": "code",
   "execution_count": 36,
   "metadata": {},
   "outputs": [
    {
     "name": "stdout",
     "output_type": "stream",
     "text": [
      "Lacigam gnihtemos od ot\n",
      "Thgin laiceps ruoy s'thginot tub\n",
      "\n",
      "Some days, things just take\n",
      "Way too much of my energy\n",
      "I look up and the whole room's spinning\n",
      "You take my cares away\n",
      "I can so over-complicate, people tell me to medicate\n",
      "\n",
      "Feel my blood runnin', swear the sky's fallin'\n",
      "I know that all this shit's fabricated, mmm\n",
      "Time goes by and I can't control my mind\n",
      "Don't know what else to try, but you tell me every time\n",
      "\n",
      "Just keep breathin' and breathin' and breathin' and breathin'\n",
      "And oh, I gotta keep, keep on breathin'\n",
      "Just keep breathin' and breathin' and breathin' and breathin'\n",
      "And oh, I gotta keep, keep on breathin', mmm-mmm\n",
      "\n",
      "Sometimes it's hard to find\n",
      "Find my way up into the clouds\n",
      "Tune it out, they can be so loud\n",
      "You remind me of a time\n",
      "When things weren't so complicated\n",
      "All I need is to see your face\n",
      "\n",
      "Feel my blood runnin', swear the sky's fallin'\n",
      "I know that all this shit's fabricated, mmm\n",
      "Time goes by and I can't control my mind\n",
      "Don't know what else to try, but you tell me every time\n",
      "\n",
      "Just keep breathin' and breathin' and breathin' and breathin'\n",
      "And oh, I gotta keep, I keep on breathin'\n",
      "Just keep breathin' and breathin' and breathin' and breathin'\n",
      "And oh, I gotta keep, I keep on breathin', mmm, yeah\n",
      "\n",
      "My, my air, my, my air\n",
      "My, my air, my air\n",
      "My, my air, my, my air\n",
      "My, my air, yeah\n",
      "\n",
      "Just keep breathin' and breathin' and breathin' and breathin'\n",
      "And oh, I gotta keep, I keep on breathin'\n",
      "Just keep breathin' and breathin' and breathin' and breathin'\n",
      "And oh, I gotta keep, I keep on breathin', mmm, yeah\n",
      "\n",
      "Feel my blood runnin', swear the sky's fallin', oh, whoa\n",
      "I keep on breathin', oh yeah\n",
      "Time goes by and I can't control my mind\n",
      "I keep on breathin', mmm, yeah\n"
     ]
    }
   ],
   "source": [
    "print(s[5])"
   ]
  },
  {
   "cell_type": "code",
   "execution_count": 30,
   "metadata": {},
   "outputs": [
    {
     "data": {
      "text/plain": [
       "lyricsgenius.song.Song"
      ]
     },
     "execution_count": 30,
     "metadata": {},
     "output_type": "execute_result"
    }
   ],
   "source": [
    "type(songs[0])"
   ]
  },
  {
   "cell_type": "code",
   "execution_count": null,
   "metadata": {},
   "outputs": [],
   "source": []
  }
 ],
 "metadata": {
  "kernelspec": {
   "display_name": "Python 3",
   "language": "python",
   "name": "python3"
  },
  "language_info": {
   "codemirror_mode": {
    "name": "ipython",
    "version": 3
   },
   "file_extension": ".py",
   "mimetype": "text/x-python",
   "name": "python",
   "nbconvert_exporter": "python",
   "pygments_lexer": "ipython3",
   "version": "3.8.5"
  }
 },
 "nbformat": 4,
 "nbformat_minor": 4
}
