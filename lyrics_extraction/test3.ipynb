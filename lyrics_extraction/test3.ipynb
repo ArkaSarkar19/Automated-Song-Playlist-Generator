{
 "cells": [
  {
   "cell_type": "code",
   "execution_count": 18,
   "metadata": {},
   "outputs": [],
   "source": [
    "import pandas as pd"
   ]
  },
  {
   "cell_type": "code",
   "execution_count": 19,
   "metadata": {},
   "outputs": [],
   "source": [
    "# df = pd.read_csv('lyrics_corpus/azlyrics_lyrics_a.csv', error_bad_lines=False)"
   ]
  },
  {
   "cell_type": "code",
   "execution_count": 20,
   "metadata": {},
   "outputs": [
    {
     "data": {
      "text/html": [
       "<div>\n",
       "<style scoped>\n",
       "    .dataframe tbody tr th:only-of-type {\n",
       "        vertical-align: middle;\n",
       "    }\n",
       "\n",
       "    .dataframe tbody tr th {\n",
       "        vertical-align: top;\n",
       "    }\n",
       "\n",
       "    .dataframe thead th {\n",
       "        text-align: right;\n",
       "    }\n",
       "</style>\n",
       "<table border=\"1\" class=\"dataframe\">\n",
       "  <thead>\n",
       "    <tr style=\"text-align: right;\">\n",
       "      <th></th>\n",
       "      <th>artist_name</th>\n",
       "      <th>artist_url</th>\n",
       "      <th>song_name</th>\n",
       "      <th>song_url</th>\n",
       "      <th>lyrics</th>\n",
       "    </tr>\n",
       "  </thead>\n",
       "  <tbody>\n",
       "    <tr>\n",
       "      <th>0</th>\n",
       "      <td>ARTIST_NAME</td>\n",
       "      <td>ARTIST_URL</td>\n",
       "      <td>SONG_NAME</td>\n",
       "      <td>SONG_URL</td>\n",
       "      <td>LYRICS</td>\n",
       "    </tr>\n",
       "    <tr>\n",
       "      <th>1</th>\n",
       "      <td>a1</td>\n",
       "      <td>https://www.azlyrics.com/a/a1.html</td>\n",
       "      <td>forever in love</td>\n",
       "      <td>https://www.azlyrics.com/lyrics/a1/foreverinlo...</td>\n",
       "      <td>love leads to laughter, love leads to pain, wi...</td>\n",
       "    </tr>\n",
       "    <tr>\n",
       "      <th>2</th>\n",
       "      <td>a1</td>\n",
       "      <td>https://www.azlyrics.com/a/a1.html</td>\n",
       "      <td>be the first to believe</td>\n",
       "      <td>https://www.azlyrics.com/lyrics/a1/bethefirstt...</td>\n",
       "      <td>, just one on one!, that's the way we do it, b...</td>\n",
       "    </tr>\n",
       "    <tr>\n",
       "      <th>3</th>\n",
       "      <td>a1</td>\n",
       "      <td>https://www.azlyrics.com/a/a1.html</td>\n",
       "      <td>summertime of our lives</td>\n",
       "      <td>https://www.azlyrics.com/lyrics/a1/summertimeo...</td>\n",
       "      <td>summertime of our lives, summertime of our liv...</td>\n",
       "    </tr>\n",
       "    <tr>\n",
       "      <th>4</th>\n",
       "      <td>a1</td>\n",
       "      <td>https://www.azlyrics.com/a/a1.html</td>\n",
       "      <td>ready or not</td>\n",
       "      <td>https://www.azlyrics.com/lyrics/a1/readyornot....</td>\n",
       "      <td>could you love a boy, like me tonite, come on ...</td>\n",
       "    </tr>\n",
       "  </tbody>\n",
       "</table>\n",
       "</div>"
      ],
      "text/plain": [
       "   artist_name                          artist_url                song_name  \\\n",
       "0  ARTIST_NAME                          ARTIST_URL                SONG_NAME   \n",
       "1           a1  https://www.azlyrics.com/a/a1.html          forever in love   \n",
       "2           a1  https://www.azlyrics.com/a/a1.html  be the first to believe   \n",
       "3           a1  https://www.azlyrics.com/a/a1.html  summertime of our lives   \n",
       "4           a1  https://www.azlyrics.com/a/a1.html             ready or not   \n",
       "\n",
       "                                            song_url  \\\n",
       "0                                           SONG_URL   \n",
       "1  https://www.azlyrics.com/lyrics/a1/foreverinlo...   \n",
       "2  https://www.azlyrics.com/lyrics/a1/bethefirstt...   \n",
       "3  https://www.azlyrics.com/lyrics/a1/summertimeo...   \n",
       "4  https://www.azlyrics.com/lyrics/a1/readyornot....   \n",
       "\n",
       "                                              lyrics  \n",
       "0                                             LYRICS  \n",
       "1  love leads to laughter, love leads to pain, wi...  \n",
       "2  , just one on one!, that's the way we do it, b...  \n",
       "3  summertime of our lives, summertime of our liv...  \n",
       "4  could you love a boy, like me tonite, come on ...  "
      ]
     },
     "execution_count": 20,
     "metadata": {},
     "output_type": "execute_result"
    }
   ],
   "source": [
    "df.head()"
   ]
  },
  {
   "cell_type": "code",
   "execution_count": 21,
   "metadata": {},
   "outputs": [
    {
     "data": {
      "text/plain": [
       "13158"
      ]
     },
     "execution_count": 21,
     "metadata": {},
     "output_type": "execute_result"
    }
   ],
   "source": [
    "len(df)"
   ]
  },
  {
   "cell_type": "code",
   "execution_count": 22,
   "metadata": {},
   "outputs": [],
   "source": [
    "f = open(\"lyrics_corpus/azlyrics_lyrics_a.csv\", \"r\") "
   ]
  },
  {
   "cell_type": "code",
   "execution_count": 23,
   "metadata": {},
   "outputs": [],
   "source": [
    "df_list = []\n",
    "for line in f:\n",
    "    ind1 = line.find('\"')\n",
    "    ind2 = line.find('\"', ind1+1)\n",
    "    ind3 = line.find('\"', ind2+1)\n",
    "    ind4 = line.find('\"', ind3+1)\n",
    "    ind5 = line.find('\"', ind4+1)\n",
    "    ind6 = line.find('\"', ind5+1)\n",
    "    ind7 = line.find('\"', ind6+1)\n",
    "    ind8 = line.find('\"', ind7+1)\n",
    "    ind9 = line.find('\"', ind8+1)\n",
    "    ind10 = line.rfind('\"')\n",
    "#     print(ind1, ind2, ind3, ind4, ind5, ind6, ind7, ind8, ind9, ind10)\n",
    "    artist_name = line[ind1+1:ind2]\n",
    "    artist_url = line[ind3+1:ind4]\n",
    "    song_name = line[ind5+1:ind6]\n",
    "    song_url = line[ind7+1:ind8]\n",
    "    lyrics = line[ind9+1:ind10]\n",
    "    \n",
    "#     print(artist_name, artist_url, song_name, song_url, lyrics)\n",
    "    df_list.append([artist_name, artist_url, song_name, song_url, lyrics])"
   ]
  },
  {
   "cell_type": "code",
   "execution_count": 24,
   "metadata": {},
   "outputs": [],
   "source": [
    "df = pd.DataFrame(df_list, columns = ['artist_name', 'artist_url', 'song_name', 'song_url', 'lyrics'])"
   ]
  },
  {
   "cell_type": "code",
   "execution_count": 25,
   "metadata": {},
   "outputs": [
    {
     "name": "stdout",
     "output_type": "stream",
     "text": [
      "13158\n"
     ]
    }
   ],
   "source": [
    "print(len(df))"
   ]
  },
  {
   "cell_type": "code",
   "execution_count": 26,
   "metadata": {},
   "outputs": [
    {
     "name": "stdout",
     "output_type": "stream",
     "text": [
      "artist_name                                                    a\n",
      "artist_url                     https://www.azlyrics.com/a/a.html\n",
      "song_name                                                fistral\n",
      "song_url          https://www.azlyrics.com/lyrics/a/fistral.html\n",
      "lyrics         i like the summer like you like your wife, liv...\n",
      "Name: 93, dtype: object\n"
     ]
    }
   ],
   "source": [
    "print(df.iloc[93])"
   ]
  },
  {
   "cell_type": "code",
   "execution_count": 27,
   "metadata": {},
   "outputs": [],
   "source": [
    "df.to_csv(\"test.csv\")"
   ]
  },
  {
   "cell_type": "code",
   "execution_count": 28,
   "metadata": {},
   "outputs": [
    {
     "name": "stdout",
     "output_type": "stream",
     "text": [
      "i like the summer like you like your wife, live in the \"master\" for the rest of my life, every year since i was young, and always here and always fun, distant places, staying faces, all i want, i understand is it's the summer, over and over it's summer again, fills up the sad hole in my head again, several hours and passing faster, to lift their head down to the sand, distant places, staying faces, all i want, i understand is it's the summer, and it's with it's flowers, and big huge skies, it gets high for hours, and then it dies, ocean keeps me up all night, sunshine makes my hair turn white, you know i hate the winter time, all because there's nothing quite like the summer, and it's with it's flowers, and breeses off shore, it gets high for hours, and then back for more, and it's with it's showers, and big big skies, it gets high for hours, and then it dies\n"
     ]
    }
   ],
   "source": [
    "print(df.iloc[93][4])"
   ]
  },
  {
   "cell_type": "code",
   "execution_count": null,
   "metadata": {},
   "outputs": [],
   "source": []
  },
  {
   "cell_type": "code",
   "execution_count": null,
   "metadata": {},
   "outputs": [],
   "source": []
  }
 ],
 "metadata": {
  "kernelspec": {
   "display_name": "Python 3",
   "language": "python",
   "name": "python3"
  },
  "language_info": {
   "codemirror_mode": {
    "name": "ipython",
    "version": 3
   },
   "file_extension": ".py",
   "mimetype": "text/x-python",
   "name": "python",
   "nbconvert_exporter": "python",
   "pygments_lexer": "ipython3",
   "version": "3.8.5"
  }
 },
 "nbformat": 4,
 "nbformat_minor": 4
}
