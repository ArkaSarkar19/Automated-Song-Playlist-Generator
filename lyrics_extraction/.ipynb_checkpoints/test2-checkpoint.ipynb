{
 "cells": [
  {
   "cell_type": "code",
   "execution_count": 8,
   "metadata": {},
   "outputs": [],
   "source": [
    "import lyricsgenius as genius"
   ]
  },
  {
   "cell_type": "code",
   "execution_count": 34,
   "metadata": {},
   "outputs": [],
   "source": [
    "api = genius.Genius('hVMr77CREdBmeFB0NsGtpvvl7wrcKq5DcN32a3N0YWPtSRAQrbkFIY6XQ4Jfi6fa', skip_non_songs=True, excluded_terms=[\"(Remix)\", \"(Live)\"], remove_section_headers=True)"
   ]
  },
  {
   "cell_type": "code",
   "execution_count": null,
   "metadata": {},
   "outputs": [
    {
     "name": "stdout",
     "output_type": "stream",
     "text": [
      "Searching for songs by Ariana Grande...\n",
      "\n",
      "Song 1: \"​thank u, next\"\n",
      "Song 2: \"7 rings\"\n",
      "Song 3: \"​God is a woman\"\n",
      "Song 4: \"Side To Side\"\n",
      "Song 5: \"​​no tears left to cry\"\n",
      "Song 6: \"​​breathin\"\n",
      "Song 7: \"​break up with your girlfriend, i’m bored\"\n",
      "Song 8: \"​positions\"\n",
      "Song 9: \"​imagine\"\n",
      "Song 10: \"​needy\"\n",
      "Song 11: \"34+35\"\n",
      "Song 12: \"​pov\"\n",
      "Song 13: \"​ghostin\"\n",
      "Song 14: \"​pete davidson\"\n",
      "Song 15: \"​sweetener\"\n",
      "Song 16: \"​in my head\"\n",
      "Song 17: \"​R.E.M.\"\n",
      "Song 18: \"NASA\"\n"
     ]
    }
   ],
   "source": [
    "name = \"Ariana Grande\"\n",
    "songs = (api.search_artist(name, max_songs=50, sort='popularity')).songs\n",
    "s = [song.lyrics for song in songs]\n"
   ]
  },
  {
   "cell_type": "code",
   "execution_count": null,
   "metadata": {},
   "outputs": [],
   "source": [
    "print(s[5])"
   ]
  },
  {
   "cell_type": "code",
   "execution_count": 30,
   "metadata": {},
   "outputs": [
    {
     "data": {
      "text/plain": [
       "lyricsgenius.song.Song"
      ]
     },
     "execution_count": 30,
     "metadata": {},
     "output_type": "execute_result"
    }
   ],
   "source": [
    "type(songs[0])"
   ]
  },
  {
   "cell_type": "code",
   "execution_count": null,
   "metadata": {},
   "outputs": [],
   "source": []
  }
 ],
 "metadata": {
  "kernelspec": {
   "display_name": "Python 3",
   "language": "python",
   "name": "python3"
  },
  "language_info": {
   "codemirror_mode": {
    "name": "ipython",
    "version": 3
   },
   "file_extension": ".py",
   "mimetype": "text/x-python",
   "name": "python",
   "nbconvert_exporter": "python",
   "pygments_lexer": "ipython3",
   "version": "3.8.5"
  }
 },
 "nbformat": 4,
 "nbformat_minor": 4
}
