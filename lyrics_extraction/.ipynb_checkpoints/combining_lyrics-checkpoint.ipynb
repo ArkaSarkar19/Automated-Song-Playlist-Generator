{
 "cells": [
  {
   "cell_type": "code",
   "execution_count": 1,
   "metadata": {},
   "outputs": [],
   "source": [
    "import pandas as pd"
   ]
  },
  {
   "cell_type": "code",
   "execution_count": 3,
   "metadata": {
    "collapsed": true,
    "jupyter": {
     "outputs_hidden": true
    }
   },
   "outputs": [
    {
     "name": "stderr",
     "output_type": "stream",
     "text": [
      "b'Skipping line 94: expected 5 fields, saw 35\\nSkipping line 96: expected 5 fields, saw 27\\nSkipping line 98: expected 5 fields, saw 18\\nSkipping line 101: expected 5 fields, saw 54\\nSkipping line 105: expected 5 fields, saw 38\\nSkipping line 106: expected 5 fields, saw 17\\nSkipping line 108: expected 5 fields, saw 116\\nSkipping line 109: expected 5 fields, saw 25\\nSkipping line 111: expected 5 fields, saw 38\\nSkipping line 155: expected 5 fields, saw 30\\nSkipping line 156: expected 5 fields, saw 55\\nSkipping line 169: expected 5 fields, saw 60\\nSkipping line 170: expected 5 fields, saw 14\\nSkipping line 176: expected 5 fields, saw 32\\nSkipping line 180: expected 5 fields, saw 10\\nSkipping line 183: expected 5 fields, saw 12\\nSkipping line 206: expected 5 fields, saw 8\\nSkipping line 207: expected 5 fields, saw 29\\nSkipping line 215: expected 5 fields, saw 7\\nSkipping line 218: expected 5 fields, saw 68\\nSkipping line 234: expected 5 fields, saw 88\\nSkipping line 252: expected 5 fields, saw 33\\nSkipping line 259: expected 5 fields, saw 69\\nSkipping line 262: expected 5 fields, saw 36\\nSkipping line 264: expected 5 fields, saw 57\\nSkipping line 272: expected 5 fields, saw 90\\nSkipping line 275: expected 5 fields, saw 86\\nSkipping line 282: expected 5 fields, saw 47\\nSkipping line 283: expected 5 fields, saw 55\\nSkipping line 289: expected 5 fields, saw 53\\nSkipping line 292: expected 5 fields, saw 26\\nSkipping line 304: expected 5 fields, saw 97\\nSkipping line 309: expected 5 fields, saw 128\\nSkipping line 329: expected 5 fields, saw 44\\nSkipping line 335: expected 5 fields, saw 66\\nSkipping line 348: expected 5 fields, saw 58\\nSkipping line 349: expected 5 fields, saw 14\\nSkipping line 350: expected 5 fields, saw 12\\nSkipping line 351: expected 5 fields, saw 14\\nSkipping line 364: expected 5 fields, saw 84\\nSkipping line 404: expected 5 fields, saw 29\\nSkipping line 410: expected 5 fields, saw 66\\nSkipping line 422: expected 5 fields, saw 31\\nSkipping line 425: expected 5 fields, saw 33\\nSkipping line 431: expected 5 fields, saw 49\\nSkipping line 445: expected 5 fields, saw 51\\nSkipping line 467: expected 5 fields, saw 16\\nSkipping line 477: expected 5 fields, saw 32\\nSkipping line 525: expected 5 fields, saw 32\\nSkipping line 530: expected 5 fields, saw 63\\nSkipping line 531: expected 5 fields, saw 73\\nSkipping line 532: expected 5 fields, saw 46\\nSkipping line 535: expected 5 fields, saw 71\\nSkipping line 537: expected 5 fields, saw 10\\nSkipping line 538: expected 5 fields, saw 170\\nSkipping line 541: expected 5 fields, saw 38\\nSkipping line 545: expected 5 fields, saw 14\\nSkipping line 546: expected 5 fields, saw 8\\nSkipping line 547: expected 5 fields, saw 51\\nSkipping line 548: expected 5 fields, saw 171\\nSkipping line 549: expected 5 fields, saw 57\\nSkipping line 550: expected 5 fields, saw 57\\nSkipping line 551: expected 5 fields, saw 99\\nSkipping line 552: expected 5 fields, saw 106\\nSkipping line 553: expected 5 fields, saw 150\\nSkipping line 578: expected 5 fields, saw 122\\nSkipping line 583: expected 5 fields, saw 134\\nSkipping line 586: expected 5 fields, saw 71\\nSkipping line 589: expected 5 fields, saw 110\\nSkipping line 590: expected 5 fields, saw 113\\nSkipping line 599: expected 5 fields, saw 33\\nSkipping line 619: expected 5 fields, saw 24\\nSkipping line 625: expected 5 fields, saw 49\\nSkipping line 632: expected 5 fields, saw 90\\nSkipping line 656: expected 5 fields, saw 108\\nSkipping line 666: expected 5 fields, saw 39\\nSkipping line 667: expected 5 fields, saw 57\\nSkipping line 669: expected 5 fields, saw 12\\nSkipping line 670: expected 5 fields, saw 53\\nSkipping line 672: expected 5 fields, saw 19\\nSkipping line 675: expected 5 fields, saw 50\\nSkipping line 679: expected 5 fields, saw 66\\nSkipping line 680: expected 5 fields, saw 22\\nSkipping line 690: expected 5 fields, saw 16\\nSkipping line 691: expected 5 fields, saw 63\\nSkipping line 695: expected 5 fields, saw 94\\nSkipping line 696: expected 5 fields, saw 91\\nSkipping line 697: expected 5 fields, saw 119\\nSkipping line 698: expected 5 fields, saw 81\\nSkipping line 706: expected 5 fields, saw 47\\nSkipping line 708: expected 5 fields, saw 19\\nSkipping line 733: expected 5 fields, saw 38\\nSkipping line 734: expected 5 fields, saw 45\\nSkipping line 742: expected 5 fields, saw 11\\nSkipping line 743: expected 5 fields, saw 12\\nSkipping line 753: expected 5 fields, saw 37\\nSkipping line 757: expected 5 fields, saw 25\\nSkipping line 777: expected 5 fields, saw 9\\nSkipping line 779: expected 5 fields, saw 38\\nSkipping line 781: expected 5 fields, saw 29\\nSkipping line 801: expected 5 fields, saw 22\\nSkipping line 827: expected 5 fields, saw 43\\nSkipping line 828: expected 5 fields, saw 32\\nSkipping line 831: expected 5 fields, saw 42\\nSkipping line 832: expected 5 fields, saw 39\\nSkipping line 836: expected 5 fields, saw 19\\nSkipping line 863: expected 5 fields, saw 19\\nSkipping line 893: expected 5 fields, saw 59\\nSkipping line 898: expected 5 fields, saw 30\\nSkipping line 918: expected 5 fields, saw 39\\nSkipping line 942: expected 5 fields, saw 19\\nSkipping line 945: expected 5 fields, saw 32\\nSkipping line 949: expected 5 fields, saw 43\\nSkipping line 986: expected 5 fields, saw 16\\nSkipping line 987: expected 5 fields, saw 46\\nSkipping line 993: expected 5 fields, saw 39\\nSkipping line 1003: expected 5 fields, saw 51\\nSkipping line 1067: expected 5 fields, saw 32\\nSkipping line 1081: expected 5 fields, saw 41\\nSkipping line 1091: expected 5 fields, saw 12\\nSkipping line 1114: expected 5 fields, saw 84\\nSkipping line 1117: expected 5 fields, saw 49\\nSkipping line 1119: expected 5 fields, saw 67\\nSkipping line 1121: expected 5 fields, saw 103\\nSkipping line 1123: expected 5 fields, saw 87\\nSkipping line 1127: expected 5 fields, saw 99\\nSkipping line 1128: expected 5 fields, saw 112\\nSkipping line 1130: expected 5 fields, saw 129\\nSkipping line 1133: expected 5 fields, saw 99\\nSkipping line 1134: expected 5 fields, saw 6\\nSkipping line 1135: expected 5 fields, saw 36\\nSkipping line 1136: expected 5 fields, saw 105\\nSkipping line 1138: expected 5 fields, saw 59\\nSkipping line 1139: expected 5 fields, saw 141\\nSkipping line 1141: expected 5 fields, saw 47\\nSkipping line 1147: expected 5 fields, saw 117\\nSkipping line 1150: expected 5 fields, saw 111\\nSkipping line 1151: expected 5 fields, saw 90\\nSkipping line 1152: expected 5 fields, saw 104\\nSkipping line 1154: expected 5 fields, saw 106\\nSkipping line 1155: expected 5 fields, saw 75\\nSkipping line 1166: expected 5 fields, saw 51\\nSkipping line 1169: expected 5 fields, saw 77\\nSkipping line 1170: expected 5 fields, saw 19\\nSkipping line 1171: expected 5 fields, saw 27\\nSkipping line 1180: expected 5 fields, saw 55\\nSkipping line 1198: expected 5 fields, saw 28\\nSkipping line 1199: expected 5 fields, saw 27\\nSkipping line 1206: expected 5 fields, saw 6\\nSkipping line 1215: expected 5 fields, saw 38\\nSkipping line 1223: expected 5 fields, saw 22\\nSkipping line 1227: expected 5 fields, saw 126\\nSkipping line 1228: expected 5 fields, saw 40\\nSkipping line 1229: expected 5 fields, saw 73\\nSkipping line 1230: expected 5 fields, saw 256\\nSkipping line 1231: expected 5 fields, saw 40\\nSkipping line 1232: expected 5 fields, saw 73\\nSkipping line 1233: expected 5 fields, saw 57\\nSkipping line 1235: expected 5 fields, saw 6\\nSkipping line 1236: expected 5 fields, saw 43\\nSkipping line 1238: expected 5 fields, saw 156\\nSkipping line 1241: expected 5 fields, saw 49\\nSkipping line 1242: expected 5 fields, saw 61\\nSkipping line 1249: expected 5 fields, saw 14\\nSkipping line 1254: expected 5 fields, saw 105\\nSkipping line 1255: expected 5 fields, saw 22\\nSkipping line 1262: expected 5 fields, saw 6\\nSkipping line 1263: expected 5 fields, saw 32\\nSkipping line 1265: expected 5 fields, saw 20\\nSkipping line 1267: expected 5 fields, saw 6\\nSkipping line 1268: expected 5 fields, saw 17\\nSkipping line 1269: expected 5 fields, saw 9\\nSkipping line 1270: expected 5 fields, saw 20\\nSkipping line 1271: expected 5 fields, saw 28\\nSkipping line 1273: expected 5 fields, saw 12\\nSkipping line 1274: expected 5 fields, saw 21\\nSkipping line 1276: expected 5 fields, saw 12\\nSkipping line 1277: expected 5 fields, saw 9\\nSkipping line 1279: expected 5 fields, saw 48\\nSkipping line 1280: expected 5 fields, saw 28\\nSkipping line 1282: expected 5 fields, saw 53\\nSkipping line 1285: expected 5 fields, saw 27\\nSkipping line 1290: expected 5 fields, saw 94\\nSkipping line 1292: expected 5 fields, saw 96\\nSkipping line 1298: expected 5 fields, saw 51\\nSkipping line 1310: expected 5 fields, saw 65\\nSkipping line 1313: expected 5 fields, saw 35\\nSkipping line 1323: expected 5 fields, saw 100\\nSkipping line 1325: expected 5 fields, saw 30\\nSkipping line 1392: expected 5 fields, saw 35\\nSkipping line 1403: expected 5 fields, saw 93\\nSkipping line 1409: expected 5 fields, saw 44\\nSkipping line 1433: expected 5 fields, saw 68\\nSkipping line 1438: expected 5 fields, saw 38\\nSkipping line 1450: expected 5 fields, saw 58\\nSkipping line 1452: expected 5 fields, saw 48\\nSkipping line 1459: expected 5 fields, saw 31\\nSkipping line 1461: expected 5 fields, saw 72\\nSkipping line 1463: expected 5 fields, saw 38\\nSkipping line 1468: expected 5 fields, saw 20\\nSkipping line 1475: expected 5 fields, saw 33\\nSkipping line 1480: expected 5 fields, saw 58\\nSkipping line 1489: expected 5 fields, saw 126\\nSkipping line 1491: expected 5 fields, saw 38\\nSkipping line 1493: expected 5 fields, saw 25\\nSkipping line 1494: expected 5 fields, saw 56\\nSkipping line 1498: expected 5 fields, saw 30\\nSkipping line 1500: expected 5 fields, saw 40\\nSkipping line 1511: expected 5 fields, saw 33\\nSkipping line 1516: expected 5 fields, saw 36\\nSkipping line 1517: expected 5 fields, saw 30\\nSkipping line 1518: expected 5 fields, saw 68\\nSkipping line 1526: expected 5 fields, saw 31\\nSkipping line 1527: expected 5 fields, saw 41\\nSkipping line 1547: expected 5 fields, saw 15\\nSkipping line 1548: expected 5 fields, saw 35\\nSkipping line 1557: expected 5 fields, saw 42\\nSkipping line 1566: expected 5 fields, saw 22\\nSkipping line 1567: expected 5 fields, saw 35\\nSkipping line 1569: expected 5 fields, saw 11\\nSkipping line 1573: expected 5 fields, saw 8\\nSkipping line 1592: expected 5 fields, saw 64\\nSkipping line 1621: expected 5 fields, saw 70\\nSkipping line 1626: expected 5 fields, saw 71\\nSkipping line 1675: expected 5 fields, saw 78\\nSkipping line 1685: expected 5 fields, saw 48\\nSkipping line 1740: expected 5 fields, saw 15\\nSkipping line 1743: expected 5 fields, saw 14\\nSkipping line 1747: expected 5 fields, saw 16\\nSkipping line 1748: expected 5 fields, saw 34\\nSkipping line 1750: expected 5 fields, saw 16\\nSkipping line 1756: expected 5 fields, saw 12\\nSkipping line 1757: expected 5 fields, saw 27\\nSkipping line 1780: expected 5 fields, saw 31\\nSkipping line 1802: expected 5 fields, saw 41\\nSkipping line 1816: expected 5 fields, saw 18\\nSkipping line 1863: expected 5 fields, saw 28\\nSkipping line 1886: expected 5 fields, saw 40\\nSkipping line 1910: expected 5 fields, saw 26\\nSkipping line 1912: expected 5 fields, saw 50\\nSkipping line 1927: expected 5 fields, saw 45\\nSkipping line 1935: expected 5 fields, saw 33\\nSkipping line 1952: expected 5 fields, saw 82\\nSkipping line 1956: expected 5 fields, saw 33\\nSkipping line 1959: expected 5 fields, saw 72\\nSkipping line 1962: expected 5 fields, saw 48\\nSkipping line 1963: expected 5 fields, saw 39\\nSkipping line 1965: expected 5 fields, saw 98\\nSkipping line 1971: expected 5 fields, saw 174\\nSkipping line 1972: expected 5 fields, saw 59\\nSkipping line 1975: expected 5 fields, saw 72\\nSkipping line 1976: expected 5 fields, saw 181\\nSkipping line 1978: expected 5 fields, saw 111\\nSkipping line 1979: expected 5 fields, saw 62\\nSkipping line 1980: expected 5 fields, saw 57\\nSkipping line 1990: expected 5 fields, saw 33\\nSkipping line 1995: expected 5 fields, saw 27\\nSkipping line 2007: expected 5 fields, saw 25\\nSkipping line 2029: expected 5 fields, saw 39\\nSkipping line 2030: expected 5 fields, saw 10\\nSkipping line 2032: expected 5 fields, saw 54\\nSkipping line 2035: expected 5 fields, saw 47\\nSkipping line 2060: expected 5 fields, saw 114\\nSkipping line 2067: expected 5 fields, saw 106\\nSkipping line 2075: expected 5 fields, saw 22\\nSkipping line 2091: expected 5 fields, saw 44\\nSkipping line 2103: expected 5 fields, saw 20\\nSkipping line 2105: expected 5 fields, saw 43\\nSkipping line 2106: expected 5 fields, saw 56\\nSkipping line 2120: expected 5 fields, saw 17\\nSkipping line 2128: expected 5 fields, saw 22\\nSkipping line 2130: expected 5 fields, saw 23\\nSkipping line 2131: expected 5 fields, saw 22\\nSkipping line 2152: expected 5 fields, saw 29\\nSkipping line 2170: expected 5 fields, saw 40\\nSkipping line 2172: expected 5 fields, saw 23\\nSkipping line 2178: expected 5 fields, saw 22\\nSkipping line 2181: expected 5 fields, saw 18\\nSkipping line 2182: expected 5 fields, saw 24\\nSkipping line 2207: expected 5 fields, saw 43\\nSkipping line 2208: expected 5 fields, saw 31\\nSkipping line 2231: expected 5 fields, saw 89\\nSkipping line 2285: expected 5 fields, saw 35\\nSkipping line 2323: expected 5 fields, saw 59\\nSkipping line 2353: expected 5 fields, saw 28\\nSkipping line 2359: expected 5 fields, saw 85\\nSkipping line 2361: expected 5 fields, saw 16\\nSkipping line 2362: expected 5 fields, saw 93\\nSkipping line 2384: expected 5 fields, saw 22\\nSkipping line 2404: expected 5 fields, saw 18\\nSkipping line 2426: expected 5 fields, saw 10\\nSkipping line 2431: expected 5 fields, saw 20\\nSkipping line 2442: expected 5 fields, saw 157\\nSkipping line 2444: expected 5 fields, saw 127\\nSkipping line 2445: expected 5 fields, saw 143\\nSkipping line 2448: expected 5 fields, saw 60\\nSkipping line 2449: expected 5 fields, saw 100\\nSkipping line 2454: expected 5 fields, saw 100\\nSkipping line 2457: expected 5 fields, saw 77\\nSkipping line 2464: expected 5 fields, saw 121\\nSkipping line 2466: expected 5 fields, saw 80\\nSkipping line 2467: expected 5 fields, saw 86\\nSkipping line 2468: expected 5 fields, saw 56\\nSkipping line 2470: expected 5 fields, saw 22\\nSkipping line 2473: expected 5 fields, saw 110\\nSkipping line 2478: expected 5 fields, saw 169\\nSkipping line 2479: expected 5 fields, saw 150\\nSkipping line 2481: expected 5 fields, saw 183\\nSkipping line 2486: expected 5 fields, saw 97\\nSkipping line 2489: expected 5 fields, saw 41\\nSkipping line 2501: expected 5 fields, saw 37\\nSkipping line 2551: expected 5 fields, saw 22\\nSkipping line 2612: expected 5 fields, saw 54\\nSkipping line 2628: expected 5 fields, saw 30\\nSkipping line 2632: expected 5 fields, saw 15\\nSkipping line 2636: expected 5 fields, saw 89\\nSkipping line 2637: expected 5 fields, saw 63\\nSkipping line 2639: expected 5 fields, saw 24\\nSkipping line 2651: expected 5 fields, saw 34\\nSkipping line 2659: expected 5 fields, saw 23\\nSkipping line 2679: expected 5 fields, saw 59\\nSkipping line 2685: expected 5 fields, saw 49\\nSkipping line 2694: expected 5 fields, saw 103\\nSkipping line 2738: expected 5 fields, saw 14\\nSkipping line 2739: expected 5 fields, saw 57\\nSkipping line 2740: expected 5 fields, saw 33\\nSkipping line 2742: expected 5 fields, saw 42\\nSkipping line 2746: expected 5 fields, saw 24\\nSkipping line 2762: expected 5 fields, saw 27\\nSkipping line 2766: expected 5 fields, saw 12\\nSkipping line 2812: expected 5 fields, saw 64\\nSkipping line 2815: expected 5 fields, saw 27\\nSkipping line 2817: expected 5 fields, saw 29\\nSkipping line 2818: expected 5 fields, saw 130\\nSkipping line 2819: expected 5 fields, saw 69\\nSkipping line 2821: expected 5 fields, saw 25\\nSkipping line 2824: expected 5 fields, saw 104\\nSkipping line 2827: expected 5 fields, saw 24\\nSkipping line 2873: expected 5 fields, saw 27\\nSkipping line 2907: expected 5 fields, saw 31\\nSkipping line 2909: expected 5 fields, saw 48\\nSkipping line 2918: expected 5 fields, saw 39\\nSkipping line 2920: expected 5 fields, saw 39\\nSkipping line 2955: expected 5 fields, saw 30\\nSkipping line 2963: expected 5 fields, saw 29\\nSkipping line 2984: expected 5 fields, saw 75\\nSkipping line 2998: expected 5 fields, saw 18\\nSkipping line 3002: expected 5 fields, saw 160\\nSkipping line 3028: expected 5 fields, saw 26\\nSkipping line 3035: expected 5 fields, saw 47\\nSkipping line 3043: expected 5 fields, saw 89\\nSkipping line 3046: expected 5 fields, saw 24\\nSkipping line 3052: expected 5 fields, saw 134\\nSkipping line 3054: expected 5 fields, saw 63\\nSkipping line 3055: expected 5 fields, saw 92\\nSkipping line 3057: expected 5 fields, saw 54\\nSkipping line 3059: expected 5 fields, saw 26\\nSkipping line 3091: expected 5 fields, saw 36\\nSkipping line 3104: expected 5 fields, saw 44\\nSkipping line 3109: expected 5 fields, saw 8\\nSkipping line 3110: expected 5 fields, saw 53\\nSkipping line 3111: expected 5 fields, saw 11\\nSkipping line 3112: expected 5 fields, saw 21\\nSkipping line 3113: expected 5 fields, saw 64\\nSkipping line 3117: expected 5 fields, saw 10\\nSkipping line 3119: expected 5 fields, saw 167\\nSkipping line 3132: expected 5 fields, saw 30\\nSkipping line 3177: expected 5 fields, saw 8\\nSkipping line 3194: expected 5 fields, saw 60\\nSkipping line 3209: expected 5 fields, saw 36\\nSkipping line 3225: expected 5 fields, saw 28\\nSkipping line 3231: expected 5 fields, saw 102\\nSkipping line 3232: expected 5 fields, saw 84\\nSkipping line 3233: expected 5 fields, saw 40\\nSkipping line 3281: expected 5 fields, saw 35\\nSkipping line 3286: expected 5 fields, saw 8\\nSkipping line 3321: expected 5 fields, saw 50\\nSkipping line 3322: expected 5 fields, saw 20\\nSkipping line 3381: expected 5 fields, saw 44\\nSkipping line 3383: expected 5 fields, saw 23\\nSkipping line 3384: expected 5 fields, saw 47\\nSkipping line 3385: expected 5 fields, saw 25\\nSkipping line 3418: expected 5 fields, saw 60\\nSkipping line 3424: expected 5 fields, saw 48\\nSkipping line 3429: expected 5 fields, saw 36\\nSkipping line 3469: expected 5 fields, saw 70\\nSkipping line 3471: expected 5 fields, saw 66\\nSkipping line 3482: expected 5 fields, saw 46\\nSkipping line 3484: expected 5 fields, saw 34\\nSkipping line 3486: expected 5 fields, saw 28\\nSkipping line 3488: expected 5 fields, saw 54\\nSkipping line 3490: expected 5 fields, saw 23\\nSkipping line 3498: expected 5 fields, saw 8\\nSkipping line 3499: expected 5 fields, saw 19\\nSkipping line 3500: expected 5 fields, saw 7\\nSkipping line 3503: expected 5 fields, saw 16\\nSkipping line 3504: expected 5 fields, saw 28\\nSkipping line 3515: expected 5 fields, saw 9\\nSkipping line 3517: expected 5 fields, saw 71\\nSkipping line 3519: expected 5 fields, saw 6\\nSkipping line 3523: expected 5 fields, saw 40\\nSkipping line 3525: expected 5 fields, saw 18\\nSkipping line 3529: expected 5 fields, saw 6\\nSkipping line 3536: expected 5 fields, saw 27\\nSkipping line 3561: expected 5 fields, saw 75\\nSkipping line 3580: expected 5 fields, saw 8\\nSkipping line 3598: expected 5 fields, saw 123\\nSkipping line 3616: expected 5 fields, saw 110\\nSkipping line 3625: expected 5 fields, saw 16\\nSkipping line 3631: expected 5 fields, saw 21\\nSkipping line 3673: expected 5 fields, saw 35\\nSkipping line 3692: expected 5 fields, saw 6\\nSkipping line 3693: expected 5 fields, saw 23\\nSkipping line 3695: expected 5 fields, saw 124\\nSkipping line 3696: expected 5 fields, saw 49\\nSkipping line 3698: expected 5 fields, saw 89\\nSkipping line 3701: expected 5 fields, saw 72\\nSkipping line 3705: expected 5 fields, saw 39\\nSkipping line 3706: expected 5 fields, saw 119\\nSkipping line 3708: expected 5 fields, saw 94\\nSkipping line 3711: expected 5 fields, saw 88\\nSkipping line 3715: expected 5 fields, saw 76\\nSkipping line 3716: expected 5 fields, saw 31\\nSkipping line 3719: expected 5 fields, saw 63\\nSkipping line 3722: expected 5 fields, saw 78\\nSkipping line 3723: expected 5 fields, saw 22\\nSkipping line 3724: expected 5 fields, saw 56\\nSkipping line 3730: expected 5 fields, saw 28\\nSkipping line 3757: expected 5 fields, saw 75\\nSkipping line 3760: expected 5 fields, saw 83\\nSkipping line 3789: expected 5 fields, saw 68\\nSkipping line 3790: expected 5 fields, saw 81\\nSkipping line 3808: expected 5 fields, saw 18\\nSkipping line 3816: expected 5 fields, saw 34\\nSkipping line 3821: expected 5 fields, saw 41\\nSkipping line 3827: expected 5 fields, saw 39\\nSkipping line 3841: expected 5 fields, saw 49\\nSkipping line 3845: expected 5 fields, saw 95\\nSkipping line 3847: expected 5 fields, saw 33\\nSkipping line 3867: expected 5 fields, saw 41\\nSkipping line 3874: expected 5 fields, saw 33\\nSkipping line 3883: expected 5 fields, saw 54\\nSkipping line 3884: expected 5 fields, saw 26\\nSkipping line 3886: expected 5 fields, saw 17\\nSkipping line 3888: expected 5 fields, saw 12\\nSkipping line 3922: expected 5 fields, saw 43\\nSkipping line 3923: expected 5 fields, saw 51\\nSkipping line 3936: expected 5 fields, saw 87\\nSkipping line 3964: expected 5 fields, saw 103\\nSkipping line 3965: expected 5 fields, saw 128\\nSkipping line 3966: expected 5 fields, saw 44\\nSkipping line 3967: expected 5 fields, saw 84\\nSkipping line 3968: expected 5 fields, saw 101\\nSkipping line 3969: expected 5 fields, saw 173\\nSkipping line 3970: expected 5 fields, saw 45\\nSkipping line 3971: expected 5 fields, saw 133\\nSkipping line 3973: expected 5 fields, saw 80\\nSkipping line 3979: expected 5 fields, saw 91\\nSkipping line 3980: expected 5 fields, saw 77\\nSkipping line 3981: expected 5 fields, saw 122\\nSkipping line 4007: expected 5 fields, saw 29\\nSkipping line 4022: expected 5 fields, saw 179\\nSkipping line 4030: expected 5 fields, saw 169\\nSkipping line 4066: expected 5 fields, saw 40\\nSkipping line 4072: expected 5 fields, saw 90\\nSkipping line 4073: expected 5 fields, saw 60\\nSkipping line 4087: expected 5 fields, saw 30\\nSkipping line 4095: expected 5 fields, saw 83\\nSkipping line 4097: expected 5 fields, saw 19\\nSkipping line 4098: expected 5 fields, saw 64\\nSkipping line 4099: expected 5 fields, saw 8\\nSkipping line 4105: expected 5 fields, saw 9\\nSkipping line 4112: expected 5 fields, saw 32\\nSkipping line 4115: expected 5 fields, saw 72\\nSkipping line 4117: expected 5 fields, saw 11\\nSkipping line 4122: expected 5 fields, saw 9\\nSkipping line 4130: expected 5 fields, saw 58\\nSkipping line 4131: expected 5 fields, saw 23\\nSkipping line 4133: expected 5 fields, saw 54\\nSkipping line 4154: expected 5 fields, saw 20\\nSkipping line 4158: expected 5 fields, saw 37\\nSkipping line 4163: expected 5 fields, saw 7\\nSkipping line 4164: expected 5 fields, saw 19\\nSkipping line 4167: expected 5 fields, saw 17\\nSkipping line 4169: expected 5 fields, saw 10\\nSkipping line 4187: expected 5 fields, saw 24\\nSkipping line 4188: expected 5 fields, saw 35\\nSkipping line 4206: expected 5 fields, saw 41\\nSkipping line 4213: expected 5 fields, saw 80\\nSkipping line 4215: expected 5 fields, saw 108\\nSkipping line 4223: expected 5 fields, saw 15\\nSkipping line 4229: expected 5 fields, saw 82\\nSkipping line 4240: expected 5 fields, saw 63\\nSkipping line 4241: expected 5 fields, saw 53\\nSkipping line 4242: expected 5 fields, saw 36\\nSkipping line 4251: expected 5 fields, saw 87\\nSkipping line 4276: expected 5 fields, saw 19\\nSkipping line 4278: expected 5 fields, saw 33\\nSkipping line 4282: expected 5 fields, saw 48\\nSkipping line 4308: expected 5 fields, saw 69\\nSkipping line 4310: expected 5 fields, saw 21\\nSkipping line 4354: expected 5 fields, saw 67\\nSkipping line 4371: expected 5 fields, saw 22\\nSkipping line 4376: expected 5 fields, saw 52\\nSkipping line 4385: expected 5 fields, saw 52\\nSkipping line 4411: expected 5 fields, saw 24\\nSkipping line 4446: expected 5 fields, saw 43\\nSkipping line 4463: expected 5 fields, saw 30\\nSkipping line 4498: expected 5 fields, saw 17\\nSkipping line 4513: expected 5 fields, saw 10\\nSkipping line 4518: expected 5 fields, saw 34\\nSkipping line 4531: expected 5 fields, saw 7\\nSkipping line 4536: expected 5 fields, saw 48\\nSkipping line 4564: expected 5 fields, saw 15\\nSkipping line 4571: expected 5 fields, saw 32\\nSkipping line 4576: expected 5 fields, saw 40\\nSkipping line 4590: expected 5 fields, saw 33\\nSkipping line 4596: expected 5 fields, saw 23\\nSkipping line 4599: expected 5 fields, saw 11\\nSkipping line 4604: expected 5 fields, saw 35\\nSkipping line 4617: expected 5 fields, saw 254\\nSkipping line 4649: expected 5 fields, saw 22\\nSkipping line 4655: expected 5 fields, saw 32\\nSkipping line 4660: expected 5 fields, saw 29\\nSkipping line 4668: expected 5 fields, saw 34\\nSkipping line 4670: expected 5 fields, saw 56\\nSkipping line 4674: expected 5 fields, saw 51\\nSkipping line 4678: expected 5 fields, saw 98\\nSkipping line 4689: expected 5 fields, saw 7\\nSkipping line 4699: expected 5 fields, saw 69\\nSkipping line 4731: expected 5 fields, saw 53\\nSkipping line 4740: expected 5 fields, saw 53\\nSkipping line 4758: expected 5 fields, saw 19\\nSkipping line 4759: expected 5 fields, saw 8\\nSkipping line 4801: expected 5 fields, saw 74\\nSkipping line 4803: expected 5 fields, saw 22\\nSkipping line 4816: expected 5 fields, saw 87\\nSkipping line 4852: expected 5 fields, saw 51\\nSkipping line 4858: expected 5 fields, saw 90\\nSkipping line 4860: expected 5 fields, saw 105\\nSkipping line 4861: expected 5 fields, saw 107\\nSkipping line 4866: expected 5 fields, saw 95\\nSkipping line 4868: expected 5 fields, saw 81\\nSkipping line 4869: expected 5 fields, saw 84\\nSkipping line 4870: expected 5 fields, saw 50\\nSkipping line 4877: expected 5 fields, saw 97\\nSkipping line 4882: expected 5 fields, saw 13\\nSkipping line 4883: expected 5 fields, saw 118\\nSkipping line 4884: expected 5 fields, saw 48\\nSkipping line 4887: expected 5 fields, saw 24\\nSkipping line 4889: expected 5 fields, saw 18\\nSkipping line 4893: expected 5 fields, saw 10\\nSkipping line 4909: expected 5 fields, saw 14\\nSkipping line 4921: expected 5 fields, saw 41\\nSkipping line 4949: expected 5 fields, saw 84\\nSkipping line 4953: expected 5 fields, saw 94\\nSkipping line 4956: expected 5 fields, saw 58\\nSkipping line 4959: expected 5 fields, saw 71\\nSkipping line 4960: expected 5 fields, saw 126\\nSkipping line 4961: expected 5 fields, saw 71\\nSkipping line 4962: expected 5 fields, saw 55\\nSkipping line 4963: expected 5 fields, saw 28\\nSkipping line 4964: expected 5 fields, saw 123\\nSkipping line 4968: expected 5 fields, saw 51\\nSkipping line 4970: expected 5 fields, saw 134\\nSkipping line 4972: expected 5 fields, saw 103\\nSkipping line 4976: expected 5 fields, saw 155\\nSkipping line 4978: expected 5 fields, saw 45\\nSkipping line 4986: expected 5 fields, saw 83\\nSkipping line 4990: expected 5 fields, saw 36\\nSkipping line 4993: expected 5 fields, saw 24\\nSkipping line 4996: expected 5 fields, saw 76\\nSkipping line 4999: expected 5 fields, saw 21\\nSkipping line 5000: expected 5 fields, saw 17\\nSkipping line 5001: expected 5 fields, saw 11\\nSkipping line 5002: expected 5 fields, saw 21\\nSkipping line 5004: expected 5 fields, saw 18\\nSkipping line 5010: expected 5 fields, saw 80\\nSkipping line 5013: expected 5 fields, saw 90\\nSkipping line 5019: expected 5 fields, saw 43\\nSkipping line 5087: expected 5 fields, saw 45\\nSkipping line 5090: expected 5 fields, saw 28\\nSkipping line 5092: expected 5 fields, saw 36\\nSkipping line 5101: expected 5 fields, saw 53\\nSkipping line 5107: expected 5 fields, saw 136\\nSkipping line 5122: expected 5 fields, saw 65\\nSkipping line 5125: expected 5 fields, saw 19\\nSkipping line 5148: expected 5 fields, saw 50\\nSkipping line 5150: expected 5 fields, saw 100\\nSkipping line 5151: expected 5 fields, saw 48\\nSkipping line 5155: expected 5 fields, saw 30\\nSkipping line 5166: expected 5 fields, saw 37\\nSkipping line 5167: expected 5 fields, saw 139\\nSkipping line 5169: expected 5 fields, saw 94\\nSkipping line 5190: expected 5 fields, saw 31\\nSkipping line 5203: expected 5 fields, saw 39\\nSkipping line 5205: expected 5 fields, saw 27\\nSkipping line 5208: expected 5 fields, saw 61\\nSkipping line 5209: expected 5 fields, saw 46\\nSkipping line 5226: expected 5 fields, saw 13\\nSkipping line 5228: expected 5 fields, saw 30\\nSkipping line 5244: expected 5 fields, saw 39\\nSkipping line 5277: expected 5 fields, saw 68\\nSkipping line 5284: expected 5 fields, saw 161\\nSkipping line 5285: expected 5 fields, saw 71\\nSkipping line 5291: expected 5 fields, saw 13\\nSkipping line 5293: expected 5 fields, saw 82\\nSkipping line 5294: expected 5 fields, saw 20\\nSkipping line 5297: expected 5 fields, saw 68\\nSkipping line 5299: expected 5 fields, saw 28\\nSkipping line 5310: expected 5 fields, saw 24\\nSkipping line 5316: expected 5 fields, saw 18\\nSkipping line 5321: expected 5 fields, saw 43\\nSkipping line 5326: expected 5 fields, saw 73\\nSkipping line 5329: expected 5 fields, saw 24\\nSkipping line 5337: expected 5 fields, saw 142\\nSkipping line 5343: expected 5 fields, saw 37\\nSkipping line 5350: expected 5 fields, saw 97\\nSkipping line 5351: expected 5 fields, saw 25\\nSkipping line 5352: expected 5 fields, saw 85\\nSkipping line 5353: expected 5 fields, saw 12\\nSkipping line 5355: expected 5 fields, saw 22\\nSkipping line 5357: expected 5 fields, saw 123\\nSkipping line 5363: expected 5 fields, saw 39\\nSkipping line 5366: expected 5 fields, saw 26\\nSkipping line 5381: expected 5 fields, saw 64\\nSkipping line 5384: expected 5 fields, saw 19\\nSkipping line 5385: expected 5 fields, saw 77\\nSkipping line 5388: expected 5 fields, saw 49\\nSkipping line 5391: expected 5 fields, saw 124\\nSkipping line 5392: expected 5 fields, saw 42\\nSkipping line 5401: expected 5 fields, saw 26\\nSkipping line 5449: expected 5 fields, saw 76\\nSkipping line 5451: expected 5 fields, saw 99\\nSkipping line 5492: expected 5 fields, saw 20\\nSkipping line 5500: expected 5 fields, saw 71\\nSkipping line 5502: expected 5 fields, saw 52\\nSkipping line 5503: expected 5 fields, saw 117\\nSkipping line 5504: expected 5 fields, saw 82\\nSkipping line 5506: expected 5 fields, saw 124\\nSkipping line 5507: expected 5 fields, saw 69\\nSkipping line 5516: expected 5 fields, saw 10\\nSkipping line 5539: expected 5 fields, saw 58\\nSkipping line 5574: expected 5 fields, saw 48\\nSkipping line 5578: expected 5 fields, saw 36\\nSkipping line 5582: expected 5 fields, saw 61\\nSkipping line 5584: expected 5 fields, saw 62\\nSkipping line 5593: expected 5 fields, saw 59\\nSkipping line 5594: expected 5 fields, saw 89\\nSkipping line 5597: expected 5 fields, saw 65\\nSkipping line 5646: expected 5 fields, saw 96\\nSkipping line 5648: expected 5 fields, saw 35\\nSkipping line 5649: expected 5 fields, saw 23\\nSkipping line 5650: expected 5 fields, saw 77\\nSkipping line 5651: expected 5 fields, saw 57\\nSkipping line 5652: expected 5 fields, saw 122\\nSkipping line 5653: expected 5 fields, saw 33\\nSkipping line 5654: expected 5 fields, saw 97\\nSkipping line 5656: expected 5 fields, saw 89\\nSkipping line 5658: expected 5 fields, saw 180\\nSkipping line 5659: expected 5 fields, saw 106\\nSkipping line 5775: expected 5 fields, saw 17\\nSkipping line 5780: expected 5 fields, saw 97\\nSkipping line 5781: expected 5 fields, saw 42\\nSkipping line 5786: expected 5 fields, saw 48\\nSkipping line 5790: expected 5 fields, saw 40\\nSkipping line 5807: expected 5 fields, saw 25\\nSkipping line 5815: expected 5 fields, saw 40\\nSkipping line 5817: expected 5 fields, saw 57\\nSkipping line 5830: expected 5 fields, saw 63\\nSkipping line 5836: expected 5 fields, saw 68\\nSkipping line 5865: expected 5 fields, saw 61\\nSkipping line 5869: expected 5 fields, saw 26\\nSkipping line 5892: expected 5 fields, saw 12\\nSkipping line 5907: expected 5 fields, saw 41\\nSkipping line 5942: expected 5 fields, saw 45\\nSkipping line 5951: expected 5 fields, saw 46\\nSkipping line 5955: expected 5 fields, saw 48\\nSkipping line 5966: expected 5 fields, saw 106\\nSkipping line 5997: expected 5 fields, saw 6\\nSkipping line 6004: expected 5 fields, saw 27\\nSkipping line 6005: expected 5 fields, saw 18\\nSkipping line 6006: expected 5 fields, saw 37\\nSkipping line 6032: expected 5 fields, saw 15\\nSkipping line 6057: expected 5 fields, saw 85\\nSkipping line 6058: expected 5 fields, saw 64\\nSkipping line 6059: expected 5 fields, saw 35\\nSkipping line 6065: expected 5 fields, saw 50\\nSkipping line 6071: expected 5 fields, saw 59\\nSkipping line 6072: expected 5 fields, saw 58\\nSkipping line 6077: expected 5 fields, saw 10\\nSkipping line 6086: expected 5 fields, saw 73\\nSkipping line 6088: expected 5 fields, saw 107\\nSkipping line 6089: expected 5 fields, saw 72\\nSkipping line 6093: expected 5 fields, saw 18\\nSkipping line 6097: expected 5 fields, saw 82\\nSkipping line 6149: expected 5 fields, saw 74\\nSkipping line 6170: expected 5 fields, saw 57\\nSkipping line 6181: expected 5 fields, saw 74\\nSkipping line 6200: expected 5 fields, saw 36\\nSkipping line 6209: expected 5 fields, saw 42\\nSkipping line 6216: expected 5 fields, saw 13\\nSkipping line 6217: expected 5 fields, saw 62\\nSkipping line 6228: expected 5 fields, saw 29\\nSkipping line 6242: expected 5 fields, saw 15\\nSkipping line 6255: expected 5 fields, saw 79\\nSkipping line 6256: expected 5 fields, saw 29\\nSkipping line 6260: expected 5 fields, saw 21\\nSkipping line 6273: expected 5 fields, saw 68\\nSkipping line 6288: expected 5 fields, saw 17\\nSkipping line 6291: expected 5 fields, saw 30\\nSkipping line 6292: expected 5 fields, saw 21\\nSkipping line 6293: expected 5 fields, saw 18\\nSkipping line 6298: expected 5 fields, saw 7\\nSkipping line 6303: expected 5 fields, saw 20\\nSkipping line 6323: expected 5 fields, saw 14\\nSkipping line 6331: expected 5 fields, saw 63\\nSkipping line 6363: expected 5 fields, saw 35\\nSkipping line 6417: expected 5 fields, saw 14\\nSkipping line 6430: expected 5 fields, saw 60\\nSkipping line 6436: expected 5 fields, saw 72\\nSkipping line 6437: expected 5 fields, saw 8\\nSkipping line 6438: expected 5 fields, saw 117\\nSkipping line 6457: expected 5 fields, saw 55\\nSkipping line 6467: expected 5 fields, saw 36\\nSkipping line 6474: expected 5 fields, saw 31\\nSkipping line 6518: expected 5 fields, saw 48\\nSkipping line 6530: expected 5 fields, saw 30\\nSkipping line 6536: expected 5 fields, saw 36\\nSkipping line 6548: expected 5 fields, saw 58\\nSkipping line 6549: expected 5 fields, saw 26\\nSkipping line 6552: expected 5 fields, saw 37\\nSkipping line 6553: expected 5 fields, saw 8\\nSkipping line 6555: expected 5 fields, saw 22\\nSkipping line 6566: expected 5 fields, saw 33\\nSkipping line 6579: expected 5 fields, saw 24\\nSkipping line 6580: expected 5 fields, saw 43\\nSkipping line 6583: expected 5 fields, saw 35\\nSkipping line 6627: expected 5 fields, saw 56\\nSkipping line 6629: expected 5 fields, saw 35\\nSkipping line 6634: expected 5 fields, saw 58\\nSkipping line 6647: expected 5 fields, saw 23\\nSkipping line 6665: expected 5 fields, saw 76\\nSkipping line 6675: expected 5 fields, saw 50\\nSkipping line 6681: expected 5 fields, saw 32\\nSkipping line 6686: expected 5 fields, saw 36\\nSkipping line 6696: expected 5 fields, saw 14\\nSkipping line 6704: expected 5 fields, saw 23\\nSkipping line 6705: expected 5 fields, saw 52\\nSkipping line 6706: expected 5 fields, saw 89\\nSkipping line 6707: expected 5 fields, saw 22\\nSkipping line 6709: expected 5 fields, saw 44\\nSkipping line 6710: expected 5 fields, saw 35\\nSkipping line 6729: expected 5 fields, saw 20\\nSkipping line 6757: expected 5 fields, saw 13\\nSkipping line 6766: expected 5 fields, saw 9\\nSkipping line 6770: expected 5 fields, saw 14\\nSkipping line 6782: expected 5 fields, saw 117\\nSkipping line 6783: expected 5 fields, saw 78\\nSkipping line 6790: expected 5 fields, saw 103\\nSkipping line 6804: expected 5 fields, saw 57\\nSkipping line 6833: expected 5 fields, saw 15\\nSkipping line 6837: expected 5 fields, saw 13\\nSkipping line 6863: expected 5 fields, saw 156\\nSkipping line 6875: expected 5 fields, saw 56\\nSkipping line 6879: expected 5 fields, saw 59\\nSkipping line 6880: expected 5 fields, saw 28\\nSkipping line 6885: expected 5 fields, saw 32\\nSkipping line 6886: expected 5 fields, saw 19\\nSkipping line 6887: expected 5 fields, saw 29\\nSkipping line 6889: expected 5 fields, saw 28\\nSkipping line 6931: expected 5 fields, saw 25\\nSkipping line 6955: expected 5 fields, saw 98\\nSkipping line 6974: expected 5 fields, saw 30\\nSkipping line 6975: expected 5 fields, saw 36\\nSkipping line 6981: expected 5 fields, saw 12\\nSkipping line 6986: expected 5 fields, saw 6\\nSkipping line 7002: expected 5 fields, saw 11\\nSkipping line 7012: expected 5 fields, saw 11\\nSkipping line 7018: expected 5 fields, saw 18\\nSkipping line 7027: expected 5 fields, saw 39\\nSkipping line 7053: expected 5 fields, saw 8\\nSkipping line 7061: expected 5 fields, saw 22\\nSkipping line 7093: expected 5 fields, saw 6\\nSkipping line 7108: expected 5 fields, saw 41\\nSkipping line 7109: expected 5 fields, saw 48\\nSkipping line 7110: expected 5 fields, saw 58\\nSkipping line 7121: expected 5 fields, saw 31\\nSkipping line 7129: expected 5 fields, saw 58\\nSkipping line 7130: expected 5 fields, saw 52\\nSkipping line 7131: expected 5 fields, saw 43\\nSkipping line 7148: expected 5 fields, saw 19\\nSkipping line 7174: expected 5 fields, saw 27\\nSkipping line 7191: expected 5 fields, saw 65\\nSkipping line 7202: expected 5 fields, saw 9\\nSkipping line 7208: expected 5 fields, saw 28\\nSkipping line 7217: expected 5 fields, saw 11\\nSkipping line 7218: expected 5 fields, saw 53\\nSkipping line 7222: expected 5 fields, saw 6\\nSkipping line 7230: expected 5 fields, saw 17\\nSkipping line 7241: expected 5 fields, saw 40\\nSkipping line 7243: expected 5 fields, saw 15\\nSkipping line 7246: expected 5 fields, saw 38\\nSkipping line 7285: expected 5 fields, saw 20\\nSkipping line 7327: expected 5 fields, saw 36\\nSkipping line 7334: expected 5 fields, saw 70\\nSkipping line 7349: expected 5 fields, saw 17\\nSkipping line 7358: expected 5 fields, saw 16\\nSkipping line 7359: expected 5 fields, saw 32\\nSkipping line 7366: expected 5 fields, saw 40\\nSkipping line 7369: expected 5 fields, saw 36\\nSkipping line 7372: expected 5 fields, saw 53\\nSkipping line 7397: expected 5 fields, saw 20\\nSkipping line 7398: expected 5 fields, saw 71\\nSkipping line 7410: expected 5 fields, saw 29\\nSkipping line 7413: expected 5 fields, saw 124\\nSkipping line 7417: expected 5 fields, saw 72\\nSkipping line 7422: expected 5 fields, saw 68\\nSkipping line 7427: expected 5 fields, saw 40\\nSkipping line 7460: expected 5 fields, saw 81\\nSkipping line 7461: expected 5 fields, saw 96\\nSkipping line 7528: expected 5 fields, saw 10\\nSkipping line 7533: expected 5 fields, saw 60\\nSkipping line 7535: expected 5 fields, saw 32\\nSkipping line 7536: expected 5 fields, saw 22\\nSkipping line 7539: expected 5 fields, saw 48\\nSkipping line 7540: expected 5 fields, saw 20\\nSkipping line 7542: expected 5 fields, saw 30\\nSkipping line 7546: expected 5 fields, saw 28\\nSkipping line 7547: expected 5 fields, saw 30\\nSkipping line 7575: expected 5 fields, saw 65\\nSkipping line 7583: expected 5 fields, saw 58\\nSkipping line 7584: expected 5 fields, saw 37\\nSkipping line 7587: expected 5 fields, saw 63\\nSkipping line 7619: expected 5 fields, saw 36\\nSkipping line 7624: expected 5 fields, saw 66\\nSkipping line 7690: expected 5 fields, saw 32\\nSkipping line 7697: expected 5 fields, saw 34\\nSkipping line 7704: expected 5 fields, saw 48\\nSkipping line 7714: expected 5 fields, saw 59\\nSkipping line 7717: expected 5 fields, saw 9\\nSkipping line 7727: expected 5 fields, saw 42\\nSkipping line 7731: expected 5 fields, saw 45\\nSkipping line 7752: expected 5 fields, saw 43\\nSkipping line 7762: expected 5 fields, saw 51\\nSkipping line 7764: expected 5 fields, saw 122\\nSkipping line 7766: expected 5 fields, saw 90\\nSkipping line 7767: expected 5 fields, saw 85\\nSkipping line 7769: expected 5 fields, saw 26\\nSkipping line 7774: expected 5 fields, saw 68\\nSkipping line 7775: expected 5 fields, saw 54\\nSkipping line 7777: expected 5 fields, saw 91\\nSkipping line 7782: expected 5 fields, saw 8\\nSkipping line 7788: expected 5 fields, saw 73\\nSkipping line 7793: expected 5 fields, saw 84\\nSkipping line 7796: expected 5 fields, saw 82\\nSkipping line 7807: expected 5 fields, saw 72\\nSkipping line 7811: expected 5 fields, saw 74\\nSkipping line 7847: expected 5 fields, saw 22\\nSkipping line 7855: expected 5 fields, saw 118\\nSkipping line 7864: expected 5 fields, saw 107\\nSkipping line 7884: expected 5 fields, saw 53\\nSkipping line 7890: expected 5 fields, saw 41\\nSkipping line 7895: expected 5 fields, saw 45\\nSkipping line 7914: expected 5 fields, saw 48\\nSkipping line 7922: expected 5 fields, saw 62\\nSkipping line 7948: expected 5 fields, saw 60\\nSkipping line 7970: expected 5 fields, saw 59\\nSkipping line 7975: expected 5 fields, saw 11\\nSkipping line 8002: expected 5 fields, saw 24\\nSkipping line 8011: expected 5 fields, saw 105\\nSkipping line 8015: expected 5 fields, saw 77\\nSkipping line 8020: expected 5 fields, saw 52\\nSkipping line 8021: expected 5 fields, saw 94\\nSkipping line 8022: expected 5 fields, saw 32\\nSkipping line 8028: expected 5 fields, saw 72\\nSkipping line 8031: expected 5 fields, saw 27\\nSkipping line 8032: expected 5 fields, saw 105\\nSkipping line 8035: expected 5 fields, saw 47\\nSkipping line 8037: expected 5 fields, saw 113\\nSkipping line 8038: expected 5 fields, saw 73\\nSkipping line 8039: expected 5 fields, saw 81\\nSkipping line 8040: expected 5 fields, saw 59\\nSkipping line 8041: expected 5 fields, saw 20\\nSkipping line 8042: expected 5 fields, saw 98\\nSkipping line 8044: expected 5 fields, saw 53\\nSkipping line 8050: expected 5 fields, saw 48\\nSkipping line 8051: expected 5 fields, saw 11\\nSkipping line 8053: expected 5 fields, saw 78\\nSkipping line 8055: expected 5 fields, saw 56\\nSkipping line 8056: expected 5 fields, saw 40\\nSkipping line 8058: expected 5 fields, saw 116\\nSkipping line 8059: expected 5 fields, saw 44\\nSkipping line 8060: expected 5 fields, saw 115\\nSkipping line 8062: expected 5 fields, saw 27\\nSkipping line 8068: expected 5 fields, saw 96\\nSkipping line 8070: expected 5 fields, saw 32\\nSkipping line 8075: expected 5 fields, saw 111\\nSkipping line 8090: expected 5 fields, saw 82\\nSkipping line 8103: expected 5 fields, saw 89\\nSkipping line 8104: expected 5 fields, saw 77\\nSkipping line 8133: expected 5 fields, saw 23\\nSkipping line 8140: expected 5 fields, saw 17\\nSkipping line 8142: expected 5 fields, saw 44\\nSkipping line 8145: expected 5 fields, saw 25\\nSkipping line 8146: expected 5 fields, saw 43\\nSkipping line 8166: expected 5 fields, saw 48\\nSkipping line 8171: expected 5 fields, saw 34\\nSkipping line 8178: expected 5 fields, saw 67\\nSkipping line 8180: expected 5 fields, saw 77\\nSkipping line 8183: expected 5 fields, saw 20\\nSkipping line 8187: expected 5 fields, saw 83\\nSkipping line 8189: expected 5 fields, saw 50\\nSkipping line 8208: expected 5 fields, saw 59\\nSkipping line 8211: expected 5 fields, saw 47\\nSkipping line 8227: expected 5 fields, saw 33\\nSkipping line 8231: expected 5 fields, saw 35\\nSkipping line 8247: expected 5 fields, saw 21\\nSkipping line 8251: expected 5 fields, saw 82\\nSkipping line 8257: expected 5 fields, saw 50\\nSkipping line 8258: expected 5 fields, saw 56\\nSkipping line 8259: expected 5 fields, saw 57\\nSkipping line 8261: expected 5 fields, saw 23\\nSkipping line 8270: expected 5 fields, saw 23\\nSkipping line 8281: expected 5 fields, saw 43\\nSkipping line 8314: expected 5 fields, saw 19\\nSkipping line 8354: expected 5 fields, saw 23\\nSkipping line 8380: expected 5 fields, saw 9\\nSkipping line 8389: expected 5 fields, saw 42\\nSkipping line 8403: expected 5 fields, saw 42\\nSkipping line 8404: expected 5 fields, saw 37\\nSkipping line 8405: expected 5 fields, saw 26\\nSkipping line 8422: expected 5 fields, saw 6\\nSkipping line 8424: expected 5 fields, saw 46\\nSkipping line 8426: expected 5 fields, saw 35\\nSkipping line 8427: expected 5 fields, saw 44\\nSkipping line 8447: expected 5 fields, saw 25\\nSkipping line 8456: expected 5 fields, saw 25\\nSkipping line 8457: expected 5 fields, saw 21\\nSkipping line 8458: expected 5 fields, saw 72\\nSkipping line 8490: expected 5 fields, saw 93\\nSkipping line 8492: expected 5 fields, saw 69\\nSkipping line 8494: expected 5 fields, saw 76\\nSkipping line 8513: expected 5 fields, saw 86\\nSkipping line 8514: expected 5 fields, saw 62\\nSkipping line 8515: expected 5 fields, saw 65\\nSkipping line 8525: expected 5 fields, saw 26\\nSkipping line 8528: expected 5 fields, saw 77\\nSkipping line 8531: expected 5 fields, saw 13\\nSkipping line 8533: expected 5 fields, saw 32\\nSkipping line 8534: expected 5 fields, saw 24\\nSkipping line 8544: expected 5 fields, saw 74\\nSkipping line 8551: expected 5 fields, saw 34\\nSkipping line 8555: expected 5 fields, saw 103\\nSkipping line 8574: expected 5 fields, saw 20\\nSkipping line 8588: expected 5 fields, saw 23\\nSkipping line 8595: expected 5 fields, saw 14\\nSkipping line 8609: expected 5 fields, saw 68\\nSkipping line 8624: expected 5 fields, saw 8\\nSkipping line 8645: expected 5 fields, saw 84\\nSkipping line 8688: expected 5 fields, saw 9\\nSkipping line 8690: expected 5 fields, saw 10\\nSkipping line 8699: expected 5 fields, saw 12\\nSkipping line 8718: expected 5 fields, saw 26\\nSkipping line 8738: expected 5 fields, saw 70\\nSkipping line 8739: expected 5 fields, saw 83\\nSkipping line 8740: expected 5 fields, saw 88\\nSkipping line 8744: expected 5 fields, saw 78\\nSkipping line 8745: expected 5 fields, saw 136\\nSkipping line 8747: expected 5 fields, saw 37\\nSkipping line 8765: expected 5 fields, saw 61\\nSkipping line 8781: expected 5 fields, saw 110\\nSkipping line 8782: expected 5 fields, saw 71\\nSkipping line 8793: expected 5 fields, saw 141\\nSkipping line 8814: expected 5 fields, saw 11\\nSkipping line 8829: expected 5 fields, saw 65\\nSkipping line 8830: expected 5 fields, saw 14\\nSkipping line 8850: expected 5 fields, saw 56\\nSkipping line 8861: expected 5 fields, saw 11\\nSkipping line 8866: expected 5 fields, saw 6\\nSkipping line 8867: expected 5 fields, saw 28\\nSkipping line 8870: expected 5 fields, saw 35\\nSkipping line 8872: expected 5 fields, saw 45\\nSkipping line 8894: expected 5 fields, saw 27\\nSkipping line 8896: expected 5 fields, saw 21\\nSkipping line 8897: expected 5 fields, saw 17\\nSkipping line 8909: expected 5 fields, saw 21\\nSkipping line 8917: expected 5 fields, saw 12\\nSkipping line 8926: expected 5 fields, saw 16\\nSkipping line 8935: expected 5 fields, saw 37\\nSkipping line 8938: expected 5 fields, saw 43\\nSkipping line 8947: expected 5 fields, saw 53\\nSkipping line 8948: expected 5 fields, saw 41\\nSkipping line 8949: expected 5 fields, saw 36\\nSkipping line 8952: expected 5 fields, saw 26\\nSkipping line 8953: expected 5 fields, saw 16\\nSkipping line 8954: expected 5 fields, saw 49\\nSkipping line 8956: expected 5 fields, saw 9\\nSkipping line 9010: expected 5 fields, saw 73\\nSkipping line 9032: expected 5 fields, saw 25\\nSkipping line 9036: expected 5 fields, saw 30\\nSkipping line 9044: expected 5 fields, saw 39\\nSkipping line 9051: expected 5 fields, saw 29\\nSkipping line 9071: expected 5 fields, saw 23\\nSkipping line 9138: expected 5 fields, saw 72\\nSkipping line 9154: expected 5 fields, saw 19\\nSkipping line 9155: expected 5 fields, saw 20\\nSkipping line 9170: expected 5 fields, saw 72\\nSkipping line 9173: expected 5 fields, saw 68\\nSkipping line 9176: expected 5 fields, saw 59\\nSkipping line 9178: expected 5 fields, saw 9\\nSkipping line 9194: expected 5 fields, saw 53\\nSkipping line 9197: expected 5 fields, saw 13\\nSkipping line 9198: expected 5 fields, saw 66\\nSkipping line 9200: expected 5 fields, saw 13\\nSkipping line 9202: expected 5 fields, saw 81\\nSkipping line 9203: expected 5 fields, saw 65\\nSkipping line 9209: expected 5 fields, saw 6\\nSkipping line 9216: expected 5 fields, saw 19\\nSkipping line 9263: expected 5 fields, saw 43\\nSkipping line 9272: expected 5 fields, saw 73\\nSkipping line 9298: expected 5 fields, saw 11\\nSkipping line 9312: expected 5 fields, saw 20\\nSkipping line 9331: expected 5 fields, saw 14\\nSkipping line 9334: expected 5 fields, saw 10\\nSkipping line 9339: expected 5 fields, saw 11\\nSkipping line 9341: expected 5 fields, saw 13\\nSkipping line 9346: expected 5 fields, saw 25\\nSkipping line 9349: expected 5 fields, saw 21\\nSkipping line 9351: expected 5 fields, saw 19\\nSkipping line 9361: expected 5 fields, saw 29\\nSkipping line 9441: expected 5 fields, saw 35\\nSkipping line 9445: expected 5 fields, saw 27\\nSkipping line 9454: expected 5 fields, saw 54\\nSkipping line 9457: expected 5 fields, saw 42\\nSkipping line 9492: expected 5 fields, saw 57\\nSkipping line 9493: expected 5 fields, saw 124\\nSkipping line 9496: expected 5 fields, saw 41\\nSkipping line 9497: expected 5 fields, saw 125\\nSkipping line 9502: expected 5 fields, saw 83\\nSkipping line 9503: expected 5 fields, saw 37\\nSkipping line 9508: expected 5 fields, saw 32\\nSkipping line 9509: expected 5 fields, saw 56\\nSkipping line 9510: expected 5 fields, saw 87\\nSkipping line 9511: expected 5 fields, saw 156\\nSkipping line 9516: expected 5 fields, saw 42\\nSkipping line 9521: expected 5 fields, saw 36\\nSkipping line 9523: expected 5 fields, saw 27\\nSkipping line 9563: expected 5 fields, saw 17\\nSkipping line 9569: expected 5 fields, saw 80\\nSkipping line 9581: expected 5 fields, saw 73\\nSkipping line 9610: expected 5 fields, saw 35\\nSkipping line 9639: expected 5 fields, saw 43\\nSkipping line 9645: expected 5 fields, saw 34\\nSkipping line 9677: expected 5 fields, saw 62\\nSkipping line 9678: expected 5 fields, saw 10\\nSkipping line 9690: expected 5 fields, saw 22\\nSkipping line 9742: expected 5 fields, saw 23\\nSkipping line 9755: expected 5 fields, saw 55\\nSkipping line 9759: expected 5 fields, saw 45\\nSkipping line 9768: expected 5 fields, saw 10\\nSkipping line 9770: expected 5 fields, saw 36\\nSkipping line 9794: expected 5 fields, saw 7\\nSkipping line 9810: expected 5 fields, saw 38\\nSkipping line 9814: expected 5 fields, saw 36\\nSkipping line 9816: expected 5 fields, saw 9\\nSkipping line 9832: expected 5 fields, saw 35\\nSkipping line 9833: expected 5 fields, saw 103\\nSkipping line 9834: expected 5 fields, saw 59\\nSkipping line 9836: expected 5 fields, saw 34\\nSkipping line 9837: expected 5 fields, saw 44\\nSkipping line 9838: expected 5 fields, saw 45\\nSkipping line 9839: expected 5 fields, saw 39\\nSkipping line 9840: expected 5 fields, saw 21\\nSkipping line 9843: expected 5 fields, saw 120\\nSkipping line 9845: expected 5 fields, saw 83\\nSkipping line 9848: expected 5 fields, saw 97\\nSkipping line 9850: expected 5 fields, saw 40\\nSkipping line 9853: expected 5 fields, saw 27\\nSkipping line 9854: expected 5 fields, saw 56\\nSkipping line 9863: expected 5 fields, saw 40\\nSkipping line 9880: expected 5 fields, saw 48\\nSkipping line 9881: expected 5 fields, saw 52\\nSkipping line 9884: expected 5 fields, saw 110\\nSkipping line 9887: expected 5 fields, saw 119\\nSkipping line 9889: expected 5 fields, saw 88\\nSkipping line 9891: expected 5 fields, saw 57\\nSkipping line 9893: expected 5 fields, saw 25\\nSkipping line 9896: expected 5 fields, saw 21\\nSkipping line 9897: expected 5 fields, saw 85\\nSkipping line 9898: expected 5 fields, saw 8\\nSkipping line 9902: expected 5 fields, saw 32\\nSkipping line 9920: expected 5 fields, saw 40\\nSkipping line 9925: expected 5 fields, saw 44\\nSkipping line 9928: expected 5 fields, saw 91\\nSkipping line 9929: expected 5 fields, saw 54\\nSkipping line 10012: expected 5 fields, saw 43\\nSkipping line 10015: expected 5 fields, saw 36\\nSkipping line 10020: expected 5 fields, saw 24\\nSkipping line 10024: expected 5 fields, saw 9\\nSkipping line 10030: expected 5 fields, saw 9\\nSkipping line 10044: expected 5 fields, saw 29\\nSkipping line 10046: expected 5 fields, saw 33\\nSkipping line 10048: expected 5 fields, saw 17\\nSkipping line 10077: expected 5 fields, saw 60\\nSkipping line 10081: expected 5 fields, saw 44\\nSkipping line 10082: expected 5 fields, saw 82\\nSkipping line 10083: expected 5 fields, saw 90\\nSkipping line 10085: expected 5 fields, saw 13\\nSkipping line 10089: expected 5 fields, saw 24\\nSkipping line 10095: expected 5 fields, saw 18\\nSkipping line 10102: expected 5 fields, saw 22\\nSkipping line 10125: expected 5 fields, saw 35\\nSkipping line 10137: expected 5 fields, saw 24\\nSkipping line 10138: expected 5 fields, saw 39\\nSkipping line 10140: expected 5 fields, saw 50\\nSkipping line 10142: expected 5 fields, saw 177\\nSkipping line 10145: expected 5 fields, saw 29\\nSkipping line 10147: expected 5 fields, saw 60\\nSkipping line 10148: expected 5 fields, saw 38\\nSkipping line 10149: expected 5 fields, saw 35\\nSkipping line 10153: expected 5 fields, saw 11\\nSkipping line 10154: expected 5 fields, saw 87\\nSkipping line 10162: expected 5 fields, saw 26\\nSkipping line 10164: expected 5 fields, saw 85\\nSkipping line 10168: expected 5 fields, saw 87\\nSkipping line 10171: expected 5 fields, saw 25\\nSkipping line 10196: expected 5 fields, saw 35\\nSkipping line 10204: expected 5 fields, saw 31\\nSkipping line 10207: expected 5 fields, saw 33\\nSkipping line 10209: expected 5 fields, saw 26\\nSkipping line 10220: expected 5 fields, saw 35\\nSkipping line 10266: expected 5 fields, saw 11\\nSkipping line 10275: expected 5 fields, saw 37\\nSkipping line 10276: expected 5 fields, saw 59\\nSkipping line 10279: expected 5 fields, saw 10\\nSkipping line 10280: expected 5 fields, saw 26\\nSkipping line 10302: expected 5 fields, saw 26\\nSkipping line 10305: expected 5 fields, saw 64\\nSkipping line 10308: expected 5 fields, saw 28\\nSkipping line 10318: expected 5 fields, saw 72\\nSkipping line 10321: expected 5 fields, saw 66\\nSkipping line 10329: expected 5 fields, saw 37\\nSkipping line 10330: expected 5 fields, saw 65\\nSkipping line 10372: expected 5 fields, saw 89\\nSkipping line 10373: expected 5 fields, saw 100\\nSkipping line 10374: expected 5 fields, saw 30\\nSkipping line 10375: expected 5 fields, saw 43\\nSkipping line 10376: expected 5 fields, saw 79\\nSkipping line 10377: expected 5 fields, saw 8\\nSkipping line 10379: expected 5 fields, saw 39\\nSkipping line 10381: expected 5 fields, saw 60\\nSkipping line 10390: expected 5 fields, saw 89\\nSkipping line 10391: expected 5 fields, saw 51\\nSkipping line 10392: expected 5 fields, saw 42\\nSkipping line 10394: expected 5 fields, saw 32\\nSkipping line 10395: expected 5 fields, saw 45\\nSkipping line 10396: expected 5 fields, saw 37\\nSkipping line 10400: expected 5 fields, saw 60\\nSkipping line 10404: expected 5 fields, saw 39\\nSkipping line 10407: expected 5 fields, saw 59\\nSkipping line 10411: expected 5 fields, saw 77\\nSkipping line 10413: expected 5 fields, saw 28\\nSkipping line 10414: expected 5 fields, saw 27\\nSkipping line 10417: expected 5 fields, saw 21\\nSkipping line 10421: expected 5 fields, saw 86\\nSkipping line 10425: expected 5 fields, saw 204\\nSkipping line 10427: expected 5 fields, saw 107\\nSkipping line 10428: expected 5 fields, saw 42\\nSkipping line 10430: expected 5 fields, saw 27\\nSkipping line 10432: expected 5 fields, saw 34\\nSkipping line 10435: expected 5 fields, saw 52\\nSkipping line 10436: expected 5 fields, saw 26\\nSkipping line 10437: expected 5 fields, saw 43\\nSkipping line 10438: expected 5 fields, saw 86\\nSkipping line 10440: expected 5 fields, saw 64\\nSkipping line 10447: expected 5 fields, saw 30\\nSkipping line 10448: expected 5 fields, saw 103\\nSkipping line 10449: expected 5 fields, saw 64\\nSkipping line 10450: expected 5 fields, saw 33\\nSkipping line 10451: expected 5 fields, saw 30\\nSkipping line 10456: expected 5 fields, saw 53\\nSkipping line 10458: expected 5 fields, saw 8\\nSkipping line 10460: expected 5 fields, saw 30\\nSkipping line 10463: expected 5 fields, saw 90\\nSkipping line 10464: expected 5 fields, saw 163\\nSkipping line 10465: expected 5 fields, saw 31\\nSkipping line 10467: expected 5 fields, saw 74\\nSkipping line 10469: expected 5 fields, saw 8\\nSkipping line 10473: expected 5 fields, saw 69\\nSkipping line 10474: expected 5 fields, saw 28\\nSkipping line 10476: expected 5 fields, saw 18\\nSkipping line 10477: expected 5 fields, saw 26\\nSkipping line 10482: expected 5 fields, saw 147\\nSkipping line 10486: expected 5 fields, saw 136\\nSkipping line 10492: expected 5 fields, saw 129\\nSkipping line 10495: expected 5 fields, saw 73\\nSkipping line 10509: expected 5 fields, saw 179\\nSkipping line 10524: expected 5 fields, saw 70\\nSkipping line 10525: expected 5 fields, saw 70\\nSkipping line 10528: expected 5 fields, saw 59\\nSkipping line 10533: expected 5 fields, saw 16\\nSkipping line 10576: expected 5 fields, saw 70\\nSkipping line 10579: expected 5 fields, saw 99\\nSkipping line 10580: expected 5 fields, saw 40\\nSkipping line 10581: expected 5 fields, saw 59\\nSkipping line 10613: expected 5 fields, saw 39\\nSkipping line 10622: expected 5 fields, saw 23\\nSkipping line 10623: expected 5 fields, saw 13\\nSkipping line 10624: expected 5 fields, saw 21\\nSkipping line 10626: expected 5 fields, saw 33\\nSkipping line 10627: expected 5 fields, saw 13\\nSkipping line 10628: expected 5 fields, saw 30\\nSkipping line 10630: expected 5 fields, saw 25\\nSkipping line 10631: expected 5 fields, saw 21\\nSkipping line 10636: expected 5 fields, saw 115\\nSkipping line 10662: expected 5 fields, saw 54\\nSkipping line 10681: expected 5 fields, saw 49\\nSkipping line 10683: expected 5 fields, saw 35\\nSkipping line 10700: expected 5 fields, saw 9\\nSkipping line 10711: expected 5 fields, saw 52\\nSkipping line 10748: expected 5 fields, saw 23\\nSkipping line 10749: expected 5 fields, saw 27\\nSkipping line 10753: expected 5 fields, saw 24\\nSkipping line 10776: expected 5 fields, saw 67\\nSkipping line 10788: expected 5 fields, saw 39\\nSkipping line 10789: expected 5 fields, saw 57\\nSkipping line 10804: expected 5 fields, saw 48\\nSkipping line 10814: expected 5 fields, saw 30\\nSkipping line 10818: expected 5 fields, saw 52\\nSkipping line 10819: expected 5 fields, saw 54\\nSkipping line 10834: expected 5 fields, saw 90\\nSkipping line 10874: expected 5 fields, saw 17\\nSkipping line 10880: expected 5 fields, saw 21\\nSkipping line 10884: expected 5 fields, saw 50\\nSkipping line 10885: expected 5 fields, saw 84\\nSkipping line 10886: expected 5 fields, saw 103\\nSkipping line 10888: expected 5 fields, saw 130\\nSkipping line 10891: expected 5 fields, saw 7\\nSkipping line 10892: expected 5 fields, saw 53\\nSkipping line 10909: expected 5 fields, saw 34\\nSkipping line 10914: expected 5 fields, saw 65\\nSkipping line 10918: expected 5 fields, saw 64\\nSkipping line 10921: expected 5 fields, saw 80\\nSkipping line 10927: expected 5 fields, saw 123\\nSkipping line 10928: expected 5 fields, saw 30\\nSkipping line 10929: expected 5 fields, saw 62\\nSkipping line 10930: expected 5 fields, saw 46\\nSkipping line 10944: expected 5 fields, saw 7\\nSkipping line 10951: expected 5 fields, saw 113\\nSkipping line 10982: expected 5 fields, saw 21\\nSkipping line 10984: expected 5 fields, saw 32\\nSkipping line 10987: expected 5 fields, saw 50\\nSkipping line 11009: expected 5 fields, saw 52\\nSkipping line 11016: expected 5 fields, saw 30\\nSkipping line 11030: expected 5 fields, saw 22\\nSkipping line 11039: expected 5 fields, saw 37\\nSkipping line 11042: expected 5 fields, saw 44\\nSkipping line 11077: expected 5 fields, saw 16\\nSkipping line 11139: expected 5 fields, saw 70\\nSkipping line 11167: expected 5 fields, saw 67\\nSkipping line 11180: expected 5 fields, saw 23\\nSkipping line 11181: expected 5 fields, saw 40\\nSkipping line 11183: expected 5 fields, saw 24\\nSkipping line 11186: expected 5 fields, saw 90\\nSkipping line 11191: expected 5 fields, saw 18\\nSkipping line 11206: expected 5 fields, saw 34\\nSkipping line 11214: expected 5 fields, saw 98\\nSkipping line 11220: expected 5 fields, saw 18\\nSkipping line 11223: expected 5 fields, saw 51\\nSkipping line 11241: expected 5 fields, saw 13\\nSkipping line 11243: expected 5 fields, saw 43\\nSkipping line 11254: expected 5 fields, saw 26\\nSkipping line 11277: expected 5 fields, saw 52\\nSkipping line 11319: expected 5 fields, saw 22\\nSkipping line 11342: expected 5 fields, saw 17\\nSkipping line 11365: expected 5 fields, saw 65\\nSkipping line 11370: expected 5 fields, saw 122\\nSkipping line 11371: expected 5 fields, saw 110\\nSkipping line 11373: expected 5 fields, saw 127\\nSkipping line 11396: expected 5 fields, saw 10\\nSkipping line 11398: expected 5 fields, saw 26\\nSkipping line 11445: expected 5 fields, saw 23\\nSkipping line 11449: expected 5 fields, saw 45\\nSkipping line 11451: expected 5 fields, saw 32\\nSkipping line 11454: expected 5 fields, saw 69\\nSkipping line 11512: expected 5 fields, saw 16\\nSkipping line 11513: expected 5 fields, saw 48\\nSkipping line 11514: expected 5 fields, saw 10\\nSkipping line 11516: expected 5 fields, saw 18\\nSkipping line 11520: expected 5 fields, saw 35\\nSkipping line 11531: expected 5 fields, saw 16\\nSkipping line 11545: expected 5 fields, saw 41\\nSkipping line 11562: expected 5 fields, saw 42\\nSkipping line 11567: expected 5 fields, saw 24\\nSkipping line 11579: expected 5 fields, saw 38\\nSkipping line 11587: expected 5 fields, saw 15\\nSkipping line 11588: expected 5 fields, saw 17\\nSkipping line 11628: expected 5 fields, saw 38\\nSkipping line 11638: expected 5 fields, saw 23\\nSkipping line 11644: expected 5 fields, saw 22\\nSkipping line 11650: expected 5 fields, saw 11\\nSkipping line 11653: expected 5 fields, saw 25\\nSkipping line 11662: expected 5 fields, saw 17\\nSkipping line 11674: expected 5 fields, saw 19\\nSkipping line 11678: expected 5 fields, saw 15\\nSkipping line 11690: expected 5 fields, saw 34\\nSkipping line 11704: expected 5 fields, saw 62\\nSkipping line 11705: expected 5 fields, saw 31\\nSkipping line 11709: expected 5 fields, saw 7\\nSkipping line 11713: expected 5 fields, saw 17\\nSkipping line 11758: expected 5 fields, saw 49\\nSkipping line 11791: expected 5 fields, saw 32\\nSkipping line 11799: expected 5 fields, saw 27\\nSkipping line 11809: expected 5 fields, saw 15\\nSkipping line 11821: expected 5 fields, saw 17\\nSkipping line 11824: expected 5 fields, saw 25\\nSkipping line 11826: expected 5 fields, saw 22\\nSkipping line 11831: expected 5 fields, saw 32\\nSkipping line 11832: expected 5 fields, saw 39\\nSkipping line 11833: expected 5 fields, saw 7\\nSkipping line 11834: expected 5 fields, saw 16\\nSkipping line 11837: expected 5 fields, saw 76\\nSkipping line 11839: expected 5 fields, saw 52\\nSkipping line 11841: expected 5 fields, saw 28\\nSkipping line 11846: expected 5 fields, saw 11\\nSkipping line 11897: expected 5 fields, saw 7\\nSkipping line 11898: expected 5 fields, saw 119\\nSkipping line 11901: expected 5 fields, saw 52\\nSkipping line 11902: expected 5 fields, saw 7\\nSkipping line 11907: expected 5 fields, saw 96\\nSkipping line 11919: expected 5 fields, saw 9\\nSkipping line 11932: expected 5 fields, saw 39\\nSkipping line 11948: expected 5 fields, saw 30\\nSkipping line 11987: expected 5 fields, saw 39\\nSkipping line 11988: expected 5 fields, saw 78\\nSkipping line 12034: expected 5 fields, saw 23\\nSkipping line 12035: expected 5 fields, saw 29\\nSkipping line 12038: expected 5 fields, saw 46\\nSkipping line 12047: expected 5 fields, saw 54\\nSkipping line 12060: expected 5 fields, saw 46\\nSkipping line 12061: expected 5 fields, saw 20\\nSkipping line 12063: expected 5 fields, saw 48\\nSkipping line 12064: expected 5 fields, saw 71\\nSkipping line 12074: expected 5 fields, saw 31\\nSkipping line 12075: expected 5 fields, saw 33\\nSkipping line 12078: expected 5 fields, saw 15\\nSkipping line 12091: expected 5 fields, saw 53\\nSkipping line 12100: expected 5 fields, saw 46\\nSkipping line 12172: expected 5 fields, saw 73\\nSkipping line 12177: expected 5 fields, saw 80\\nSkipping line 12184: expected 5 fields, saw 121\\nSkipping line 12187: expected 5 fields, saw 87\\nSkipping line 12191: expected 5 fields, saw 35\\nSkipping line 12208: expected 5 fields, saw 33\\nSkipping line 12210: expected 5 fields, saw 31\\nSkipping line 12211: expected 5 fields, saw 119\\nSkipping line 12213: expected 5 fields, saw 26\\nSkipping line 12231: expected 5 fields, saw 27\\nSkipping line 12238: expected 5 fields, saw 58\\nSkipping line 12239: expected 5 fields, saw 48\\nSkipping line 12240: expected 5 fields, saw 42\\nSkipping line 12242: expected 5 fields, saw 27\\nSkipping line 12243: expected 5 fields, saw 44\\nSkipping line 12245: expected 5 fields, saw 52\\nSkipping line 12248: expected 5 fields, saw 48\\nSkipping line 12249: expected 5 fields, saw 28\\nSkipping line 12250: expected 5 fields, saw 58\\nSkipping line 12251: expected 5 fields, saw 72\\nSkipping line 12253: expected 5 fields, saw 30\\nSkipping line 12255: expected 5 fields, saw 75\\nSkipping line 12256: expected 5 fields, saw 49\\nSkipping line 12257: expected 5 fields, saw 48\\nSkipping line 12258: expected 5 fields, saw 57\\nSkipping line 12259: expected 5 fields, saw 60\\nSkipping line 12260: expected 5 fields, saw 69\\nSkipping line 12264: expected 5 fields, saw 51\\nSkipping line 12279: expected 5 fields, saw 50\\nSkipping line 12283: expected 5 fields, saw 68\\nSkipping line 12314: expected 5 fields, saw 15\\nSkipping line 12345: expected 5 fields, saw 52\\nSkipping line 12364: expected 5 fields, saw 71\\nSkipping line 12381: expected 5 fields, saw 23\\nSkipping line 12393: expected 5 fields, saw 46\\nSkipping line 12405: expected 5 fields, saw 32\\nSkipping line 12413: expected 5 fields, saw 6\\nSkipping line 12417: expected 5 fields, saw 54\\nSkipping line 12422: expected 5 fields, saw 134\\nSkipping line 12424: expected 5 fields, saw 152\\nSkipping line 12427: expected 5 fields, saw 121\\nSkipping line 12430: expected 5 fields, saw 92\\nSkipping line 12431: expected 5 fields, saw 33\\nSkipping line 12437: expected 5 fields, saw 148\\nSkipping line 12446: expected 5 fields, saw 14\\nSkipping line 12461: expected 5 fields, saw 40\\nSkipping line 12462: expected 5 fields, saw 159\\nSkipping line 12464: expected 5 fields, saw 178\\nSkipping line 12465: expected 5 fields, saw 56\\nSkipping line 12467: expected 5 fields, saw 94\\nSkipping line 12469: expected 5 fields, saw 57\\nSkipping line 12471: expected 5 fields, saw 120\\nSkipping line 12478: expected 5 fields, saw 125\\nSkipping line 12479: expected 5 fields, saw 80\\nSkipping line 12480: expected 5 fields, saw 116\\nSkipping line 12481: expected 5 fields, saw 54\\nSkipping line 12484: expected 5 fields, saw 35\\nSkipping line 12489: expected 5 fields, saw 36\\nSkipping line 12494: expected 5 fields, saw 7\\nSkipping line 12518: expected 5 fields, saw 48\\nSkipping line 12522: expected 5 fields, saw 25\\nSkipping line 12539: expected 5 fields, saw 80\\nSkipping line 12548: expected 5 fields, saw 72\\nSkipping line 12549: expected 5 fields, saw 38\\nSkipping line 12559: expected 5 fields, saw 43\\nSkipping line 12565: expected 5 fields, saw 26\\nSkipping line 12577: expected 5 fields, saw 138\\nSkipping line 12578: expected 5 fields, saw 35\\nSkipping line 12580: expected 5 fields, saw 74\\nSkipping line 12581: expected 5 fields, saw 19\\nSkipping line 12582: expected 5 fields, saw 77\\nSkipping line 12584: expected 5 fields, saw 62\\nSkipping line 12588: expected 5 fields, saw 20\\nSkipping line 12595: expected 5 fields, saw 62\\nSkipping line 12602: expected 5 fields, saw 61\\nSkipping line 12604: expected 5 fields, saw 19\\nSkipping line 12615: expected 5 fields, saw 26\\nSkipping line 12621: expected 5 fields, saw 30\\nSkipping line 12628: expected 5 fields, saw 69\\nSkipping line 12644: expected 5 fields, saw 100\\nSkipping line 12646: expected 5 fields, saw 132\\nSkipping line 12649: expected 5 fields, saw 97\\nSkipping line 12650: expected 5 fields, saw 144\\nSkipping line 12653: expected 5 fields, saw 75\\nSkipping line 12658: expected 5 fields, saw 49\\nSkipping line 12661: expected 5 fields, saw 44\\nSkipping line 12663: expected 5 fields, saw 104\\nSkipping line 12704: expected 5 fields, saw 16\\nSkipping line 12716: expected 5 fields, saw 25\\nSkipping line 12786: expected 5 fields, saw 57\\nSkipping line 12788: expected 5 fields, saw 34\\nSkipping line 12789: expected 5 fields, saw 42\\nSkipping line 12807: expected 5 fields, saw 34\\nSkipping line 12819: expected 5 fields, saw 153\\nSkipping line 12822: expected 5 fields, saw 30\\nSkipping line 12835: expected 5 fields, saw 23\\nSkipping line 12836: expected 5 fields, saw 89\\nSkipping line 12838: expected 5 fields, saw 31\\nSkipping line 12845: expected 5 fields, saw 45\\nSkipping line 12846: expected 5 fields, saw 45\\nSkipping line 12855: expected 5 fields, saw 15\\nSkipping line 12862: expected 5 fields, saw 12\\nSkipping line 12867: expected 5 fields, saw 28\\nSkipping line 12873: expected 5 fields, saw 82\\nSkipping line 12900: expected 5 fields, saw 46\\nSkipping line 12901: expected 5 fields, saw 169\\nSkipping line 12903: expected 5 fields, saw 116\\nSkipping line 12959: expected 5 fields, saw 51\\nSkipping line 12998: expected 5 fields, saw 61\\nSkipping line 13003: expected 5 fields, saw 26\\nSkipping line 13018: expected 5 fields, saw 99\\nSkipping line 13026: expected 5 fields, saw 45\\nSkipping line 13031: expected 5 fields, saw 18\\nSkipping line 13037: expected 5 fields, saw 63\\nSkipping line 13043: expected 5 fields, saw 42\\nSkipping line 13044: expected 5 fields, saw 16\\nSkipping line 13045: expected 5 fields, saw 22\\n'\n"
     ]
    }
   ],
   "source": [
    "df = pd.read_csv('lyrics_corpus/azlyrics_lyrics_a.csv', error_bad_lines=False)"
   ]
  },
  {
   "cell_type": "code",
   "execution_count": 4,
   "metadata": {},
   "outputs": [
    {
     "data": {
      "text/html": [
       "<div>\n",
       "<style scoped>\n",
       "    .dataframe tbody tr th:only-of-type {\n",
       "        vertical-align: middle;\n",
       "    }\n",
       "\n",
       "    .dataframe tbody tr th {\n",
       "        vertical-align: top;\n",
       "    }\n",
       "\n",
       "    .dataframe thead th {\n",
       "        text-align: right;\n",
       "    }\n",
       "</style>\n",
       "<table border=\"1\" class=\"dataframe\">\n",
       "  <thead>\n",
       "    <tr style=\"text-align: right;\">\n",
       "      <th></th>\n",
       "      <th>ARTIST_NAME</th>\n",
       "      <th>ARTIST_URL</th>\n",
       "      <th>SONG_NAME</th>\n",
       "      <th>SONG_URL</th>\n",
       "      <th>LYRICS</th>\n",
       "    </tr>\n",
       "  </thead>\n",
       "  <tbody>\n",
       "    <tr>\n",
       "      <th>0</th>\n",
       "      <td>a1</td>\n",
       "      <td>https://www.azlyrics.com/a/a1.html</td>\n",
       "      <td>forever in love</td>\n",
       "      <td>https://www.azlyrics.com/lyrics/a1/foreverinlo...</td>\n",
       "      <td>love leads to laughter, love leads to pain, wi...</td>\n",
       "    </tr>\n",
       "    <tr>\n",
       "      <th>1</th>\n",
       "      <td>a1</td>\n",
       "      <td>https://www.azlyrics.com/a/a1.html</td>\n",
       "      <td>be the first to believe</td>\n",
       "      <td>https://www.azlyrics.com/lyrics/a1/bethefirstt...</td>\n",
       "      <td>, just one on one!, that's the way we do it, b...</td>\n",
       "    </tr>\n",
       "    <tr>\n",
       "      <th>2</th>\n",
       "      <td>a1</td>\n",
       "      <td>https://www.azlyrics.com/a/a1.html</td>\n",
       "      <td>summertime of our lives</td>\n",
       "      <td>https://www.azlyrics.com/lyrics/a1/summertimeo...</td>\n",
       "      <td>summertime of our lives, summertime of our liv...</td>\n",
       "    </tr>\n",
       "    <tr>\n",
       "      <th>3</th>\n",
       "      <td>a1</td>\n",
       "      <td>https://www.azlyrics.com/a/a1.html</td>\n",
       "      <td>ready or not</td>\n",
       "      <td>https://www.azlyrics.com/lyrics/a1/readyornot....</td>\n",
       "      <td>could you love a boy, like me tonite, come on ...</td>\n",
       "    </tr>\n",
       "    <tr>\n",
       "      <th>4</th>\n",
       "      <td>a1</td>\n",
       "      <td>https://www.azlyrics.com/a/a1.html</td>\n",
       "      <td>everytime</td>\n",
       "      <td>https://www.azlyrics.com/lyrics/a1/everytime.html</td>\n",
       "      <td>lately i'm not who i used to be, someone's com...</td>\n",
       "    </tr>\n",
       "  </tbody>\n",
       "</table>\n",
       "</div>"
      ],
      "text/plain": [
       "  ARTIST_NAME                          ARTIST_URL                SONG_NAME  \\\n",
       "0          a1  https://www.azlyrics.com/a/a1.html          forever in love   \n",
       "1          a1  https://www.azlyrics.com/a/a1.html  be the first to believe   \n",
       "2          a1  https://www.azlyrics.com/a/a1.html  summertime of our lives   \n",
       "3          a1  https://www.azlyrics.com/a/a1.html             ready or not   \n",
       "4          a1  https://www.azlyrics.com/a/a1.html                everytime   \n",
       "\n",
       "                                            SONG_URL  \\\n",
       "0  https://www.azlyrics.com/lyrics/a1/foreverinlo...   \n",
       "1  https://www.azlyrics.com/lyrics/a1/bethefirstt...   \n",
       "2  https://www.azlyrics.com/lyrics/a1/summertimeo...   \n",
       "3  https://www.azlyrics.com/lyrics/a1/readyornot....   \n",
       "4  https://www.azlyrics.com/lyrics/a1/everytime.html   \n",
       "\n",
       "                                              LYRICS  \n",
       "0  love leads to laughter, love leads to pain, wi...  \n",
       "1  , just one on one!, that's the way we do it, b...  \n",
       "2  summertime of our lives, summertime of our liv...  \n",
       "3  could you love a boy, like me tonite, come on ...  \n",
       "4  lately i'm not who i used to be, someone's com...  "
      ]
     },
     "execution_count": 4,
     "metadata": {},
     "output_type": "execute_result"
    }
   ],
   "source": [
    "df.head()"
   ]
  },
  {
   "cell_type": "code",
   "execution_count": 5,
   "metadata": {},
   "outputs": [
    {
     "data": {
      "text/plain": [
       "11580"
      ]
     },
     "execution_count": 5,
     "metadata": {},
     "output_type": "execute_result"
    }
   ],
   "source": [
    "len(df)"
   ]
  },
  {
   "cell_type": "code",
   "execution_count": 17,
   "metadata": {},
   "outputs": [],
   "source": [
    "df_list = []\n",
    "\n",
    "filez=\"lyrics_corpus/azlyrics_lyrics_19.csv\"\n",
    "f = open(filez, \"r\")\n",
    "\n",
    "for line in f:\n",
    "    ind1 = line.find('\"')\n",
    "    ind2 = line.find('\"', ind1+1)\n",
    "    ind3 = line.find('\"', ind2+1)\n",
    "    ind4 = line.find('\"', ind3+1)\n",
    "    ind5 = line.find('\"', ind4+1)\n",
    "    ind6 = line.find('\"', ind5+1)\n",
    "    ind7 = line.find('\"', ind6+1)\n",
    "    ind8 = line.find('\"', ind7+1)\n",
    "    ind9 = line.find('\"', ind8+1)\n",
    "    ind10 = line.rfind('\"')\n",
    "\n",
    "    artist_name = line[ind1+1:ind2]\n",
    "    artist_url = line[ind3+1:ind4]\n",
    "    song_name = line[ind5+1:ind6]\n",
    "    song_url = line[ind7+1:ind8]\n",
    "    lyrics = line[ind9+1:ind10]\n",
    "\n",
    "    df_list.append([artist_name, artist_url, song_name, song_url, lyrics])\n",
    "\n",
    "\n",
    "l='abcdefghijklmnopqrstuvwxyz'\n",
    "for i in range(len(l)):\n",
    "    filez=\"lyrics_corpus/azlyrics_lyrics_\"+l[i]+\".csv\"\n",
    "    f = open(filez, \"r\")\n",
    "    \n",
    "    for line in f:\n",
    "        ind1 = line.find('\"')\n",
    "        ind2 = line.find('\"', ind1+1)\n",
    "        ind3 = line.find('\"', ind2+1)\n",
    "        ind4 = line.find('\"', ind3+1)\n",
    "        ind5 = line.find('\"', ind4+1)\n",
    "        ind6 = line.find('\"', ind5+1)\n",
    "        ind7 = line.find('\"', ind6+1)\n",
    "        ind8 = line.find('\"', ind7+1)\n",
    "        ind9 = line.find('\"', ind8+1)\n",
    "        ind10 = line.rfind('\"')\n",
    "\n",
    "        artist_name = line[ind1+1:ind2]\n",
    "        artist_url = line[ind3+1:ind4]\n",
    "        song_name = line[ind5+1:ind6]\n",
    "        song_url = line[ind7+1:ind8]\n",
    "        lyrics = line[ind9+1:ind10]\n",
    "        \n",
    "        df_list.append([artist_name, artist_url, song_name, song_url, lyrics])"
   ]
  },
  {
   "cell_type": "code",
   "execution_count": 18,
   "metadata": {},
   "outputs": [],
   "source": [
    "df = pd.DataFrame(df_list, columns = ['artist_name', 'artist_url', 'song_name', 'song_url', 'lyrics'])"
   ]
  },
  {
   "cell_type": "code",
   "execution_count": 19,
   "metadata": {},
   "outputs": [
    {
     "name": "stdout",
     "output_type": "stream",
     "text": [
      "149472\n"
     ]
    }
   ],
   "source": [
    "print(len(df))"
   ]
  },
  {
   "cell_type": "code",
   "execution_count": 21,
   "metadata": {},
   "outputs": [
    {
     "data": {
      "text/html": [
       "<div>\n",
       "<style scoped>\n",
       "    .dataframe tbody tr th:only-of-type {\n",
       "        vertical-align: middle;\n",
       "    }\n",
       "\n",
       "    .dataframe tbody tr th {\n",
       "        vertical-align: top;\n",
       "    }\n",
       "\n",
       "    .dataframe thead th {\n",
       "        text-align: right;\n",
       "    }\n",
       "</style>\n",
       "<table border=\"1\" class=\"dataframe\">\n",
       "  <thead>\n",
       "    <tr style=\"text-align: right;\">\n",
       "      <th></th>\n",
       "      <th>artist_name</th>\n",
       "      <th>artist_url</th>\n",
       "      <th>song_name</th>\n",
       "      <th>song_url</th>\n",
       "      <th>lyrics</th>\n",
       "    </tr>\n",
       "  </thead>\n",
       "  <tbody>\n",
       "    <tr>\n",
       "      <th>0</th>\n",
       "      <td>ARTIST_NAME</td>\n",
       "      <td>ARTIST_URL</td>\n",
       "      <td>SONG_NAME</td>\n",
       "      <td>SONG_URL</td>\n",
       "      <td>LYRICS</td>\n",
       "    </tr>\n",
       "    <tr>\n",
       "      <th>1</th>\n",
       "      <td>03 greedo</td>\n",
       "      <td>https://www.azlyrics.com/19/03greedo.html</td>\n",
       "      <td>sweet lady</td>\n",
       "      <td>https://www.azlyrics.com/lyrics/03greedo/sweet...</td>\n",
       "      <td>its only one, 03, i'm from grape street, where...</td>\n",
       "    </tr>\n",
       "    <tr>\n",
       "      <th>2</th>\n",
       "      <td>03 greedo</td>\n",
       "      <td>https://www.azlyrics.com/19/03greedo.html</td>\n",
       "      <td>mafia business</td>\n",
       "      <td>https://www.azlyrics.com/lyrics/03greedo/mafia...</td>\n",
       "      <td>you gonna make me put you in a suit and tie, s...</td>\n",
       "    </tr>\n",
       "    <tr>\n",
       "      <th>3</th>\n",
       "      <td>03 greedo</td>\n",
       "      <td>https://www.azlyrics.com/19/03greedo.html</td>\n",
       "      <td>paranoid</td>\n",
       "      <td>https://www.azlyrics.com/lyrics/03greedo/paran...</td>\n",
       "      <td>we could kill it, yeah, we could, we could, we...</td>\n",
       "    </tr>\n",
       "    <tr>\n",
       "      <th>4</th>\n",
       "      <td>03 greedo</td>\n",
       "      <td>https://www.azlyrics.com/19/03greedo.html</td>\n",
       "      <td>never bend</td>\n",
       "      <td>https://www.azlyrics.com/lyrics/03greedo/never...</td>\n",
       "      <td>yeah, you lil bitch ass niggas steady speaking...</td>\n",
       "    </tr>\n",
       "    <tr>\n",
       "      <th>...</th>\n",
       "      <td>...</td>\n",
       "      <td>...</td>\n",
       "      <td>...</td>\n",
       "      <td>...</td>\n",
       "      <td>...</td>\n",
       "    </tr>\n",
       "    <tr>\n",
       "      <th>149467</th>\n",
       "      <td>zug izland</td>\n",
       "      <td>https://www.azlyrics.com/z/zugizland.html</td>\n",
       "      <td>cry</td>\n",
       "      <td>https://www.azlyrics.com/lyrics/zugizland/cry....</td>\n",
       "      <td>our fire will rise, ringmaster's eyes, funhous...</td>\n",
       "    </tr>\n",
       "    <tr>\n",
       "      <th>149468</th>\n",
       "      <td>zug izland</td>\n",
       "      <td>https://www.azlyrics.com/z/zugizland.html</td>\n",
       "      <td>suicide</td>\n",
       "      <td>https://www.azlyrics.com/lyrics/zugizland/suic...</td>\n",
       "      <td>hey there killer, where you goin'?, i see you ...</td>\n",
       "    </tr>\n",
       "    <tr>\n",
       "      <th>149469</th>\n",
       "      <td>zug izland</td>\n",
       "      <td>https://www.azlyrics.com/z/zugizland.html</td>\n",
       "      <td>i found you</td>\n",
       "      <td>https://www.azlyrics.com/lyrics/zugizland/ifou...</td>\n",
       "      <td>life was shitty, can't call it, my karmas, bee...</td>\n",
       "    </tr>\n",
       "    <tr>\n",
       "      <th>149470</th>\n",
       "      <td>zug izland</td>\n",
       "      <td>https://www.azlyrics.com/z/zugizland.html</td>\n",
       "      <td>twilight zone</td>\n",
       "      <td>https://www.azlyrics.com/lyrics/zugizland/twil...</td>\n",
       "      <td>somewhere in a lonely hotel room, there's a gu...</td>\n",
       "    </tr>\n",
       "    <tr>\n",
       "      <th>149471</th>\n",
       "      <td>zug izland</td>\n",
       "      <td>https://www.azlyrics.com/z/zugizland.html</td>\n",
       "      <td>cry (acoustic)</td>\n",
       "      <td>https://www.azlyrics.com/lyrics/zugizland/crya...</td>\n",
       "      <td>our fire will rise, ringmaster's eyes, funhous...</td>\n",
       "    </tr>\n",
       "  </tbody>\n",
       "</table>\n",
       "<p>149472 rows × 5 columns</p>\n",
       "</div>"
      ],
      "text/plain": [
       "        artist_name                                 artist_url  \\\n",
       "0       ARTIST_NAME                                 ARTIST_URL   \n",
       "1         03 greedo  https://www.azlyrics.com/19/03greedo.html   \n",
       "2         03 greedo  https://www.azlyrics.com/19/03greedo.html   \n",
       "3         03 greedo  https://www.azlyrics.com/19/03greedo.html   \n",
       "4         03 greedo  https://www.azlyrics.com/19/03greedo.html   \n",
       "...             ...                                        ...   \n",
       "149467   zug izland  https://www.azlyrics.com/z/zugizland.html   \n",
       "149468   zug izland  https://www.azlyrics.com/z/zugizland.html   \n",
       "149469   zug izland  https://www.azlyrics.com/z/zugizland.html   \n",
       "149470   zug izland  https://www.azlyrics.com/z/zugizland.html   \n",
       "149471   zug izland  https://www.azlyrics.com/z/zugizland.html   \n",
       "\n",
       "             song_name                                           song_url  \\\n",
       "0            SONG_NAME                                           SONG_URL   \n",
       "1           sweet lady  https://www.azlyrics.com/lyrics/03greedo/sweet...   \n",
       "2       mafia business  https://www.azlyrics.com/lyrics/03greedo/mafia...   \n",
       "3             paranoid  https://www.azlyrics.com/lyrics/03greedo/paran...   \n",
       "4           never bend  https://www.azlyrics.com/lyrics/03greedo/never...   \n",
       "...                ...                                                ...   \n",
       "149467             cry  https://www.azlyrics.com/lyrics/zugizland/cry....   \n",
       "149468         suicide  https://www.azlyrics.com/lyrics/zugizland/suic...   \n",
       "149469     i found you  https://www.azlyrics.com/lyrics/zugizland/ifou...   \n",
       "149470   twilight zone  https://www.azlyrics.com/lyrics/zugizland/twil...   \n",
       "149471  cry (acoustic)  https://www.azlyrics.com/lyrics/zugizland/crya...   \n",
       "\n",
       "                                                   lyrics  \n",
       "0                                                  LYRICS  \n",
       "1       its only one, 03, i'm from grape street, where...  \n",
       "2       you gonna make me put you in a suit and tie, s...  \n",
       "3       we could kill it, yeah, we could, we could, we...  \n",
       "4       yeah, you lil bitch ass niggas steady speaking...  \n",
       "...                                                   ...  \n",
       "149467  our fire will rise, ringmaster's eyes, funhous...  \n",
       "149468  hey there killer, where you goin'?, i see you ...  \n",
       "149469  life was shitty, can't call it, my karmas, bee...  \n",
       "149470  somewhere in a lonely hotel room, there's a gu...  \n",
       "149471  our fire will rise, ringmaster's eyes, funhous...  \n",
       "\n",
       "[149472 rows x 5 columns]"
      ]
     },
     "execution_count": 21,
     "metadata": {},
     "output_type": "execute_result"
    }
   ],
   "source": [
    "df"
   ]
  },
  {
   "cell_type": "code",
   "execution_count": 22,
   "metadata": {},
   "outputs": [
    {
     "name": "stdout",
     "output_type": "stream",
     "text": [
      ", without love, lost in the darkness, without love, looking for light, without love, everlasting night, without love, ayy, look, ayy, should i serve him, should i rob him?, you know the plug, always gave me problems, should i serve 'em, should i rob him?, pop his top, medulla oblongata, yeah, should i serve 'em, should i rob him, yeah, oh the plug, he always give me problems, serve him a what, rob him for that, serve him for that, yeah, mama told me, maxo you a heathen, on the corner, crippin' with them demons, yeah, triple double, never double teamin', ayy, brocolli lettuce, trappin' like a vegan, i call the plug, but he don't wanna pick up, i'm not a bug, bitch i'm tryna pick up, ayy, stash of drugs in the f-150 pickup, ayy, sippin' mud, bitch i got the hiccups, whoa, watch me make a play from my tub like a reverend, watch me stick a pussy nigga up like a tampon, i was thirteen when i caught my fifty-two, pourin' whole things in the crip mountain dew, ayy, big homie, i don't fuck with new crips, catch me groovin', like five holdin' two fifths, ayy, should i serve him, should i rob him?, you know the plug, always gave me problems, maxo bring the lean, greedo bring the green, hanging like some oranges and some grapes, bring down with a leaf, plug for the drugs, hit the kitchen if you whip it up, bring it back, bring it back, while receive the pack, green from the bay, the yay area, like where i'm at, fiends where i stay, skate across the map, hit the h-town, maxo got the strap, rounds loaded, don't get clapped, greedo got the mac, cheese on niggas scalp, ooh, peel off like a scab, low-lows ain't the swag, foreign do the dash, purple in my rag, all i blew is cash, pop a xan and stash, pop a xan a batch, lost him in a flash, should i rob him, should i serve him?, fuck it, i just popped him, now i'm swervin', me and my bitches cock it for that lurker, can't be no accomplice to a murder, ayy, should i rob him, should i serve him?, should i rob him, should i serve him?, should i rob him, should i serve him?, should i rob him, should i serve him?, ayy, look, ayy, should i serve him, should i rob him?, you know the plug, always gave me problems, should i serve 'em, should i rob him?, pop his top, medulla oblongata, yeah, should i serve 'em, should i rob him, yeah, oh the plug, he always give me problems, serve him a what, rob him for that, serve him for that, yeah\n"
     ]
    }
   ],
   "source": [
    "print(df.iloc[97][4])"
   ]
  },
  {
   "cell_type": "code",
   "execution_count": 23,
   "metadata": {},
   "outputs": [],
   "source": [
    "df.to_csv(\"combined_lyrics.csv\")"
   ]
  },
  {
   "cell_type": "code",
   "execution_count": 24,
   "metadata": {},
   "outputs": [
    {
     "data": {
      "text/plain": [
       "artist_name                                              6ix9ine\n",
       "artist_url              https://www.azlyrics.com/19/6ix9ine.html\n",
       "song_name                                                  mooky\n",
       "song_url       https://www.azlyrics.com/lyrics/6ix9ine/mooky....\n",
       "lyrics         stomp that nigga out, stomp that nigga out, st...\n",
       "Name: 93, dtype: object"
      ]
     },
     "execution_count": 24,
     "metadata": {},
     "output_type": "execute_result"
    }
   ],
   "source": [
    "df.iloc[93]"
   ]
  }
 ],
 "metadata": {
  "kernelspec": {
   "display_name": "Python 3",
   "language": "python",
   "name": "python3"
  },
  "language_info": {
   "codemirror_mode": {
    "name": "ipython",
    "version": 3
   },
   "file_extension": ".py",
   "mimetype": "text/x-python",
   "name": "python",
   "nbconvert_exporter": "python",
   "pygments_lexer": "ipython3",
   "version": "3.8.5"
  }
 },
 "nbformat": 4,
 "nbformat_minor": 4
}
