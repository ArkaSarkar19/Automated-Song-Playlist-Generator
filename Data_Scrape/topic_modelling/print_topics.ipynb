{
 "cells": [
  {
   "cell_type": "code",
   "execution_count": 1,
   "metadata": {},
   "outputs": [],
   "source": [
    "import pickle\n",
    "import gensim\n",
    "from nltk.corpus import stopwords "
   ]
  },
  {
   "cell_type": "code",
   "execution_count": 2,
   "metadata": {},
   "outputs": [],
   "source": [
    "lda_model =  gensim.models.LdaModel.load('lda_Model_topics_20')"
   ]
  },
  {
   "cell_type": "code",
   "execution_count": 3,
   "metadata": {},
   "outputs": [
    {
     "name": "stdout",
     "output_type": "stream",
     "text": [
      "[(0, '0.054*\"solo\" + 0.036*\"piÃ¹\" + 0.034*\"quando\" + 0.022*\"sempr\" + 0.022*\"senza\" + 0.020*\"tempo\" + 0.018*\"ancora\" + 0.017*\"dentro\" + 0.017*\"cosa\" + 0.017*\"vita\"'), (1, '0.089*\"world\" + 0.058*\"sing\" + 0.054*\"song\" + 0.051*\"live\" + 0.041*\"peopl\" + 0.028*\"togeth\" + 0.026*\"bring\" + 0.025*\"hear\" + 0.024*\"shine\" + 0.024*\"stand\"'), (2, '0.074*\"time\" + 0.054*\"feel\" + 0.050*\"wanna\" + 0.049*\"girl\" + 0.048*\"know\" + 0.042*\"make\" + 0.041*\"take\" + 0.037*\"right\" + 0.032*\"good\" + 0.031*\"tell\"'), (3, '0.055*\"littl\" + 0.029*\"ride\" + 0.022*\"star\" + 0.022*\"water\" + 0.018*\"like\" + 0.015*\"sweet\" + 0.014*\"wild\" + 0.013*\"river\" + 0.012*\"white\" + 0.012*\"child\"'), (4, '0.211*\"heart\" + 0.082*\"break\" + 0.041*\"beat\" + 0.033*\"anoth\" + 0.033*\"apart\" + 0.031*\"tear\" + 0.030*\"broken\" + 0.016*\"part\" + 0.012*\"woah\" + 0.011*\"toujour\"'), (5, '0.039*\"like\" + 0.017*\"this\" + 0.017*\"nigga\" + 0.014*\"shit\" + 0.013*\"fuck\" + 0.013*\"rock\" + 0.011*\"back\" + 0.011*\"caus\" + 0.009*\"money\" + 0.008*\"roll\"'), (6, '0.042*\"know\" + 0.038*\"would\" + 0.034*\"never\" + 0.026*\"could\" + 0.022*\"think\" + 0.020*\"thing\" + 0.018*\"like\" + 0.016*\"this\" + 0.015*\"said\" + 0.013*\"look\"'), (7, '0.229*\"want\" + 0.058*\"around\" + 0.046*\"turn\" + 0.042*\"move\" + 0.041*\"play\" + 0.033*\"like\" + 0.032*\"round\" + 0.031*\"make\" + 0.025*\"free\" + 0.018*\"easi\"'), (8, '0.157*\"yeah\" + 0.149*\"babi\" + 0.032*\"gotta\" + 0.025*\"well\" + 0.019*\"know\" + 0.017*\"shake\" + 0.017*\"gonna\" + 0.017*\"like\" + 0.016*\"crazi\" + 0.015*\"woman\"'), (9, '0.053*\"cest\" + 0.039*\"tout\" + 0.034*\"plus\" + 0.032*\"comm\" + 0.025*\"nous\" + 0.021*\"quand\" + 0.017*\"refrain\" + 0.017*\"fait\" + 0.016*\"bien\" + 0.016*\"rien\"'), (10, '0.037*\"fÃ¼r\" + 0.033*\"mehr\" + 0.027*\"immer\" + 0.022*\"bang\" + 0.022*\"schon\" + 0.021*\"lang\" + 0.021*\"lieb\" + 0.020*\"leben\" + 0.020*\"sunday\" + 0.019*\"zeit\"'), (11, '0.016*\"hand\" + 0.013*\"land\" + 0.012*\"rise\" + 0.011*\"earth\" + 0.011*\"must\" + 0.010*\"mother\" + 0.009*\"father\" + 0.009*\"brother\" + 0.008*\"power\" + 0.007*\"shall\"'), (12, '0.202*\"gonna\" + 0.117*\"night\" + 0.107*\"tonight\" + 0.096*\"danc\" + 0.058*\"alright\" + 0.043*\"light\" + 0.023*\"parti\" + 0.014*\"jump\" + 0.013*\"tight\" + 0.011*\"sleep\"'), (13, '0.135*\"beauti\" + 0.083*\"till\" + 0.081*\"talk\" + 0.052*\"christma\" + 0.026*\"nacht\" + 0.025*\"glad\" + 0.020*\"hero\" + 0.020*\"liar\" + 0.017*\"special\" + 0.016*\"fÃ¶r\"'), (14, '0.049*\"this\" + 0.026*\"life\" + 0.017*\"feel\" + 0.016*\"time\" + 0.014*\"fall\" + 0.013*\"insid\" + 0.013*\"take\" + 0.011*\"live\" + 0.011*\"mind\" + 0.010*\"away\"'), (15, '0.035*\"amor\" + 0.022*\"vida\" + 0.019*\"quiero\" + 0.015*\"nÃ£o\" + 0.015*\"mÃ¡s\" + 0.010*\"nunca\" + 0.010*\"siempr\" + 0.009*\"tiempo\" + 0.008*\"estÃ¡\" + 0.008*\"corazÃ³n\"'), (16, '0.050*\"fire\" + 0.045*\"burn\" + 0.042*\"lord\" + 0.039*\"soul\" + 0.035*\"heaven\" + 0.025*\"save\" + 0.023*\"angel\" + 0.021*\"hell\" + 0.017*\"pray\" + 0.017*\"flame\"'), (17, '0.035*\"dead\" + 0.032*\"kill\" + 0.024*\"head\" + 0.022*\"black\" + 0.022*\"blood\" + 0.016*\"fight\" + 0.014*\"hate\" + 0.013*\"lyric\" + 0.013*\"readi\" + 0.013*\"death\"'), (18, '0.034*\"away\" + 0.028*\"home\" + 0.020*\"long\" + 0.020*\"night\" + 0.019*\"walk\" + 0.019*\"gone\" + 0.018*\"back\" + 0.015*\"wait\" + 0.015*\"rain\" + 0.015*\"blue\"'), (19, '0.274*\"love\" + 0.047*\"need\" + 0.038*\"give\" + 0.029*\"know\" + 0.024*\"heart\" + 0.018*\"hold\" + 0.016*\"believ\" + 0.015*\"feel\" + 0.015*\"true\" + 0.013*\"kiss\"')]\n"
     ]
    }
   ],
   "source": [
    "print(lda_model.print_topics())"
   ]
  },
  {
   "cell_type": "code",
   "execution_count": 4,
   "metadata": {},
   "outputs": [],
   "source": [
    "import tabulate"
   ]
  },
  {
   "cell_type": "code",
   "execution_count": 5,
   "metadata": {},
   "outputs": [
    {
     "name": "stdout",
     "output_type": "stream",
     "text": [
      "Topic 1: 0.054*\"solo\" + 0.036*\"piÃ¹\" + 0.034*\"quando\" + 0.022*\"sempr\" + 0.022*\"senza\" + 0.020*\"tempo\" + 0.018*\"ancora\" + 0.017*\"dentro\" + 0.017*\"cosa\" + 0.017*\"vita\"\n",
      "Topic 2: 0.089*\"world\" + 0.058*\"sing\" + 0.054*\"song\" + 0.051*\"live\" + 0.041*\"peopl\" + 0.028*\"togeth\" + 0.026*\"bring\" + 0.025*\"hear\" + 0.024*\"shine\" + 0.024*\"stand\"\n",
      "Topic 3: 0.074*\"time\" + 0.054*\"feel\" + 0.050*\"wanna\" + 0.049*\"girl\" + 0.048*\"know\" + 0.042*\"make\" + 0.041*\"take\" + 0.037*\"right\" + 0.032*\"good\" + 0.031*\"tell\"\n",
      "Topic 4: 0.055*\"littl\" + 0.029*\"ride\" + 0.022*\"star\" + 0.022*\"water\" + 0.018*\"like\" + 0.015*\"sweet\" + 0.014*\"wild\" + 0.013*\"river\" + 0.012*\"white\" + 0.012*\"child\"\n",
      "Topic 5: 0.211*\"heart\" + 0.082*\"break\" + 0.041*\"beat\" + 0.033*\"anoth\" + 0.033*\"apart\" + 0.031*\"tear\" + 0.030*\"broken\" + 0.016*\"part\" + 0.012*\"woah\" + 0.011*\"toujour\"\n",
      "Topic 6: 0.039*\"like\" + 0.017*\"this\" + 0.017*\"nigga\" + 0.014*\"shit\" + 0.013*\"fuck\" + 0.013*\"rock\" + 0.011*\"back\" + 0.011*\"caus\" + 0.009*\"money\" + 0.008*\"roll\"\n",
      "Topic 7: 0.042*\"know\" + 0.038*\"would\" + 0.034*\"never\" + 0.026*\"could\" + 0.022*\"think\" + 0.020*\"thing\" + 0.018*\"like\" + 0.016*\"this\" + 0.015*\"said\" + 0.013*\"look\"\n",
      "Topic 8: 0.229*\"want\" + 0.058*\"around\" + 0.046*\"turn\" + 0.042*\"move\" + 0.041*\"play\" + 0.033*\"like\" + 0.032*\"round\" + 0.031*\"make\" + 0.025*\"free\" + 0.018*\"easi\"\n",
      "Topic 9: 0.157*\"yeah\" + 0.149*\"babi\" + 0.032*\"gotta\" + 0.025*\"well\" + 0.019*\"know\" + 0.017*\"shake\" + 0.017*\"gonna\" + 0.017*\"like\" + 0.016*\"crazi\" + 0.015*\"woman\"\n",
      "Topic 10: 0.053*\"cest\" + 0.039*\"tout\" + 0.034*\"plus\" + 0.032*\"comm\" + 0.025*\"nous\" + 0.021*\"quand\" + 0.017*\"refrain\" + 0.017*\"fait\" + 0.016*\"bien\" + 0.016*\"rien\"\n",
      "Topic 11: 0.037*\"fÃ¼r\" + 0.033*\"mehr\" + 0.027*\"immer\" + 0.022*\"bang\" + 0.022*\"schon\" + 0.021*\"lang\" + 0.021*\"lieb\" + 0.020*\"leben\" + 0.020*\"sunday\" + 0.019*\"zeit\"\n",
      "Topic 12: 0.016*\"hand\" + 0.013*\"land\" + 0.012*\"rise\" + 0.011*\"earth\" + 0.011*\"must\" + 0.010*\"mother\" + 0.009*\"father\" + 0.009*\"brother\" + 0.008*\"power\" + 0.007*\"shall\"\n",
      "Topic 13: 0.202*\"gonna\" + 0.117*\"night\" + 0.107*\"tonight\" + 0.096*\"danc\" + 0.058*\"alright\" + 0.043*\"light\" + 0.023*\"parti\" + 0.014*\"jump\" + 0.013*\"tight\" + 0.011*\"sleep\"\n",
      "Topic 14: 0.135*\"beauti\" + 0.083*\"till\" + 0.081*\"talk\" + 0.052*\"christma\" + 0.026*\"nacht\" + 0.025*\"glad\" + 0.020*\"hero\" + 0.020*\"liar\" + 0.017*\"special\" + 0.016*\"fÃ¶r\"\n",
      "Topic 15: 0.049*\"this\" + 0.026*\"life\" + 0.017*\"feel\" + 0.016*\"time\" + 0.014*\"fall\" + 0.013*\"insid\" + 0.013*\"take\" + 0.011*\"live\" + 0.011*\"mind\" + 0.010*\"away\"\n",
      "Topic 16: 0.035*\"amor\" + 0.022*\"vida\" + 0.019*\"quiero\" + 0.015*\"nÃ£o\" + 0.015*\"mÃ¡s\" + 0.010*\"nunca\" + 0.010*\"siempr\" + 0.009*\"tiempo\" + 0.008*\"estÃ¡\" + 0.008*\"corazÃ³n\"\n",
      "Topic 17: 0.050*\"fire\" + 0.045*\"burn\" + 0.042*\"lord\" + 0.039*\"soul\" + 0.035*\"heaven\" + 0.025*\"save\" + 0.023*\"angel\" + 0.021*\"hell\" + 0.017*\"pray\" + 0.017*\"flame\"\n",
      "Topic 18: 0.035*\"dead\" + 0.032*\"kill\" + 0.024*\"head\" + 0.022*\"black\" + 0.022*\"blood\" + 0.016*\"fight\" + 0.014*\"hate\" + 0.013*\"lyric\" + 0.013*\"readi\" + 0.013*\"death\"\n",
      "Topic 19: 0.034*\"away\" + 0.028*\"home\" + 0.020*\"long\" + 0.020*\"night\" + 0.019*\"walk\" + 0.019*\"gone\" + 0.018*\"back\" + 0.015*\"wait\" + 0.015*\"rain\" + 0.015*\"blue\"\n",
      "Topic 20: 0.274*\"love\" + 0.047*\"need\" + 0.038*\"give\" + 0.029*\"know\" + 0.024*\"heart\" + 0.018*\"hold\" + 0.016*\"believ\" + 0.015*\"feel\" + 0.015*\"true\" + 0.013*\"kiss\"\n"
     ]
    }
   ],
   "source": [
    "topics = []\n",
    "list1 = list(lda_model.print_topics())\n",
    "# print(list1)\n",
    "for i in range(len(list1)):\n",
    "#     print(list1[i][1])\n",
    "    topics.append(list1[i][1])\n",
    "for i in range(len(topics)):\n",
    "    print(\"Topic \" + str(i+1) + \":\", topics[i])\n",
    "# print(topics)\n",
    "# table = tabulate.tabulate(topics)\n",
    "# print(table)    "
   ]
  },
  {
   "cell_type": "code",
   "execution_count": null,
   "metadata": {},
   "outputs": [],
   "source": []
  }
 ],
 "metadata": {
  "kernelspec": {
   "display_name": "Python 3",
   "language": "python",
   "name": "python3"
  },
  "language_info": {
   "codemirror_mode": {
    "name": "ipython",
    "version": 3
   },
   "file_extension": ".py",
   "mimetype": "text/x-python",
   "name": "python",
   "nbconvert_exporter": "python",
   "pygments_lexer": "ipython3",
   "version": "3.8.2"
  }
 },
 "nbformat": 4,
 "nbformat_minor": 4
}
