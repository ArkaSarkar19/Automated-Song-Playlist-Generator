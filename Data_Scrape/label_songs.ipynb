{
 "cells": [
  {
   "cell_type": "code",
   "execution_count": 1,
   "metadata": {},
   "outputs": [],
   "source": [
    "import pickle\n",
    "import spotipy\n",
    "from spotipy.oauth2 import SpotifyClientCredentials\n",
    "\n",
    "sp = spotipy.Spotify(auth_manager=SpotifyClientCredentials(client_id=\"f053486a0d364fe09c5bddf49fc4657e\",\n",
    "                                                           client_secret=\"701cacd9264046d7889ab46f6f7610a9\"))\n"
   ]
  },
  {
   "cell_type": "code",
   "execution_count": 2,
   "metadata": {},
   "outputs": [
    {
     "name": "stdout",
     "output_type": "stream",
     "text": [
      "169\n"
     ]
    }
   ],
   "source": [
    "f = open(\"Playlist_properties/playlist_ids.txt\" ,\"r\")\n",
    "\n",
    "playlist_list = []\n",
    "for line in f:\n",
    "    playlist_id, x, y = line.split() \n",
    "    playlist_list.append(playlist_id)\n",
    "f.close()\n",
    "\n",
    "f = open(\"Playlist_properties/playlist_names.txt\" ,\"r\")\n",
    "dict_ = open(\"Pickle_Files/Msd_id_to_spotify_id.pkl\", \"rb\")\n",
    "dict_ = pickle.load(dict_)\n",
    "dict_ = dict(map(reversed, dict_.items()))\n",
    "f.close()\n",
    "\n",
    "print(len(playlist_list))\n",
    "\n"
   ]
  },
  {
   "cell_type": "code",
   "execution_count": 6,
   "metadata": {},
   "outputs": [],
   "source": [
    "main_dict = {}\n",
    "for i in range(len(playlist_list)):\n",
    "    playlist_id = playlist_list[i]\n",
    "    offset = 0\n",
    "    count = 0\n",
    "    song_ids = set()\n",
    "    while(1):\n",
    "        results1 = sp.playlist_items(playlist_id, offset = offset, limit = 100)\n",
    "        if(len(results1['items']) == 0):\n",
    "            break\n",
    "        for j in range(len(results1['items'])):\n",
    "            try:\n",
    "                song_id = results1['items'][j]['track']['id']\n",
    "                if(song_id in dict_):\n",
    "                    count+=1\n",
    "                    song_ids.add(song_id)\n",
    "            except:\n",
    "                continue\n",
    "        offset += len(results1['items'])\n",
    "    song_ids = list(song_ids)\n",
    "    \n",
    "    for song_id in song_ids:\n",
    "        if song_id not in main_dict:\n",
    "            main_dict[song_id] = []\n",
    "        main_dict[song_id].append(i)\n",
    "\n",
    "# print(main_dict)\n"
   ]
  },
  {
   "cell_type": "code",
   "execution_count": 7,
   "metadata": {},
   "outputs": [
    {
     "name": "stdout",
     "output_type": "stream",
     "text": [
      "11170\n"
     ]
    }
   ],
   "source": [
    "print(len(main_dict))"
   ]
  },
  {
   "cell_type": "code",
   "execution_count": 8,
   "metadata": {},
   "outputs": [],
   "source": [
    "f = open(\"Pickle_Files/songs_to_playlist_mapping.pkl\", \"wb\")\n",
    "pickle.dump(main_dict, f)\n",
    "f.close()"
   ]
  },
  {
   "cell_type": "code",
   "execution_count": 17,
   "metadata": {},
   "outputs": [
    {
     "name": "stdout",
     "output_type": "stream",
     "text": [
      "[[165], [79], [15], [168], [30, 133], [83], [42], [81], [121], [68, 116, 123, 149, 159, 163]]\n",
      "               sp_song_id  danceability  energy  key  loudness  mode  \\\n",
      "0  6edQfeOlqbGteYixpJl3Sm         0.857   0.602   10    -8.311     1   \n",
      "1  5Oe7wHPL4hdEXeF4AOayCi         0.322   0.990    8    -1.785     1   \n",
      "2  6i1uWZYWabNHq2wQnoca58         0.666   0.884    9    -5.243     0   \n",
      "3  4BzBtS6PBreni5hNPo2hos         0.609   0.578    9    -7.081     1   \n",
      "4  0GvhHQbWSnGltjl0je61dI         0.699   0.514    4   -12.610     1   \n",
      "5  6O7EzXOn357WgLAtmvgQf7         0.299   0.732    5   -10.153     1   \n",
      "6  3aBmJTZu5qHBKGORCq0V5K         0.564   0.856    1    -4.443     1   \n",
      "7  6gHxKXy1f3QinBJQngJ2iN         0.240   0.968    0    -3.669     0   \n",
      "8  32I2RrdW8fNV8wsga26PFt         0.787   0.783   10    -4.135     1   \n",
      "9  73etijhz7pV4Wx7GTANLpq         0.332   0.371    4    -9.884     1   \n",
      "\n",
      "   speechiness  acousticness  instrumentalness  liveness  ...  lda_topic_11  \\\n",
      "0       0.0290      0.489000          0.024400    0.3170  ...      0.000000   \n",
      "1       0.1710      0.000044          0.417000    0.0366  ...      0.000000   \n",
      "2       0.0429      0.506000          0.006120    0.0408  ...      0.000000   \n",
      "3       0.0414      0.296000          0.000000    0.1500  ...      0.000000   \n",
      "4       0.0315      0.587000          0.029000    0.2200  ...      0.000000   \n",
      "5       0.0518      0.011300          0.000002    0.0829  ...      0.000000   \n",
      "6       0.0364      0.207000          0.000390    0.1730  ...      0.000000   \n",
      "7       0.1090      0.000996          0.000106    0.1190  ...      0.000000   \n",
      "8       0.0435      0.209000          0.000002    0.0357  ...      0.138304   \n",
      "9       0.0396      0.729000          0.000210    0.1760  ...      0.000000   \n",
      "\n",
      "   lda_topic_12  lda_topic_13 lda_topic_14  lda_topic_15  lda_topic_16  \\\n",
      "0      0.022993      0.000000     0.122078      0.000000      0.000000   \n",
      "1      0.000000      0.163142     0.022999      0.000000      0.144614   \n",
      "2      0.000000      0.000000     0.000000      0.000000      0.000000   \n",
      "3      0.000000      0.511716     0.084905      0.000000      0.000000   \n",
      "4      0.000000      0.000000     0.401954      0.000000      0.000000   \n",
      "5      0.000000      0.290065     0.000000      0.000000      0.000000   \n",
      "6      0.016285      0.000000     0.000000      0.528888      0.000000   \n",
      "7      0.000000      0.000000     0.000000      0.000000      0.000000   \n",
      "8      0.000000      0.000000     0.000000      0.310025      0.000000   \n",
      "9      0.000000      0.000000     0.000000      0.000000      0.173660   \n",
      "\n",
      "   lda_topic_17  lda_topic_18  lda_topic_19                      Playlists  \n",
      "0      0.000000      0.081108      0.386042                          [165]  \n",
      "1      0.187207      0.000000      0.000000                           [79]  \n",
      "2      0.000000      0.000000      0.582131                           [15]  \n",
      "3      0.000000      0.115004      0.108140                          [168]  \n",
      "4      0.000000      0.000000      0.000000                      [30, 133]  \n",
      "5      0.000000      0.118786      0.000000                           [83]  \n",
      "6      0.000000      0.262464      0.000000                           [42]  \n",
      "7      0.000000      0.000000      0.252792                           [81]  \n",
      "8      0.000000      0.000000      0.469292                          [121]  \n",
      "9      0.088281      0.183115      0.511763  [68, 116, 123, 149, 159, 163]  \n",
      "\n",
      "[10 rows x 36 columns]\n"
     ]
    }
   ],
   "source": [
    "import pandas as pd\n",
    "df = pd.read_csv(\"Dataset/unlabelled_song_features_and_lda_topics.csv\")\n",
    "# print(df[:10])\n",
    "new_column = []\n",
    "for i in df.index:\n",
    "    song_id = df['sp_song_id'][i]\n",
    "    new_column.append(main_dict[song_id])\n",
    "print(new_column[:10])\n",
    "# print(len(new_column))\n",
    "df[\"Playlists\"] = new_column\n",
    "\n",
    "# print(df[:10])\n",
    "df.to_csv(\"Dataset/Updated_dataset.csv\", inde)\n"
   ]
  },
  {
   "cell_type": "code",
   "execution_count": null,
   "metadata": {},
   "outputs": [],
   "source": []
  }
 ],
 "metadata": {
  "kernelspec": {
   "display_name": "Python 3",
   "language": "python",
   "name": "python3"
  },
  "language_info": {
   "codemirror_mode": {
    "name": "ipython",
    "version": 3
   },
   "file_extension": ".py",
   "mimetype": "text/x-python",
   "name": "python",
   "nbconvert_exporter": "python",
   "pygments_lexer": "ipython3",
   "version": "3.8.2"
  }
 },
 "nbformat": 4,
 "nbformat_minor": 4
}
