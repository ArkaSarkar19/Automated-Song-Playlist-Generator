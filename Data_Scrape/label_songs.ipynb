{
 "cells": [
  {
   "cell_type": "code",
   "execution_count": null,
   "metadata": {},
   "outputs": [],
   "source": [
    "import pickle\n",
    "import spotipy\n",
    "from spotipy.oauth2 import SpotifyClientCredentials\n",
    "\n",
    "sp = spotipy.Spotify(auth_manager=SpotifyClientCredentials(client_id=\"f053486a0d364fe09c5bddf49fc4657e\",\n",
    "                                                           client_secret=\"701cacd9264046d7889ab46f6f7610a9\"))\n"
   ]
  },
  {
   "cell_type": "code",
   "execution_count": null,
   "metadata": {},
   "outputs": [],
   "source": [
    "f = open(\"Playlist_properties/playlist_ids.txt\" ,\"r\")\n",
    "\n",
    "playlist_list = []\n",
    "for line in f:\n",
    "    playlist_id, x, y = line.split() \n",
    "    playlist_list.append(playlist_id)\n",
    "f.close()\n",
    "\n",
    "f = open(\"Playlist_properties/playlist_names.txt\" ,\"r\")\n",
    "dict_ = open(\"Pickle_Files/Msd_id_to_spotify_id.pkl\", \"rb\")\n",
    "dict_ = pickle.load(dict_)\n",
    "dict_ = dict(map(reversed, dict_.items()))\n",
    "f.close()\n",
    "\n",
    "print(len(playlist_list))\n",
    "\n"
   ]
  },
  {
   "cell_type": "code",
   "execution_count": null,
   "metadata": {},
   "outputs": [],
   "source": [
    "main_dict = {}\n",
    "for i in range(len(playlist_list)):\n",
    "    playlist_id = playlist_list[i]\n",
    "    offset = 0\n",
    "    count = 0\n",
    "    song_ids = set()\n",
    "    while(1):\n",
    "        results1 = sp.playlist_items(playlist_id, offset = offset, limit = 100)\n",
    "        if(len(results1['items']) == 0):\n",
    "            break\n",
    "        for j in range(len(results1['items'])):\n",
    "            try:\n",
    "                song_id = results1['items'][j]['track']['id']\n",
    "                if(song_id in dict_):\n",
    "                    count+=1\n",
    "                    song_ids.add(song_id)\n",
    "            except:\n",
    "                continue\n",
    "        offset += len(results1['items'])\n",
    "    song_ids = list(song_ids)\n",
    "    \n",
    "    for song_id in song_ids:\n",
    "        if song_id not in main_dict:\n",
    "            main_dict[song_id] = []\n",
    "        main_dict[song_id].append(i)\n",
    "\n",
    "# print(main_dict)\n"
   ]
  },
  {
   "cell_type": "code",
   "execution_count": null,
   "metadata": {},
   "outputs": [],
   "source": [
    "print(len(main_dict))"
   ]
  },
  {
   "cell_type": "code",
   "execution_count": null,
   "metadata": {},
   "outputs": [],
   "source": [
    "f = open(\"Pickle_Files/songs_to_playlist_mapping.pkl\", \"wb\")\n",
    "pickle.dump(main_dict, f)\n",
    "f.close()"
   ]
  },
  {
   "cell_type": "code",
   "execution_count": null,
   "metadata": {},
   "outputs": [],
   "source": [
    "import pandas as pd\n",
    "df = pd.read_csv(\"Dataset/unlabelled_song_features_and_lda_topics_3.csv\")\n",
    "\n",
    "new_column = []\n",
    "for i in df.index:\n",
    "    song_id = df['sp_song_id'][i]\n",
    "    new_column.append(main_dict[song_id])\n",
    "\n",
    "df[\"Playlists\"] = new_column\n",
    "\n",
    "new_column = []\n",
    "for i in df.index:\n",
    "    release_date = df['release_date'][i]\n",
    "    try:\n",
    "        release_date = int(release_date[-4:])\n",
    "    except:\n",
    "        release_date = int(release_date[:4])\n",
    "    new_column.append(release_date)\n",
    "\n",
    "df['release_date'] = new_column\n",
    "\n",
    "df.to_csv(\"Dataset/updated_dataset_3.csv\", index = False)\n"
   ]
  },
  {
   "cell_type": "code",
   "execution_count": null,
   "metadata": {},
   "outputs": [],
   "source": [
    "df.head()"
   ]
  },
  {
   "cell_type": "code",
   "execution_count": null,
   "metadata": {},
   "outputs": [],
   "source": []
  }
 ],
 "metadata": {
  "kernelspec": {
   "display_name": "Python 3",
   "language": "python",
   "name": "python3"
  },
  "language_info": {
   "codemirror_mode": {
    "name": "ipython",
    "version": 3
   },
   "file_extension": ".py",
   "mimetype": "text/x-python",
   "name": "python",
   "nbconvert_exporter": "python",
   "pygments_lexer": "ipython3",
   "version": "3.7.4"
  }
 },
 "nbformat": 4,
 "nbformat_minor": 4
}
