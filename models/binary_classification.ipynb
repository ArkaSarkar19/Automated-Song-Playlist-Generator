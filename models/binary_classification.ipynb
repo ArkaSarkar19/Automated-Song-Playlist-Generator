{
 "cells": [
  {
   "cell_type": "code",
   "execution_count": 17,
   "metadata": {},
   "outputs": [],
   "source": [
    "import pandas as pd\n",
    "import numpy as np\n",
    "from sklearn.linear_model import LogisticRegression, SGDClassifier\n",
    "from sklearn.model_selection import train_test_split\n",
    "from sklearn.metrics import precision_score\n",
    "from sklearn.metrics import f1_score\n",
    "from sklearn.metrics import balanced_accuracy_score\n",
    "from sklearn.preprocessing import StandardScaler\n",
    "from sklearn.metrics import recall_score\n",
    "from tqdm import tqdm\n",
    "from imblearn.ensemble import BalancedBaggingClassifier\n",
    "from imblearn.under_sampling import RandomUnderSampler\n",
    "from sklearn.svm import SVC\n",
    "from xgboost import XGBClassifier\n",
    "import pickle\n",
    "import tensorflow as tf\n",
    "import math\n",
    "import keras\n",
    "from tensorflow.keras.models import Sequential\n",
    "from tensorflow.keras.layers import Dense\n",
    "from sklearn.tree import DecisionTreeClassifier\n",
    "from sklearn.ensemble import RandomForestClassifier\n",
    "import xgboost as xgb\n",
    "from xgboost.sklearn import XGBClassifier"
   ]
  },
  {
   "cell_type": "code",
   "execution_count": 2,
   "metadata": {},
   "outputs": [
    {
     "data": {
      "text/plain": [
       "' One v.s. All binary classification '"
      ]
     },
     "execution_count": 2,
     "metadata": {},
     "output_type": "execute_result"
    }
   ],
   "source": [
    "\"\"\" One v.s. All binary classification \"\"\""
   ]
  },
  {
   "cell_type": "code",
   "execution_count": 3,
   "metadata": {},
   "outputs": [],
   "source": [
    "df = pd.read_csv(\"../Data_Scrape/Dataset/updated_dataset.csv\")"
   ]
  },
  {
   "cell_type": "code",
   "execution_count": 4,
   "metadata": {},
   "outputs": [
    {
     "data": {
      "text/html": [
       "<div>\n",
       "<style scoped>\n",
       "    .dataframe tbody tr th:only-of-type {\n",
       "        vertical-align: middle;\n",
       "    }\n",
       "\n",
       "    .dataframe tbody tr th {\n",
       "        vertical-align: top;\n",
       "    }\n",
       "\n",
       "    .dataframe thead th {\n",
       "        text-align: right;\n",
       "    }\n",
       "</style>\n",
       "<table border=\"1\" class=\"dataframe\">\n",
       "  <thead>\n",
       "    <tr style=\"text-align: right;\">\n",
       "      <th></th>\n",
       "      <th>sp_song_id</th>\n",
       "      <th>danceability</th>\n",
       "      <th>energy</th>\n",
       "      <th>key</th>\n",
       "      <th>loudness</th>\n",
       "      <th>mode</th>\n",
       "      <th>speechiness</th>\n",
       "      <th>acousticness</th>\n",
       "      <th>instrumentalness</th>\n",
       "      <th>liveness</th>\n",
       "      <th>...</th>\n",
       "      <th>lda_topic_11</th>\n",
       "      <th>lda_topic_12</th>\n",
       "      <th>lda_topic_13</th>\n",
       "      <th>lda_topic_14</th>\n",
       "      <th>lda_topic_15</th>\n",
       "      <th>lda_topic_16</th>\n",
       "      <th>lda_topic_17</th>\n",
       "      <th>lda_topic_18</th>\n",
       "      <th>lda_topic_19</th>\n",
       "      <th>Playlists</th>\n",
       "    </tr>\n",
       "  </thead>\n",
       "  <tbody>\n",
       "    <tr>\n",
       "      <td>0</td>\n",
       "      <td>6edQfeOlqbGteYixpJl3Sm</td>\n",
       "      <td>0.857</td>\n",
       "      <td>0.602</td>\n",
       "      <td>10</td>\n",
       "      <td>-8.311</td>\n",
       "      <td>1</td>\n",
       "      <td>0.0290</td>\n",
       "      <td>0.489000</td>\n",
       "      <td>0.02440</td>\n",
       "      <td>0.3170</td>\n",
       "      <td>...</td>\n",
       "      <td>0.0</td>\n",
       "      <td>0.022993</td>\n",
       "      <td>0.000000</td>\n",
       "      <td>0.122078</td>\n",
       "      <td>0.0</td>\n",
       "      <td>0.000000</td>\n",
       "      <td>0.000000</td>\n",
       "      <td>0.081108</td>\n",
       "      <td>0.386042</td>\n",
       "      <td>[165]</td>\n",
       "    </tr>\n",
       "    <tr>\n",
       "      <td>1</td>\n",
       "      <td>5Oe7wHPL4hdEXeF4AOayCi</td>\n",
       "      <td>0.322</td>\n",
       "      <td>0.990</td>\n",
       "      <td>8</td>\n",
       "      <td>-1.785</td>\n",
       "      <td>1</td>\n",
       "      <td>0.1710</td>\n",
       "      <td>0.000044</td>\n",
       "      <td>0.41700</td>\n",
       "      <td>0.0366</td>\n",
       "      <td>...</td>\n",
       "      <td>0.0</td>\n",
       "      <td>0.000000</td>\n",
       "      <td>0.163142</td>\n",
       "      <td>0.022999</td>\n",
       "      <td>0.0</td>\n",
       "      <td>0.144614</td>\n",
       "      <td>0.187207</td>\n",
       "      <td>0.000000</td>\n",
       "      <td>0.000000</td>\n",
       "      <td>[79]</td>\n",
       "    </tr>\n",
       "    <tr>\n",
       "      <td>2</td>\n",
       "      <td>6i1uWZYWabNHq2wQnoca58</td>\n",
       "      <td>0.666</td>\n",
       "      <td>0.884</td>\n",
       "      <td>9</td>\n",
       "      <td>-5.243</td>\n",
       "      <td>0</td>\n",
       "      <td>0.0429</td>\n",
       "      <td>0.506000</td>\n",
       "      <td>0.00612</td>\n",
       "      <td>0.0408</td>\n",
       "      <td>...</td>\n",
       "      <td>0.0</td>\n",
       "      <td>0.000000</td>\n",
       "      <td>0.000000</td>\n",
       "      <td>0.000000</td>\n",
       "      <td>0.0</td>\n",
       "      <td>0.000000</td>\n",
       "      <td>0.000000</td>\n",
       "      <td>0.000000</td>\n",
       "      <td>0.582131</td>\n",
       "      <td>[15]</td>\n",
       "    </tr>\n",
       "    <tr>\n",
       "      <td>3</td>\n",
       "      <td>4BzBtS6PBreni5hNPo2hos</td>\n",
       "      <td>0.609</td>\n",
       "      <td>0.578</td>\n",
       "      <td>9</td>\n",
       "      <td>-7.081</td>\n",
       "      <td>1</td>\n",
       "      <td>0.0414</td>\n",
       "      <td>0.296000</td>\n",
       "      <td>0.00000</td>\n",
       "      <td>0.1500</td>\n",
       "      <td>...</td>\n",
       "      <td>0.0</td>\n",
       "      <td>0.000000</td>\n",
       "      <td>0.511716</td>\n",
       "      <td>0.084905</td>\n",
       "      <td>0.0</td>\n",
       "      <td>0.000000</td>\n",
       "      <td>0.000000</td>\n",
       "      <td>0.115004</td>\n",
       "      <td>0.108140</td>\n",
       "      <td>[168]</td>\n",
       "    </tr>\n",
       "    <tr>\n",
       "      <td>4</td>\n",
       "      <td>0GvhHQbWSnGltjl0je61dI</td>\n",
       "      <td>0.699</td>\n",
       "      <td>0.514</td>\n",
       "      <td>4</td>\n",
       "      <td>-12.610</td>\n",
       "      <td>1</td>\n",
       "      <td>0.0315</td>\n",
       "      <td>0.587000</td>\n",
       "      <td>0.02900</td>\n",
       "      <td>0.2200</td>\n",
       "      <td>...</td>\n",
       "      <td>0.0</td>\n",
       "      <td>0.000000</td>\n",
       "      <td>0.000000</td>\n",
       "      <td>0.401954</td>\n",
       "      <td>0.0</td>\n",
       "      <td>0.000000</td>\n",
       "      <td>0.000000</td>\n",
       "      <td>0.000000</td>\n",
       "      <td>0.000000</td>\n",
       "      <td>[30, 133]</td>\n",
       "    </tr>\n",
       "  </tbody>\n",
       "</table>\n",
       "<p>5 rows × 36 columns</p>\n",
       "</div>"
      ],
      "text/plain": [
       "               sp_song_id  danceability  energy  key  loudness  mode  \\\n",
       "0  6edQfeOlqbGteYixpJl3Sm         0.857   0.602   10    -8.311     1   \n",
       "1  5Oe7wHPL4hdEXeF4AOayCi         0.322   0.990    8    -1.785     1   \n",
       "2  6i1uWZYWabNHq2wQnoca58         0.666   0.884    9    -5.243     0   \n",
       "3  4BzBtS6PBreni5hNPo2hos         0.609   0.578    9    -7.081     1   \n",
       "4  0GvhHQbWSnGltjl0je61dI         0.699   0.514    4   -12.610     1   \n",
       "\n",
       "   speechiness  acousticness  instrumentalness  liveness  ...  lda_topic_11  \\\n",
       "0       0.0290      0.489000           0.02440    0.3170  ...           0.0   \n",
       "1       0.1710      0.000044           0.41700    0.0366  ...           0.0   \n",
       "2       0.0429      0.506000           0.00612    0.0408  ...           0.0   \n",
       "3       0.0414      0.296000           0.00000    0.1500  ...           0.0   \n",
       "4       0.0315      0.587000           0.02900    0.2200  ...           0.0   \n",
       "\n",
       "   lda_topic_12  lda_topic_13  lda_topic_14  lda_topic_15  lda_topic_16  \\\n",
       "0      0.022993      0.000000      0.122078           0.0      0.000000   \n",
       "1      0.000000      0.163142      0.022999           0.0      0.144614   \n",
       "2      0.000000      0.000000      0.000000           0.0      0.000000   \n",
       "3      0.000000      0.511716      0.084905           0.0      0.000000   \n",
       "4      0.000000      0.000000      0.401954           0.0      0.000000   \n",
       "\n",
       "   lda_topic_17  lda_topic_18  lda_topic_19  Playlists  \n",
       "0      0.000000      0.081108      0.386042      [165]  \n",
       "1      0.187207      0.000000      0.000000       [79]  \n",
       "2      0.000000      0.000000      0.582131       [15]  \n",
       "3      0.000000      0.115004      0.108140      [168]  \n",
       "4      0.000000      0.000000      0.000000  [30, 133]  \n",
       "\n",
       "[5 rows x 36 columns]"
      ]
     },
     "execution_count": 4,
     "metadata": {},
     "output_type": "execute_result"
    }
   ],
   "source": [
    "df.head()"
   ]
  },
  {
   "cell_type": "code",
   "execution_count": 13,
   "metadata": {},
   "outputs": [
    {
     "name": "stdout",
     "output_type": "stream",
     "text": [
      "8\n",
      "(2547, 36)\n",
      "['4FZoFK86X6Wd1csU9afTIA' 0.344 0.879 2 -6.546 1 0.0481 4.99e-05 0.875\n",
      " 0.24100000000000002 0.371 118.814 214760 2009 37 0.0 0.04333582147955895\n",
      " 0.0 0.0 0.0 0.0 0.2181074470281601 0.0 0.0 0.0 0.0 0.0\n",
      " 0.01100169774144888 0.5925655364990234 0.0 0.0 0.0 0.06927943974733353\n",
      " 0.0 0.05013835057616234 '[79]']\n"
     ]
    }
   ],
   "source": [
    "playlists_multi = [132, 123,19,46,60,68,79,125]  #132, 123,19,46,60,68,79,125\n",
    "# playlists_multi = [i for i in range(1,169,1)]  #132, 123,19,46,60,68,79,125\n",
    "\n",
    "dict_playlists_to_songs = {}\n",
    "data = np.array(df)\n",
    "Dataset = []\n",
    "for j in playlists_multi:\n",
    "    l0 = []\n",
    "    for i in df.index:\n",
    "        l = eval(df[\"Playlists\"][i])\n",
    "        if(j in l):\n",
    "            l.remove(j)\n",
    "            flag = 0\n",
    "            for k in playlists_multi:\n",
    "                    if(k!=j and k in l):\n",
    "                        flag = 1\n",
    "            if(flag!=1):\n",
    "                l0.append(df[\"sp_song_id\"][i])\n",
    "                Dataset.append(data[i])\n",
    "                \n",
    "    dict_playlists_to_songs[j] = l0\n",
    "#     print(len(l0))\n",
    "print(len(dict_playlists_to_songs))\n",
    "Dataset = np.array(Dataset)\n",
    "print(Dataset.shape)\n",
    "np.random.shuffle(Dataset)\n",
    "print(Dataset[0])\n",
    "\n"
   ]
  },
  {
   "cell_type": "code",
   "execution_count": 14,
   "metadata": {},
   "outputs": [
    {
     "name": "stdout",
     "output_type": "stream",
     "text": [
      "(2547, 34)\n",
      "(2547,)\n"
     ]
    }
   ],
   "source": [
    "X = Dataset[:,1:-1]\n",
    "Y = Dataset[:,-1]\n",
    "# print(Y)\n",
    "for i in range(len(Y)):\n",
    "    Y[i] = eval(Y[i])\n",
    "    for j in playlists_multi:\n",
    "        if(j in Y[i]):\n",
    "            Y[i] = j\n",
    "            break\n",
    "    \n",
    "print(X.shape)\n",
    "print(Y.shape)\n",
    "\n"
   ]
  },
  {
   "cell_type": "code",
   "execution_count": null,
   "metadata": {},
   "outputs": [],
   "source": [
    "X = np.array(X)\n",
    "y = np.array(Y)\n",
    "y = Y.reshape(-1, 1)\n",
    "standardScalar = StandardScaler()\n",
    "X = standardScalar.fit_transform(X)\n",
    "print(X.shape, y.shape)\n",
    "y = np.squeeze(y)\n",
    "# print(X)\n",
    "# print(y)"
   ]
  },
  {
   "cell_type": "code",
   "execution_count": null,
   "metadata": {},
   "outputs": [],
   "source": [
    "y = y.astype(\"str\")\n",
    "# print(y)"
   ]
  },
  {
   "cell_type": "code",
   "execution_count": null,
   "metadata": {},
   "outputs": [],
   "source": [
    "X_train, X_test, y_train, y_test = train_test_split(X, y, test_size=0.2, random_state=42)"
   ]
  },
  {
   "cell_type": "code",
   "execution_count": null,
   "metadata": {},
   "outputs": [],
   "source": [
    "from sklearn.manifold import TSNE"
   ]
  },
  {
   "cell_type": "code",
   "execution_count": null,
   "metadata": {},
   "outputs": [],
   "source": [
    "tsne_em = TSNE(n_components=2, perplexity=30.0, n_iter=1000, verbose=1).fit_transform(X_train)\n",
    "print(tsne_em)"
   ]
  },
  {
   "cell_type": "code",
   "execution_count": null,
   "metadata": {},
   "outputs": [],
   "source": [
    "df_tsne= pd.DataFrame(columns = [\"x\", \"y\", \"label\"] )\n",
    "df_tsne[\"x\"] = tsne_em[:,0]\n",
    "df_tsne[\"y\"] = tsne_em[:,1]\n",
    "df_tsne[\"label\"] = y_train"
   ]
  },
  {
   "cell_type": "code",
   "execution_count": null,
   "metadata": {
    "scrolled": true
   },
   "outputs": [],
   "source": [
    "import matplotlib.pyplot as plt\n",
    "import seaborn as sns\n",
    "plt.figure(figsize = (20,20))\n",
    "# plt.scatter(tsne_em[:,0], tsne_em[:,1],color = \"green\", hue = y_train);\n",
    "sns.scatterplot(x = df_tsne[\"x\"], y = df_tsne[\"y\"], hue = df_tsne[\"label\"],  palette = sns.color_palette(\"husl\", len(set(y_train))))\n",
    "plt.show()"
   ]
  },
  {
   "cell_type": "code",
   "execution_count": null,
   "metadata": {},
   "outputs": [],
   "source": [
    "\n",
    "logistic = LogisticRegression(solver = \"saga\", multi_class = \"multinomial\")\n",
    "\n",
    "logistic.fit(X_train, y_train)\n",
    "\n",
    "test_score = logistic.score(X_test, y_test)\n",
    "\n",
    "y_pred = logistic.predict(X_test)\n",
    "pres_score = precision_score(y_test, y_pred, average = \"weighted\")\n",
    "\n",
    "f1= f1_score(y_test, y_pred, average = \"weighted\")\n",
    "recall_Score = recall_score(y_test, y_pred, average = \"weighted\")\n",
    "print(test_score, pres_score, f1, recall_Score)"
   ]
  },
  {
   "cell_type": "code",
   "execution_count": 5,
   "metadata": {},
   "outputs": [
    {
     "data": {
      "text/plain": [
       "' One vs One Binary classification'"
      ]
     },
     "execution_count": 5,
     "metadata": {},
     "output_type": "execute_result"
    }
   ],
   "source": [
    "\"\"\" One vs One Binary classification\"\"\""
   ]
  },
  {
   "cell_type": "code",
   "execution_count": 6,
   "metadata": {},
   "outputs": [],
   "source": [
    "df = pd.read_csv(\"../Data_Scrape/Dataset/updated_dataset.csv\")"
   ]
  },
  {
   "cell_type": "code",
   "execution_count": 7,
   "metadata": {},
   "outputs": [
    {
     "data": {
      "text/html": [
       "<div>\n",
       "<style scoped>\n",
       "    .dataframe tbody tr th:only-of-type {\n",
       "        vertical-align: middle;\n",
       "    }\n",
       "\n",
       "    .dataframe tbody tr th {\n",
       "        vertical-align: top;\n",
       "    }\n",
       "\n",
       "    .dataframe thead th {\n",
       "        text-align: right;\n",
       "    }\n",
       "</style>\n",
       "<table border=\"1\" class=\"dataframe\">\n",
       "  <thead>\n",
       "    <tr style=\"text-align: right;\">\n",
       "      <th></th>\n",
       "      <th>sp_song_id</th>\n",
       "      <th>danceability</th>\n",
       "      <th>energy</th>\n",
       "      <th>key</th>\n",
       "      <th>loudness</th>\n",
       "      <th>mode</th>\n",
       "      <th>speechiness</th>\n",
       "      <th>acousticness</th>\n",
       "      <th>instrumentalness</th>\n",
       "      <th>liveness</th>\n",
       "      <th>...</th>\n",
       "      <th>lda_topic_11</th>\n",
       "      <th>lda_topic_12</th>\n",
       "      <th>lda_topic_13</th>\n",
       "      <th>lda_topic_14</th>\n",
       "      <th>lda_topic_15</th>\n",
       "      <th>lda_topic_16</th>\n",
       "      <th>lda_topic_17</th>\n",
       "      <th>lda_topic_18</th>\n",
       "      <th>lda_topic_19</th>\n",
       "      <th>Playlists</th>\n",
       "    </tr>\n",
       "  </thead>\n",
       "  <tbody>\n",
       "    <tr>\n",
       "      <td>0</td>\n",
       "      <td>6edQfeOlqbGteYixpJl3Sm</td>\n",
       "      <td>0.857</td>\n",
       "      <td>0.602</td>\n",
       "      <td>10</td>\n",
       "      <td>-8.311</td>\n",
       "      <td>1</td>\n",
       "      <td>0.0290</td>\n",
       "      <td>0.489000</td>\n",
       "      <td>0.02440</td>\n",
       "      <td>0.3170</td>\n",
       "      <td>...</td>\n",
       "      <td>0.0</td>\n",
       "      <td>0.022993</td>\n",
       "      <td>0.000000</td>\n",
       "      <td>0.122078</td>\n",
       "      <td>0.0</td>\n",
       "      <td>0.000000</td>\n",
       "      <td>0.000000</td>\n",
       "      <td>0.081108</td>\n",
       "      <td>0.386042</td>\n",
       "      <td>[165]</td>\n",
       "    </tr>\n",
       "    <tr>\n",
       "      <td>1</td>\n",
       "      <td>5Oe7wHPL4hdEXeF4AOayCi</td>\n",
       "      <td>0.322</td>\n",
       "      <td>0.990</td>\n",
       "      <td>8</td>\n",
       "      <td>-1.785</td>\n",
       "      <td>1</td>\n",
       "      <td>0.1710</td>\n",
       "      <td>0.000044</td>\n",
       "      <td>0.41700</td>\n",
       "      <td>0.0366</td>\n",
       "      <td>...</td>\n",
       "      <td>0.0</td>\n",
       "      <td>0.000000</td>\n",
       "      <td>0.163142</td>\n",
       "      <td>0.022999</td>\n",
       "      <td>0.0</td>\n",
       "      <td>0.144614</td>\n",
       "      <td>0.187207</td>\n",
       "      <td>0.000000</td>\n",
       "      <td>0.000000</td>\n",
       "      <td>[79]</td>\n",
       "    </tr>\n",
       "    <tr>\n",
       "      <td>2</td>\n",
       "      <td>6i1uWZYWabNHq2wQnoca58</td>\n",
       "      <td>0.666</td>\n",
       "      <td>0.884</td>\n",
       "      <td>9</td>\n",
       "      <td>-5.243</td>\n",
       "      <td>0</td>\n",
       "      <td>0.0429</td>\n",
       "      <td>0.506000</td>\n",
       "      <td>0.00612</td>\n",
       "      <td>0.0408</td>\n",
       "      <td>...</td>\n",
       "      <td>0.0</td>\n",
       "      <td>0.000000</td>\n",
       "      <td>0.000000</td>\n",
       "      <td>0.000000</td>\n",
       "      <td>0.0</td>\n",
       "      <td>0.000000</td>\n",
       "      <td>0.000000</td>\n",
       "      <td>0.000000</td>\n",
       "      <td>0.582131</td>\n",
       "      <td>[15]</td>\n",
       "    </tr>\n",
       "    <tr>\n",
       "      <td>3</td>\n",
       "      <td>4BzBtS6PBreni5hNPo2hos</td>\n",
       "      <td>0.609</td>\n",
       "      <td>0.578</td>\n",
       "      <td>9</td>\n",
       "      <td>-7.081</td>\n",
       "      <td>1</td>\n",
       "      <td>0.0414</td>\n",
       "      <td>0.296000</td>\n",
       "      <td>0.00000</td>\n",
       "      <td>0.1500</td>\n",
       "      <td>...</td>\n",
       "      <td>0.0</td>\n",
       "      <td>0.000000</td>\n",
       "      <td>0.511716</td>\n",
       "      <td>0.084905</td>\n",
       "      <td>0.0</td>\n",
       "      <td>0.000000</td>\n",
       "      <td>0.000000</td>\n",
       "      <td>0.115004</td>\n",
       "      <td>0.108140</td>\n",
       "      <td>[168]</td>\n",
       "    </tr>\n",
       "    <tr>\n",
       "      <td>4</td>\n",
       "      <td>0GvhHQbWSnGltjl0je61dI</td>\n",
       "      <td>0.699</td>\n",
       "      <td>0.514</td>\n",
       "      <td>4</td>\n",
       "      <td>-12.610</td>\n",
       "      <td>1</td>\n",
       "      <td>0.0315</td>\n",
       "      <td>0.587000</td>\n",
       "      <td>0.02900</td>\n",
       "      <td>0.2200</td>\n",
       "      <td>...</td>\n",
       "      <td>0.0</td>\n",
       "      <td>0.000000</td>\n",
       "      <td>0.000000</td>\n",
       "      <td>0.401954</td>\n",
       "      <td>0.0</td>\n",
       "      <td>0.000000</td>\n",
       "      <td>0.000000</td>\n",
       "      <td>0.000000</td>\n",
       "      <td>0.000000</td>\n",
       "      <td>[30, 133]</td>\n",
       "    </tr>\n",
       "  </tbody>\n",
       "</table>\n",
       "<p>5 rows × 36 columns</p>\n",
       "</div>"
      ],
      "text/plain": [
       "               sp_song_id  danceability  energy  key  loudness  mode  \\\n",
       "0  6edQfeOlqbGteYixpJl3Sm         0.857   0.602   10    -8.311     1   \n",
       "1  5Oe7wHPL4hdEXeF4AOayCi         0.322   0.990    8    -1.785     1   \n",
       "2  6i1uWZYWabNHq2wQnoca58         0.666   0.884    9    -5.243     0   \n",
       "3  4BzBtS6PBreni5hNPo2hos         0.609   0.578    9    -7.081     1   \n",
       "4  0GvhHQbWSnGltjl0je61dI         0.699   0.514    4   -12.610     1   \n",
       "\n",
       "   speechiness  acousticness  instrumentalness  liveness  ...  lda_topic_11  \\\n",
       "0       0.0290      0.489000           0.02440    0.3170  ...           0.0   \n",
       "1       0.1710      0.000044           0.41700    0.0366  ...           0.0   \n",
       "2       0.0429      0.506000           0.00612    0.0408  ...           0.0   \n",
       "3       0.0414      0.296000           0.00000    0.1500  ...           0.0   \n",
       "4       0.0315      0.587000           0.02900    0.2200  ...           0.0   \n",
       "\n",
       "   lda_topic_12  lda_topic_13  lda_topic_14  lda_topic_15  lda_topic_16  \\\n",
       "0      0.022993      0.000000      0.122078           0.0      0.000000   \n",
       "1      0.000000      0.163142      0.022999           0.0      0.144614   \n",
       "2      0.000000      0.000000      0.000000           0.0      0.000000   \n",
       "3      0.000000      0.511716      0.084905           0.0      0.000000   \n",
       "4      0.000000      0.000000      0.401954           0.0      0.000000   \n",
       "\n",
       "   lda_topic_17  lda_topic_18  lda_topic_19  Playlists  \n",
       "0      0.000000      0.081108      0.386042      [165]  \n",
       "1      0.187207      0.000000      0.000000       [79]  \n",
       "2      0.000000      0.000000      0.582131       [15]  \n",
       "3      0.000000      0.115004      0.108140      [168]  \n",
       "4      0.000000      0.000000      0.000000  [30, 133]  \n",
       "\n",
       "[5 rows x 36 columns]"
      ]
     },
     "execution_count": 7,
     "metadata": {},
     "output_type": "execute_result"
    }
   ],
   "source": [
    "df.head()"
   ]
  },
  {
   "cell_type": "code",
   "execution_count": 11,
   "metadata": {},
   "outputs": [
    {
     "data": {
      "text/plain": [
       "' SVM - Linear Classification  '"
      ]
     },
     "execution_count": 11,
     "metadata": {},
     "output_type": "execute_result"
    }
   ],
   "source": [
    "\"\"\" SVM - Linear Classification  \"\"\""
   ]
  },
  {
   "cell_type": "code",
   "execution_count": 53,
   "metadata": {
    "scrolled": true
   },
   "outputs": [],
   "source": [
    "def run_model(model_type = \"LR\"):\n",
    "    playlists = []\n",
    "    result_history = {}\n",
    "\n",
    "    np.random.seed(123)\n",
    "\n",
    "    for playlist in tqdm(range(0,169,1), desc = \"Progress : \", position = 0, leave = True):\n",
    "        X = []\n",
    "        y = []\n",
    "        list_of_is = []\n",
    "        for i in df.index:\n",
    "            a = list(df.iloc[i])[1:-1]\n",
    "            if playlist in eval(df['Playlists'][i]):\n",
    "                X.append(a)\n",
    "                y.append(1)\n",
    "            else:\n",
    "                _ = np.random.randint(0, 26)\n",
    "                if _ == 0:\n",
    "                    X.append(a)\n",
    "                    y.append(0)\n",
    "\n",
    "\n",
    "\n",
    "        X = np.array(X)\n",
    "        y = np.array(y)\n",
    "\n",
    "\n",
    "\n",
    "        X_train, X_test, y_train, y_test = train_test_split(X, y, test_size=0.2, random_state=10, stratify = y)\n",
    "\n",
    "        standardScalar = StandardScaler()\n",
    "        X_train = standardScalar.fit_transform(X_train)\n",
    "        X_test = standardScalar.transform(X_test)\n",
    "        \n",
    "        \n",
    "        if(model_type == \"LR\" ):\n",
    "            model = LogisticRegression()\n",
    "            \n",
    "        elif(model_type == \"SVM\"):\n",
    "            model = SVC(kernel = 'linear')\n",
    "        \n",
    "        elif (model_type == \"DT\"):\n",
    "            model = DecisionTreeClassifier(criterion = 'entropy', max_depth =  20)\n",
    "            \n",
    "        elif (model_type == \"RF\"):\n",
    "            model = RandomForestClassifier(criterion = 'entropy')\n",
    "            \n",
    "        \n",
    "        elif(model_type == \"XGB\"):\n",
    "            \n",
    "            param = {\n",
    "                \"learning_rate\" : 0.1,\n",
    "                \"n_estimators\" : 500,\n",
    "                \"max_depth\" : 20,\n",
    "                \"min_child_weight\" : 1,\n",
    "                \"gamma\" : 0.1,\n",
    "                \"subsample\": 0.9,\n",
    "                \"colsample_bytree\" : 0.9,\n",
    "                \"objective\" : 'binary:logistic',\n",
    "                \"nthread\" : 4,\n",
    "                \"scale_pos_weight\" :  1,\n",
    "                \"seed\" : 27\n",
    "            }\n",
    "            \n",
    "            model = XGBClassifier(**param)\n",
    "\n",
    "\n",
    "#         xgb = XGBClassifier(**param)    \n",
    "\n",
    "        model.fit(X_train, y_train)\n",
    "\n",
    "\n",
    "        y_pred = model.predict(X_test)\n",
    "        pres_score = precision_score(y_test, y_pred, average = \"macro\")\n",
    "\n",
    "        f1= f1_score(y_test, y_pred, average = \"macro\")\n",
    "        recall_Score = recall_score(y_test, y_pred, average = \"macro\")\n",
    "\n",
    "        result_history[playlist] = {\"Precision Score \" : pres_score, \"Recall Score \" : recall_Score, \"F1 Score \" : f1 }\n",
    "\n",
    "\n",
    "    print(result_history)\n",
    "    return result_history"
   ]
  },
  {
   "cell_type": "code",
   "execution_count": 34,
   "metadata": {},
   "outputs": [],
   "source": [
    "# f = open(\"binary_svc_linear_result\", \"wb\")\n",
    "# pickle.dump(result_history, f)\n",
    "# f.close()"
   ]
  },
  {
   "cell_type": "code",
   "execution_count": 35,
   "metadata": {},
   "outputs": [],
   "source": [
    "f = open(\"binary_svc_linear_result\", \"rb\")\n",
    "l = pickle.load(f)\n",
    "f.close()"
   ]
  },
  {
   "cell_type": "code",
   "execution_count": 36,
   "metadata": {},
   "outputs": [],
   "source": [
    "l = {k: v for k, v in sorted(l.items(), key=lambda item: item[1][\"F1 Score \"], reverse = True)}"
   ]
  },
  {
   "cell_type": "code",
   "execution_count": 37,
   "metadata": {
    "scrolled": false
   },
   "outputs": [
    {
     "name": "stdout",
     "output_type": "stream",
     "text": [
      "71  =  {'Precision Score ': 0.9615384615384616, 'Recall Score ': 0.9945652173913043, 'F1 Score ': 0.9772677595628416}\n",
      "89  =  {'Precision Score ': 0.955977229601518, 'Recall Score ': 0.955977229601518, 'F1 Score ': 0.955977229601518}\n",
      "137  =  {'Precision Score ': 0.9624482554701359, 'Recall Score ': 0.9443181818181818, 'F1 Score ': 0.953063885267275}\n",
      "100  =  {'Precision Score ': 0.925, 'Recall Score ': 0.9836956521739131, 'F1 Score ': 0.9511721666417798}\n",
      "99  =  {'Precision Score ': 0.929128277817151, 'Recall Score ': 0.929128277817151, 'F1 Score ': 0.929128277817151}\n",
      "98  =  {'Precision Score ': 0.9108527131782946, 'Recall Score ': 0.9430512016718913, 'F1 Score ': 0.9261120884644383}\n",
      "66  =  {'Precision Score ': 0.9211764705882353, 'Recall Score ': 0.9282296650717703, 'F1 Score ': 0.9245823860828308}\n",
      "97  =  {'Precision Score ': 0.8999208860759493, 'Recall Score ': 0.9457671957671958, 'F1 Score ': 0.9208333333333333}\n",
      "161  =  {'Precision Score ': 0.9332659251769464, 'Recall Score ': 0.9080952380952381, 'F1 Score ': 0.9198529411764705}\n",
      "72  =  {'Precision Score ': 0.9157848324514991, 'Recall Score ': 0.9207317073170731, 'F1 Score ': 0.9181757705669303}\n",
      "102  =  {'Precision Score ': 0.8889228886168911, 'Recall Score ': 0.9462780898876404, 'F1 Score ': 0.9142857142857144}\n",
      "45  =  {'Precision Score ': 0.8938271604938272, 'Recall Score ': 0.9425287356321839, 'F1 Score ': 0.9136904761904763}\n",
      "93  =  {'Precision Score ': 0.8882433356117567, 'Recall Score ': 0.94375, 'F1 Score ': 0.9126478616924476}\n",
      "70  =  {'Precision Score ': 0.8866071428571429, 'Recall Score ': 0.940040650406504, 'F1 Score ': 0.9107312440645774}\n",
      "40  =  {'Precision Score ': 0.9098039215686274, 'Recall Score ': 0.9098039215686274, 'F1 Score ': 0.9098039215686274}\n",
      "79  =  {'Precision Score ': 0.9170358883473637, 'Recall Score ': 0.9041867954911433, 'F1 Score ': 0.9092963114196271}\n",
      "101  =  {'Precision Score ': 0.8789335664335665, 'Recall Score ': 0.9378787878787879, 'F1 Score ': 0.9054307116104868}\n",
      "157  =  {'Precision Score ': 0.9044750430292599, 'Recall Score ': 0.9044750430292599, 'F1 Score ': 0.9044750430292599}\n",
      "92  =  {'Precision Score ': 0.8922369765066395, 'Recall Score ': 0.9063492063492063, 'F1 Score ': 0.8990515785370925}\n",
      "83  =  {'Precision Score ': 0.8947209653092005, 'Recall Score ': 0.8845136644137526, 'F1 Score ': 0.8892857142857143}\n"
     ]
    }
   ],
   "source": [
    "# Top 20 playlists \n",
    "for key in list(l.keys())[:20]:\n",
    "    print(key,\" = \",  l[key])"
   ]
  },
  {
   "cell_type": "code",
   "execution_count": 38,
   "metadata": {},
   "outputs": [
    {
     "data": {
      "text/plain": [
       "' Logistic Regression Result'"
      ]
     },
     "execution_count": 38,
     "metadata": {},
     "output_type": "execute_result"
    }
   ],
   "source": [
    "\"\"\" Logistic Regression Result\"\"\""
   ]
  },
  {
   "cell_type": "code",
   "execution_count": 39,
   "metadata": {},
   "outputs": [
    {
     "name": "stderr",
     "output_type": "stream",
     "text": [
      "Progress : 100%|████████████████████████████████████████████████████████████████████████████████| 169/169 [27:11<00:00,  9.65s/it]\n"
     ]
    },
    {
     "name": "stdout",
     "output_type": "stream",
     "text": [
      "{0: {'Precision Score ': 0.7339366515837105, 'Recall Score ': 0.7339366515837105, 'F1 Score ': 0.7339366515837105}, 1: {'Precision Score ': 0.8248847926267281, 'Recall Score ': 0.7905219780219781, 'F1 Score ': 0.806159420289855}, 2: {'Precision Score ': 0.6427083333333333, 'Recall Score ': 0.6003663003663003, 'F1 Score ': 0.6145454545454545}, 3: {'Precision Score ': 0.844017094017094, 'Recall Score ': 0.836038961038961, 'F1 Score ': 0.839882697947214}, 4: {'Precision Score ': 0.7527472527472527, 'Recall Score ': 0.6931524547803618, 'F1 Score ': 0.7156916347731002}, 5: {'Precision Score ': 0.8527443105756358, 'Recall Score ': 0.7565725413826679, 'F1 Score ': 0.7934904601571269}, 6: {'Precision Score ': 0.8052434456928839, 'Recall Score ': 0.755485893416928, 'F1 Score ': 0.7772727272727272}, 7: {'Precision Score ': 0.875, 'Recall Score ': 0.9772727272727273, 'F1 Score ': 0.9169435215946844}, 8: {'Precision Score ': 0.8111111111111111, 'Recall Score ': 0.8111111111111111, 'F1 Score ': 0.8111111111111111}, 9: {'Precision Score ': 0.8096831771530566, 'Recall Score ': 0.8177655677655677, 'F1 Score ': 0.8135803863970172}, 10: {'Precision Score ': 0.7601744186046512, 'Recall Score ': 0.6598214285714286, 'F1 Score ': 0.6911281489594743}, 11: {'Precision Score ': 0.8540391676866586, 'Recall Score ': 0.8168127053669222, 'F1 Score ': 0.8333092798383605}, 12: {'Precision Score ': 0.8603960396039605, 'Recall Score ': 0.784375, 'F1 Score ': 0.8149383611312546}, 13: {'Precision Score ': 0.7941176470588236, 'Recall Score ': 0.8088662790697674, 'F1 Score ': 0.8011695906432749}, 14: {'Precision Score ': 0.7999365884590995, 'Recall Score ': 0.7884146341463415, 'F1 Score ': 0.793939393939394}, 15: {'Precision Score ': 0.7988904299583912, 'Recall Score ': 0.6363061353573688, 'F1 Score ': 0.6726190476190477}, 16: {'Precision Score ': 0.8045454545454545, 'Recall Score ': 0.7832980972515856, 'F1 Score ': 0.7931034482758621}, 17: {'Precision Score ': 0.7657624633431085, 'Recall Score ': 0.7715355805243446, 'F1 Score ': 0.7685468185607113}, 18: {'Precision Score ': 0.8563988095238095, 'Recall Score ': 0.7892512077294687, 'F1 Score ': 0.817154255319149}, 19: {'Precision Score ': 0.7837795765877957, 'Recall Score ': 0.7925224646983312, 'F1 Score ': 0.7875246742992499}, 20: {'Precision Score ': 0.7056962025316456, 'Recall Score ': 0.7166666666666667, 'F1 Score ': 0.7108947048082777}, 21: {'Precision Score ': 0.8806818181818182, 'Recall Score ': 0.8096638655462185, 'F1 Score ': 0.8397687861271677}, 22: {'Precision Score ': 0.8166585721223896, 'Recall Score ': 0.8574561403508771, 'F1 Score ': 0.8331408034912078}, 23: {'Precision Score ': 0.7125, 'Recall Score ': 0.7260208926875593, 'F1 Score ': 0.7188865884518059}, 24: {'Precision Score ': 0.8875968992248062, 'Recall Score ': 0.8571428571428572, 'F1 Score ': 0.8712074303405573}, 25: {'Precision Score ': 0.8996173093906388, 'Recall Score ': 0.9193697868396664, 'F1 Score ': 0.9081601927130383}, 26: {'Precision Score ': 0.8743589743589744, 'Recall Score ': 0.8201754385964912, 'F1 Score ': 0.8441558441558441}, 27: {'Precision Score ': 0.6473684210526316, 'Recall Score ': 0.6098901098901099, 'F1 Score ': 0.6236559139784946}, 28: {'Precision Score ': 0.8465309200603319, 'Recall Score ': 0.9310506566604128, 'F1 Score ': 0.8812500000000001}, 29: {'Precision Score ': 0.755023923444976, 'Recall Score ': 0.661222020568663, 'F1 Score ': 0.6893772893772894}, 30: {'Precision Score ': 0.7872023809523809, 'Recall Score ': 0.7418546365914787, 'F1 Score ': 0.7562826783606005}, 31: {'Precision Score ': 0.7091503267973855, 'Recall Score ': 0.7, 'F1 Score ': 0.7043478260869566}, 32: {'Precision Score ': 0.8056962025316455, 'Recall Score ': 0.7948717948717949, 'F1 Score ': 0.800062140748796}, 33: {'Precision Score ': 0.6530172413793103, 'Recall Score ': 0.6375968992248062, 'F1 Score ': 0.6446786807208433}, 34: {'Precision Score ': 0.851304945054945, 'Recall Score ': 0.764751552795031, 'F1 Score ': 0.7961904761904761}, 35: {'Precision Score ': 0.8736702127659575, 'Recall Score ': 0.6781864299302472, 'F1 Score ': 0.7225360954174513}, 36: {'Precision Score ': 0.7534883720930232, 'Recall Score ': 0.7289915966386555, 'F1 Score ': 0.7400735294117646}, 37: {'Precision Score ': 0.8869747899159663, 'Recall Score ': 0.9410919540229885, 'F1 Score ': 0.9114490161001789}, 38: {'Precision Score ': 0.8718072289156626, 'Recall Score ': 0.8718072289156626, 'F1 Score ': 0.8718072289156626}, 39: {'Precision Score ': 0.8068181818181819, 'Recall Score ': 0.5935064935064935, 'F1 Score ': 0.6185007974481659}, 40: {'Precision Score ': 0.8914431673052363, 'Recall Score ': 0.8730223123732251, 'F1 Score ': 0.8816445182724253}, 41: {'Precision Score ': 0.7960014809329878, 'Recall Score ': 0.7861147560539186, 'F1 Score ': 0.7885824866956943}, 42: {'Precision Score ': 0.7806451612903226, 'Recall Score ': 0.7548667548667549, 'F1 Score ': 0.7644097907619423}, 43: {'Precision Score ': 0.8184338184338185, 'Recall Score ': 0.8421444527177959, 'F1 Score ': 0.8280060882800608}, 44: {'Precision Score ': 0.7484053216694004, 'Recall Score ': 0.7442652329749104, 'F1 Score ': 0.7460145418416655}, 45: {'Precision Score ': 0.8848637015781922, 'Recall Score ': 0.9252873563218391, 'F1 Score ': 0.9019442096365173}, 46: {'Precision Score ': 0.8278822055137844, 'Recall Score ': 0.8266541822721598, 'F1 Score ': 0.8266208404936728}, 47: {'Precision Score ': 0.8211764705882353, 'Recall Score ': 0.7905491698595146, 'F1 Score ': 0.8036590807675145}, 48: {'Precision Score ': 0.7438409854423292, 'Recall Score ': 0.7334494773519163, 'F1 Score ': 0.7380773178241533}, 49: {'Precision Score ': 0.7675561797752809, 'Recall Score ': 0.7760869565217392, 'F1 Score ': 0.7716629026506597}, 50: {'Precision Score ': 0.790610718737017, 'Recall Score ': 0.790610718737017, 'F1 Score ': 0.790610718737017}, 51: {'Precision Score ': 0.7329268292682927, 'Recall Score ': 0.7267331433998101, 'F1 Score ': 0.7297004691447131}, 52: {'Precision Score ': 0.816557734204793, 'Recall Score ': 0.8340229885057471, 'F1 Score ': 0.8246869409660108}, 53: {'Precision Score ': 0.8008879023307436, 'Recall Score ': 0.8008879023307436, 'F1 Score ': 0.8008879023307436}, 54: {'Precision Score ': 0.7779943302622254, 'Recall Score ': 0.783008658008658, 'F1 Score ': 0.7804093305925464}, 55: {'Precision Score ': 0.8211148648648648, 'Recall Score ': 0.83681785967399, 'F1 Score ': 0.8281344508770414}, 56: {'Precision Score ': 0.7388663967611335, 'Recall Score ': 0.6891025641025641, 'F1 Score ': 0.7066666666666666}, 57: {'Precision Score ': 0.7499245852187029, 'Recall Score ': 0.7573780677228953, 'F1 Score ': 0.7533659730722153}, 58: {'Precision Score ': 0.780570142535634, 'Recall Score ': 0.780570142535634, 'F1 Score ': 0.780570142535634}, 59: {'Precision Score ': 0.8227513227513228, 'Recall Score ': 0.814974182444062, 'F1 Score ': 0.818726183995645}, 60: {'Precision Score ': 0.808666017526777, 'Recall Score ': 0.8117623918174666, 'F1 Score ': 0.8098498557245561}, 61: {'Precision Score ': 0.7794258373205742, 'Recall Score ': 0.7673992673992673, 'F1 Score ': 0.7725572697522207}, 62: {'Precision Score ': 0.8344444444444444, 'Recall Score ': 0.8399849397590362, 'F1 Score ': 0.8369835739173718}, 63: {'Precision Score ': 0.8500384516790567, 'Recall Score ': 0.8500384516790567, 'F1 Score ': 0.8500384516790567}, 64: {'Precision Score ': 0.7619047619047619, 'Recall Score ': 0.7293504410585405, 'F1 Score ': 0.742564758554525}, 65: {'Precision Score ': 0.7765700483091788, 'Recall Score ': 0.7678362573099415, 'F1 Score ': 0.7719037719037718}, 66: {'Precision Score ': 0.9199673336055533, 'Recall Score ': 0.9047619047619048, 'F1 Score ': 0.9118589743589745}, 67: {'Precision Score ': 0.8590243902439024, 'Recall Score ': 0.8538461538461539, 'F1 Score ': 0.8562091503267975}, 68: {'Precision Score ': 0.7978354978354978, 'Recall Score ': 0.7925170068027212, 'F1 Score ': 0.793960162775755}, 69: {'Precision Score ': 0.7479166666666667, 'Recall Score ': 0.7479166666666667, 'F1 Score ': 0.7479166666666667}, 70: {'Precision Score ': 0.872269705603039, 'Recall Score ': 0.8983739837398375, 'F1 Score ': 0.8846625766871166}, 71: {'Precision Score ': 0.9285714285714286, 'Recall Score ': 0.9891304347826086, 'F1 Score ': 0.956043956043956}, 72: {'Precision Score ': 0.9384036144578314, 'Recall Score ': 0.9329268292682926, 'F1 Score ': 0.9355780022446689}, 73: {'Precision Score ': 0.8806620209059233, 'Recall Score ': 0.9050046339202966, 'F1 Score ': 0.8922558922558923}, 74: {'Precision Score ': 0.8274032459425718, 'Recall Score ': 0.8136961722488039, 'F1 Score ': 0.8202779050236677}, 75: {'Precision Score ': 0.7472527472527473, 'Recall Score ': 0.7859237536656891, 'F1 Score ': 0.7644927536231885}, 76: {'Precision Score ': 0.6965277777777777, 'Recall Score ': 0.6965277777777777, 'F1 Score ': 0.6965277777777777}, 77: {'Precision Score ': 0.8208333333333333, 'Recall Score ': 0.7965686274509804, 'F1 Score ': 0.8070494186046512}, 78: {'Precision Score ': 0.7818815331010454, 'Recall Score ': 0.7866761162296244, 'F1 Score ': 0.7841897233201582}, 79: {'Precision Score ': 0.9201833848873178, 'Recall Score ': 0.9033404029692471, 'F1 Score ': 0.9095964367660951}, 80: {'Precision Score ': 0.8451858693142461, 'Recall Score ': 0.8444700460829493, 'F1 Score ': 0.8408999598232222}, 81: {'Precision Score ': 0.858974358974359, 'Recall Score ': 0.8869596031183558, 'F1 Score ': 0.8705862333021357}, 82: {'Precision Score ': 0.9221891288160834, 'Recall Score ': 0.9295454545454545, 'F1 Score ': 0.9257486154134985}, 83: {'Precision Score ': 0.8687270501835985, 'Recall Score ': 0.8540993241257714, 'F1 Score ': 0.8606845929143885}, 84: {'Precision Score ': 0.8223426678711232, 'Recall Score ': 0.8151309979393582, 'F1 Score ': 0.8184523809523809}, 85: {'Precision Score ': 0.9038800705467371, 'Recall Score ': 0.9148550724637681, 'F1 Score ': 0.9087719298245613}, 86: {'Precision Score ': 0.9565548780487805, 'Recall Score ': 0.9350036310820624, 'F1 Score ': 0.9453430005577244}, 87: {'Precision Score ': 0.8073529411764706, 'Recall Score ': 0.8669241573033708, 'F1 Score ': 0.8323754789272031}, 88: {'Precision Score ': 0.8519375361480624, 'Recall Score ': 0.8848829854522454, 'F1 Score ': 0.8671497584541064}, 89: {'Precision Score ': 0.9492248062015505, 'Recall Score ': 0.9398481973434535, 'F1 Score ': 0.9443965104016873}, 90: {'Precision Score ': 0.7405523255813953, 'Recall Score ': 0.7405523255813953, 'F1 Score ': 0.7405523255813953}, 91: {'Precision Score ': 0.7952380952380953, 'Recall Score ': 0.8204134366925064, 'F1 Score ': 0.8068111455108359}, 92: {'Precision Score ': 0.8888888888888888, 'Recall Score ': 0.967032967032967, 'F1 Score ': 0.9204545454545455}, 93: {'Precision Score ': 0.8875, 'Recall Score ': 0.8875, 'F1 Score ': 0.8875000000000001}, 94: {'Precision Score ': 0.7765151515151515, 'Recall Score ': 0.737012987012987, 'F1 Score ': 0.7534883720930232}, 95: {'Precision Score ': 0.7758620689655172, 'Recall Score ': 0.7195121951219512, 'F1 Score ': 0.7413355874894337}, 96: {'Precision Score ': 0.8598629093678598, 'Recall Score ': 0.8181818181818181, 'F1 Score ': 0.8371428571428571}, 97: {'Precision Score ': 0.9054355919583024, 'Recall Score ': 0.9481481481481482, 'F1 Score ': 0.9249999999999999}, 98: {'Precision Score ': 0.7951933124346917, 'Recall Score ': 0.7951933124346917, 'F1 Score ': 0.7951933124346917}, 99: {'Precision Score ': 0.8822368421052631, 'Recall Score ': 0.9167862266857962, 'F1 Score ': 0.8981481481481481}, 100: {'Precision Score ': 0.957997311827957, 'Recall Score ': 0.9357416879795396, 'F1 Score ': 0.9464373464373463}, 101: {'Precision Score ': 0.9945652173913043, 'Recall Score ': 0.9545454545454546, 'F1 Score ': 0.9734582357533177}, 102: {'Precision Score ': 0.8893960674157304, 'Recall Score ': 0.8893960674157304, 'F1 Score ': 0.8893960674157304}, 103: {'Precision Score ': 0.7967479674796748, 'Recall Score ': 0.7607142857142857, 'F1 Score ': 0.7768281101614434}, 104: {'Precision Score ': 0.822415329768271, 'Recall Score ': 0.8132034632034633, 'F1 Score ': 0.8170250109697237}, 105: {'Precision Score ': 0.7278350515463917, 'Recall Score ': 0.6868131868131868, 'F1 Score ': 0.702358926919519}, 106: {'Precision Score ': 0.8223684210526316, 'Recall Score ': 0.7722222222222221, 'F1 Score ': 0.7927927927927927}, 107: {'Precision Score ': 0.7929268292682927, 'Recall Score ': 0.765473032714412, 'F1 Score ': 0.7770833333333333}, 108: {'Precision Score ': 0.7589712918660287, 'Recall Score ': 0.7315508021390373, 'F1 Score ': 0.7435499788523896}, 109: {'Precision Score ': 0.705087440381558, 'Recall Score ': 0.7205128205128205, 'F1 Score ': 0.7113486842105263}, 110: {'Precision Score ': 0.8081560283687943, 'Recall Score ': 0.7270114942528736, 'F1 Score ': 0.7558608332088994}, 111: {'Precision Score ': 0.7647783251231527, 'Recall Score ': 0.7616279069767442, 'F1 Score ': 0.7631417885073104}, 112: {'Precision Score ': 0.7956730769230769, 'Recall Score ': 0.798775748153906, 'F1 Score ': 0.7968697164388193}, 113: {'Precision Score ': 0.6853211009174311, 'Recall Score ': 0.6343085106382979, 'F1 Score ': 0.6445623342175066}, 114: {'Precision Score ': 0.8143363728470112, 'Recall Score ': 0.7253086419753086, 'F1 Score ': 0.749090909090909}, 115: {'Precision Score ': 0.7916666666666667, 'Recall Score ': 0.7731979291119075, 'F1 Score ': 0.7814072932717}, 116: {'Precision Score ': 0.8164362519201229, 'Recall Score ': 0.7566445182724253, 'F1 Score ': 0.7790445787253448}, 117: {'Precision Score ': 0.7491228070175439, 'Recall Score ': 0.642570281124498, 'F1 Score ': 0.6660424469413233}, 118: {'Precision Score ': 0.6437764744216357, 'Recall Score ': 0.6363144887241272, 'F1 Score ': 0.6335164835164835}, 119: {'Precision Score ': 0.5989583333333333, 'Recall Score ': 0.5452380952380952, 'F1 Score ': 0.546031746031746}, 120: {'Precision Score ': 0.8651162790697675, 'Recall Score ': 0.8152610441767068, 'F1 Score ': 0.8370091447014524}, 121: {'Precision Score ': 0.7645502645502645, 'Recall Score ': 0.644927536231884, 'F1 Score ': 0.6672727272727272}, 122: {'Precision Score ': 0.5677655677655677, 'Recall Score ': 0.5415263748597082, 'F1 Score ': 0.5420656634746922}, 123: {'Precision Score ': 0.753125, 'Recall Score ': 0.725, 'F1 Score ': 0.7339181286549707}, 124: {'Precision Score ': 0.8191518467852257, 'Recall Score ': 0.8270255116344267, 'F1 Score ': 0.8228128460686601}, 125: {'Precision Score ': 0.8082225810458328, 'Recall Score ': 0.8110038851986465, 'F1 Score ': 0.8092031425364759}, 126: {'Precision Score ': 0.7936046511627908, 'Recall Score ': 0.7914539400665926, 'F1 Score ': 0.7924812030075188}, 127: {'Precision Score ': 0.7569444444444444, 'Recall Score ': 0.7660130718954248, 'F1 Score ': 0.7611556982343499}, 128: {'Precision Score ': 0.7578187650360866, 'Recall Score ': 0.7469278033794162, 'F1 Score ': 0.7519607843137255}, 129: {'Precision Score ': 0.8079268292682926, 'Recall Score ': 0.8106895667777493, 'F1 Score ': 0.8092503987240829}, 130: {'Precision Score ': 0.764367816091954, 'Recall Score ': 0.7536764705882353, 'F1 Score ': 0.7586271567891973}, 131: {'Precision Score ': 0.8130718954248366, 'Recall Score ': 0.800125313283208, 'F1 Score ': 0.8049169859514687}, 132: {'Precision Score ': 0.7684903748733536, 'Recall Score ': 0.7640398550724637, 'F1 Score ': 0.766089080656576}, 133: {'Precision Score ': 0.818075117370892, 'Recall Score ': 0.8171816479400749, 'F1 Score ': 0.8175958120092197}, 134: {'Precision Score ': 0.807942057942058, 'Recall Score ': 0.8190993788819876, 'F1 Score ': 0.8133180836192655}, 135: {'Precision Score ': 0.7210767468499427, 'Recall Score ': 0.6955420466058764, 'F1 Score ': 0.7066720365149685}, 136: {'Precision Score ': 0.8290529695024077, 'Recall Score ': 0.8106060606060606, 'F1 Score ': 0.8194038573933372}, 137: {'Precision Score ': 0.9545454545454546, 'Recall Score ': 0.9887640449438202, 'F1 Score ': 0.9705086580086579}, 138: {'Precision Score ': 0.6619601328903655, 'Recall Score ': 0.6529411764705882, 'F1 Score ': 0.6571889493849566}, 139: {'Precision Score ': 0.6979166666666667, 'Recall Score ': 0.6682479443390259, 'F1 Score ': 0.6808329066393582}, 140: {'Precision Score ': 0.8181818181818181, 'Recall Score ': 0.7319277108433735, 'F1 Score ': 0.7641325536062378}, 141: {'Precision Score ': 0.6867816091954023, 'Recall Score ': 0.6253858024691358, 'F1 Score ': 0.6446886446886447}, 142: {'Precision Score ': 0.8725527108433735, 'Recall Score ': 0.9061986863711002, 'F1 Score ': 0.8872549019607844}, 143: {'Precision Score ': 0.8843085106382979, 'Recall Score ': 0.82146829810901, 'F1 Score ': 0.845906579608237}, 144: {'Precision Score ': 0.852046783625731, 'Recall Score ': 0.7388888888888889, 'F1 Score ': 0.7800235017626322}, 145: {'Precision Score ': 0.5951219512195122, 'Recall Score ': 0.58125, 'F1 Score ': 0.5869809203142536}, 146: {'Precision Score ': 0.7012195121951219, 'Recall Score ': 0.6606621226874392, 'F1 Score ': 0.6770186335403727}, 147: {'Precision Score ': 0.8849945235487404, 'Recall Score ': 0.8338081671415005, 'F1 Score ': 0.8567073170731707}, 148: {'Precision Score ': 0.862736660929432, 'Recall Score ': 0.8252314814814814, 'F1 Score ': 0.8422764227642277}, 149: {'Precision Score ': 0.64375, 'Recall Score ': 0.6148851148851149, 'F1 Score ': 0.6261423428413182}, 150: {'Precision Score ': 0.7312091503267973, 'Recall Score ': 0.7243183259353203, 'F1 Score ': 0.7274774774774775}, 151: {'Precision Score ': 0.8131578947368421, 'Recall Score ': 0.7335164835164836, 'F1 Score ': 0.7647849462365592}, 152: {'Precision Score ': 0.885, 'Recall Score ': 0.6988636363636364, 'F1 Score ': 0.7440159574468086}, 153: {'Precision Score ': 0.7760453579021971, 'Recall Score ': 0.8443854995579134, 'F1 Score ': 0.803921568627451}, 154: {'Precision Score ': 0.8294975067126966, 'Recall Score ': 0.8841681574239714, 'F1 Score ': 0.8504365690806369}, 155: {'Precision Score ': 0.8250921375921376, 'Recall Score ': 0.8421137685843567, 'F1 Score ': 0.832795656621292}, 156: {'Precision Score ': 0.8924889543446244, 'Recall Score ': 0.7252747252747254, 'F1 Score ': 0.7787234042553192}, 157: {'Precision Score ': 0.8422733077905491, 'Recall Score ': 0.8501742160278746, 'F1 Score ': 0.8460876116672047}, 158: {'Precision Score ': 0.782967032967033, 'Recall Score ': 0.7372430900070872, 'F1 Score ': 0.7534482758620691}, 159: {'Precision Score ': 0.7691558441558441, 'Recall Score ': 0.7691558441558441, 'F1 Score ': 0.7691558441558441}, 160: {'Precision Score ': 0.7775974025974026, 'Recall Score ': 0.7453371592539455, 'F1 Score ': 0.7578747628083491}, 161: {'Precision Score ': 0.9139705882352941, 'Recall Score ': 0.9021428571428571, 'F1 Score ': 0.907861369399831}, 162: {'Precision Score ': 0.8221288515406162, 'Recall Score ': 0.7764423076923077, 'F1 Score ': 0.7949709864603481}, 163: {'Precision Score ': 0.799526270456503, 'Recall Score ': 0.7922268907563026, 'F1 Score ': 0.7957469431153641}, 164: {'Precision Score ': 0.8452797202797202, 'Recall Score ': 0.8379679144385027, 'F1 Score ': 0.8411755172600075}, 165: {'Precision Score ': 0.783851976450799, 'Recall Score ': 0.7777777777777777, 'F1 Score ': 0.7807008422585007}, 166: {'Precision Score ': 0.832051282051282, 'Recall Score ': 0.8503787878787878, 'F1 Score ': 0.8405263157894738}, 167: {'Precision Score ': 0.8029715762273901, 'Recall Score ': 0.8029715762273901, 'F1 Score ': 0.8029715762273901}, 168: {'Precision Score ': 0.8311175737432488, 'Recall Score ': 0.8239837398373984, 'F1 Score ': 0.8274268104776579}}"
     ]
    },
    {
     "name": "stdout",
     "output_type": "stream",
     "text": [
      "\n"
     ]
    }
   ],
   "source": [
    "result_history = run_model(model_type = \"LR\")"
   ]
  },
  {
   "cell_type": "code",
   "execution_count": 40,
   "metadata": {},
   "outputs": [],
   "source": [
    "# f = open(\"binary_linear_regression_result\", \"wb\")\n",
    "# pickle.dump(result_history, f)\n",
    "# f.close()"
   ]
  },
  {
   "cell_type": "code",
   "execution_count": 41,
   "metadata": {},
   "outputs": [],
   "source": [
    "f = open(\"binary_linear_regression_result\", \"rb\")\n",
    "l = pickle.load(f)\n",
    "f.close()"
   ]
  },
  {
   "cell_type": "code",
   "execution_count": 42,
   "metadata": {},
   "outputs": [],
   "source": [
    "l = {k: v for k, v in sorted(l.items(), key=lambda item: item[1][\"F1 Score \"], reverse = True)}"
   ]
  },
  {
   "cell_type": "code",
   "execution_count": 43,
   "metadata": {},
   "outputs": [
    {
     "name": "stdout",
     "output_type": "stream",
     "text": [
      "101  =  {'Precision Score ': 0.9945652173913043, 'Recall Score ': 0.9545454545454546, 'F1 Score ': 0.9734582357533177}\n",
      "137  =  {'Precision Score ': 0.9545454545454546, 'Recall Score ': 0.9887640449438202, 'F1 Score ': 0.9705086580086579}\n",
      "71  =  {'Precision Score ': 0.9285714285714286, 'Recall Score ': 0.9891304347826086, 'F1 Score ': 0.956043956043956}\n",
      "100  =  {'Precision Score ': 0.957997311827957, 'Recall Score ': 0.9357416879795396, 'F1 Score ': 0.9464373464373463}\n",
      "86  =  {'Precision Score ': 0.9565548780487805, 'Recall Score ': 0.9350036310820624, 'F1 Score ': 0.9453430005577244}\n",
      "89  =  {'Precision Score ': 0.9492248062015505, 'Recall Score ': 0.9398481973434535, 'F1 Score ': 0.9443965104016873}\n",
      "72  =  {'Precision Score ': 0.9384036144578314, 'Recall Score ': 0.9329268292682926, 'F1 Score ': 0.9355780022446689}\n",
      "82  =  {'Precision Score ': 0.9221891288160834, 'Recall Score ': 0.9295454545454545, 'F1 Score ': 0.9257486154134985}\n",
      "97  =  {'Precision Score ': 0.9054355919583024, 'Recall Score ': 0.9481481481481482, 'F1 Score ': 0.9249999999999999}\n",
      "92  =  {'Precision Score ': 0.8888888888888888, 'Recall Score ': 0.967032967032967, 'F1 Score ': 0.9204545454545455}\n",
      "7  =  {'Precision Score ': 0.875, 'Recall Score ': 0.9772727272727273, 'F1 Score ': 0.9169435215946844}\n",
      "66  =  {'Precision Score ': 0.9199673336055533, 'Recall Score ': 0.9047619047619048, 'F1 Score ': 0.9118589743589745}\n",
      "37  =  {'Precision Score ': 0.8869747899159663, 'Recall Score ': 0.9410919540229885, 'F1 Score ': 0.9114490161001789}\n",
      "79  =  {'Precision Score ': 0.9201833848873178, 'Recall Score ': 0.9033404029692471, 'F1 Score ': 0.9095964367660951}\n",
      "85  =  {'Precision Score ': 0.9038800705467371, 'Recall Score ': 0.9148550724637681, 'F1 Score ': 0.9087719298245613}\n",
      "25  =  {'Precision Score ': 0.8996173093906388, 'Recall Score ': 0.9193697868396664, 'F1 Score ': 0.9081601927130383}\n",
      "161  =  {'Precision Score ': 0.9139705882352941, 'Recall Score ': 0.9021428571428571, 'F1 Score ': 0.907861369399831}\n",
      "45  =  {'Precision Score ': 0.8848637015781922, 'Recall Score ': 0.9252873563218391, 'F1 Score ': 0.9019442096365173}\n",
      "99  =  {'Precision Score ': 0.8822368421052631, 'Recall Score ': 0.9167862266857962, 'F1 Score ': 0.8981481481481481}\n",
      "73  =  {'Precision Score ': 0.8806620209059233, 'Recall Score ': 0.9050046339202966, 'F1 Score ': 0.8922558922558923}\n"
     ]
    }
   ],
   "source": [
    "# Top 20 playlists \n",
    "for key in list(l.keys())[:20]:\n",
    "    print(key,\" = \",  l[key])"
   ]
  },
  {
   "cell_type": "code",
   "execution_count": 44,
   "metadata": {},
   "outputs": [
    {
     "data": {
      "text/plain": [
       "' Decision Tree Result'"
      ]
     },
     "execution_count": 44,
     "metadata": {},
     "output_type": "execute_result"
    }
   ],
   "source": [
    "\"\"\" Decision Tree Result\"\"\""
   ]
  },
  {
   "cell_type": "code",
   "execution_count": 45,
   "metadata": {},
   "outputs": [
    {
     "name": "stderr",
     "output_type": "stream",
     "text": [
      "Progress : 100%|████████████████████████████████████████████████████████████████████████████████| 169/169 [14:38<00:00,  5.20s/it]\n"
     ]
    },
    {
     "name": "stdout",
     "output_type": "stream",
     "text": [
      "{0: {'Precision Score ': 0.8551810237203495, 'Recall Score ': 0.7574660633484163, 'F1 Score ': 0.7951933124346917}, 1: {'Precision Score ': 0.7569444444444444, 'Recall Score ': 0.6397664835164836, 'F1 Score ': 0.6714912280701754}, 2: {'Precision Score ': 0.648989898989899, 'Recall Score ': 0.672893772893773, 'F1 Score ': 0.659048586422888}, 3: {'Precision Score ': 0.7740461049284579, 'Recall Score ': 0.8198051948051948, 'F1 Score ': 0.7883289124668434}, 4: {'Precision Score ': 0.6931818181818181, 'Recall Score ': 0.6757105943152455, 'F1 Score ': 0.6835699797160244}, 5: {'Precision Score ': 0.7575075075075075, 'Recall Score ': 0.8339824732229796, 'F1 Score ': 0.7866329327429896}, 6: {'Precision Score ': 0.7457013574660634, 'Recall Score ': 0.7836990595611285, 'F1 Score ': 0.7625968992248062}, 7: {'Precision Score ': 0.7633928571428572, 'Recall Score ': 0.8352272727272727, 'F1 Score ': 0.7923588039867109}, 8: {'Precision Score ': 0.9229390681003584, 'Recall Score ': 0.8277777777777777, 'F1 Score ': 0.8672911787665887}, 9: {'Precision Score ': 0.75, 'Recall Score ': 0.7216117216117216, 'F1 Score ': 0.7335271317829457}, 10: {'Precision Score ': 0.6316595223515002, 'Recall Score ': 0.6919642857142857, 'F1 Score ': 0.6466797923751566}, 11: {'Precision Score ': 0.7185978578383642, 'Recall Score ': 0.7458926615553121, 'F1 Score ': 0.7299382716049383}, 12: {'Precision Score ': 0.7178588125292192, 'Recall Score ': 0.7427083333333333, 'F1 Score ': 0.7288052171773102}, 13: {'Precision Score ': 0.727013316423589, 'Recall Score ': 0.7601744186046512, 'F1 Score ': 0.7413355874894336}, 14: {'Precision Score ': 0.7145454545454546, 'Recall Score ': 0.7518292682926829, 'F1 Score ': 0.7291404612159329}, 15: {'Precision Score ': 0.7676767676767677, 'Recall Score ': 0.6843769765970904, 'F1 Score ': 0.7135416666666667}, 16: {'Precision Score ': 0.6751769464105157, 'Recall Score ': 0.6810344827586207, 'F1 Score ': 0.6779704560051381}, 17: {'Precision Score ': 0.7439516129032258, 'Recall Score ': 0.7492509363295881, 'F1 Score ': 0.7465036584236362}, 18: {'Precision Score ': 0.7336309523809523, 'Recall Score ': 0.6896135265700483, 'F1 Score ': 0.7074468085106382}, 19: {'Precision Score ': 0.7472222222222222, 'Recall Score ': 0.7315447154471545, 'F1 Score ': 0.7375785504817765}, 20: {'Precision Score ': 0.675891181988743, 'Recall Score ': 0.65625, 'F1 Score ': 0.6649029982363316}, 21: {'Precision Score ': 0.7504201680672269, 'Recall Score ': 0.7504201680672269, 'F1 Score ': 0.7504201680672269}, 22: {'Precision Score ': 0.7797619047619048, 'Recall Score ': 0.8092105263157895, 'F1 Score ': 0.7920997920997921}, 23: {'Precision Score ': 0.7659883720930232, 'Recall Score ': 0.6737891737891738, 'F1 Score ': 0.7051611063587111}, 24: {'Precision Score ': 0.8210126582278481, 'Recall Score ': 0.8773809523809524, 'F1 Score ': 0.8440354464894342}, 25: {'Precision Score ': 0.9106518282988871, 'Recall Score ': 0.8989805375347544, 'F1 Score ': 0.9044486215538847}, 26: {'Precision Score ': 0.6995495495495496, 'Recall Score ': 0.7397186147186148, 'F1 Score ': 0.7162129016433653}, 27: {'Precision Score ': 0.5054945054945055, 'Recall Score ': 0.5054945054945055, 'F1 Score ': 0.5054945054945055}, 28: {'Precision Score ': 0.743421052631579, 'Recall Score ': 0.8297373358348968, 'F1 Score ': 0.7745253164556962}, 29: {'Precision Score ': 0.596078431372549, 'Recall Score ': 0.603750756200847, 'F1 Score ': 0.5994186046511627}, 30: {'Precision Score ': 0.7202694565708264, 'Recall Score ': 0.7037385129490392, 'F1 Score ': 0.7101279298460872}, 31: {'Precision Score ': 0.5649350649350648, 'Recall Score ': 0.5729166666666666, 'F1 Score ': 0.5678588926996571}, 32: {'Precision Score ': 0.7730263157894737, 'Recall Score ': 0.8001808318264014, 'F1 Score ': 0.7849462365591398}, 33: {'Precision Score ': 0.6702380952380953, 'Recall Score ': 0.6869281045751634, 'F1 Score ': 0.6779819370912489}, 34: {'Precision Score ': 0.6990243902439024, 'Recall Score ': 0.7111801242236024, 'F1 Score ': 0.7045682730923695}, 35: {'Precision Score ': 0.5892857142857143, 'Recall Score ': 0.5856055802155993, 'F1 Score ': 0.5873118627609645}, 36: {'Precision Score ': 0.7577422577422577, 'Recall Score ': 0.6706349206349206, 'F1 Score ': 0.6985221674876847}, 37: {'Precision Score ': 0.8956043956043955, 'Recall Score ': 0.7441860465116279, 'F1 Score ': 0.7960154623847755}, 38: {'Precision Score ': 0.8317384370015949, 'Recall Score ': 0.8466666666666667, 'F1 Score ': 0.8366517675741569}, 39: {'Precision Score ': 0.6720321931589537, 'Recall Score ': 0.7220779220779221, 'F1 Score ': 0.6891891891891893}, 40: {'Precision Score ': 0.8135521885521886, 'Recall Score ': 0.792156862745098, 'F1 Score ': 0.8017442450055775}, 41: {'Precision Score ': 0.6687312312312312, 'Recall Score ': 0.6628229896160347, 'F1 Score ': 0.6636853712325411}, 42: {'Precision Score ': 0.6259124087591241, 'Recall Score ': 0.6304101304101304, 'F1 Score ': 0.6275974025974027}, 43: {'Precision Score ': 0.7686150409530901, 'Recall Score ': 0.7686150409530901, 'F1 Score ': 0.7686150409530901}, 44: {'Precision Score ': 0.8309871703492516, 'Recall Score ': 0.8292272243885147, 'F1 Score ': 0.8300679728108756}, 45: {'Precision Score ': 0.901707779886148, 'Recall Score ': 0.9195402298850575, 'F1 Score ': 0.9100775193798449}, 46: {'Precision Score ': 0.7098873591989987, 'Recall Score ': 0.7093632958801498, 'F1 Score ': 0.7092703648175912}, 47: {'Precision Score ': 0.8161535029004908, 'Recall Score ': 0.8016177096636867, 'F1 Score ': 0.8083623693379791}, 48: {'Precision Score ': 0.6490723804546643, 'Recall Score ': 0.6529080675422139, 'F1 Score ': 0.6507936507936508}, 49: {'Precision Score ': 0.7956495098039216, 'Recall Score ': 0.7330917874396135, 'F1 Score ': 0.7569892473118278}, 50: {'Precision Score ': 0.6845238095238095, 'Recall Score ': 0.6803074366431243, 'F1 Score ': 0.6823195713835488}, 51: {'Precision Score ': 0.652948402948403, 'Recall Score ': 0.6773504273504274, 'F1 Score ': 0.660688901038819}, 52: {'Precision Score ': 0.7502210433244916, 'Recall Score ': 0.7502210433244916, 'F1 Score ': 0.7502210433244916}, 53: {'Precision Score ': 0.7384321653189578, 'Recall Score ': 0.7384321653189578, 'F1 Score ': 0.7384321653189578}, 54: {'Precision Score ': 0.6692567567567567, 'Recall Score ': 0.6807359307359307, 'F1 Score ': 0.6738675958188152}, 55: {'Precision Score ': 0.6599025974025974, 'Recall Score ': 0.6413199426111909, 'F1 Score ': 0.6478178368121442}, 56: {'Precision Score ': 0.6835294117647059, 'Recall Score ': 0.6785714285714286, 'F1 Score ': 0.6809374637428935}, 57: {'Precision Score ': 0.6224747474747474, 'Recall Score ': 0.6205343274308792, 'F1 Score ': 0.6214481409001956}, 58: {'Precision Score ': 0.7278525868178597, 'Recall Score ': 0.741185296324081, 'F1 Score ': 0.7337278106508875}, 59: {'Precision Score ': 0.6959459459459459, 'Recall Score ': 0.7308519793459552, 'F1 Score ': 0.7063204311611955}, 60: {'Precision Score ': 0.7418954996186118, 'Recall Score ': 0.7465021375825884, 'F1 Score ': 0.7424264246963368}, 61: {'Precision Score ': 0.6806277056277057, 'Recall Score ': 0.6910485347985349, 'F1 Score ': 0.6838280166435506}, 62: {'Precision Score ': 0.7862700803212852, 'Recall Score ': 0.7862700803212852, 'F1 Score ': 0.7862700803212851}, 63: {'Precision Score ': 0.8522875816993464, 'Recall Score ': 0.8454242501922584, 'F1 Score ': 0.8486024844720497}, 64: {'Precision Score ': 0.8352534562211982, 'Recall Score ': 0.8500400962309542, 'F1 Score ': 0.842156862745098}, 65: {'Precision Score ': 0.810104052573932, 'Recall Score ': 0.8348610289769367, 'F1 Score ': 0.819909245604084}, 66: {'Precision Score ': 0.794439935064935, 'Recall Score ': 0.789274322169059, 'F1 Score ': 0.79175465057818}, 67: {'Precision Score ': 0.7237547892720306, 'Recall Score ': 0.710576923076923, 'F1 Score ': 0.7147972097043027}, 68: {'Precision Score ': 0.7640692640692641, 'Recall Score ': 0.7593537414965986, 'F1 Score ': 0.7605482972799316}, 69: {'Precision Score ': 0.7003484320557491, 'Recall Score ': 0.6916666666666667, 'F1 Score ': 0.6956151553852703}, 70: {'Precision Score ': 0.7980392156862746, 'Recall Score ': 0.7317073170731707, 'F1 Score ': 0.7587681779298546}, 71: {'Precision Score ': 0.9437927663734116, 'Recall Score ': 0.911231884057971, 'F1 Score ': 0.9266745005875441}, 72: {'Precision Score ': 0.8871517027863778, 'Recall Score ': 0.8719512195121951, 'F1 Score ': 0.878799363298719}, 73: {'Precision Score ': 0.9371035940803383, 'Recall Score ': 0.8786630036630036, 'F1 Score ': 0.9049019607843137}, 74: {'Precision Score ': 0.8192333113020489, 'Recall Score ': 0.8049242424242424, 'F1 Score ': 0.8117836965294593}, 75: {'Precision Score ': 0.718052738336714, 'Recall Score ': 0.81524926686217, 'F1 Score ': 0.7523809523809524}, 76: {'Precision Score ': 0.7401823281907434, 'Recall Score ': 0.7329931972789117, 'F1 Score ': 0.7361518550474547}, 77: {'Precision Score ': 0.8081414748081415, 'Recall Score ': 0.8292335115864528, 'F1 Score ': 0.8172117039586919}, 78: {'Precision Score ': 0.8841652323580035, 'Recall Score ': 0.8907563025210083, 'F1 Score ': 0.8873557233359368}, 79: {'Precision Score ': 0.8868727598566308, 'Recall Score ': 0.8707997852925389, 'F1 Score ': 0.8767194464954741}, 80: {'Precision Score ': 0.8121850664223547, 'Recall Score ': 0.809631985461154, 'F1 Score ': 0.8104873183243091}, 81: {'Precision Score ': 0.7444444444444445, 'Recall Score ': 0.7104890148830616, 'F1 Score ': 0.7228276319529992}, 82: {'Precision Score ': 0.8152631578947369, 'Recall Score ': 0.8403409090909091, 'F1 Score ': 0.8254429804634258}, 83: {'Precision Score ': 0.8080720092915215, 'Recall Score ': 0.811783720246841, 'F1 Score ': 0.809857612267251}, 84: {'Precision Score ': 0.7758928571428572, 'Recall Score ': 0.772887842213718, 'F1 Score ': 0.7743248242693304}, 85: {'Precision Score ': 0.895, 'Recall Score ': 0.9089026915113871, 'F1 Score ': 0.9009146341463414}, 86: {'Precision Score ': 0.7324695121951219, 'Recall Score ': 0.7214960058097313, 'F1 Score ': 0.7267150027886224}, 87: {'Precision Score ': 0.6961444308445532, 'Recall Score ': 0.7250702247191011, 'F1 Score ': 0.7085714285714284}, 88: {'Precision Score ': 0.7364705882352941, 'Recall Score ': 0.8178368121442126, 'F1 Score ': 0.7645799892990904}, 89: {'Precision Score ': 0.9292550977944236, 'Recall Score ': 0.8914611005692599, 'F1 Score ': 0.9080459770114943}, 90: {'Precision Score ': 0.8095238095238095, 'Recall Score ': 0.8401162790697674, 'F1 Score ': 0.8235294117647058}, 91: {'Precision Score ': 0.8188502673796791, 'Recall Score ': 0.8045977011494252, 'F1 Score ': 0.8114285714285714}, 92: {'Precision Score ': 0.8941860465116279, 'Recall Score ': 0.9484126984126984, 'F1 Score ': 0.9177371541501975}, 93: {'Precision Score ': 0.8633655994043187, 'Recall Score ': 0.88125, 'F1 Score ': 0.8719268153230417}, 94: {'Precision Score ': 0.6082317073170731, 'Recall Score ': 0.6152597402597403, 'F1 Score ': 0.611314824515453}, 95: {'Precision Score ': 0.751984126984127, 'Recall Score ': 0.7323170731707318, 'F1 Score ': 0.741280913126189}, 96: {'Precision Score ': 0.8177083333333333, 'Recall Score ': 0.8696969696969697, 'F1 Score ': 0.8405594405594405}, 97: {'Precision Score ': 0.949343339587242, 'Recall Score ': 0.9223985890652557, 'F1 Score ': 0.9352419904567144}, 98: {'Precision Score ': 0.9780219780219781, 'Recall Score ': 0.8181818181818181, 'F1 Score ': 0.877652933832709}, 99: {'Precision Score ': 0.941029900332226, 'Recall Score ': 0.8763288447909283, 'F1 Score ': 0.9045619393013934}, 100: {'Precision Score ': 0.938949938949939, 'Recall Score ': 0.9597186700767264, 'F1 Score ': 0.9489461358313818}, 101: {'Precision Score ': 0.9110486891385767, 'Recall Score ': 0.9434343434343434, 'F1 Score ': 0.9264027204274958}, 102: {'Precision Score ': 0.9065934065934066, 'Recall Score ': 0.8637640449438202, 'F1 Score ': 0.8833333333333333}, 103: {'Precision Score ': 0.9202380952380953, 'Recall Score ': 0.8151785714285715, 'F1 Score ': 0.8567073170731707}, 104: {'Precision Score ': 0.6356181665264928, 'Recall Score ': 0.6379679144385026, 'F1 Score ': 0.6364792538816173}, 105: {'Precision Score ': 0.6635658914728682, 'Recall Score ': 0.6803418803418804, 'F1 Score ': 0.6704545454545454}, 106: {'Precision Score ': 0.9062229904926534, 'Recall Score ': 0.9177777777777778, 'F1 Score ': 0.9118194763939096}, 107: {'Precision Score ': 0.7013052208835342, 'Recall Score ': 0.6772767462422635, 'F1 Score ': 0.6865111918434315}, 108: {'Precision Score ': 0.6697936210131332, 'Recall Score ': 0.6913319238900635, 'F1 Score ': 0.6785714285714286}, 109: {'Precision Score ': 0.6294372294372295, 'Recall Score ': 0.6294372294372295, 'F1 Score ': 0.6294372294372295}, 110: {'Precision Score ': 0.7178921568627451, 'Recall Score ': 0.7322361546499478, 'F1 Score ': 0.724469160768453}, 111: {'Precision Score ': 0.7130030959752323, 'Recall Score ': 0.686046511627907, 'F1 Score ': 0.6945540647198105}, 112: {'Precision Score ': 0.7815524583817266, 'Recall Score ': 0.7826467158958414, 'F1 Score ': 0.782060606060606}, 113: {'Precision Score ': 0.6534090909090908, 'Recall Score ': 0.6651595744680852, 'F1 Score ': 0.6575517505750064}, 114: {'Precision Score ': 0.6829710144927537, 'Recall Score ': 0.6449067431850789, 'F1 Score ': 0.6551724137931035}, 115: {'Precision Score ': 0.6474875335634829, 'Recall Score ': 0.653126244524094, 'F1 Score ': 0.65}, 116: {'Precision Score ': 0.7515212981744421, 'Recall Score ': 0.7574750830564785, 'F1 Score ': 0.7543859649122807}, 117: {'Precision Score ': 0.6683982683982683, 'Recall Score ': 0.695281124497992, 'F1 Score ': 0.6780092592592593}, 118: {'Precision Score ': 0.7454475308641975, 'Recall Score ': 0.7456750077232005, 'F1 Score ': 0.7453023112242929}, 119: {'Precision Score ': 0.5585197934595525, 'Recall Score ': 0.5607142857142857, 'F1 Score ': 0.559515116109245}, 120: {'Precision Score ': 0.6004016064257028, 'Recall Score ': 0.6050420168067226, 'F1 Score ': 0.6025662959794696}, 121: {'Precision Score ': 0.6132218844984803, 'Recall Score ': 0.6056362991846862, 'F1 Score ': 0.60879523591388}, 122: {'Precision Score ': 0.5846385542168675, 'Recall Score ': 0.5788439955106621, 'F1 Score ': 0.5813008130081301}, 123: {'Precision Score ': 0.5944872009369249, 'Recall Score ': 0.5968364197530864, 'F1 Score ': 0.5953323035906984}, 124: {'Precision Score ': 0.7199690002583312, 'Recall Score ': 0.7387160078497337, 'F1 Score ': 0.7258366800535475}, 125: {'Precision Score ': 0.7052424639580603, 'Recall Score ': 0.6987814166031988, 'F1 Score ': 0.7005148005148005}, 126: {'Precision Score ': 0.681159420289855, 'Recall Score ': 0.6914539400665927, 'F1 Score ': 0.6768149882903982}, 127: {'Precision Score ': 0.6678571428571429, 'Recall Score ': 0.6475545274289491, 'F1 Score ': 0.6549789621318374}, 128: {'Precision Score ': 0.6739130434782609, 'Recall Score ': 0.7119815668202765, 'F1 Score ': 0.6778711484593838}, 129: {'Precision Score ': 0.7921842650103519, 'Recall Score ': 0.7894129710330684, 'F1 Score ': 0.7907410984482648}, 130: {'Precision Score ': 0.6931153184165233, 'Recall Score ': 0.7038517441860466, 'F1 Score ': 0.6977832729841915}, 131: {'Precision Score ': 0.7438322368421053, 'Recall Score ': 0.7506869583597549, 'F1 Score ': 0.7453090077446851}, 132: {'Precision Score ': 0.6934065934065934, 'Recall Score ': 0.691304347826087, 'F1 Score ': 0.692286676987524}, 133: {'Precision Score ': 0.7206959706959707, 'Recall Score ': 0.7225642604278898, 'F1 Score ': 0.7209355740152357}, 134: {'Precision Score ': 0.8245341614906833, 'Recall Score ': 0.8245341614906833, 'F1 Score ': 0.8245341614906833}, 135: {'Precision Score ': 0.7689144736842105, 'Recall Score ': 0.7484802431610942, 'F1 Score ': 0.7578947368421052}, 136: {'Precision Score ': 0.8210227272727273, 'Recall Score ': 0.8385767790262172, 'F1 Score ': 0.82941498086386}, 137: {'Precision Score ': 0.8985807214665877, 'Recall Score ': 0.8829545454545455, 'F1 Score ': 0.8904823989569752}, 138: {'Precision Score ': 0.6470588235294118, 'Recall Score ': 0.6470588235294118, 'F1 Score ': 0.6470588235294118}, 139: {'Precision Score ': 0.6409883720930232, 'Recall Score ': 0.6840607210626186, 'F1 Score ': 0.6552663850660854}, 140: {'Precision Score ': 0.9053156146179402, 'Recall Score ': 0.8630952380952381, 'F1 Score ': 0.8823529411764706}, 141: {'Precision Score ': 0.6983805668016194, 'Recall Score ': 0.7390243902439024, 'F1 Score ': 0.7147058823529412}, 142: {'Precision Score ': 0.8249158249158248, 'Recall Score ': 0.8169129720853858, 'F1 Score ': 0.8207792207792208}, 143: {'Precision Score ': 0.8510971786833856, 'Recall Score ': 0.8360840210052514, 'F1 Score ': 0.8431034482758621}, 144: {'Precision Score ': 0.6428571428571429, 'Recall Score ': 0.6341269841269841, 'F1 Score ': 0.6382238592183344}, 145: {'Precision Score ': 0.5909090909090908, 'Recall Score ': 0.6033755274261603, 'F1 Score ': 0.5961538461538461}, 146: {'Precision Score ': 0.7094448449891853, 'Recall Score ': 0.7828627069133398, 'F1 Score ': 0.7351973684210527}, 147: {'Precision Score ': 0.6875593542260209, 'Recall Score ': 0.6875593542260209, 'F1 Score ': 0.6875593542260209}, 148: {'Precision Score ': 0.7922794117647058, 'Recall Score ': 0.806712962962963, 'F1 Score ': 0.7991718426501035}, 149: {'Precision Score ': 0.609704641350211, 'Recall Score ': 0.6025641025641026, 'F1 Score ': 0.6058598726114649}, 150: {'Precision Score ': 0.7412445278298937, 'Recall Score ': 0.7446100190234624, 'F1 Score ': 0.7428571428571429}, 151: {'Precision Score ': 0.8484042553191489, 'Recall Score ': 0.8051242236024845, 'F1 Score ': 0.8246484698097603}, 152: {'Precision Score ': 0.7296015180265655, 'Recall Score ': 0.6875, 'F1 Score ': 0.7039240685649526}, 153: {'Precision Score ': 0.8355464759959141, 'Recall Score ': 0.790450928381963, 'F1 Score ': 0.8106060606060606}, 154: {'Precision Score ': 0.75, 'Recall Score ': 0.7361359570661896, 'F1 Score ': 0.7425287356321839}, 155: {'Precision Score ': 0.8053743398570985, 'Recall Score ': 0.8212418300653594, 'F1 Score ': 0.8125248667144108}, 156: {'Precision Score ': 0.7362637362637363, 'Recall Score ': 0.7362637362637363, 'F1 Score ': 0.7362637362637363}, 157: {'Precision Score ': 0.8328313253012047, 'Recall Score ': 0.8328313253012047, 'F1 Score ': 0.8328313253012047}, 158: {'Precision Score ': 0.7295552367288378, 'Recall Score ': 0.7295552367288378, 'F1 Score ': 0.7295552367288378}, 159: {'Precision Score ': 0.6971571906354515, 'Recall Score ': 0.6935960591133005, 'F1 Score ': 0.6946410097248086}, 160: {'Precision Score ': 0.6722222222222223, 'Recall Score ': 0.6482990786676116, 'F1 Score ': 0.656306263621719}, 161: {'Precision Score ': 0.8403866248693834, 'Recall Score ': 0.8102380952380952, 'F1 Score ': 0.8236904317531418}, 162: {'Precision Score ': 0.7820401046207498, 'Recall Score ': 0.8149951314508277, 'F1 Score ': 0.7953216374269005}, 163: {'Precision Score ': 0.7044334975369457, 'Recall Score ': 0.7092436974789915, 'F1 Score ': 0.7067372573445448}, 164: {'Precision Score ': 0.745608327911516, 'Recall Score ': 0.7422459893048128, 'F1 Score ': 0.743755383290267}, 165: {'Precision Score ': 0.7467774762550883, 'Recall Score ': 0.7993827160493827, 'F1 Score ': 0.7567567567567568}, 166: {'Precision Score ': 0.7802564102564102, 'Recall Score ': 0.7957251082251082, 'F1 Score ': 0.7873684210526315}, 167: {'Precision Score ': 0.7626823081800889, 'Recall Score ': 0.770751633986928, 'F1 Score ': 0.7664092664092664}, 168: {'Precision Score ': 0.815625, 'Recall Score ': 0.8284552845528456, 'F1 Score ': 0.8215850258861012}}"
     ]
    },
    {
     "name": "stdout",
     "output_type": "stream",
     "text": [
      "\n"
     ]
    }
   ],
   "source": [
    "result_history = run_model(model_type = \"DT\")"
   ]
  },
  {
   "cell_type": "code",
   "execution_count": 46,
   "metadata": {},
   "outputs": [],
   "source": [
    "# f = open(\"binary_decision_tree_result\", \"wb\")\n",
    "# pickle.dump(result_history, f)\n",
    "# f.close()"
   ]
  },
  {
   "cell_type": "code",
   "execution_count": 47,
   "metadata": {},
   "outputs": [],
   "source": [
    "f = open(\"binary_decision_tree_result\", \"rb\")\n",
    "l = pickle.load(f)\n",
    "f.close()"
   ]
  },
  {
   "cell_type": "code",
   "execution_count": 48,
   "metadata": {},
   "outputs": [],
   "source": [
    "l = {k: v for k, v in sorted(l.items(), key=lambda item: item[1][\"F1 Score \"], reverse = True)}"
   ]
  },
  {
   "cell_type": "code",
   "execution_count": 49,
   "metadata": {},
   "outputs": [
    {
     "name": "stdout",
     "output_type": "stream",
     "text": [
      "100  =  {'Precision Score ': 0.938949938949939, 'Recall Score ': 0.9597186700767264, 'F1 Score ': 0.9489461358313818}\n",
      "97  =  {'Precision Score ': 0.949343339587242, 'Recall Score ': 0.9223985890652557, 'F1 Score ': 0.9352419904567144}\n",
      "71  =  {'Precision Score ': 0.9437927663734116, 'Recall Score ': 0.911231884057971, 'F1 Score ': 0.9266745005875441}\n",
      "101  =  {'Precision Score ': 0.9110486891385767, 'Recall Score ': 0.9434343434343434, 'F1 Score ': 0.9264027204274958}\n",
      "92  =  {'Precision Score ': 0.8941860465116279, 'Recall Score ': 0.9484126984126984, 'F1 Score ': 0.9177371541501975}\n",
      "106  =  {'Precision Score ': 0.9062229904926534, 'Recall Score ': 0.9177777777777778, 'F1 Score ': 0.9118194763939096}\n",
      "45  =  {'Precision Score ': 0.901707779886148, 'Recall Score ': 0.9195402298850575, 'F1 Score ': 0.9100775193798449}\n",
      "89  =  {'Precision Score ': 0.9292550977944236, 'Recall Score ': 0.8914611005692599, 'F1 Score ': 0.9080459770114943}\n",
      "73  =  {'Precision Score ': 0.9371035940803383, 'Recall Score ': 0.8786630036630036, 'F1 Score ': 0.9049019607843137}\n",
      "99  =  {'Precision Score ': 0.941029900332226, 'Recall Score ': 0.8763288447909283, 'F1 Score ': 0.9045619393013934}\n",
      "25  =  {'Precision Score ': 0.9106518282988871, 'Recall Score ': 0.8989805375347544, 'F1 Score ': 0.9044486215538847}\n",
      "85  =  {'Precision Score ': 0.895, 'Recall Score ': 0.9089026915113871, 'F1 Score ': 0.9009146341463414}\n",
      "137  =  {'Precision Score ': 0.8985807214665877, 'Recall Score ': 0.8829545454545455, 'F1 Score ': 0.8904823989569752}\n",
      "78  =  {'Precision Score ': 0.8841652323580035, 'Recall Score ': 0.8907563025210083, 'F1 Score ': 0.8873557233359368}\n",
      "102  =  {'Precision Score ': 0.9065934065934066, 'Recall Score ': 0.8637640449438202, 'F1 Score ': 0.8833333333333333}\n",
      "140  =  {'Precision Score ': 0.9053156146179402, 'Recall Score ': 0.8630952380952381, 'F1 Score ': 0.8823529411764706}\n",
      "72  =  {'Precision Score ': 0.8871517027863778, 'Recall Score ': 0.8719512195121951, 'F1 Score ': 0.878799363298719}\n",
      "98  =  {'Precision Score ': 0.9780219780219781, 'Recall Score ': 0.8181818181818181, 'F1 Score ': 0.877652933832709}\n",
      "79  =  {'Precision Score ': 0.8868727598566308, 'Recall Score ': 0.8707997852925389, 'F1 Score ': 0.8767194464954741}\n",
      "93  =  {'Precision Score ': 0.8633655994043187, 'Recall Score ': 0.88125, 'F1 Score ': 0.8719268153230417}\n"
     ]
    }
   ],
   "source": [
    "# Top 20 playlists \n",
    "for key in list(l.keys())[:20]:\n",
    "    print(key,\" = \",  l[key])"
   ]
  },
  {
   "cell_type": "code",
   "execution_count": 54,
   "metadata": {},
   "outputs": [
    {
     "data": {
      "text/plain": [
       "' Random Forest Result'"
      ]
     },
     "execution_count": 54,
     "metadata": {},
     "output_type": "execute_result"
    }
   ],
   "source": [
    "\"\"\" Random Forest Result\"\"\""
   ]
  },
  {
   "cell_type": "code",
   "execution_count": 55,
   "metadata": {},
   "outputs": [
    {
     "name": "stderr",
     "output_type": "stream",
     "text": [
      "Progress :  20%|███████████████▊                                                                 | 33/169 [03:14<13:54,  6.14s/it]C:\\Users\\Asus\\Anaconda3\\lib\\site-packages\\sklearn\\metrics\\_classification.py:1221: UndefinedMetricWarning: Precision is ill-defined and being set to 0.0 in labels with no predicted samples. Use `zero_division` parameter to control this behavior.\n",
      "  _warn_prf(average, modifier, msg_start, len(result))\n",
      "Progress :  23%|██████████████████▋                                                              | 39/169 [03:50<12:54,  5.95s/it]C:\\Users\\Asus\\Anaconda3\\lib\\site-packages\\sklearn\\metrics\\_classification.py:1221: UndefinedMetricWarning: Precision is ill-defined and being set to 0.0 in labels with no predicted samples. Use `zero_division` parameter to control this behavior.\n",
      "  _warn_prf(average, modifier, msg_start, len(result))\n",
      "Progress :  70%|████████████████████████████████████████████████████████▎                       | 119/169 [12:44<06:31,  7.84s/it]C:\\Users\\Asus\\Anaconda3\\lib\\site-packages\\sklearn\\metrics\\_classification.py:1221: UndefinedMetricWarning: Precision is ill-defined and being set to 0.0 in labels with no predicted samples. Use `zero_division` parameter to control this behavior.\n",
      "  _warn_prf(average, modifier, msg_start, len(result))\n",
      "Progress :  88%|██████████████████████████████████████████████████████████████████████▌         | 149/169 [16:46<02:42,  8.13s/it]C:\\Users\\Asus\\Anaconda3\\lib\\site-packages\\sklearn\\metrics\\_classification.py:1221: UndefinedMetricWarning: Precision is ill-defined and being set to 0.0 in labels with no predicted samples. Use `zero_division` parameter to control this behavior.\n",
      "  _warn_prf(average, modifier, msg_start, len(result))\n",
      "Progress : 100%|████████████████████████████████████████████████████████████████████████████████| 169/169 [19:38<00:00,  6.97s/it]\n"
     ]
    },
    {
     "name": "stdout",
     "output_type": "stream",
     "text": [
      "{0: {'Precision Score ': 0.9521276595744681, 'Recall Score ': 0.6538461538461539, 'F1 Score ': 0.7101544528425896}, 1: {'Precision Score ': 0.9423076923076923, 'Recall Score ': 0.625, 'F1 Score ': 0.6693877551020408}, 2: {'Precision Score ': 0.9368932038834952, 'Recall Score ': 0.5666666666666667, 'F1 Score ': 0.5839683023468454}, 3: {'Precision Score ': 0.8964285714285715, 'Recall Score ': 0.8203463203463204, 'F1 Score ': 0.8488172327210255}, 4: {'Precision Score ': 0.8918128654970761, 'Recall Score ': 0.7164082687338501, 'F1 Score ': 0.7659095559648046}, 5: {'Precision Score ': 0.9602272727272727, 'Recall Score ': 0.7307692307692308, 'F1 Score ': 0.7950794145126129}, 6: {'Precision Score ': 0.9728260869565217, 'Recall Score ': 0.7727272727272727, 'F1 Score ': 0.8389746960236608}, 7: {'Precision Score ': 0.9527153558052435, 'Recall Score ': 0.9527153558052435, 'F1 Score ': 0.9527153558052435}, 8: {'Precision Score ': 0.781786941580756, 'Recall Score ': 0.5776515151515151, 'F1 Score ': 0.6036036036036035}, 9: {'Precision Score ': 0.912608225108225, 'Recall Score ': 0.853336422613531, 'F1 Score ': 0.8779395296752519}, 10: {'Precision Score ': 0.7595588235294117, 'Recall Score ': 0.6595840867992767, 'F1 Score ': 0.6906873614190687}, 11: {'Precision Score ': 0.8075268817204301, 'Recall Score ': 0.7267441860465116, 'F1 Score ': 0.7553978559565151}, 12: {'Precision Score ': 0.8591836734693878, 'Recall Score ': 0.7838709677419355, 'F1 Score ': 0.8140613313388183}, 13: {'Precision Score ': 0.8410165484633569, 'Recall Score ': 0.7072557471264368, 'F1 Score ': 0.7496132596685083}, 14: {'Precision Score ': 0.8211805555555556, 'Recall Score ': 0.663235294117647, 'F1 Score ': 0.6999428462564298}, 15: {'Precision Score ': 0.8802083333333334, 'Recall Score ': 0.7831286360698125, 'F1 Score ': 0.8207634150839019}, 16: {'Precision Score ': 0.827922077922078, 'Recall Score ': 0.827922077922078, 'F1 Score ': 0.827922077922078}, 17: {'Precision Score ': 0.7564979480164159, 'Recall Score ': 0.7777777777777777, 'F1 Score ': 0.765625}, 18: {'Precision Score ': 0.8523102310231023, 'Recall Score ': 0.633270911360799, 'F1 Score ': 0.6714912280701755}, 19: {'Precision Score ': 0.8156634746922025, 'Recall Score ': 0.7849644952145725, 'F1 Score ': 0.7963636363636364}, 20: {'Precision Score ': 0.7619047619047619, 'Recall Score ': 0.5603375527426161, 'F1 Score ': 0.5699346405228758}, 21: {'Precision Score ': 0.9393939393939394, 'Recall Score ': 0.5714285714285714, 'F1 Score ': 0.592741935483871}, 22: {'Precision Score ': 0.9367816091954023, 'Recall Score ': 0.7708333333333333, 'F1 Score ': 0.8176090200630078}, 23: {'Precision Score ': 0.7735507246376812, 'Recall Score ': 0.5708255159474671, 'F1 Score ': 0.5905172413793103}, 24: {'Precision Score ': 0.8850931677018633, 'Recall Score ': 0.7883720930232558, 'F1 Score ': 0.8248512888301387}, 25: {'Precision Score ': 0.8533333333333333, 'Recall Score ': 0.8576248313090418, 'F1 Score ': 0.8553944169670551}, 26: {'Precision Score ': 0.9444444444444444, 'Recall Score ': 0.5833333333333334, 'F1 Score ': 0.6134453781512605}, 27: {'Precision Score ': 0.941747572815534, 'Recall Score ': 0.5714285714285714, 'F1 Score ': 0.5940721649484536}, 28: {'Precision Score ': 0.9655172413793103, 'Recall Score ': 0.7692307692307692, 'F1 Score ': 0.8321428571428572}, 29: {'Precision Score ': 0.6705607476635513, 'Recall Score ': 0.5417620137299771, 'F1 Score ': 0.5392178282717937}, 30: {'Precision Score ': 0.8329081632653061, 'Recall Score ': 0.7638076673164392, 'F1 Score ': 0.784482587163627}, 31: {'Precision Score ': 0.7070626003210272, 'Recall Score ': 0.5918803418803419, 'F1 Score ': 0.6091017964071856}, 32: {'Precision Score ': 0.9104020979020979, 'Recall Score ': 0.7794642857142857, 'F1 Score ': 0.8231792717086834}, 33: {'Precision Score ': 0.4536082474226804, 'Recall Score ': 0.5, 'F1 Score ': 0.4756756756756757}, 34: {'Precision Score ': 0.8823232323232323, 'Recall Score ': 0.7109810479375697, 'F1 Score ': 0.7524509803921569}, 35: {'Precision Score ': 0.7552083333333333, 'Recall Score ': 0.5932149651236525, 'F1 Score ': 0.612513966480447}, 36: {'Precision Score ': 0.9253663003663004, 'Recall Score ': 0.8177154582763337, 'F1 Score ': 0.8595363335281512}, 37: {'Precision Score ': 0.8577586206896552, 'Recall Score ': 0.8577586206896552, 'F1 Score ': 0.8577586206896552}, 38: {'Precision Score ': 0.8966068355052864, 'Recall Score ': 0.8934146341463415, 'F1 Score ': 0.8949494949494949}, 39: {'Precision Score ': 0.42105263157894735, 'Recall Score ': 0.5, 'F1 Score ': 0.45714285714285713}, 40: {'Precision Score ': 0.8804347826086956, 'Recall Score ': 0.8156862745098039, 'F1 Score ': 0.8406353267242297}, 41: {'Precision Score ': 0.7609715880263825, 'Recall Score ': 0.7546410891089108, 'F1 Score ': 0.7566063107858774}, 42: {'Precision Score ': 0.7368881118881119, 'Recall Score ': 0.6759740259740259, 'F1 Score ': 0.6885964912280702}, 43: {'Precision Score ': 0.8296255098257324, 'Recall Score ': 0.8112745098039216, 'F1 Score ': 0.8195231668915879}, 44: {'Precision Score ': 0.8737745098039216, 'Recall Score ': 0.8587029569892473, 'F1 Score ': 0.8647491867830851}, 45: {'Precision Score ': 0.92357910906298, 'Recall Score ': 0.942261427425822, 'F1 Score ': 0.9323529411764706}, 46: {'Precision Score ': 0.7871073961499493, 'Recall Score ': 0.7862373737373738, 'F1 Score ': 0.7862740141557129}, 47: {'Precision Score ': 0.7577519379844961, 'Recall Score ': 0.7264793529161345, 'F1 Score ': 0.7390125409558241}, 48: {'Precision Score ': 0.8159090909090909, 'Recall Score ': 0.6904631405864621, 'F1 Score ': 0.7108493286102644}, 49: {'Precision Score ': 0.9207482993197279, 'Recall Score ': 0.798792270531401, 'F1 Score ': 0.8418253079507279}, 50: {'Precision Score ': 0.8202687569988802, 'Recall Score ': 0.7348111658456487, 'F1 Score ': 0.761938202247191}, 51: {'Precision Score ': 0.7212430426716141, 'Recall Score ': 0.6105189990732159, 'F1 Score ': 0.6256532775869792}, 52: {'Precision Score ': 0.8003246753246753, 'Recall Score ': 0.7642857142857142, 'F1 Score ': 0.7795753286147624}, 53: {'Precision Score ': 0.8415770609318997, 'Recall Score ': 0.8173140954495005, 'F1 Score ': 0.8259573492318275}, 54: {'Precision Score ': 0.8971535982814178, 'Recall Score ': 0.7667748917748918, 'F1 Score ': 0.8021978021978022}, 55: {'Precision Score ': 0.8296255098257324, 'Recall Score ': 0.8112745098039216, 'F1 Score ': 0.8195231668915879}, 56: {'Precision Score ': 0.7720364741641337, 'Recall Score ': 0.6679174484052532, 'F1 Score ': 0.6931818181818181}, 57: {'Precision Score ': 0.8333333333333334, 'Recall Score ': 0.7477983601579108, 'F1 Score ': 0.7728950304694877}, 58: {'Precision Score ': 0.8631818181818182, 'Recall Score ': 0.8143194335169157, 'F1 Score ': 0.8338235294117646}, 59: {'Precision Score ': 0.9317460317460318, 'Recall Score ': 0.851118760757315, 'F1 Score ': 0.8821517046124809}, 60: {'Precision Score ': 0.8431122448979592, 'Recall Score ': 0.8301192145862553, 'F1 Score ': 0.8351471900089207}, 61: {'Precision Score ': 0.8237873389969854, 'Recall Score ': 0.8028710587028967, 'F1 Score ': 0.811046511627907}, 62: {'Precision Score ': 0.8660714285714286, 'Recall Score ': 0.8344628514056225, 'F1 Score ': 0.8460031347962382}, 63: {'Precision Score ': 0.833376057421174, 'Recall Score ': 0.833376057421174, 'F1 Score ': 0.833376057421174}, 64: {'Precision Score ': 0.8783333333333333, 'Recall Score ': 0.8403298350824588, 'F1 Score ': 0.8569739952718676}, 65: {'Precision Score ': 0.8589663760896638, 'Recall Score ': 0.8840772818121252, 'F1 Score ': 0.8685815147625161}, 66: {'Precision Score ': 0.854065934065934, 'Recall Score ': 0.7940854326396495, 'F1 Score ': 0.8160919540229885}, 67: {'Precision Score ': 0.8539180072651791, 'Recall Score ': 0.8160333642261353, 'F1 Score ': 0.8277747402952432}, 68: {'Precision Score ': 0.8223270440251573, 'Recall Score ': 0.8137755102040816, 'F1 Score ': 0.8163054695562435}, 69: {'Precision Score ': 0.8006787330316743, 'Recall Score ': 0.7734567901234568, 'F1 Score ': 0.7850688468158347}, 70: {'Precision Score ': 0.8611111111111112, 'Recall Score ': 0.7801724137931034, 'F1 Score ': 0.8135593220338984}, 71: {'Precision Score ': 0.9173951048951049, 'Recall Score ': 0.9470973782771535, 'F1 Score ': 0.9315254237288135}, 72: {'Precision Score ': 0.9403304773561811, 'Recall Score ': 0.9499687304565353, 'F1 Score ': 0.9448051948051949}, 73: {'Precision Score ': 0.7852147852147853, 'Recall Score ': 0.7467588591184097, 'F1 Score ': 0.7638888888888888}, 74: {'Precision Score ': 0.8386970172684458, 'Recall Score ': 0.7468535469107551, 'F1 Score ': 0.7809210526315788}, 75: {'Precision Score ': 0.96875, 'Recall Score ': 0.7272727272727273, 'F1 Score ': 0.7963709677419355}, 76: {'Precision Score ': 0.7308263236021771, 'Recall Score ': 0.7163729128014842, 'F1 Score ': 0.7218107978977546}, 77: {'Precision Score ': 0.8186046511627907, 'Recall Score ': 0.7616501145912911, 'F1 Score ': 0.7807008422585007}, 78: {'Precision Score ': 0.8455517373043147, 'Recall Score ': 0.7957516339869282, 'F1 Score ': 0.8152011922503726}, 79: {'Precision Score ': 0.9231720010408535, 'Recall Score ': 0.9040372670807453, 'F1 Score ': 0.9119634529361378}, 80: {'Precision Score ': 0.8474295190713101, 'Recall Score ': 0.8510682865521575, 'F1 Score ': 0.8481348525050725}, 81: {'Precision Score ': 0.8980614973262032, 'Recall Score ': 0.8980614973262032, 'F1 Score ': 0.8980614973262032}, 82: {'Precision Score ': 0.8098455598455598, 'Recall Score ': 0.825689935064935, 'F1 Score ': 0.8168429376297321}, 83: {'Precision Score ': 0.8921188630490956, 'Recall Score ': 0.865552544414333, 'F1 Score ': 0.8766622598957929}, 84: {'Precision Score ': 0.8797704447632712, 'Recall Score ': 0.8708321658727936, 'F1 Score ': 0.875}, 85: {'Precision Score ': 0.916688028710587, 'Recall Score ': 0.916688028710587, 'F1 Score ': 0.916688028710587}, 86: {'Precision Score ': 0.81524926686217, 'Recall Score ': 0.718052738336714, 'F1 Score ': 0.7523809523809524}, 87: {'Precision Score ': 0.9314516129032258, 'Recall Score ': 0.8381320224719101, 'F1 Score ': 0.8763736263736264}, 88: {'Precision Score ': 0.8448426573426573, 'Recall Score ': 0.7762605042016807, 'F1 Score ': 0.8042635658914729}, 89: {'Precision Score ': 0.9886363636363636, 'Recall Score ': 0.967741935483871, 'F1 Score ': 0.9775862068965517}, 90: {'Precision Score ': 0.9164794007490638, 'Recall Score ': 0.8948863636363636, 'F1 Score ': 0.9052305449243667}, 91: {'Precision Score ': 0.8500000000000001, 'Recall Score ': 0.711352657004831, 'F1 Score ': 0.7544642857142857}, 92: {'Precision Score ': 0.9146825396825397, 'Recall Score ': 0.8686067019400352, 'F1 Score ': 0.8890442890442889}, 93: {'Precision Score ': 0.8995695839311334, 'Recall Score ': 0.9194277108433735, 'F1 Score ': 0.9090909090909092}, 94: {'Precision Score ': 0.7552083333333333, 'Recall Score ': 0.650383631713555, 'F1 Score ': 0.6760852407261246}, 95: {'Precision Score ': 0.820274914089347, 'Recall Score ': 0.7532608695652174, 'F1 Score ': 0.7798941798941799}, 96: {'Precision Score ': 0.8888888888888888, 'Recall Score ': 0.8218390804597702, 'F1 Score ': 0.8505963590709353}, 97: {'Precision Score ': 0.9314024390243902, 'Recall Score ': 0.9546184738955823, 'F1 Score ': 0.9425219941348973}, 98: {'Precision Score ': 0.8343891402714931, 'Recall Score ': 0.8861024033437827, 'F1 Score ': 0.8575581395348837}, 99: {'Precision Score ': 0.9050387596899225, 'Recall Score ': 0.9239350912778905, 'F1 Score ': 0.9141205615194055}, 100: {'Precision Score ': 0.9473684210526316, 'Recall Score ': 0.9893617021276595, 'F1 Score ': 0.9668458781362007}, 101: {'Precision Score ': 0.8271604938271604, 'Recall Score ': 0.9251336898395721, 'F1 Score ': 0.8665430954587581}, 102: {'Precision Score ': 0.9104166666666667, 'Recall Score ': 0.9504573170731707, 'F1 Score ': 0.9288307915758895}, 103: {'Precision Score ': 0.9002976190476191, 'Recall Score ': 0.9468438538205981, 'F1 Score ': 0.9215686274509804}, 104: {'Precision Score ': 0.7898936170212766, 'Recall Score ': 0.7831168831168831, 'F1 Score ': 0.7861076029300329}, 105: {'Precision Score ': 0.757766990291262, 'Recall Score ': 0.6173740053050398, 'F1 Score ': 0.6365497076023392}, 106: {'Precision Score ': 0.9045584045584045, 'Recall Score ': 0.9156097560975609, 'F1 Score ': 0.909900156381571}, 107: {'Precision Score ': 0.8210526315789474, 'Recall Score ': 0.7350912778904666, 'F1 Score ': 0.7625}, 108: {'Precision Score ': 0.8052631578947369, 'Recall Score ': 0.5844988344988346, 'F1 Score ': 0.5932348533504603}, 109: {'Precision Score ': 0.829017517136329, 'Recall Score ': 0.6714285714285714, 'F1 Score ': 0.6990571967316153}, 110: {'Precision Score ': 0.8386850152905199, 'Recall Score ': 0.6082600195503421, 'F1 Score ': 0.634016973125884}, 111: {'Precision Score ': 0.7429356357927785, 'Recall Score ': 0.6777203560149296, 'F1 Score ': 0.68877014006963}, 112: {'Precision Score ': 0.7772998595505618, 'Recall Score ': 0.7785714285714286, 'F1 Score ': 0.7778999692077597}, 113: {'Precision Score ': 0.798989898989899, 'Recall Score ': 0.7202380952380952, 'F1 Score ': 0.739386296763346}, 114: {'Precision Score ': 0.80125, 'Recall Score ': 0.672883787661406, 'F1 Score ': 0.6940659340659341}, 115: {'Precision Score ': 0.8134469696969697, 'Recall Score ': 0.7454579162031887, 'F1 Score ': 0.7688421486751211}, 116: {'Precision Score ': 0.9117826617826618, 'Recall Score ': 0.7973985890652557, 'F1 Score ': 0.8346814964610718}, 117: {'Precision Score ': 0.892156862745098, 'Recall Score ': 0.5416666666666666, 'F1 Score ': 0.5164835164835165}, 118: {'Precision Score ': 0.8047884841363102, 'Recall Score ': 0.8012048192771084, 'F1 Score ': 0.8006187443130117}, 119: {'Precision Score ': 0.40384615384615385, 'Recall Score ': 0.5, 'F1 Score ': 0.44680851063829785}, 120: {'Precision Score ': 0.929245283018868, 'Recall Score ': 0.5588235294117647, 'F1 Score ': 0.5671920919048892}, 121: {'Precision Score ': 0.7142857142857143, 'Recall Score ': 0.6195121951219512, 'F1 Score ': 0.6323232323232324}, 122: {'Precision Score ': 0.7712842712842713, 'Recall Score ': 0.6017316017316017, 'F1 Score ': 0.6205012247974373}, 123: {'Precision Score ': 0.8050913547237077, 'Recall Score ': 0.727980352980353, 'F1 Score ': 0.7417160106815279}, 124: {'Precision Score ': 0.8432233146067416, 'Recall Score ': 0.7980182926829269, 'F1 Score ': 0.8136499959471508}, 125: {'Precision Score ': 0.8362696734789759, 'Recall Score ': 0.8374587458745875, 'F1 Score ': 0.8367647058823529}, 126: {'Precision Score ': 0.7274509803921568, 'Recall Score ': 0.6967352130591478, 'F1 Score ': 0.7042166300737487}, 127: {'Precision Score ': 0.7993548387096774, 'Recall Score ': 0.7436974789915967, 'F1 Score ': 0.7627118644067797}, 128: {'Precision Score ': 0.7789473684210526, 'Recall Score ': 0.6956859696851924, 'F1 Score ': 0.7182022471910112}, 129: {'Precision Score ': 0.824317738791423, 'Recall Score ': 0.8411945654960267, 'F1 Score ': 0.8300018681113395}, 130: {'Precision Score ': 0.7882935352358765, 'Recall Score ': 0.6798691860465116, 'F1 Score ': 0.7038087962457711}, 131: {'Precision Score ': 0.8449314499376817, 'Recall Score ': 0.8468045112781954, 'F1 Score ': 0.8458214006769071}, 132: {'Precision Score ': 0.812751677852349, 'Recall Score ': 0.794489383215369, 'F1 Score ': 0.8012422360248447}, 133: {'Precision Score ': 0.7769886363636364, 'Recall Score ': 0.7708333333333334, 'F1 Score ': 0.7727910238429173}, 134: {'Precision Score ': 0.9567307692307692, 'Recall Score ': 0.7857142857142857, 'F1 Score ': 0.8410232983097305}, 135: {'Precision Score ': 0.89, 'Recall Score ': 0.7086677367576244, 'F1 Score ': 0.7559310462536268}, 136: {'Precision Score ': 0.917741935483871, 'Recall Score ': 0.7943181818181818, 'F1 Score ': 0.8406629834254145}, 137: {'Precision Score ': 0.8590555014605648, 'Recall Score ': 0.9338235294117647, 'F1 Score ': 0.8886532343584306}, 138: {'Precision Score ': 0.884016973125884, 'Recall Score ': 0.6946236559139785, 'F1 Score ': 0.7469540768509841}, 139: {'Precision Score ': 0.7568027210884354, 'Recall Score ': 0.5528711484593838, 'F1 Score ': 0.5560439560439561}, 140: {'Precision Score ': 0.8354838709677419, 'Recall Score ': 0.6189024390243902, 'F1 Score ': 0.6533333333333333}, 141: {'Precision Score ': 0.8137755102040816, 'Recall Score ': 0.5942528735632184, 'F1 Score ': 0.6227596017069701}, 142: {'Precision Score ': 0.897516835016835, 'Recall Score ': 0.8877257799671592, 'F1 Score ': 0.8924675324675325}, 143: {'Precision Score ': 0.8172161172161172, 'Recall Score ': 0.810394265232975, 'F1 Score ': 0.8136944117380672}, 144: {'Precision Score ': 0.5928030303030303, 'Recall Score ': 0.5227272727272727, 'F1 Score ': 0.5133689839572192}, 145: {'Precision Score ': 0.6888888888888889, 'Recall Score ': 0.5354166666666667, 'F1 Score ': 0.5361344537815126}, 146: {'Precision Score ': 0.8111658456486043, 'Recall Score ': 0.6799620132953467, 'F1 Score ': 0.7202380952380952}, 147: {'Precision Score ': 0.8887987012987013, 'Recall Score ': 0.7246716697936211, 'F1 Score ': 0.776470588235294}, 148: {'Precision Score ': 0.8839285714285714, 'Recall Score ': 0.712171052631579, 'F1 Score ': 0.7604166666666667}, 149: {'Precision Score ': 0.43434343434343436, 'Recall Score ': 0.5, 'F1 Score ': 0.4648648648648649}, 150: {'Precision Score ': 0.8787828400399069, 'Recall Score ': 0.8330409356725146, 'F1 Score ': 0.8511973959544292}, 151: {'Precision Score ': 0.9728260869565217, 'Recall Score ': 0.8214285714285714, 'F1 Score ': 0.8773378673791596}, 152: {'Precision Score ': 0.6929824561403508, 'Recall Score ': 0.6420454545454546, 'F1 Score ': 0.6588391670358883}, 153: {'Precision Score ': 0.890937019969278, 'Recall Score ': 0.7250221043324492, 'F1 Score ': 0.7777777777777778}, 154: {'Precision Score ': 0.8700322234156821, 'Recall Score ': 0.7912087912087913, 'F1 Score ': 0.8211640211640212}, 155: {'Precision Score ': 0.8672161172161172, 'Recall Score ': 0.8389114266396214, 'F1 Score ': 0.8512991573033708}, 156: {'Precision Score ': 0.9611111111111111, 'Recall Score ': 0.7307692307692308, 'F1 Score ': 0.7955582598113782}, 157: {'Precision Score ': 0.8829051383399209, 'Recall Score ': 0.8218438538205981, 'F1 Score ': 0.8462921348314607}, 158: {'Precision Score ': 0.8704896907216495, 'Recall Score ': 0.79158215010142, 'F1 Score ': 0.8185907046476761}, 159: {'Precision Score ': 0.8057586022463897, 'Recall Score ': 0.80625, 'F1 Score ': 0.8059681520139168}, 160: {'Precision Score ': 0.8831168831168831, 'Recall Score ': 0.7824897400820794, 'F1 Score ': 0.8136645962732919}, 161: {'Precision Score ': 0.8267355134825014, 'Recall Score ': 0.7883544303797468, 'F1 Score ': 0.8046162104133118}, 162: {'Precision Score ': 0.8737176355642404, 'Recall Score ': 0.842128801431127, 'F1 Score ': 0.856326530612245}, 163: {'Precision Score ': 0.8388480392156863, 'Recall Score ': 0.7323529411764707, 'F1 Score ': 0.7641497851442602}, 164: {'Precision Score ': 0.8745238095238095, 'Recall Score ': 0.8620253164556962, 'F1 Score ': 0.8669003797838154}, 165: {'Precision Score ': 0.8223388305847077, 'Recall Score ': 0.76875, 'F1 Score ': 0.7887244379166196}, 166: {'Precision Score ': 0.9619565217391304, 'Recall Score ': 0.8541666666666667, 'F1 Score ': 0.8948601350420284}, 167: {'Precision Score ': 0.871894697812384, 'Recall Score ': 0.8239664082687339, 'F1 Score ': 0.8427159432746025}, 168: {'Precision Score ': 0.7634887375589314, 'Recall Score ': 0.7206140350877193, 'F1 Score ': 0.7358490566037736}}"
     ]
    },
    {
     "name": "stdout",
     "output_type": "stream",
     "text": [
      "\n"
     ]
    }
   ],
   "source": [
    "result_history = run_model(model_type = \"RF\")"
   ]
  },
  {
   "cell_type": "code",
   "execution_count": 56,
   "metadata": {},
   "outputs": [],
   "source": [
    "# f = open(\"binary_random_forest_result\", \"wb\")\n",
    "# pickle.dump(result_history, f)\n",
    "# f.close()"
   ]
  },
  {
   "cell_type": "code",
   "execution_count": 57,
   "metadata": {},
   "outputs": [],
   "source": [
    "f = open(\"binary_random_forest_result\", \"rb\")\n",
    "l = pickle.load(f)\n",
    "f.close()"
   ]
  },
  {
   "cell_type": "code",
   "execution_count": 58,
   "metadata": {},
   "outputs": [],
   "source": [
    "l = {k: v for k, v in sorted(l.items(), key=lambda item: item[1][\"F1 Score \"], reverse = True)}"
   ]
  },
  {
   "cell_type": "code",
   "execution_count": 59,
   "metadata": {},
   "outputs": [
    {
     "name": "stdout",
     "output_type": "stream",
     "text": [
      "89  =  {'Precision Score ': 0.9886363636363636, 'Recall Score ': 0.967741935483871, 'F1 Score ': 0.9775862068965517}\n",
      "100  =  {'Precision Score ': 0.9473684210526316, 'Recall Score ': 0.9893617021276595, 'F1 Score ': 0.9668458781362007}\n",
      "7  =  {'Precision Score ': 0.9527153558052435, 'Recall Score ': 0.9527153558052435, 'F1 Score ': 0.9527153558052435}\n",
      "72  =  {'Precision Score ': 0.9403304773561811, 'Recall Score ': 0.9499687304565353, 'F1 Score ': 0.9448051948051949}\n",
      "97  =  {'Precision Score ': 0.9314024390243902, 'Recall Score ': 0.9546184738955823, 'F1 Score ': 0.9425219941348973}\n",
      "45  =  {'Precision Score ': 0.92357910906298, 'Recall Score ': 0.942261427425822, 'F1 Score ': 0.9323529411764706}\n",
      "71  =  {'Precision Score ': 0.9173951048951049, 'Recall Score ': 0.9470973782771535, 'F1 Score ': 0.9315254237288135}\n",
      "102  =  {'Precision Score ': 0.9104166666666667, 'Recall Score ': 0.9504573170731707, 'F1 Score ': 0.9288307915758895}\n",
      "103  =  {'Precision Score ': 0.9002976190476191, 'Recall Score ': 0.9468438538205981, 'F1 Score ': 0.9215686274509804}\n",
      "85  =  {'Precision Score ': 0.916688028710587, 'Recall Score ': 0.916688028710587, 'F1 Score ': 0.916688028710587}\n",
      "99  =  {'Precision Score ': 0.9050387596899225, 'Recall Score ': 0.9239350912778905, 'F1 Score ': 0.9141205615194055}\n",
      "79  =  {'Precision Score ': 0.9231720010408535, 'Recall Score ': 0.9040372670807453, 'F1 Score ': 0.9119634529361378}\n",
      "106  =  {'Precision Score ': 0.9045584045584045, 'Recall Score ': 0.9156097560975609, 'F1 Score ': 0.909900156381571}\n",
      "93  =  {'Precision Score ': 0.8995695839311334, 'Recall Score ': 0.9194277108433735, 'F1 Score ': 0.9090909090909092}\n",
      "90  =  {'Precision Score ': 0.9164794007490638, 'Recall Score ': 0.8948863636363636, 'F1 Score ': 0.9052305449243667}\n",
      "81  =  {'Precision Score ': 0.8980614973262032, 'Recall Score ': 0.8980614973262032, 'F1 Score ': 0.8980614973262032}\n",
      "38  =  {'Precision Score ': 0.8966068355052864, 'Recall Score ': 0.8934146341463415, 'F1 Score ': 0.8949494949494949}\n",
      "166  =  {'Precision Score ': 0.9619565217391304, 'Recall Score ': 0.8541666666666667, 'F1 Score ': 0.8948601350420284}\n",
      "142  =  {'Precision Score ': 0.897516835016835, 'Recall Score ': 0.8877257799671592, 'F1 Score ': 0.8924675324675325}\n",
      "92  =  {'Precision Score ': 0.9146825396825397, 'Recall Score ': 0.8686067019400352, 'F1 Score ': 0.8890442890442889}\n"
     ]
    }
   ],
   "source": [
    "# Top 20 playlists \n",
    "for key in list(l.keys())[:20]:\n",
    "    print(key,\" = \",  l[key])"
   ]
  },
  {
   "cell_type": "code",
   "execution_count": 60,
   "metadata": {},
   "outputs": [
    {
     "data": {
      "text/plain": [
       "' XG Boost Result'"
      ]
     },
     "execution_count": 60,
     "metadata": {},
     "output_type": "execute_result"
    }
   ],
   "source": [
    "\"\"\" XG Boost Result\"\"\""
   ]
  },
  {
   "cell_type": "code",
   "execution_count": 61,
   "metadata": {},
   "outputs": [
    {
     "name": "stderr",
     "output_type": "stream",
     "text": [
      "Progress : 100%|████████████████████████████████████████████████████████████████████████████████| 169/169 [27:50<00:00,  9.88s/it]\n"
     ]
    },
    {
     "name": "stdout",
     "output_type": "stream",
     "text": [
      "{0: {'Precision Score ': 0.9775280898876404, 'Recall Score ': 0.8461538461538461, 'F1 Score ': 0.8975966562173459}, 1: {'Precision Score ': 0.8587628865979382, 'Recall Score ': 0.739010989010989, 'F1 Score ': 0.7810965630114566}, 2: {'Precision Score ': 0.7301587301587301, 'Recall Score ': 0.6168498168498169, 'F1 Score ': 0.6449760765550239}, 3: {'Precision Score ': 0.8500000000000001, 'Recall Score ': 0.8652597402597402, 'F1 Score ': 0.8570780399274047}, 4: {'Precision Score ': 0.8273408239700375, 'Recall Score ': 0.7822997416020672, 'F1 Score ': 0.8019047619047619}, 5: {'Precision Score ': 0.9017857142857143, 'Recall Score ': 0.7629016553067186, 'F1 Score ': 0.8118609406952966}, 6: {'Precision Score ': 0.8511904761904763, 'Recall Score ': 0.9315569487983281, 'F1 Score ': 0.8853801169590643}, 7: {'Precision Score ': 0.9173297966401415, 'Recall Score ': 0.946969696969697, 'F1 Score ': 0.9314285714285713}, 8: {'Precision Score ': 0.8926073926073926, 'Recall Score ': 0.8638888888888889, 'F1 Score ': 0.8774921931299543}, 9: {'Precision Score ': 0.7486933797909407, 'Recall Score ': 0.7614468864468864, 'F1 Score ': 0.7545738509593931}, 10: {'Precision Score ': 0.8284883720930232, 'Recall Score ': 0.7017857142857142, 'F1 Score ': 0.7426067907995619}, 11: {'Precision Score ': 0.8925561797752809, 'Recall Score ': 0.8061336254107339, 'F1 Score ': 0.8393512851897185}, 12: {'Precision Score ': 0.835, 'Recall Score ': 0.7791666666666667, 'F1 Score ': 0.8027210884353742}, 13: {'Precision Score ': 0.7588235294117647, 'Recall Score ': 0.7718023255813953, 'F1 Score ': 0.7650186071238703}, 14: {'Precision Score ': 0.7999365884590995, 'Recall Score ': 0.7884146341463415, 'F1 Score ': 0.793939393939394}, 15: {'Precision Score ': 0.8181818181818181, 'Recall Score ': 0.7191650853889944, 'F1 Score ': 0.7544642857142856}, 16: {'Precision Score ': 0.8234772324068598, 'Recall Score ': 0.7891120507399577, 'F1 Score ': 0.8043205574912892}, 17: {'Precision Score ': 0.8062448304383788, 'Recall Score ': 0.7773408239700375, 'F1 Score ': 0.7898351648351647}, 18: {'Precision Score ': 0.8636363636363636, 'Recall Score ': 0.7391304347826086, 'F1 Score ': 0.7815490160678822}, 19: {'Precision Score ': 0.8130252100840336, 'Recall Score ': 0.8347240051347882, 'F1 Score ': 0.8194444444444444}, 20: {'Precision Score ': 0.675891181988743, 'Recall Score ': 0.65625, 'F1 Score ': 0.6649029982363316}, 21: {'Precision Score ': 0.8462643678160919, 'Recall Score ': 0.803781512605042, 'F1 Score ': 0.8228980322003578}, 22: {'Precision Score ': 0.8316008316008316, 'Recall Score ': 0.8497807017543859, 'F1 Score ': 0.8400000000000001}, 23: {'Precision Score ': 0.6790799561883899, 'Recall Score ': 0.6552706552706553, 'F1 Score ': 0.665650406504065}, 24: {'Precision Score ': 0.9772727272727273, 'Recall Score ': 0.9, 'F1 Score ': 0.9328165374677003}, 25: {'Precision Score ': 0.9098214285714286, 'Recall Score ': 0.9253938832252085, 'F1 Score ': 0.9168370824812543}, 26: {'Precision Score ': 0.9810126582278481, 'Recall Score ': 0.875, 'F1 Score ': 0.9188940092165898}, 27: {'Precision Score ': 0.6944444444444444, 'Recall Score ': 0.5906593406593407, 'F1 Score ': 0.613157894736842}, 28: {'Precision Score ': 0.8805114638447972, 'Recall Score ': 0.9047842401500938, 'F1 Score ': 0.892069984094524}, 29: {'Precision Score ': 0.7207920792079208, 'Recall Score ': 0.5674531155474895, 'F1 Score ': 0.5771276595744681}, 30: {'Precision Score ': 0.8259685230024213, 'Recall Score ': 0.7624269005847953, 'F1 Score ': 0.7813494407499857}, 31: {'Precision Score ': 0.8226744186046512, 'Recall Score ': 0.73125, 'F1 Score ': 0.763855421686747}, 32: {'Precision Score ': 0.8489010989010989, 'Recall Score ': 0.8489010989010989, 'F1 Score ': 0.8489010989010989}, 33: {'Precision Score ': 0.7666666666666666, 'Recall Score ': 0.6550387596899224, 'F1 Score ': 0.6915584415584415}, 34: {'Precision Score ': 0.8951754385964912, 'Recall Score ': 0.7331780538302277, 'F1 Score ': 0.7779728651237031}, 35: {'Precision Score ': 0.8243727598566308, 'Recall Score ': 0.6721623335447051, 'F1 Score ': 0.7102272727272727}, 36: {'Precision Score ': 0.7124125874125874, 'Recall Score ': 0.6701680672268908, 'F1 Score ': 0.6868217054263566}, 37: {'Precision Score ': 0.8611111111111112, 'Recall Score ': 0.7801724137931034, 'F1 Score ': 0.8135593220338984}, 38: {'Precision Score ': 0.8615384615384616, 'Recall Score ': 0.8737349397590362, 'F1 Score ': 0.8662525879917184}, 39: {'Precision Score ': 0.5663865546218487, 'Recall Score ': 0.5341991341991342, 'F1 Score ': 0.5353535353535354}, 40: {'Precision Score ': 0.8930555555555555, 'Recall Score ': 0.844421906693712, 'F1 Score ': 0.8647978436657682}, 41: {'Precision Score ': 0.7821337540963709, 'Recall Score ': 0.7772873672909459, 'F1 Score ': 0.7788461538461537}, 42: {'Precision Score ': 0.7596072186836518, 'Recall Score ': 0.7310999810999811, 'F1 Score ': 0.7408955223880598}, 43: {'Precision Score ': 0.7689473684210526, 'Recall Score ': 0.7853685778108712, 'F1 Score ': 0.7757936507936509}, 44: {'Precision Score ': 0.9123581336696092, 'Recall Score ': 0.9102150537634408, 'F1 Score ': 0.9112428693347707}, 45: {'Precision Score ': 0.9142857142857144, 'Recall Score ': 0.9655172413793103, 'F1 Score ': 0.9352678571428572}, 46: {'Precision Score ': 0.8555068836045057, 'Recall Score ': 0.8546192259675406, 'F1 Score ': 0.8546351824087955}, 47: {'Precision Score ': 0.8376937984496124, 'Recall Score ': 0.7967220093656875, 'F1 Score ': 0.8135803863970172}, 48: {'Precision Score ': 0.7463985594237695, 'Recall Score ': 0.7200482444384884, 'F1 Score ': 0.7299470899470899}, 49: {'Precision Score ': 0.8521836506159015, 'Recall Score ': 0.8038647342995169, 'F1 Score ': 0.8245341614906833}, 50: {'Precision Score ': 0.789326961369972, 'Recall Score ': 0.8018280016618197, 'F1 Score ': 0.7951219512195122}, 51: {'Precision Score ': 0.7462349397590362, 'Recall Score ': 0.7329059829059829, 'F1 Score ': 0.7390243902439024}, 52: {'Precision Score ': 0.8315018315018314, 'Recall Score ': 0.791264367816092, 'F1 Score ': 0.8085002442598925}, 53: {'Precision Score ': 0.8008879023307436, 'Recall Score ': 0.8008879023307436, 'F1 Score ': 0.8008879023307436}, 54: {'Precision Score ': 0.8258620689655173, 'Recall Score ': 0.8068181818181819, 'F1 Score ': 0.8153717627401837}, 55: {'Precision Score ': 0.8606418918918919, 'Recall Score ': 0.8782778171509568, 'F1 Score ': 0.8685734036118551}, 56: {'Precision Score ': 0.6919642857142857, 'Recall Score ': 0.6181318681318682, 'F1 Score ': 0.6333333333333333}, 57: {'Precision Score ': 0.7688723205964585, 'Recall Score ': 0.7688723205964585, 'F1 Score ': 0.7688723205964585}, 58: {'Precision Score ': 0.8373563218390805, 'Recall Score ': 0.8302700675168793, 'F1 Score ': 0.8336965791717994}, 59: {'Precision Score ': 0.8972701149425287, 'Recall Score ': 0.8569277108433735, 'F1 Score ': 0.8744343891402715}, 60: {'Precision Score ': 0.8304953560371517, 'Recall Score ': 0.8359559402045633, 'F1 Score ': 0.8317429406037}, 61: {'Precision Score ': 0.7849206349206349, 'Recall Score ': 0.7876602564102564, 'F1 Score ': 0.7862391069089253}, 62: {'Precision Score ': 0.9256097560975609, 'Recall Score ': 0.8942018072289157, 'F1 Score ': 0.9064103396765604}, 63: {'Precision Score ': 0.8258281573498965, 'Recall Score ': 0.8227377595488337, 'F1 Score ': 0.8242225226965425}, 64: {'Precision Score ': 0.8013157894736842, 'Recall Score ': 0.729550922213312, 'F1 Score ': 0.753636261134288}, 65: {'Precision Score ': 0.8543091655266758, 'Recall Score ': 0.8786549707602339, 'F1 Score ': 0.8645502645502645}, 66: {'Precision Score ': 0.8613782051282051, 'Recall Score ': 0.854978354978355, 'F1 Score ': 0.8580645161290322}, 67: {'Precision Score ': 0.8714643304130163, 'Recall Score ': 0.8567307692307693, 'F1 Score ': 0.8626262626262626}, 68: {'Precision Score ': 0.85625, 'Recall Score ': 0.8392857142857143, 'F1 Score ': 0.8424242424242424}, 69: {'Precision Score ': 0.8101294065149487, 'Recall Score ': 0.7895833333333333, 'F1 Score ': 0.7987299537186524}, 70: {'Precision Score ': 0.8446428571428571, 'Recall Score ': 0.8922764227642277, 'F1 Score ': 0.866096866096866}, 71: {'Precision Score ': 0.9946236559139785, 'Recall Score ': 0.9583333333333333, 'F1 Score ': 0.9755581668625147}, 72: {'Precision Score ': 0.9409883720930232, 'Recall Score ': 0.9512195121951219, 'F1 Score ': 0.9457671957671958}, 73: {'Precision Score ': 0.8806620209059233, 'Recall Score ': 0.9050046339202966, 'F1 Score ': 0.8922558922558923}, 74: {'Precision Score ': 0.9360047846889952, 'Recall Score ': 0.9360047846889952, 'F1 Score ': 0.9360047846889952}, 75: {'Precision Score ': 0.8070175438596491, 'Recall Score ': 0.7565982404692082, 'F1 Score ': 0.7787234042553192}, 76: {'Precision Score ': 0.7363806406359598, 'Recall Score ': 0.7340277777777777, 'F1 Score ': 0.735155568479209}, 77: {'Precision Score ': 0.8118946144905075, 'Recall Score ': 0.7818627450980392, 'F1 Score ': 0.7942930544086613}, 78: {'Precision Score ': 0.8117283950617284, 'Recall Score ': 0.8221119773210488, 'F1 Score ': 0.8165505226480836}, 79: {'Precision Score ': 0.9301335918982978, 'Recall Score ': 0.9233828207847297, 'F1 Score ': 0.92633547008547}, 80: {'Precision Score ': 0.925, 'Recall Score ': 0.9230414746543778, 'F1 Score ': 0.923805125836989}, 81: {'Precision Score ': 0.8041125541125541, 'Recall Score ': 0.7987243090007088, 'F1 Score ': 0.8013227276789705}, 82: {'Precision Score ': 0.8756302521008403, 'Recall Score ': 0.8386363636363636, 'F1 Score ': 0.8540486835568804}, 83: {'Precision Score ': 0.8906846899794298, 'Recall Score ': 0.8906846899794298, 'F1 Score ': 0.8906846899794298}, 84: {'Precision Score ': 0.8563438327936415, 'Recall Score ': 0.8563438327936415, 'F1 Score ': 0.8563438327936415}, 85: {'Precision Score ': 0.936633912824389, 'Recall Score ': 0.9484989648033126, 'F1 Score ': 0.9419457735247209}, 86: {'Precision Score ': 0.9485943775100402, 'Recall Score ': 0.90559186637618, 'F1 Score ': 0.9253048780487805}, 87: {'Precision Score ': 0.8525280898876404, 'Recall Score ': 0.8525280898876404, 'F1 Score ': 0.8525280898876404}, 88: {'Precision Score ': 0.8393719806763285, 'Recall Score ': 0.8554712207463631, 'F1 Score ': 0.8471042471042471}, 89: {'Precision Score ': 0.9594155844155845, 'Recall Score ': 0.9296015180265655, 'F1 Score ': 0.9431762515920447}, 90: {'Precision Score ': 0.9472402597402598, 'Recall Score ': 0.9004360465116279, 'F1 Score ': 0.92183908045977}, 91: {'Precision Score ': 0.853968253968254, 'Recall Score ': 0.7881136950904393, 'F1 Score ': 0.8153409090909092}, 92: {'Precision Score ': 0.875, 'Recall Score ': 0.9615384615384616, 'F1 Score ': 0.9085714285714286}, 93: {'Precision Score ': 0.9374420759962929, 'Recall Score ': 0.86875, 'F1 Score ': 0.8984556801353925}, 94: {'Precision Score ': 0.7762613730355665, 'Recall Score ': 0.6807359307359307, 'F1 Score ': 0.7091202582728007}, 95: {'Precision Score ': 0.7705882352941177, 'Recall Score ': 0.7384146341463416, 'F1 Score ': 0.7523871176565787}, 96: {'Precision Score ': 0.8663461538461539, 'Recall Score ': 0.7565656565656566, 'F1 Score ': 0.797832512315271}, 97: {'Precision Score ': 0.96875, 'Recall Score ': 0.9938271604938271, 'F1 Score ': 0.9807653776798237}, 98: {'Precision Score ': 0.7684108527131783, 'Recall Score ': 0.78944618599791, 'F1 Score ': 0.778336265393315}, 99: {'Precision Score ': 0.8936708860759495, 'Recall Score ': 0.9461979913916786, 'F1 Score ': 0.9169044821218735}, 100: {'Precision Score ': 0.9893617021276595, 'Recall Score ': 0.9411764705882353, 'F1 Score ': 0.9633736559139785}, 101: {'Precision Score ': 0.9840425531914894, 'Recall Score ': 0.8636363636363636, 'F1 Score ': 0.9129445234708393}, 102: {'Precision Score ': 0.9555555555555555, 'Recall Score ': 0.9318820224719101, 'F1 Score ': 0.94323301495765}, 103: {'Precision Score ': 0.8599240265906933, 'Recall Score ': 0.8383928571428572, 'F1 Score ': 0.8486312399355878}, 104: {'Precision Score ': 0.7546932234432234, 'Recall Score ': 0.7408008658008658, 'F1 Score ': 0.7455201109570042}, 105: {'Precision Score ': 0.7946345975948196, 'Recall Score ': 0.7692307692307693, 'F1 Score ': 0.780584666298952}, 106: {'Precision Score ': 0.8628663003663004, 'Recall Score ': 0.8522222222222222, 'F1 Score ': 0.8573683617093246}, 107: {'Precision Score ': 0.8798670465337132, 'Recall Score ': 0.8536693191865605, 'F1 Score ': 0.8654088050314466}, 108: {'Precision Score ': 0.6924836601307189, 'Recall Score ': 0.6574866310160428, 'F1 Score ': 0.6707692307692308}, 109: {'Precision Score ': 0.6982142857142857, 'Recall Score ': 0.6897435897435897, 'F1 Score ': 0.6935835879528589}, 110: {'Precision Score ': 0.8349624060150376, 'Recall Score ': 0.7327586206896552, 'F1 Score ': 0.7670940170940171}, 111: {'Precision Score ': 0.8153483499214248, 'Recall Score ': 0.8255813953488371, 'F1 Score ': 0.8198922943953194}, 112: {'Precision Score ': 0.7758785332314744, 'Recall Score ': 0.7807034589972794, 'F1 Score ': 0.7769230769230769}, 113: {'Precision Score ': 0.8312262958280657, 'Recall Score ': 0.7090425531914893, 'F1 Score ': 0.7346954937831629}, 114: {'Precision Score ': 0.8858695652173914, 'Recall Score ': 0.796477850399419, 'F1 Score ': 0.8250684514755096}, 115: {'Precision Score ': 0.7455277280858676, 'Recall Score ': 0.7186379928315412, 'F1 Score ': 0.7293833385859859}, 116: {'Precision Score ': 0.7570153061224489, 'Recall Score ': 0.667358803986711, 'F1 Score ': 0.6902173913043479}, 117: {'Precision Score ': 0.6114379084967321, 'Recall Score ': 0.5855923694779116, 'F1 Score ': 0.5926970252361483}, 118: {'Precision Score ': 0.7647689768976897, 'Recall Score ': 0.7478375038616003, 'F1 Score ': 0.7463768115942029}, 119: {'Precision Score ': 0.48639455782312924, 'Recall Score ': 0.49523809523809526, 'F1 Score ': 0.47252747252747257}, 120: {'Precision Score ': 0.8391608391608392, 'Recall Score ': 0.7597054886211513, 'F1 Score ': 0.7904169024712318}, 121: {'Precision Score ': 0.7778816199376947, 'Recall Score ': 0.6615942028985508, 'F1 Score ': 0.6866554997208264}, 122: {'Precision Score ': 0.7483948635634029, 'Recall Score ': 0.6736812570145904, 'F1 Score ': 0.6970588235294117}, 123: {'Precision Score ': 0.7701298701298701, 'Recall Score ': 0.7527777777777778, 'F1 Score ': 0.7594630872483221}, 124: {'Precision Score ': 0.8184738955823293, 'Recall Score ': 0.8334735071488646, 'F1 Score ': 0.8248974008207934}, 125: {'Precision Score ': 0.8249128919860627, 'Recall Score ': 0.827233989221707, 'F1 Score ': 0.8258372608383533}, 126: {'Precision Score ': 0.7715773809523809, 'Recall Score ': 0.7430632630410654, 'F1 Score ': 0.7512067461471359}, 127: {'Precision Score ': 0.7785326086956521, 'Recall Score ': 0.7679738562091503, 'F1 Score ': 0.772893772893773}, 128: {'Precision Score ': 0.7235294117647059, 'Recall Score ': 0.7188940092165899, 'F1 Score ': 0.7211174701716947}, 129: {'Precision Score ': 0.8485764676240867, 'Recall Score ': 0.8546526531658549, 'F1 Score ': 0.8513719512195121}, 130: {'Precision Score ': 0.7897271268057785, 'Recall Score ': 0.7654411764705882, 'F1 Score ': 0.7758620689655172}, 131: {'Precision Score ': 0.8375824175824176, 'Recall Score ': 0.8208020050125313, 'F1 Score ': 0.8268090787716955}, 132: {'Precision Score ': 0.7738139362490735, 'Recall Score ': 0.7676630434782609, 'F1 Score ': 0.7704212454212453}, 133: {'Precision Score ': 0.8120879120879121, 'Recall Score ': 0.8102372034956304, 'F1 Score ': 0.8110328638497653}, 134: {'Precision Score ': 0.842741935483871, 'Recall Score ': 0.8299689440993789, 'F1 Score ': 0.8361239288068555}, 135: {'Precision Score ': 0.843421052631579, 'Recall Score ': 0.8305471124620061, 'F1 Score ': 0.8367531294360562}, 136: {'Precision Score ': 0.8290529695024077, 'Recall Score ': 0.8106060606060606, 'F1 Score ': 0.8194038573933372}, 137: {'Precision Score ': 0.9347826086956521, 'Recall Score ': 0.9831460674157304, 'F1 Score ': 0.9565448504983388}, 138: {'Precision Score ': 0.7827380952380952, 'Recall Score ': 0.7980392156862746, 'F1 Score ': 0.7900362664630655}, 139: {'Precision Score ': 0.8206845238095238, 'Recall Score ': 0.7726122707147376, 'F1 Score ': 0.7934801160607612}, 140: {'Precision Score ': 0.9204545454545454, 'Recall Score ': 0.8064759036144578, 'F1 Score ': 0.8499025341130604}, 141: {'Precision Score ': 0.945054945054945, 'Recall Score ': 0.6875, 'F1 Score ': 0.7436575052854122}, 142: {'Precision Score ': 0.8905372894947875, 'Recall Score ': 0.8998357963875205, 'F1 Score ': 0.8950410708853058}, 143: {'Precision Score ': 0.8916129032258064, 'Recall Score ': 0.8375973303670745, 'F1 Score ': 0.8595238095238095}, 144: {'Precision Score ': 0.7444444444444445, 'Recall Score ': 0.596031746031746, 'F1 Score ': 0.6235032024505708}, 145: {'Precision Score ': 0.661344537815126, 'Recall Score ': 0.6, 'F1 Score ': 0.6185007974481658}, 146: {'Precision Score ': 0.8100840336134454, 'Recall Score ': 0.6796494644595911, 'F1 Score ': 0.7195121951219512}, 147: {'Precision Score ': 0.9821428571428572, 'Recall Score ': 0.8846153846153846, 'F1 Score ': 0.9256916996047431}, 148: {'Precision Score ': 0.9251543209876543, 'Recall Score ': 0.9251543209876543, 'F1 Score ': 0.9251543209876543}, 149: {'Precision Score ': 0.7637195121951219, 'Recall Score ': 0.6728271728271729, 'F1 Score ': 0.7035040431266847}, 150: {'Precision Score ': 0.7876344086021505, 'Recall Score ': 0.7544388078630311, 'F1 Score ': 0.766859344894027}, 151: {'Precision Score ': 0.9131944444444444, 'Recall Score ': 0.7802197802197802, 'F1 Score ': 0.8291095094164148}, 152: {'Precision Score ': 0.8300000000000001, 'Recall Score ': 0.6704545454545454, 'F1 Score ': 0.7074468085106383}, 153: {'Precision Score ': 0.8812292358803986, 'Recall Score ': 0.9058355437665783, 'F1 Score ': 0.8929565403553843}, 154: {'Precision Score ': 0.856060606060606, 'Recall Score ': 0.8363148479427549, 'F1 Score ': 0.8455172413793104}, 155: {'Precision Score ': 0.821236559139785, 'Recall Score ': 0.8089851325145443, 'F1 Score ': 0.8147233201581028}, 156: {'Precision Score ': 0.90625, 'Recall Score ': 0.7637362637362637, 'F1 Score ': 0.8146167557932265}, 157: {'Precision Score ': 0.8979166666666667, 'Recall Score ': 0.9159407665505226, 'F1 Score ': 0.9063431247339293}, 158: {'Precision Score ': 0.856974921630094, 'Recall Score ': 0.8228206945428774, 'F1 Score ': 0.837092731829574}, 159: {'Precision Score ': 0.8467973635288153, 'Recall Score ': 0.8331168831168831, 'F1 Score ': 0.8370125851041882}, 160: {'Precision Score ': 0.874065934065934, 'Recall Score ': 0.8052367288378766, 'F1 Score ': 0.8295287547761341}, 161: {'Precision Score ': 0.8506066734074823, 'Recall Score ': 0.8302380952380952, 'F1 Score ': 0.8397058823529411}, 162: {'Precision Score ': 0.9070121951219512, 'Recall Score ': 0.8850961538461539, 'F1 Score ': 0.8953086419753087}, 163: {'Precision Score ': 0.8386383731211318, 'Recall Score ': 0.8218487394957983, 'F1 Score ': 0.8296726959517657}, 164: {'Precision Score ': 0.9217657342657343, 'Recall Score ': 0.9128342245989305, 'F1 Score ': 0.9168062233266706}, 165: {'Precision Score ': 0.8036130536130537, 'Recall Score ': 0.821604938271605, 'F1 Score ': 0.8116202455825098}, 166: {'Precision Score ': 0.7750320924261874, 'Recall Score ': 0.7318722943722944, 'F1 Score ': 0.7488664618984935}, 167: {'Precision Score ': 0.8792986040177051, 'Recall Score ': 0.8598191214470284, 'F1 Score ': 0.8686542443064182}, 168: {'Precision Score ': 0.8690476190476191, 'Recall Score ': 0.8528455284552845, 'F1 Score ': 0.860407145824678}}"
     ]
    },
    {
     "name": "stdout",
     "output_type": "stream",
     "text": [
      "\n"
     ]
    }
   ],
   "source": [
    "result_history = run_model(model_type = \"XGB\")"
   ]
  },
  {
   "cell_type": "code",
   "execution_count": 64,
   "metadata": {},
   "outputs": [],
   "source": [
    "# f = open(\"binary_xgb_result\", \"wb\")\n",
    "# pickle.dump(result_history, f)\n",
    "# f.close()"
   ]
  },
  {
   "cell_type": "code",
   "execution_count": 65,
   "metadata": {},
   "outputs": [],
   "source": [
    "f = open(\"binary_xgb_result\", \"rb\")\n",
    "l = pickle.load(f)\n",
    "f.close()"
   ]
  },
  {
   "cell_type": "code",
   "execution_count": 66,
   "metadata": {},
   "outputs": [],
   "source": [
    "l = {k: v for k, v in sorted(l.items(), key=lambda item: item[1][\"F1 Score \"], reverse = True)}"
   ]
  },
  {
   "cell_type": "code",
   "execution_count": 67,
   "metadata": {},
   "outputs": [
    {
     "name": "stdout",
     "output_type": "stream",
     "text": [
      "97  =  {'Precision Score ': 0.96875, 'Recall Score ': 0.9938271604938271, 'F1 Score ': 0.9807653776798237}\n",
      "71  =  {'Precision Score ': 0.9946236559139785, 'Recall Score ': 0.9583333333333333, 'F1 Score ': 0.9755581668625147}\n",
      "100  =  {'Precision Score ': 0.9893617021276595, 'Recall Score ': 0.9411764705882353, 'F1 Score ': 0.9633736559139785}\n",
      "137  =  {'Precision Score ': 0.9347826086956521, 'Recall Score ': 0.9831460674157304, 'F1 Score ': 0.9565448504983388}\n",
      "72  =  {'Precision Score ': 0.9409883720930232, 'Recall Score ': 0.9512195121951219, 'F1 Score ': 0.9457671957671958}\n",
      "102  =  {'Precision Score ': 0.9555555555555555, 'Recall Score ': 0.9318820224719101, 'F1 Score ': 0.94323301495765}\n",
      "89  =  {'Precision Score ': 0.9594155844155845, 'Recall Score ': 0.9296015180265655, 'F1 Score ': 0.9431762515920447}\n",
      "85  =  {'Precision Score ': 0.936633912824389, 'Recall Score ': 0.9484989648033126, 'F1 Score ': 0.9419457735247209}\n",
      "74  =  {'Precision Score ': 0.9360047846889952, 'Recall Score ': 0.9360047846889952, 'F1 Score ': 0.9360047846889952}\n",
      "45  =  {'Precision Score ': 0.9142857142857144, 'Recall Score ': 0.9655172413793103, 'F1 Score ': 0.9352678571428572}\n",
      "24  =  {'Precision Score ': 0.9772727272727273, 'Recall Score ': 0.9, 'F1 Score ': 0.9328165374677003}\n",
      "7  =  {'Precision Score ': 0.9173297966401415, 'Recall Score ': 0.946969696969697, 'F1 Score ': 0.9314285714285713}\n",
      "79  =  {'Precision Score ': 0.9301335918982978, 'Recall Score ': 0.9233828207847297, 'F1 Score ': 0.92633547008547}\n",
      "147  =  {'Precision Score ': 0.9821428571428572, 'Recall Score ': 0.8846153846153846, 'F1 Score ': 0.9256916996047431}\n",
      "86  =  {'Precision Score ': 0.9485943775100402, 'Recall Score ': 0.90559186637618, 'F1 Score ': 0.9253048780487805}\n",
      "148  =  {'Precision Score ': 0.9251543209876543, 'Recall Score ': 0.9251543209876543, 'F1 Score ': 0.9251543209876543}\n",
      "80  =  {'Precision Score ': 0.925, 'Recall Score ': 0.9230414746543778, 'F1 Score ': 0.923805125836989}\n",
      "90  =  {'Precision Score ': 0.9472402597402598, 'Recall Score ': 0.9004360465116279, 'F1 Score ': 0.92183908045977}\n",
      "26  =  {'Precision Score ': 0.9810126582278481, 'Recall Score ': 0.875, 'F1 Score ': 0.9188940092165898}\n",
      "99  =  {'Precision Score ': 0.8936708860759495, 'Recall Score ': 0.9461979913916786, 'F1 Score ': 0.9169044821218735}\n"
     ]
    }
   ],
   "source": [
    "# Top 20 playlists \n",
    "for key in list(l.keys())[:20]:\n",
    "    print(key,\" = \",  l[key])"
   ]
  },
  {
   "cell_type": "code",
   "execution_count": null,
   "metadata": {},
   "outputs": [],
   "source": []
  },
  {
   "cell_type": "code",
   "execution_count": 85,
   "metadata": {},
   "outputs": [],
   "source": [
    "model = Sequential([\n",
    "    Dense(128, activation = 'relu', input_shape = (34,)),\n",
    "#     Dense(256, activation = 'relu'),\n",
    "    Dense(169, activation = 'softmax')   \n",
    "    \n",
    "])\n",
    "model.compile(optimizer=tf.keras.optimizers.Adam(lr = 0.01), loss='categorical_crossentropy', metrics=['accuracy'])"
   ]
  },
  {
   "cell_type": "code",
   "execution_count": 86,
   "metadata": {},
   "outputs": [
    {
     "name": "stdout",
     "output_type": "stream",
     "text": [
      "Model: \"sequential_7\"\n",
      "_________________________________________________________________\n",
      "Layer (type)                 Output Shape              Param #   \n",
      "=================================================================\n",
      "dense_21 (Dense)             (None, 128)               4480      \n",
      "_________________________________________________________________\n",
      "dense_22 (Dense)             (None, 169)               21801     \n",
      "=================================================================\n",
      "Total params: 26,281\n",
      "Trainable params: 26,281\n",
      "Non-trainable params: 0\n",
      "_________________________________________________________________\n"
     ]
    }
   ],
   "source": [
    "model.summary()"
   ]
  },
  {
   "cell_type": "code",
   "execution_count": 87,
   "metadata": {},
   "outputs": [],
   "source": [
    "data = np.array(df)\n",
    "X = data[:,1:-1]\n",
    "Y = data[:,-1]\n",
    "y = np.zeros((len(Y), 169))\n",
    "for i,label in enumerate(Y):\n",
    "    curr_label = eval(label)\n",
    "    \n",
    "    for playlist in curr_label:\n",
    "        y[i,playlist] = 1\n",
    "        break"
   ]
  },
  {
   "cell_type": "code",
   "execution_count": 88,
   "metadata": {},
   "outputs": [
    {
     "name": "stdout",
     "output_type": "stream",
     "text": [
      "(11159, 34)\n",
      "(11159, 169)\n"
     ]
    }
   ],
   "source": [
    "print(X.shape)\n",
    "print(y.shape)"
   ]
  },
  {
   "cell_type": "code",
   "execution_count": 89,
   "metadata": {},
   "outputs": [],
   "source": [
    "X = np.asarray(X).astype('float32')"
   ]
  },
  {
   "cell_type": "code",
   "execution_count": 90,
   "metadata": {},
   "outputs": [],
   "source": [
    "X_train, X_test, y_train, y_test = train_test_split(X, y, test_size=0.2, random_state=10)"
   ]
  },
  {
   "cell_type": "code",
   "execution_count": 91,
   "metadata": {},
   "outputs": [
    {
     "name": "stdout",
     "output_type": "stream",
     "text": [
      "Epoch 1/100\n",
      "35/35 [==============================] - ETA: 0s - loss: 65421.7109 - accuracy: 0.00 - ETA: 0s - loss: 45598.8867 - accuracy: 0.01 - 0s 6ms/step - loss: 40442.0117 - accuracy: 0.0115 - val_loss: 10069.4434 - val_accuracy: 0.0067\n",
      "Epoch 2/100\n",
      "35/35 [==============================] - ETA: 0s - loss: 10609.1152 - accuracy: 0.0000e+ - ETA: 0s - loss: 1582.8091 - accuracy: 0.0117     - 0s 3ms/step - loss: 1000.4699 - accuracy: 0.0115 - val_loss: 5.0873 - val_accuracy: 0.0121\n",
      "Epoch 3/100\n",
      "35/35 [==============================] - ETA: 0s - loss: 5.0827 - accuracy: 0.01 - ETA: 0s - loss: 5.0504 - accuracy: 0.01 - 0s 3ms/step - loss: 5.0395 - accuracy: 0.0117 - val_loss: 5.0004 - val_accuracy: 0.0112\n",
      "Epoch 4/100\n",
      "35/35 [==============================] - ETA: 0s - loss: 5.0023 - accuracy: 0.00 - ETA: 0s - loss: 4.9734 - accuracy: 0.01 - 0s 3ms/step - loss: 4.9635 - accuracy: 0.0130 - val_loss: 4.9324 - val_accuracy: 0.0121\n",
      "Epoch 5/100\n",
      "35/35 [==============================] - ETA: 0s - loss: 4.9247 - accuracy: 0.01 - ETA: 0s - loss: 4.9181 - accuracy: 0.01 - ETA: 0s - loss: 4.9081 - accuracy: 0.01 - 0s 5ms/step - loss: 4.9037 - accuracy: 0.0128 - val_loss: 4.8785 - val_accuracy: 0.0121\n",
      "Epoch 6/100\n",
      "35/35 [==============================] - ETA: 0s - loss: 4.8863 - accuracy: 0.01 - ETA: 0s - loss: 4.8645 - accuracy: 0.03 - ETA: 0s - loss: 4.8575 - accuracy: 0.04 - 0s 5ms/step - loss: 4.8568 - accuracy: 0.0469 - val_loss: 4.8349 - val_accuracy: 0.0587\n",
      "Epoch 7/100\n",
      "35/35 [==============================] - ETA: 0s - loss: 4.8588 - accuracy: 0.05 - ETA: 0s - loss: 4.8295 - accuracy: 0.05 - 0s 3ms/step - loss: 4.8189 - accuracy: 0.0535 - val_loss: 4.7998 - val_accuracy: 0.0587\n",
      "Epoch 8/100\n",
      "35/35 [==============================] - ETA: 0s - loss: 4.7831 - accuracy: 0.04 - ETA: 0s - loss: 4.7918 - accuracy: 0.05 - 0s 3ms/step - loss: 4.7888 - accuracy: 0.0535 - val_loss: 4.7730 - val_accuracy: 0.0587\n",
      "Epoch 9/100\n",
      "35/35 [==============================] - ETA: 0s - loss: 4.7980 - accuracy: 0.04 - ETA: 0s - loss: 4.7693 - accuracy: 0.05 - 0s 4ms/step - loss: 4.7653 - accuracy: 0.0535 - val_loss: 4.7522 - val_accuracy: 0.0587\n",
      "Epoch 10/100\n",
      "35/35 [==============================] - ETA: 0s - loss: 4.7602 - accuracy: 0.06 - ETA: 0s - loss: 4.7355 - accuracy: 0.05 - 0s 4ms/step - loss: 4.7474 - accuracy: 0.0535 - val_loss: 4.7358 - val_accuracy: 0.0587\n",
      "Epoch 11/100\n",
      "35/35 [==============================] - ETA: 0s - loss: 4.7344 - accuracy: 0.05 - ETA: 0s - loss: 4.7413 - accuracy: 0.04 - 0s 3ms/step - loss: 4.7340 - accuracy: 0.0535 - val_loss: 4.7245 - val_accuracy: 0.0587\n",
      "Epoch 12/100\n",
      "35/35 [==============================] - ETA: 0s - loss: 4.7923 - accuracy: 0.04 - ETA: 0s - loss: 4.7299 - accuracy: 0.05 - 0s 4ms/step - loss: 4.7242 - accuracy: 0.0535 - val_loss: 4.7163 - val_accuracy: 0.0587\n",
      "Epoch 13/100\n",
      "35/35 [==============================] - ETA: 0s - loss: 4.7153 - accuracy: 0.04 - ETA: 0s - loss: 4.7131 - accuracy: 0.05 - 0s 4ms/step - loss: 4.7174 - accuracy: 0.0535 - val_loss: 4.7098 - val_accuracy: 0.0587\n",
      "Epoch 14/100\n",
      "35/35 [==============================] - ETA: 0s - loss: 4.7363 - accuracy: 0.02 - ETA: 0s - loss: 4.7225 - accuracy: 0.05 - 0s 3ms/step - loss: 4.7120 - accuracy: 0.0535 - val_loss: 4.7062 - val_accuracy: 0.0587\n",
      "Epoch 15/100\n",
      "35/35 [==============================] - ETA: 0s - loss: 4.5862 - accuracy: 0.08 - ETA: 0s - loss: 4.7061 - accuracy: 0.05 - 0s 3ms/step - loss: 4.7084 - accuracy: 0.0535 - val_loss: 4.7027 - val_accuracy: 0.0587\n",
      "Epoch 16/100\n",
      "35/35 [==============================] - ETA: 0s - loss: 4.6881 - accuracy: 0.04 - ETA: 0s - loss: 4.7087 - accuracy: 0.05 - 0s 3ms/step - loss: 4.7056 - accuracy: 0.0535 - val_loss: 4.7009 - val_accuracy: 0.0587\n",
      "Epoch 17/100\n",
      "35/35 [==============================] - ETA: 0s - loss: 4.7211 - accuracy: 0.05 - ETA: 0s - loss: 4.6949 - accuracy: 0.05 - 0s 3ms/step - loss: 4.7032 - accuracy: 0.0535 - val_loss: 4.6990 - val_accuracy: 0.0587\n",
      "Epoch 18/100\n",
      "35/35 [==============================] - ETA: 0s - loss: 4.6904 - accuracy: 0.06 - ETA: 0s - loss: 4.7028 - accuracy: 0.05 - 0s 3ms/step - loss: 4.7015 - accuracy: 0.0535 - val_loss: 4.6980 - val_accuracy: 0.0587\n",
      "Epoch 19/100\n",
      "35/35 [==============================] - ETA: 0s - loss: 4.5923 - accuracy: 0.08 - ETA: 0s - loss: 4.7014 - accuracy: 0.05 - 0s 4ms/step - loss: 4.7002 - accuracy: 0.0535 - val_loss: 4.6967 - val_accuracy: 0.0587\n",
      "Epoch 20/100\n",
      "35/35 [==============================] - ETA: 0s - loss: 4.7702 - accuracy: 0.04 - ETA: 0s - loss: 4.7086 - accuracy: 0.05 - 0s 4ms/step - loss: 4.6990 - accuracy: 0.0535 - val_loss: 4.6962 - val_accuracy: 0.0587\n",
      "Epoch 21/100\n",
      "35/35 [==============================] - ETA: 0s - loss: 4.6808 - accuracy: 0.04 - ETA: 0s - loss: 4.7053 - accuracy: 0.05 - ETA: 0s - loss: 4.6981 - accuracy: 0.05 - 0s 4ms/step - loss: 4.6980 - accuracy: 0.0535 - val_loss: 4.6952 - val_accuracy: 0.0587\n",
      "Epoch 22/100\n",
      "35/35 [==============================] - ETA: 0s - loss: 4.7501 - accuracy: 0.05 - ETA: 0s - loss: 4.6940 - accuracy: 0.05 - 0s 3ms/step - loss: 4.6972 - accuracy: 0.0535 - val_loss: 4.6948 - val_accuracy: 0.0587\n",
      "Epoch 23/100\n",
      "35/35 [==============================] - ETA: 0s - loss: 4.6153 - accuracy: 0.07 - ETA: 0s - loss: 4.6942 - accuracy: 0.05 - 0s 3ms/step - loss: 4.6965 - accuracy: 0.0535 - val_loss: 4.6944 - val_accuracy: 0.0587\n",
      "Epoch 24/100\n",
      "35/35 [==============================] - ETA: 0s - loss: 4.7531 - accuracy: 0.05 - ETA: 0s - loss: 4.7013 - accuracy: 0.05 - 0s 3ms/step - loss: 4.6959 - accuracy: 0.0535 - val_loss: 4.6944 - val_accuracy: 0.0587\n",
      "Epoch 25/100\n",
      "35/35 [==============================] - ETA: 0s - loss: 4.7624 - accuracy: 0.04 - ETA: 0s - loss: 4.6892 - accuracy: 0.05 - 0s 3ms/step - loss: 4.6953 - accuracy: 0.0535 - val_loss: 4.6942 - val_accuracy: 0.0587\n",
      "Epoch 26/100\n",
      "35/35 [==============================] - ETA: 0s - loss: 4.7702 - accuracy: 0.05 - ETA: 0s - loss: 4.7003 - accuracy: 0.05 - 0s 3ms/step - loss: 4.6949 - accuracy: 0.0535 - val_loss: 4.6934 - val_accuracy: 0.0587\n",
      "Epoch 27/100\n",
      "35/35 [==============================] - ETA: 0s - loss: 4.6991 - accuracy: 0.06 - ETA: 0s - loss: 4.6900 - accuracy: 0.05 - 0s 4ms/step - loss: 4.6945 - accuracy: 0.0535 - val_loss: 4.6934 - val_accuracy: 0.0587\n",
      "Epoch 28/100\n",
      "35/35 [==============================] - ETA: 0s - loss: 4.7159 - accuracy: 0.05 - ETA: 0s - loss: 4.7031 - accuracy: 0.05 - ETA: 0s - loss: 4.6946 - accuracy: 0.05 - 0s 5ms/step - loss: 4.6943 - accuracy: 0.0535 - val_loss: 4.6934 - val_accuracy: 0.0587\n",
      "Epoch 29/100\n",
      "35/35 [==============================] - ETA: 0s - loss: 4.6842 - accuracy: 0.04 - ETA: 0s - loss: 4.6932 - accuracy: 0.05 - 0s 4ms/step - loss: 4.6940 - accuracy: 0.0535 - val_loss: 4.6932 - val_accuracy: 0.0587\n",
      "Epoch 30/100\n",
      "35/35 [==============================] - ETA: 0s - loss: 4.7525 - accuracy: 0.05 - ETA: 0s - loss: 4.6888 - accuracy: 0.05 - 0s 3ms/step - loss: 4.6938 - accuracy: 0.0535 - val_loss: 4.6928 - val_accuracy: 0.0587\n",
      "Epoch 31/100\n",
      "35/35 [==============================] - ETA: 0s - loss: 4.6621 - accuracy: 0.05 - ETA: 0s - loss: 4.6906 - accuracy: 0.05 - 0s 3ms/step - loss: 4.6935 - accuracy: 0.0535 - val_loss: 4.6928 - val_accuracy: 0.0587\n",
      "Epoch 32/100\n",
      "35/35 [==============================] - ETA: 0s - loss: 4.6337 - accuracy: 0.05 - ETA: 0s - loss: 4.7003 - accuracy: 0.05 - 0s 3ms/step - loss: 4.6932 - accuracy: 0.0535 - val_loss: 4.6930 - val_accuracy: 0.0587\n",
      "Epoch 33/100\n",
      "35/35 [==============================] - ETA: 0s - loss: 4.6726 - accuracy: 0.04 - ETA: 0s - loss: 4.7038 - accuracy: 0.05 - 0s 3ms/step - loss: 4.6931 - accuracy: 0.0535 - val_loss: 4.6928 - val_accuracy: 0.0587\n",
      "Epoch 34/100\n",
      "35/35 [==============================] - ETA: 0s - loss: 4.7117 - accuracy: 0.04 - ETA: 0s - loss: 4.6879 - accuracy: 0.05 - 0s 3ms/step - loss: 4.6930 - accuracy: 0.0535 - val_loss: 4.6931 - val_accuracy: 0.0587\n",
      "Epoch 35/100\n",
      "35/35 [==============================] - ETA: 0s - loss: 4.8236 - accuracy: 0.03 - ETA: 0s - loss: 4.7047 - accuracy: 0.05 - 0s 3ms/step - loss: 4.6929 - accuracy: 0.0535 - val_loss: 4.6928 - val_accuracy: 0.0587\n",
      "Epoch 36/100\n",
      "35/35 [==============================] - ETA: 0s - loss: 4.7334 - accuracy: 0.04 - ETA: 0s - loss: 4.6919 - accuracy: 0.05 - 0s 4ms/step - loss: 4.6927 - accuracy: 0.0535 - val_loss: 4.6928 - val_accuracy: 0.0587\n",
      "Epoch 37/100\n",
      "35/35 [==============================] - ETA: 0s - loss: 4.6472 - accuracy: 0.07 - ETA: 0s - loss: 4.6997 - accuracy: 0.05 - 0s 3ms/step - loss: 4.6925 - accuracy: 0.0535 - val_loss: 4.6928 - val_accuracy: 0.0587\n",
      "Epoch 38/100\n",
      "35/35 [==============================] - ETA: 0s - loss: 4.6918 - accuracy: 0.04 - ETA: 0s - loss: 4.6933 - accuracy: 0.05 - 0s 3ms/step - loss: 4.6926 - accuracy: 0.0535 - val_loss: 4.6928 - val_accuracy: 0.0587\n",
      "Epoch 39/100\n",
      "35/35 [==============================] - ETA: 0s - loss: 4.6906 - accuracy: 0.04 - ETA: 0s - loss: 4.6878 - accuracy: 0.05 - 0s 3ms/step - loss: 4.6925 - accuracy: 0.0535 - val_loss: 4.6926 - val_accuracy: 0.0587\n",
      "Epoch 40/100\n",
      "35/35 [==============================] - ETA: 0s - loss: 4.7065 - accuracy: 0.06 - ETA: 0s - loss: 4.6880 - accuracy: 0.05 - 0s 3ms/step - loss: 4.6923 - accuracy: 0.0535 - val_loss: 4.6928 - val_accuracy: 0.0587\n",
      "Epoch 41/100\n",
      "35/35 [==============================] - ETA: 0s - loss: 4.6835 - accuracy: 0.06 - ETA: 0s - loss: 4.6931 - accuracy: 0.05 - 0s 3ms/step - loss: 4.6923 - accuracy: 0.0535 - val_loss: 4.6928 - val_accuracy: 0.0587\n",
      "Epoch 42/100\n",
      "35/35 [==============================] - ETA: 0s - loss: 4.8005 - accuracy: 0.03 - ETA: 0s - loss: 4.6801 - accuracy: 0.05 - 0s 3ms/step - loss: 4.6923 - accuracy: 0.0535 - val_loss: 4.6926 - val_accuracy: 0.0587\n",
      "Epoch 43/100\n",
      "35/35 [==============================] - ETA: 0s - loss: 4.7863 - accuracy: 0.02 - ETA: 0s - loss: 4.6918 - accuracy: 0.05 - 0s 4ms/step - loss: 4.6925 - accuracy: 0.0535 - val_loss: 4.6927 - val_accuracy: 0.0587\n",
      "Epoch 44/100\n",
      "35/35 [==============================] - ETA: 0s - loss: 4.6471 - accuracy: 0.06 - ETA: 0s - loss: 4.6797 - accuracy: 0.05 - 0s 4ms/step - loss: 4.6922 - accuracy: 0.0535 - val_loss: 4.6932 - val_accuracy: 0.0587\n",
      "Epoch 45/100\n",
      "35/35 [==============================] - ETA: 0s - loss: 4.6427 - accuracy: 0.06 - ETA: 0s - loss: 4.6825 - accuracy: 0.05 - 0s 3ms/step - loss: 4.6922 - accuracy: 0.0535 - val_loss: 4.6929 - val_accuracy: 0.0587\n",
      "Epoch 46/100\n",
      "35/35 [==============================] - ETA: 0s - loss: 4.6203 - accuracy: 0.07 - ETA: 0s - loss: 4.6837 - accuracy: 0.05 - 0s 3ms/step - loss: 4.6921 - accuracy: 0.0535 - val_loss: 4.6927 - val_accuracy: 0.0587\n",
      "Epoch 47/100\n",
      "35/35 [==============================] - ETA: 0s - loss: 4.6757 - accuracy: 0.04 - ETA: 0s - loss: 4.6903 - accuracy: 0.05 - 0s 3ms/step - loss: 4.6920 - accuracy: 0.0535 - val_loss: 4.6925 - val_accuracy: 0.0587\n",
      "Epoch 48/100\n",
      "35/35 [==============================] - ETA: 0s - loss: 4.5597 - accuracy: 0.09 - ETA: 0s - loss: 4.7029 - accuracy: 0.05 - 0s 3ms/step - loss: 4.6922 - accuracy: 0.0535 - val_loss: 4.6928 - val_accuracy: 0.0587\n",
      "Epoch 49/100\n",
      "35/35 [==============================] - ETA: 0s - loss: 4.6996 - accuracy: 0.06 - ETA: 0s - loss: 4.6931 - accuracy: 0.05 - 0s 3ms/step - loss: 4.6921 - accuracy: 0.0535 - val_loss: 4.6924 - val_accuracy: 0.0587\n",
      "Epoch 50/100\n",
      "35/35 [==============================] - ETA: 0s - loss: 4.6630 - accuracy: 0.04 - ETA: 0s - loss: 4.7031 - accuracy: 0.05 - 0s 3ms/step - loss: 4.6921 - accuracy: 0.0535 - val_loss: 4.6923 - val_accuracy: 0.0587\n",
      "Epoch 51/100\n",
      "35/35 [==============================] - ETA: 0s - loss: 4.7048 - accuracy: 0.06 - ETA: 0s - loss: 4.6913 - accuracy: 0.05 - 0s 3ms/step - loss: 4.6919 - accuracy: 0.0535 - val_loss: 4.6927 - val_accuracy: 0.0587\n",
      "Epoch 52/100\n",
      "35/35 [==============================] - ETA: 0s - loss: 4.6349 - accuracy: 0.05 - ETA: 0s - loss: 4.6992 - accuracy: 0.04 - 0s 4ms/step - loss: 4.6919 - accuracy: 0.0535 - val_loss: 4.6931 - val_accuracy: 0.0587\n",
      "Epoch 53/100\n",
      "35/35 [==============================] - ETA: 0s - loss: 4.6937 - accuracy: 0.05 - ETA: 0s - loss: 4.7093 - accuracy: 0.05 - 0s 4ms/step - loss: 4.6920 - accuracy: 0.0535 - val_loss: 4.6928 - val_accuracy: 0.0587\n",
      "Epoch 54/100\n",
      "35/35 [==============================] - ETA: 0s - loss: 4.7547 - accuracy: 0.02 - ETA: 0s - loss: 4.6916 - accuracy: 0.05 - 0s 3ms/step - loss: 4.6920 - accuracy: 0.0535 - val_loss: 4.6925 - val_accuracy: 0.0587\n",
      "Epoch 55/100\n",
      "35/35 [==============================] - ETA: 0s - loss: 4.7771 - accuracy: 0.04 - ETA: 0s - loss: 4.6834 - accuracy: 0.05 - 0s 3ms/step - loss: 4.6919 - accuracy: 0.0535 - val_loss: 4.6924 - val_accuracy: 0.0587\n",
      "Epoch 56/100\n",
      "35/35 [==============================] - ETA: 0s - loss: 4.7545 - accuracy: 0.04 - ETA: 0s - loss: 4.7032 - accuracy: 0.05 - 0s 3ms/step - loss: 4.6918 - accuracy: 0.0535 - val_loss: 4.6928 - val_accuracy: 0.0587\n",
      "Epoch 57/100\n",
      "35/35 [==============================] - ETA: 0s - loss: 4.7544 - accuracy: 0.04 - ETA: 0s - loss: 4.6810 - accuracy: 0.05 - 0s 3ms/step - loss: 4.6919 - accuracy: 0.0535 - val_loss: 4.6924 - val_accuracy: 0.0587\n",
      "Epoch 58/100\n",
      "35/35 [==============================] - ETA: 0s - loss: 4.7228 - accuracy: 0.05 - ETA: 0s - loss: 4.6958 - accuracy: 0.05 - 0s 3ms/step - loss: 4.6920 - accuracy: 0.0535 - val_loss: 4.6929 - val_accuracy: 0.0587\n",
      "Epoch 59/100\n",
      "35/35 [==============================] - ETA: 0s - loss: 4.6626 - accuracy: 0.05 - ETA: 0s - loss: 4.6820 - accuracy: 0.05 - 0s 4ms/step - loss: 4.6919 - accuracy: 0.0535 - val_loss: 4.6927 - val_accuracy: 0.0587\n",
      "Epoch 60/100\n",
      "35/35 [==============================] - ETA: 0s - loss: 4.6645 - accuracy: 0.04 - ETA: 0s - loss: 4.6948 - accuracy: 0.04 - ETA: 0s - loss: 4.6921 - accuracy: 0.05 - 0s 4ms/step - loss: 4.6919 - accuracy: 0.0535 - val_loss: 4.6925 - val_accuracy: 0.0587\n",
      "Epoch 61/100\n",
      "35/35 [==============================] - ETA: 0s - loss: 4.6889 - accuracy: 0.06 - ETA: 0s - loss: 4.6856 - accuracy: 0.04 - 0s 3ms/step - loss: 4.6917 - accuracy: 0.0535 - val_loss: 4.6926 - val_accuracy: 0.0587\n",
      "Epoch 62/100\n",
      "35/35 [==============================] - ETA: 0s - loss: 4.7570 - accuracy: 0.03 - ETA: 0s - loss: 4.6945 - accuracy: 0.05 - 0s 3ms/step - loss: 4.6920 - accuracy: 0.0535 - val_loss: 4.6927 - val_accuracy: 0.0587\n",
      "Epoch 63/100\n",
      "35/35 [==============================] - ETA: 0s - loss: 4.6626 - accuracy: 0.07 - ETA: 0s - loss: 4.6896 - accuracy: 0.05 - 0s 3ms/step - loss: 4.6917 - accuracy: 0.0535 - val_loss: 4.6925 - val_accuracy: 0.0587\n",
      "Epoch 64/100\n",
      "35/35 [==============================] - ETA: 0s - loss: 4.7424 - accuracy: 0.03 - ETA: 0s - loss: 4.6983 - accuracy: 0.05 - ETA: 0s - loss: 4.6918 - accuracy: 0.05 - 0s 4ms/step - loss: 4.6918 - accuracy: 0.0535 - val_loss: 4.6931 - val_accuracy: 0.0587\n",
      "Epoch 65/100\n",
      "35/35 [==============================] - ETA: 0s - loss: 4.7394 - accuracy: 0.04 - ETA: 0s - loss: 4.6765 - accuracy: 0.05 - 0s 3ms/step - loss: 4.6919 - accuracy: 0.0535 - val_loss: 4.6932 - val_accuracy: 0.0587\n",
      "Epoch 66/100\n",
      "35/35 [==============================] - ETA: 0s - loss: 4.6883 - accuracy: 0.04 - ETA: 0s - loss: 4.6892 - accuracy: 0.05 - 0s 3ms/step - loss: 4.6918 - accuracy: 0.0535 - val_loss: 4.6928 - val_accuracy: 0.0587\n",
      "Epoch 67/100\n",
      "35/35 [==============================] - ETA: 0s - loss: 4.6984 - accuracy: 0.05 - ETA: 0s - loss: 4.6731 - accuracy: 0.05 - 0s 3ms/step - loss: 4.6917 - accuracy: 0.0535 - val_loss: 4.6924 - val_accuracy: 0.0587\n",
      "Epoch 68/100\n",
      "35/35 [==============================] - ETA: 0s - loss: 4.6247 - accuracy: 0.05 - ETA: 0s - loss: 4.6992 - accuracy: 0.04 - ETA: 0s - loss: 4.6954 - accuracy: 0.05 - 0s 4ms/step - loss: 4.6918 - accuracy: 0.0535 - val_loss: 4.6931 - val_accuracy: 0.0587\n",
      "Epoch 69/100\n",
      "35/35 [==============================] - ETA: 0s - loss: 4.7655 - accuracy: 0.06 - ETA: 0s - loss: 4.6802 - accuracy: 0.05 - 0s 3ms/step - loss: 4.6918 - accuracy: 0.0535 - val_loss: 4.6926 - val_accuracy: 0.0587\n",
      "Epoch 70/100\n",
      "35/35 [==============================] - ETA: 0s - loss: 4.6454 - accuracy: 0.05 - ETA: 0s - loss: 4.6935 - accuracy: 0.05 - 0s 4ms/step - loss: 4.6918 - accuracy: 0.0535 - val_loss: 4.6925 - val_accuracy: 0.0587\n",
      "Epoch 71/100\n",
      "35/35 [==============================] - ETA: 0s - loss: 4.7550 - accuracy: 0.04 - ETA: 0s - loss: 4.6899 - accuracy: 0.05 - 0s 3ms/step - loss: 4.6917 - accuracy: 0.0535 - val_loss: 4.6925 - val_accuracy: 0.0587\n"
     ]
    },
    {
     "name": "stdout",
     "output_type": "stream",
     "text": [
      "Epoch 72/100\n",
      "35/35 [==============================] - ETA: 0s - loss: 4.7343 - accuracy: 0.06 - ETA: 0s - loss: 4.7040 - accuracy: 0.05 - 0s 3ms/step - loss: 4.6919 - accuracy: 0.0535 - val_loss: 4.6925 - val_accuracy: 0.0587\n",
      "Epoch 73/100\n",
      "35/35 [==============================] - ETA: 0s - loss: 4.6622 - accuracy: 0.03 - ETA: 0s - loss: 4.6959 - accuracy: 0.04 - 0s 3ms/step - loss: 4.6917 - accuracy: 0.0535 - val_loss: 4.6922 - val_accuracy: 0.0587\n",
      "Epoch 74/100\n",
      "35/35 [==============================] - ETA: 0s - loss: 4.7511 - accuracy: 0.06 - ETA: 0s - loss: 4.6861 - accuracy: 0.05 - 0s 3ms/step - loss: 4.6919 - accuracy: 0.0535 - val_loss: 4.6928 - val_accuracy: 0.0587\n",
      "Epoch 75/100\n",
      "35/35 [==============================] - ETA: 0s - loss: 4.6141 - accuracy: 0.07 - ETA: 0s - loss: 4.6816 - accuracy: 0.05 - 0s 4ms/step - loss: 4.6918 - accuracy: 0.0535 - val_loss: 4.6929 - val_accuracy: 0.0587\n",
      "Epoch 76/100\n",
      "35/35 [==============================] - ETA: 0s - loss: 4.6006 - accuracy: 0.05 - ETA: 0s - loss: 4.6804 - accuracy: 0.05 - 0s 4ms/step - loss: 4.6917 - accuracy: 0.0535 - val_loss: 4.6924 - val_accuracy: 0.0587\n",
      "Epoch 77/100\n",
      "35/35 [==============================] - ETA: 0s - loss: 4.7282 - accuracy: 0.04 - ETA: 0s - loss: 4.6779 - accuracy: 0.05 - 0s 3ms/step - loss: 4.6917 - accuracy: 0.0535 - val_loss: 4.6924 - val_accuracy: 0.0587\n",
      "Epoch 78/100\n",
      "35/35 [==============================] - ETA: 0s - loss: 4.6725 - accuracy: 0.05 - ETA: 0s - loss: 4.6899 - accuracy: 0.05 - 0s 3ms/step - loss: 4.6918 - accuracy: 0.0535 - val_loss: 4.6928 - val_accuracy: 0.0587\n",
      "Epoch 79/100\n",
      "35/35 [==============================] - ETA: 0s - loss: 4.6448 - accuracy: 0.05 - ETA: 0s - loss: 4.6883 - accuracy: 0.05 - 0s 3ms/step - loss: 4.6915 - accuracy: 0.0535 - val_loss: 4.6925 - val_accuracy: 0.0587\n",
      "Epoch 80/100\n",
      "35/35 [==============================] - ETA: 0s - loss: 4.6662 - accuracy: 0.03 - ETA: 0s - loss: 4.6902 - accuracy: 0.05 - 0s 3ms/step - loss: 4.6915 - accuracy: 0.0535 - val_loss: 4.6926 - val_accuracy: 0.0587\n",
      "Epoch 81/100\n",
      "35/35 [==============================] - ETA: 0s - loss: 4.7206 - accuracy: 0.03 - ETA: 0s - loss: 4.6947 - accuracy: 0.05 - ETA: 0s - loss: 4.6937 - accuracy: 0.05 - 0s 5ms/step - loss: 4.6917 - accuracy: 0.0535 - val_loss: 4.6929 - val_accuracy: 0.0587\n",
      "Epoch 82/100\n",
      "35/35 [==============================] - ETA: 0s - loss: 4.7143 - accuracy: 0.03 - ETA: 0s - loss: 4.6910 - accuracy: 0.05 - 0s 3ms/step - loss: 4.6918 - accuracy: 0.0535 - val_loss: 4.6924 - val_accuracy: 0.0587\n",
      "Epoch 83/100\n",
      "35/35 [==============================] - ETA: 0s - loss: 4.7175 - accuracy: 0.04 - ETA: 0s - loss: 4.7025 - accuracy: 0.05 - 0s 4ms/step - loss: 4.6918 - accuracy: 0.0535 - val_loss: 4.6928 - val_accuracy: 0.0587\n",
      "Epoch 84/100\n",
      "35/35 [==============================] - ETA: 0s - loss: 4.6131 - accuracy: 0.04 - ETA: 0s - loss: 4.6920 - accuracy: 0.05 - 0s 3ms/step - loss: 4.6916 - accuracy: 0.0535 - val_loss: 4.6926 - val_accuracy: 0.0587\n",
      "Epoch 85/100\n",
      "35/35 [==============================] - ETA: 0s - loss: 4.6556 - accuracy: 0.05 - ETA: 0s - loss: 4.6862 - accuracy: 0.05 - 0s 3ms/step - loss: 4.6917 - accuracy: 0.0535 - val_loss: 4.6925 - val_accuracy: 0.0587\n",
      "Epoch 86/100\n",
      "35/35 [==============================] - ETA: 0s - loss: 4.6474 - accuracy: 0.05 - ETA: 0s - loss: 4.6936 - accuracy: 0.05 - 0s 3ms/step - loss: 4.6918 - accuracy: 0.0535 - val_loss: 4.6926 - val_accuracy: 0.0587\n",
      "Epoch 87/100\n",
      "35/35 [==============================] - ETA: 0s - loss: 4.7791 - accuracy: 0.03 - ETA: 0s - loss: 4.7040 - accuracy: 0.05 - 0s 3ms/step - loss: 4.6919 - accuracy: 0.0535 - val_loss: 4.6926 - val_accuracy: 0.0587\n",
      "Epoch 88/100\n",
      "35/35 [==============================] - ETA: 0s - loss: 4.7012 - accuracy: 0.05 - ETA: 0s - loss: 4.6895 - accuracy: 0.05 - 0s 3ms/step - loss: 4.6918 - accuracy: 0.0535 - val_loss: 4.6917 - val_accuracy: 0.0587\n",
      "Epoch 89/100\n",
      "35/35 [==============================] - ETA: 0s - loss: 4.6974 - accuracy: 0.04 - ETA: 0s - loss: 4.6791 - accuracy: 0.05 - 0s 4ms/step - loss: 4.6917 - accuracy: 0.0535 - val_loss: 4.6925 - val_accuracy: 0.0587\n",
      "Epoch 90/100\n",
      "35/35 [==============================] - ETA: 0s - loss: 4.7574 - accuracy: 0.06 - ETA: 0s - loss: 4.7004 - accuracy: 0.05 - 0s 3ms/step - loss: 4.6919 - accuracy: 0.0535 - val_loss: 4.6926 - val_accuracy: 0.0587\n",
      "Epoch 91/100\n",
      "35/35 [==============================] - ETA: 0s - loss: 4.6455 - accuracy: 0.05 - ETA: 0s - loss: 4.6944 - accuracy: 0.05 - ETA: 0s - loss: 4.6854 - accuracy: 0.05 - 0s 5ms/step - loss: 4.6917 - accuracy: 0.0535 - val_loss: 4.6919 - val_accuracy: 0.0587\n",
      "Epoch 92/100\n",
      "35/35 [==============================] - ETA: 0s - loss: 4.7003 - accuracy: 0.06 - ETA: 0s - loss: 4.6979 - accuracy: 0.05 - ETA: 0s - loss: 4.6980 - accuracy: 0.05 - 0s 5ms/step - loss: 4.6915 - accuracy: 0.0535 - val_loss: 4.6924 - val_accuracy: 0.0587\n",
      "Epoch 93/100\n",
      "35/35 [==============================] - ETA: 0s - loss: 4.6475 - accuracy: 0.05 - ETA: 0s - loss: 4.6713 - accuracy: 0.05 - 0s 4ms/step - loss: 4.6919 - accuracy: 0.0535 - val_loss: 4.6924 - val_accuracy: 0.0587\n",
      "Epoch 94/100\n",
      "35/35 [==============================] - ETA: 0s - loss: 4.6547 - accuracy: 0.05 - ETA: 0s - loss: 4.6914 - accuracy: 0.05 - 0s 3ms/step - loss: 4.6919 - accuracy: 0.0535 - val_loss: 4.6928 - val_accuracy: 0.0587\n",
      "Epoch 95/100\n",
      "35/35 [==============================] - ETA: 0s - loss: 4.6611 - accuracy: 0.07 - ETA: 0s - loss: 4.6948 - accuracy: 0.05 - 0s 3ms/step - loss: 4.6917 - accuracy: 0.0535 - val_loss: 4.6926 - val_accuracy: 0.0587\n",
      "Epoch 96/100\n",
      "35/35 [==============================] - ETA: 0s - loss: 4.6914 - accuracy: 0.05 - ETA: 0s - loss: 4.6950 - accuracy: 0.05 - 0s 4ms/step - loss: 4.6917 - accuracy: 0.0535 - val_loss: 4.6920 - val_accuracy: 0.0587\n",
      "Epoch 97/100\n",
      "35/35 [==============================] - ETA: 0s - loss: 4.6744 - accuracy: 0.03 - ETA: 0s - loss: 4.7007 - accuracy: 0.05 - 0s 4ms/step - loss: 4.6916 - accuracy: 0.0535 - val_loss: 4.6927 - val_accuracy: 0.0587\n",
      "Epoch 98/100\n",
      "35/35 [==============================] - ETA: 0s - loss: 4.6346 - accuracy: 0.03 - ETA: 0s - loss: 4.6765 - accuracy: 0.05 - ETA: 0s - loss: 4.6877 - accuracy: 0.05 - 0s 5ms/step - loss: 4.6917 - accuracy: 0.0535 - val_loss: 4.6927 - val_accuracy: 0.0587\n",
      "Epoch 99/100\n",
      "35/35 [==============================] - ETA: 0s - loss: 4.6128 - accuracy: 0.06 - ETA: 0s - loss: 4.6960 - accuracy: 0.05 - 0s 4ms/step - loss: 4.6919 - accuracy: 0.0535 - val_loss: 4.6925 - val_accuracy: 0.0587\n",
      "Epoch 100/100\n",
      "35/35 [==============================] - ETA: 0s - loss: 4.7267 - accuracy: 0.03 - ETA: 0s - loss: 4.6962 - accuracy: 0.05 - 0s 3ms/step - loss: 4.6917 - accuracy: 0.0535 - val_loss: 4.6925 - val_accuracy: 0.0587\n"
     ]
    }
   ],
   "source": [
    "history = model.fit(X_train, y_train , validation_data = (X_test,y_test), batch_size = 256 , epochs = 100)"
   ]
  },
  {
   "cell_type": "code",
   "execution_count": 70,
   "metadata": {},
   "outputs": [],
   "source": [
    "y_pred = model.predict(X_test)"
   ]
  },
  {
   "cell_type": "code",
   "execution_count": 72,
   "metadata": {},
   "outputs": [
    {
     "data": {
      "text/plain": [
       "array([0., 0., 0., 0., 0., 0., 0., 0., 0., 0., 0., 0., 0., 0., 0., 0., 0.,\n",
       "       0., 0., 0., 0., 0., 0., 0., 0., 0., 0., 0., 0., 0., 0., 0., 0., 0.,\n",
       "       0., 0., 0., 0., 0., 0., 0., 0., 0., 0., 1., 0., 0., 0., 0., 0., 0.,\n",
       "       0., 0., 0., 0., 0., 0., 0., 0., 0., 0., 0., 0., 0., 0., 0., 0., 0.,\n",
       "       0., 0., 0., 0., 0., 0., 0., 0., 0., 0., 0., 0., 0., 0., 0., 0., 0.,\n",
       "       0., 0., 0., 0., 0., 0., 0., 0., 0., 0., 0., 0., 0., 0., 0., 0., 0.,\n",
       "       0., 0., 0., 0., 0., 0., 0., 0., 0., 0., 0., 0., 0., 0., 0., 0., 0.,\n",
       "       0., 0., 0., 0., 0., 0., 0., 0., 0., 0., 0., 0., 0., 0., 0., 0., 0.,\n",
       "       0., 0., 0., 0., 0., 0., 0., 0., 0., 0., 0., 0., 0., 0., 0., 0., 0.,\n",
       "       0., 0., 0., 0., 0., 0., 0., 0., 0., 0., 0., 0., 0., 0., 0., 0.],\n",
       "      dtype=float32)"
      ]
     },
     "execution_count": 72,
     "metadata": {},
     "output_type": "execute_result"
    }
   ],
   "source": []
  },
  {
   "cell_type": "code",
   "execution_count": null,
   "metadata": {},
   "outputs": [],
   "source": []
  }
 ],
 "metadata": {
  "kernelspec": {
   "display_name": "Python 3",
   "language": "python",
   "name": "python3"
  },
  "language_info": {
   "codemirror_mode": {
    "name": "ipython",
    "version": 3
   },
   "file_extension": ".py",
   "mimetype": "text/x-python",
   "name": "python",
   "nbconvert_exporter": "python",
   "pygments_lexer": "ipython3",
   "version": "3.7.4"
  }
 },
 "nbformat": 4,
 "nbformat_minor": 4
}
