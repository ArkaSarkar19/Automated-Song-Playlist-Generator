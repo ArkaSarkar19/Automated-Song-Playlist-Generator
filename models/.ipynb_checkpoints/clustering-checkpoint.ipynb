{
 "cells": [
  {
   "cell_type": "code",
   "execution_count": 1,
   "metadata": {},
   "outputs": [],
   "source": [
    "import pandas as pd\n",
    "import numpy as np\n",
    "from sklearn.linear_model import LogisticRegression, SGDClassifier\n",
    "from sklearn.model_selection import train_test_split\n",
    "from sklearn.metrics import precision_score\n",
    "from sklearn.metrics import accuracy_score\n",
    "from sklearn.metrics import f1_score\n",
    "from sklearn.metrics import balanced_accuracy_score\n",
    "from sklearn.preprocessing import StandardScaler\n",
    "from sklearn.metrics import recall_score\n",
    "from tqdm import tqdm\n",
    "from imblearn.ensemble import BalancedBaggingClassifier\n",
    "from imblearn.under_sampling import RandomUnderSampler\n",
    "from sklearn.svm import SVC\n",
    "from xgboost import XGBClassifier\n",
    "import pickle\n",
    "import tensorflow as tf\n",
    "import math\n",
    "import keras\n",
    "from tensorflow.keras.models import Sequential\n",
    "from tensorflow.keras.layers import Dense\n",
    "from sklearn.tree import DecisionTreeClassifier\n",
    "from sklearn.ensemble import RandomForestClassifier\n",
    "import xgboost as xgb\n",
    "from xgboost.sklearn import XGBClassifier\n",
    "from sklearn.neighbors import KNeighborsClassifier\n",
    "from sklearn.preprocessing import OneHotEncoder\n",
    "from sklearn import preprocessing\n",
    "from sklearn.cluster import KMeans\n",
    "from sklearn.metrics import silhouette_score\n",
    "from matplotlib import pyplot as plt\n",
    "from sklearn.metrics import silhouette_samples\n",
    "import matplotlib.cm as cm\n",
    "from sklearn.decomposition import PCA\n",
    "from sklearn.manifold import TSNE\n",
    "import seaborn as sns\n",
    "from sklearn.decomposition import TruncatedSVD"
   ]
  },
  {
   "cell_type": "code",
   "execution_count": 2,
   "metadata": {},
   "outputs": [],
   "source": [
    "df = pd.read_csv(\"../Data_Scrape/Dataset/updated_dataset.csv\")"
   ]
  },
  {
   "cell_type": "code",
   "execution_count": 3,
   "metadata": {},
   "outputs": [
    {
     "data": {
      "text/html": [
       "<div>\n",
       "<style scoped>\n",
       "    .dataframe tbody tr th:only-of-type {\n",
       "        vertical-align: middle;\n",
       "    }\n",
       "\n",
       "    .dataframe tbody tr th {\n",
       "        vertical-align: top;\n",
       "    }\n",
       "\n",
       "    .dataframe thead th {\n",
       "        text-align: right;\n",
       "    }\n",
       "</style>\n",
       "<table border=\"1\" class=\"dataframe\">\n",
       "  <thead>\n",
       "    <tr style=\"text-align: right;\">\n",
       "      <th></th>\n",
       "      <th>sp_song_id</th>\n",
       "      <th>danceability</th>\n",
       "      <th>energy</th>\n",
       "      <th>key</th>\n",
       "      <th>loudness</th>\n",
       "      <th>mode</th>\n",
       "      <th>speechiness</th>\n",
       "      <th>acousticness</th>\n",
       "      <th>instrumentalness</th>\n",
       "      <th>liveness</th>\n",
       "      <th>...</th>\n",
       "      <th>lda_topic_11</th>\n",
       "      <th>lda_topic_12</th>\n",
       "      <th>lda_topic_13</th>\n",
       "      <th>lda_topic_14</th>\n",
       "      <th>lda_topic_15</th>\n",
       "      <th>lda_topic_16</th>\n",
       "      <th>lda_topic_17</th>\n",
       "      <th>lda_topic_18</th>\n",
       "      <th>lda_topic_19</th>\n",
       "      <th>Playlists</th>\n",
       "    </tr>\n",
       "  </thead>\n",
       "  <tbody>\n",
       "    <tr>\n",
       "      <th>0</th>\n",
       "      <td>6edQfeOlqbGteYixpJl3Sm</td>\n",
       "      <td>0.857</td>\n",
       "      <td>0.602</td>\n",
       "      <td>10</td>\n",
       "      <td>-8.311</td>\n",
       "      <td>1</td>\n",
       "      <td>0.0290</td>\n",
       "      <td>0.489000</td>\n",
       "      <td>0.02440</td>\n",
       "      <td>0.3170</td>\n",
       "      <td>...</td>\n",
       "      <td>0.0</td>\n",
       "      <td>0.022993</td>\n",
       "      <td>0.000000</td>\n",
       "      <td>0.122078</td>\n",
       "      <td>0.0</td>\n",
       "      <td>0.000000</td>\n",
       "      <td>0.000000</td>\n",
       "      <td>0.081108</td>\n",
       "      <td>0.386042</td>\n",
       "      <td>[165]</td>\n",
       "    </tr>\n",
       "    <tr>\n",
       "      <th>1</th>\n",
       "      <td>5Oe7wHPL4hdEXeF4AOayCi</td>\n",
       "      <td>0.322</td>\n",
       "      <td>0.990</td>\n",
       "      <td>8</td>\n",
       "      <td>-1.785</td>\n",
       "      <td>1</td>\n",
       "      <td>0.1710</td>\n",
       "      <td>0.000044</td>\n",
       "      <td>0.41700</td>\n",
       "      <td>0.0366</td>\n",
       "      <td>...</td>\n",
       "      <td>0.0</td>\n",
       "      <td>0.000000</td>\n",
       "      <td>0.163142</td>\n",
       "      <td>0.022999</td>\n",
       "      <td>0.0</td>\n",
       "      <td>0.144614</td>\n",
       "      <td>0.187207</td>\n",
       "      <td>0.000000</td>\n",
       "      <td>0.000000</td>\n",
       "      <td>[79]</td>\n",
       "    </tr>\n",
       "    <tr>\n",
       "      <th>2</th>\n",
       "      <td>6i1uWZYWabNHq2wQnoca58</td>\n",
       "      <td>0.666</td>\n",
       "      <td>0.884</td>\n",
       "      <td>9</td>\n",
       "      <td>-5.243</td>\n",
       "      <td>0</td>\n",
       "      <td>0.0429</td>\n",
       "      <td>0.506000</td>\n",
       "      <td>0.00612</td>\n",
       "      <td>0.0408</td>\n",
       "      <td>...</td>\n",
       "      <td>0.0</td>\n",
       "      <td>0.000000</td>\n",
       "      <td>0.000000</td>\n",
       "      <td>0.000000</td>\n",
       "      <td>0.0</td>\n",
       "      <td>0.000000</td>\n",
       "      <td>0.000000</td>\n",
       "      <td>0.000000</td>\n",
       "      <td>0.582131</td>\n",
       "      <td>[15]</td>\n",
       "    </tr>\n",
       "    <tr>\n",
       "      <th>3</th>\n",
       "      <td>4BzBtS6PBreni5hNPo2hos</td>\n",
       "      <td>0.609</td>\n",
       "      <td>0.578</td>\n",
       "      <td>9</td>\n",
       "      <td>-7.081</td>\n",
       "      <td>1</td>\n",
       "      <td>0.0414</td>\n",
       "      <td>0.296000</td>\n",
       "      <td>0.00000</td>\n",
       "      <td>0.1500</td>\n",
       "      <td>...</td>\n",
       "      <td>0.0</td>\n",
       "      <td>0.000000</td>\n",
       "      <td>0.511716</td>\n",
       "      <td>0.084905</td>\n",
       "      <td>0.0</td>\n",
       "      <td>0.000000</td>\n",
       "      <td>0.000000</td>\n",
       "      <td>0.115004</td>\n",
       "      <td>0.108140</td>\n",
       "      <td>[168]</td>\n",
       "    </tr>\n",
       "    <tr>\n",
       "      <th>4</th>\n",
       "      <td>0GvhHQbWSnGltjl0je61dI</td>\n",
       "      <td>0.699</td>\n",
       "      <td>0.514</td>\n",
       "      <td>4</td>\n",
       "      <td>-12.610</td>\n",
       "      <td>1</td>\n",
       "      <td>0.0315</td>\n",
       "      <td>0.587000</td>\n",
       "      <td>0.02900</td>\n",
       "      <td>0.2200</td>\n",
       "      <td>...</td>\n",
       "      <td>0.0</td>\n",
       "      <td>0.000000</td>\n",
       "      <td>0.000000</td>\n",
       "      <td>0.401954</td>\n",
       "      <td>0.0</td>\n",
       "      <td>0.000000</td>\n",
       "      <td>0.000000</td>\n",
       "      <td>0.000000</td>\n",
       "      <td>0.000000</td>\n",
       "      <td>[30, 133]</td>\n",
       "    </tr>\n",
       "  </tbody>\n",
       "</table>\n",
       "<p>5 rows × 36 columns</p>\n",
       "</div>"
      ],
      "text/plain": [
       "               sp_song_id  danceability  energy  key  loudness  mode  \\\n",
       "0  6edQfeOlqbGteYixpJl3Sm         0.857   0.602   10    -8.311     1   \n",
       "1  5Oe7wHPL4hdEXeF4AOayCi         0.322   0.990    8    -1.785     1   \n",
       "2  6i1uWZYWabNHq2wQnoca58         0.666   0.884    9    -5.243     0   \n",
       "3  4BzBtS6PBreni5hNPo2hos         0.609   0.578    9    -7.081     1   \n",
       "4  0GvhHQbWSnGltjl0je61dI         0.699   0.514    4   -12.610     1   \n",
       "\n",
       "   speechiness  acousticness  instrumentalness  liveness  ...  lda_topic_11  \\\n",
       "0       0.0290      0.489000           0.02440    0.3170  ...           0.0   \n",
       "1       0.1710      0.000044           0.41700    0.0366  ...           0.0   \n",
       "2       0.0429      0.506000           0.00612    0.0408  ...           0.0   \n",
       "3       0.0414      0.296000           0.00000    0.1500  ...           0.0   \n",
       "4       0.0315      0.587000           0.02900    0.2200  ...           0.0   \n",
       "\n",
       "   lda_topic_12  lda_topic_13  lda_topic_14  lda_topic_15  lda_topic_16  \\\n",
       "0      0.022993      0.000000      0.122078           0.0      0.000000   \n",
       "1      0.000000      0.163142      0.022999           0.0      0.144614   \n",
       "2      0.000000      0.000000      0.000000           0.0      0.000000   \n",
       "3      0.000000      0.511716      0.084905           0.0      0.000000   \n",
       "4      0.000000      0.000000      0.401954           0.0      0.000000   \n",
       "\n",
       "   lda_topic_17  lda_topic_18  lda_topic_19  Playlists  \n",
       "0      0.000000      0.081108      0.386042      [165]  \n",
       "1      0.187207      0.000000      0.000000       [79]  \n",
       "2      0.000000      0.000000      0.582131       [15]  \n",
       "3      0.000000      0.115004      0.108140      [168]  \n",
       "4      0.000000      0.000000      0.000000  [30, 133]  \n",
       "\n",
       "[5 rows x 36 columns]"
      ]
     },
     "execution_count": 3,
     "metadata": {},
     "output_type": "execute_result"
    }
   ],
   "source": [
    "df.head()"
   ]
  },
  {
   "cell_type": "code",
   "execution_count": 4,
   "metadata": {},
   "outputs": [],
   "source": [
    "dataset = []\n",
    "data = np.array(df)\n",
    "for i in df.index:\n",
    "    l = eval(df[\"Playlists\"][i])\n",
    "#     if len(l) > 1:\n",
    "#         continue\n",
    "    data[i][-1] = l\n",
    "    dataset.append(data[i])\n",
    "dataset = np.array(dataset)\n",
    "        "
   ]
  },
  {
   "cell_type": "code",
   "execution_count": 5,
   "metadata": {},
   "outputs": [
    {
     "name": "stdout",
     "output_type": "stream",
     "text": [
      "11159\n",
      "11159\n"
     ]
    }
   ],
   "source": [
    "print(len(df))\n",
    "print(len(dataset))"
   ]
  },
  {
   "cell_type": "code",
   "execution_count": 6,
   "metadata": {},
   "outputs": [],
   "source": [
    "# counts = []\n",
    "# for i in range(169):\n",
    "#     counts.append(0)\n",
    "# for i in range(len(dataset)):\n",
    "#     counts[int(dataset[i][-1])] += 1\n",
    "# c = 0\n",
    "# playlists_to_keep = set()\n",
    "# for i in range(len(counts)):\n",
    "#     if counts[i] >= 120:\n",
    "#         c += 1\n",
    "#         playlists_to_keep.add(str(i))        \n",
    "# print(c)"
   ]
  },
  {
   "cell_type": "code",
   "execution_count": 7,
   "metadata": {},
   "outputs": [],
   "source": [
    "# temp_dataset = []\n",
    "# for c in dataset:\n",
    "#     if str(c[-1]) in playlists_to_keep:\n",
    "#         temp_dataset.append(c)\n",
    "# dataset = temp_dataset\n",
    "# dataset = np.array(dataset)\n",
    "        "
   ]
  },
  {
   "cell_type": "code",
   "execution_count": 8,
   "metadata": {},
   "outputs": [],
   "source": [
    "X = dataset[:, 1:-1]\n",
    "y = dataset[:, -1]"
   ]
  },
  {
   "cell_type": "code",
   "execution_count": 9,
   "metadata": {},
   "outputs": [],
   "source": [
    "standardScalar = StandardScaler()\n",
    "X = standardScalar.fit_transform(X)"
   ]
  },
  {
   "cell_type": "code",
   "execution_count": 10,
   "metadata": {},
   "outputs": [],
   "source": [
    "# pca = PCA(n_components = 15)\n",
    "# X = pca.fit_tranform(X)\n",
    "# pca.explained_variance_"
   ]
  },
  {
   "cell_type": "code",
   "execution_count": 11,
   "metadata": {},
   "outputs": [],
   "source": [
    "svd = TruncatedSVD(n_components = 15, random_state = 0)\n",
    "X = svd.fit_transform(X)\n",
    "# pca.explained_variance_"
   ]
  },
  {
   "cell_type": "code",
   "execution_count": 12,
   "metadata": {},
   "outputs": [
    {
     "name": "stdout",
     "output_type": "stream",
     "text": [
      "(11159, 15)\n",
      "(11159,)\n",
      "[-1.81088185 -1.63204109 -0.73234896 -0.01666838 -0.70166087  1.39663556\n",
      " -1.31109854  0.13860771 -0.70312456 -0.27157586 -0.19136596 -0.16054815\n",
      " -1.19500578  0.07239146 -0.22634698]\n"
     ]
    }
   ],
   "source": [
    "print(X.shape)\n",
    "print(y.shape)\n",
    "print(X[0])"
   ]
  },
  {
   "cell_type": "code",
   "execution_count": 13,
   "metadata": {},
   "outputs": [],
   "source": [
    "# for i in range(2, 11):\n",
    "#     kmeans = KMeans(n_clusters=i, random_state=0).fit(X)\n",
    "#     print(i, silhouette_score(X, kmeans.labels_, metric='euclidean')) \n",
    "#     pred = kmeans.fit_predict(X)\n",
    "      \n",
    "#     xx=TSNE(n_components = 2 )\n",
    "#     X_TSNE=xx.fit_transform(X)\n",
    "#     tsne_df = pd.DataFrame(columns = ['tsvd1','tsvd2','Ytrain'])\n",
    "#     tsne_df[\"tsvd1\"]=X_TSNE[:,0]\n",
    "#     tsne_df[\"tsvd2\"]=X_TSNE[:,1]\n",
    "#     tsne_df[\"Ytrain\"]=pred\n",
    "#     # creating a dataframe of both dimensions of TSNE model and Ytrain to visualize plots\n",
    "\n",
    "#     # plotting our TSNE plot with labels on side\n",
    "#     plt.figure(figsize=(16,10))\n",
    "#     sns.scatterplot(x=\"tsvd1\", y=\"tsvd2\", hue=\"Ytrain\",data=tsne_df,palette=sns.color_palette(\"hls\", i),legend=\"full\")\n",
    "#     plt.show()\n",
    "    "
   ]
  },
  {
   "cell_type": "code",
   "execution_count": null,
   "metadata": {},
   "outputs": [],
   "source": []
  },
  {
   "cell_type": "code",
   "execution_count": 14,
   "metadata": {},
   "outputs": [],
   "source": [
    "kmeans = KMeans(n_clusters=10, random_state=69).fit(X)\n",
    "pred = kmeans.fit_predict(X)"
   ]
  },
  {
   "cell_type": "code",
   "execution_count": 15,
   "metadata": {},
   "outputs": [],
   "source": [
    "cluster_centres = kmeans.cluster_centers_ "
   ]
  },
  {
   "cell_type": "code",
   "execution_count": 16,
   "metadata": {},
   "outputs": [
    {
     "name": "stdout",
     "output_type": "stream",
     "text": [
      "[[-1.69559706e-01 -6.66120940e-01 -6.22062959e-01 -4.02248854e-01\n",
      "  -6.74243673e-01  1.01103990e-01  6.26778071e-01 -1.88071546e-01\n",
      "  -2.91237833e-02 -3.69646771e-01  8.70205176e-01 -4.58813455e-02\n",
      "   1.29212882e+00  1.65835610e-01 -2.57706829e-01]\n",
      " [-3.08384677e-01 -9.93107428e-01 -3.02375600e-01 -1.34192230e+00\n",
      "   7.04898799e-01  7.57052261e-02  1.60777506e-01  2.16137570e-02\n",
      "   4.65456358e-02  2.71899384e-01 -4.73046250e-01  1.05737697e-01\n",
      "  -4.09883398e-01  2.84747223e-01 -2.61987457e-01]\n",
      " [-1.21577241e+00  3.46679635e-02 -3.78774869e-01  8.09503552e-02\n",
      "  -8.81645531e-01  8.44989425e-01 -6.75270186e-01  5.64863229e-02\n",
      "   1.22903166e-02 -1.45498152e-01  3.17043512e-02  4.68575107e-02\n",
      "  -5.20836934e-01 -1.07497279e-01  3.40590717e-01]\n",
      " [ 9.79621447e-01 -2.38532587e+00  2.58217426e+00  6.44844810e-01\n",
      "  -4.88815294e-01 -5.33002609e-01 -1.62742638e-01 -1.08221183e-01\n",
      "   3.37325044e-01  2.24539392e-01  1.17145945e-01 -1.10052827e-01\n",
      "  -1.13557059e-01 -3.80544101e-01  1.34903486e-01]\n",
      " [ 2.94575100e+00  2.11354343e+00  8.19829916e-01 -4.37053398e-01\n",
      "   5.20985281e-01  7.76729232e-01 -2.41473842e-01 -2.81239394e-01\n",
      "  -1.02522867e-01 -4.16885916e-01 -5.34497570e-02  3.53684231e-02\n",
      "   2.06509172e-02 -2.59890280e-03 -1.99450395e-02]\n",
      " [ 1.48093619e+00  4.25650008e-01 -8.44189587e-01  1.45049925e-01\n",
      "  -5.32400196e-01 -7.74668180e-01  2.62882681e-01  1.83187162e-01\n",
      "  -8.96006427e-02  1.62180544e-01 -2.41138411e-01 -5.60646051e-02\n",
      "  -1.30258614e-01 -3.72586897e-02  2.20172734e-01]\n",
      " [-1.17040795e+00  3.26919097e-01  5.21550112e-01  1.84438271e+00\n",
      "   1.43096698e+00  6.88046185e-01  1.07213696e+00  4.07112136e+00\n",
      "  -3.47107575e+00  2.70879420e+00 -2.16192884e+00  1.99323400e+01\n",
      "   3.63396214e+00 -7.72810317e+00 -2.83986505e+00]\n",
      " [ 6.82607797e-02 -1.04737204e+00 -1.42129137e+00  3.02153606e+00\n",
      "   2.44005492e+00  7.49153219e-01 -3.18810160e-01 -9.84968982e-01\n",
      "  -9.12507368e-02  2.32729145e-01  1.59941383e-01 -1.38134690e-01\n",
      "   6.60283149e-02 -8.06622249e-02 -4.11631871e-01]\n",
      " [-2.04380827e+00  1.43363087e+00  6.64146303e-01  1.43669079e-01\n",
      "   2.64958457e-01 -7.07450485e-01  1.77282461e-01  3.63799766e-03\n",
      "  -1.60275953e-01  9.67798519e-02 -6.61724730e-02 -1.02805020e-01\n",
      "   7.83828872e-02  1.19872262e-01 -1.13803807e-02]\n",
      " [ 4.99190540e-02 -4.54553168e-01 -4.23374709e-01  1.24747789e+00\n",
      "   3.39550514e+00  9.58446331e-01 -5.19993768e-01  9.87496223e+00\n",
      "   4.08599618e+00 -2.40894067e+00  9.38895331e-01 -1.88706487e+00\n",
      "   1.28366304e+00 -1.31361703e+00 -6.10631378e-01]]\n"
     ]
    }
   ],
   "source": [
    "print(cluster_centres)"
   ]
  },
  {
   "cell_type": "code",
   "execution_count": 17,
   "metadata": {},
   "outputs": [
    {
     "name": "stdout",
     "output_type": "stream",
     "text": [
      "11159\n",
      "11159\n"
     ]
    }
   ],
   "source": [
    "print(len(X))\n",
    "print(len(pred))"
   ]
  },
  {
   "cell_type": "code",
   "execution_count": 18,
   "metadata": {},
   "outputs": [
    {
     "name": "stdout",
     "output_type": "stream",
     "text": [
      "2\n"
     ]
    }
   ],
   "source": [
    "print(pred[0])"
   ]
  },
  {
   "cell_type": "code",
   "execution_count": 19,
   "metadata": {},
   "outputs": [
    {
     "name": "stdout",
     "output_type": "stream",
     "text": [
      "(10, 15)\n"
     ]
    }
   ],
   "source": [
    "print(cluster_centres.shape)"
   ]
  },
  {
   "cell_type": "code",
   "execution_count": 20,
   "metadata": {},
   "outputs": [],
   "source": [
    "metrics_clusters = []\n",
    "for i in range(10):\n",
    "    s = 0\n",
    "    c = 0 \n",
    "    for j in range(len(X)):\n",
    "        if pred[j] == i:\n",
    "            s1 = 0\n",
    "            for k in range(15):\n",
    "                s1 += (X[j][k] - cluster_centres[i][k])**2\n",
    "            s1 = s1**(0.5)\n",
    "            s += s1\n",
    "            c += 1\n",
    "    s = s/c\n",
    "    metrics_clusters.append(s)\n",
    "            \n",
    "        "
   ]
  },
  {
   "cell_type": "code",
   "execution_count": 21,
   "metadata": {},
   "outputs": [
    {
     "data": {
      "text/plain": [
       "[3.11099955061529,\n",
       " 3.718583009312696,\n",
       " 2.9656034782479557,\n",
       " 2.9626330735784303,\n",
       " 3.38198963631432,\n",
       " 3.1678264853109876,\n",
       " 4.134214203521528,\n",
       " 2.823247858247276,\n",
       " 3.40737732340161,\n",
       " 4.68622137835526]"
      ]
     },
     "execution_count": 21,
     "metadata": {},
     "output_type": "execute_result"
    }
   ],
   "source": [
    "metrics_clusters"
   ]
  },
  {
   "cell_type": "code",
   "execution_count": 22,
   "metadata": {},
   "outputs": [
    {
     "data": {
      "text/plain": [
       "3.4358695996905353"
      ]
     },
     "execution_count": 22,
     "metadata": {},
     "output_type": "execute_result"
    }
   ],
   "source": [
    "sum(metrics_clusters)/10"
   ]
  },
  {
   "cell_type": "code",
   "execution_count": 23,
   "metadata": {},
   "outputs": [
    {
     "data": {
      "text/plain": [
       "[165]"
      ]
     },
     "execution_count": 23,
     "metadata": {},
     "output_type": "execute_result"
    }
   ],
   "source": [
    "y[0]"
   ]
  },
  {
   "cell_type": "code",
   "execution_count": 24,
   "metadata": {},
   "outputs": [],
   "source": [
    "playlist_centres = []\n",
    "playlist_counts = []\n",
    "for i in range(169):\n",
    "    a = []\n",
    "    for j in range(15):\n",
    "        a.append(0)\n",
    "    playlist_centres.append(a)\n",
    "    playlist_counts.append(0)"
   ]
  },
  {
   "cell_type": "code",
   "execution_count": 25,
   "metadata": {},
   "outputs": [
    {
     "name": "stdout",
     "output_type": "stream",
     "text": [
      "11159\n"
     ]
    }
   ],
   "source": [
    "print(len(y))"
   ]
  },
  {
   "cell_type": "code",
   "execution_count": 26,
   "metadata": {},
   "outputs": [
    {
     "name": "stdout",
     "output_type": "stream",
     "text": [
      "[65, 78, 74, 137, 91, 63, 56, 61, 59, 128, 71, 108, 99, 80, 98, 84, 109, 149, 89, 205, 74, 71, 118, 64, 100, 194, 58, 68, 67, 92, 852, 88, 106, 44, 117, 93, 87, 59, 250, 77, 147, 504, 714, 170, 309, 146, 451, 145, 204, 117, 144, 130, 127, 265, 166, 168, 129, 183, 153, 138, 310, 237, 239, 234, 146, 188, 164, 259, 489, 148, 62, 62, 203, 63, 92, 56, 242, 167, 171, 575, 309, 168, 162, 204, 215, 232, 82, 82, 83, 156, 78, 89, 104, 81, 112, 98, 73, 72, 56, 83, 86, 54, 80, 70, 274, 129, 124, 144, 110, 149, 109, 212, 311, 201, 168, 153, 139, 119, 415, 100, 87, 152, 108, 717, 202, 504, 265, 168, 155, 234, 160, 284, 689, 362, 106, 105, 73, 101, 76, 86, 78, 77, 141, 153, 69, 62, 66, 66, 78, 64, 190, 70, 111, 66, 131, 168, 63, 141, 168, 350, 168, 126, 127, 139, 275, 149, 122, 178, 150]\n"
     ]
    }
   ],
   "source": [
    "for i in range(len(X)):\n",
    "    for c in y[i]:\n",
    "        playlist_counts[c] += 1\n",
    "        for j in range(15):\n",
    "            playlist_centres[c][j] += X[i][j]\n",
    "print(playlist_counts)\n",
    "for i in range(169):\n",
    "    for j in range(15):\n",
    "        playlist_centres[i][j] = playlist_centres[i][j]/playlist_counts[i]\n",
    "    "
   ]
  },
  {
   "cell_type": "code",
   "execution_count": 27,
   "metadata": {},
   "outputs": [],
   "source": [
    "metrics_playlist = []\n",
    "for i in range(169):\n",
    "    s = 0\n",
    "    c = 0 \n",
    "    for j in range(len(X)):\n",
    "        if i in y[j]:\n",
    "            s1 = 0\n",
    "            for k in range(15):\n",
    "                s1 += (X[j][k] - playlist_centres[i][k])**2\n",
    "            s1 = s1**(0.5)\n",
    "            s += s1\n",
    "            c += 1\n",
    "    s = s/c\n",
    "    metrics_playlist.append(s)\n",
    "            \n",
    "        "
   ]
  },
  {
   "cell_type": "code",
   "execution_count": 28,
   "metadata": {},
   "outputs": [
    {
     "data": {
      "text/plain": [
       "[3.3511491446668504,\n",
       " 3.722642077005987,\n",
       " 3.6255001662623387,\n",
       " 3.7684085690947935,\n",
       " 3.1641321510001084,\n",
       " 3.8711963923745754,\n",
       " 3.630206166022751,\n",
       " 3.188970714503143,\n",
       " 3.699774482991127,\n",
       " 3.8866122271873174,\n",
       " 3.01839603691762,\n",
       " 2.9833352991899496,\n",
       " 3.2346564522934145,\n",
       " 3.0820769250147277,\n",
       " 2.9932046317100443,\n",
       " 3.4493399996707512,\n",
       " 3.00992296512145,\n",
       " 3.170953006362645,\n",
       " 3.2948156139449103,\n",
       " 3.6635192013715536,\n",
       " 4.797057075843019,\n",
       " 3.5139932842875523,\n",
       " 3.6619270372438923,\n",
       " 4.7321745493934655,\n",
       " 3.651745416538459,\n",
       " 3.5807467082507913,\n",
       " 3.693303106820328,\n",
       " 3.461266363720776,\n",
       " 3.652477031384259,\n",
       " 3.836529115662242,\n",
       " 3.822182250311083,\n",
       " 3.4973450261372436,\n",
       " 3.9826725261343663,\n",
       " 5.729128761176566,\n",
       " 3.0585562887766327,\n",
       " 4.368796605941351,\n",
       " 3.0054399935203944,\n",
       " 3.010934794081664,\n",
       " 3.4024530723273987,\n",
       " 3.7354034484200622,\n",
       " 3.4132085864262445,\n",
       " 3.7081600102052206,\n",
       " 3.7179424742273404,\n",
       " 3.373747545653792,\n",
       " 3.629028188422454,\n",
       " 2.5253601487446304,\n",
       " 3.7306895028619222,\n",
       " 3.6506008249599535,\n",
       " 3.782164866620195,\n",
       " 3.6773100145718423,\n",
       " 3.1741079681879403,\n",
       " 3.4036516400437677,\n",
       " 3.128877307068612,\n",
       " 3.5674819295545914,\n",
       " 3.170948673518981,\n",
       " 3.3651317027228567,\n",
       " 3.348396010217325,\n",
       " 3.1901118744690047,\n",
       " 3.1166128821967707,\n",
       " 3.0852411419248096,\n",
       " 3.609590348256471,\n",
       " 3.9506438977060925,\n",
       " 3.8688647349607037,\n",
       " 3.8339563601872397,\n",
       " 3.6251893366509256,\n",
       " 3.581983916016628,\n",
       " 3.5592877509391734,\n",
       " 4.185481410129967,\n",
       " 3.6867099798580076,\n",
       " 3.7264464369311576,\n",
       " 2.4672534168808027,\n",
       " 2.604776739687933,\n",
       " 2.779615652183141,\n",
       " 2.748419600869906,\n",
       " 2.961857245296304,\n",
       " 2.9428033445858355,\n",
       " 3.54326384952029,\n",
       " 3.828639014464517,\n",
       " 3.6321251574587876,\n",
       " 3.4428547146155997,\n",
       " 3.629028188422454,\n",
       " 3.17533459228889,\n",
       " 3.272056404177922,\n",
       " 3.7106498799252865,\n",
       " 3.6213841775374016,\n",
       " 3.3248371503087872,\n",
       " 3.3902623698982777,\n",
       " 3.249729930519317,\n",
       " 3.023679115473727,\n",
       " 2.9774345317685595,\n",
       " 3.185698149898244,\n",
       " 3.6362533281474714,\n",
       " 2.7348474748353153,\n",
       " 2.9132680068663896,\n",
       " 4.073202289217718,\n",
       " 3.196738612152259,\n",
       " 3.0165197737606957,\n",
       " 2.2622916358090075,\n",
       " 2.4476479363962476,\n",
       " 2.748819554397084,\n",
       " 2.456410492018037,\n",
       " 1.970296480997227,\n",
       " 2.570070166884197,\n",
       " 3.4855545868854576,\n",
       " 4.330993909614995,\n",
       " 3.607084233805171,\n",
       " 3.7532033531123687,\n",
       " 3.4275157967971936,\n",
       " 3.5412094981781976,\n",
       " 3.7733444762453807,\n",
       " 4.064138561911232,\n",
       " 3.6382780802843038,\n",
       " 3.749217614044895,\n",
       " 3.825777062882873,\n",
       " 3.229816764253742,\n",
       " 3.7630991724711413,\n",
       " 3.0215739277059055,\n",
       " 3.8473090747210343,\n",
       " 3.6945020068228596,\n",
       " 3.8280807503824015,\n",
       " 3.8118237609247925,\n",
       " 3.5016424226792418,\n",
       " 3.3596482742556413,\n",
       " 3.873200441109693,\n",
       " 3.802046511704193,\n",
       " 3.7081600102052206,\n",
       " 3.5674819295545914,\n",
       " 3.3651317027228567,\n",
       " 4.309356087043099,\n",
       " 3.8339563601872397,\n",
       " 3.7871010260298448,\n",
       " 3.675489269446106,\n",
       " 4.187468733450322,\n",
       " 4.319685832750895,\n",
       " 3.0971210559679356,\n",
       " 3.4612410540967513,\n",
       " 3.0165197737606957,\n",
       " 2.5484429073473156,\n",
       " 3.1569334664859725,\n",
       " 3.535114832661615,\n",
       " 3.7240221748610716,\n",
       " 3.729598789421668,\n",
       " 3.2950473679785657,\n",
       " 3.560725668430194,\n",
       " 3.5731144717774312,\n",
       " 3.658431551386312,\n",
       " 3.347573892942755,\n",
       " 4.661178357848801,\n",
       " 3.185698149898244,\n",
       " 4.528808631115004,\n",
       " 3.5943282946809205,\n",
       " 3.178676826647798,\n",
       " 3.6398214769845634,\n",
       " 3.13920377840943,\n",
       " 3.5554658946350544,\n",
       " 3.555903956248798,\n",
       " 3.5510386659954323,\n",
       " 3.556682946832214,\n",
       " 3.555903956248798,\n",
       " 3.9575092861037158,\n",
       " 3.229816764253742,\n",
       " 3.0004411964270394,\n",
       " 3.253142270528359,\n",
       " 3.0215739277059055,\n",
       " 3.0635896464245516,\n",
       " 3.4598634507820525,\n",
       " 3.0800167837173653,\n",
       " 3.037543284567021,\n",
       " 3.050438674033343]"
      ]
     },
     "execution_count": 28,
     "metadata": {},
     "output_type": "execute_result"
    }
   ],
   "source": [
    "metrics_playlist"
   ]
  },
  {
   "cell_type": "code",
   "execution_count": 29,
   "metadata": {},
   "outputs": [
    {
     "data": {
      "text/plain": [
       "3.468469618813997"
      ]
     },
     "execution_count": 29,
     "metadata": {},
     "output_type": "execute_result"
    }
   ],
   "source": [
    "sum(metrics_playlist)/169"
   ]
  },
  {
   "cell_type": "code",
   "execution_count": 30,
   "metadata": {},
   "outputs": [],
   "source": [
    "# for n_clusters in range(2,11):\n",
    "#     # Create a subplot with 1 row and 2 columns\n",
    "#     fig, (ax1, ax2) = plt.subplots(1, 2)\n",
    "#     fig.set_size_inches(18, 7)\n",
    "\n",
    "#     # The 1st subplot is the silhouette plot\n",
    "#     # The silhouette coefficient can range from -1, 1 but in this example all\n",
    "#     # lie within [-0.1, 1]\n",
    "#     ax1.set_xlim([-0.1, 1])\n",
    "#     # The (n_clusters+1)*10 is for inserting blank space between silhouette\n",
    "#     # plots of individual clusters, to demarcate them clearly.\n",
    "#     ax1.set_ylim([0, len(X) + (n_clusters + 1) * 10])\n",
    "\n",
    "#     # Initialize the clusterer with n_clusters value and a random generator\n",
    "#     # seed of 10 for reproducibility.\n",
    "#     clusterer = KMeans(n_clusters=n_clusters, random_state=10)\n",
    "#     cluster_labels = clusterer.fit_predict(X)\n",
    "\n",
    "#     # The silhouette_score gives the average value for all the samples.\n",
    "#     # This gives a perspective into the density and separation of the formed\n",
    "#     # clusters\n",
    "#     silhouette_avg = silhouette_score(X, cluster_labels)\n",
    "#     print(\"For n_clusters =\", n_clusters,\n",
    "#           \"The average silhouette_score is :\", silhouette_avg)\n",
    "\n",
    "#     # Compute the silhouette scores for each sample\n",
    "#     sample_silhouette_values = silhouette_samples(X, cluster_labels)\n",
    "\n",
    "#     y_lower = 10\n",
    "#     for i in range(n_clusters):\n",
    "#         # Aggregate the silhouette scores for samples belonging to\n",
    "#         # cluster i, and sort them\n",
    "#         ith_cluster_silhouette_values = \\\n",
    "#             sample_silhouette_values[cluster_labels == i]\n",
    "\n",
    "#         ith_cluster_silhouette_values.sort()\n",
    "\n",
    "#         size_cluster_i = ith_cluster_silhouette_values.shape[0]\n",
    "#         y_upper = y_lower + size_cluster_i\n",
    "\n",
    "#         color = cm.nipy_spectral(float(i) / n_clusters)\n",
    "#         ax1.fill_betweenx(np.arange(y_lower, y_upper),\n",
    "#                           0, ith_cluster_silhouette_values,\n",
    "#                           facecolor=color, edgecolor=color, alpha=0.7)\n",
    "\n",
    "#         # Label the silhouette plots with their cluster numbers at the middle\n",
    "#         ax1.text(-0.05, y_lower + 0.5 * size_cluster_i, str(i))\n",
    "\n",
    "#         # Compute the new y_lower for next plot\n",
    "#         y_lower = y_upper + 10  # 10 for the 0 samples\n",
    "\n",
    "#     ax1.set_title(\"The silhouette plot for the various clusters.\")\n",
    "#     ax1.set_xlabel(\"The silhouette coefficient values\")\n",
    "#     ax1.set_ylabel(\"Cluster label\")\n",
    "\n",
    "#     # The vertical line for average silhouette score of all the values\n",
    "#     ax1.axvline(x=silhouette_avg, color=\"red\", linestyle=\"--\")\n",
    "\n",
    "#     ax1.set_yticks([])  # Clear the yaxis labels / ticks\n",
    "#     ax1.set_xticks([-0.1, 0, 0.2, 0.4, 0.6, 0.8, 1])\n",
    "\n",
    "#     # 2nd Plot showing the actual clusters formed\n",
    "#     colors = cm.nipy_spectral(cluster_labels.astype(float) / n_clusters)\n",
    "#     ax2.scatter(X[:, 0], X[:, 1], marker='.', s=30, lw=0, alpha=0.7,\n",
    "#                 c=colors, edgecolor='k')\n",
    "\n",
    "#     # Labeling the clusters\n",
    "#     centers = clusterer.cluster_centers_\n",
    "#     # Draw white circles at cluster centers\n",
    "#     ax2.scatter(centers[:, 0], centers[:, 1], marker='o',\n",
    "#                 c=\"white\", alpha=1, s=200, edgecolor='k')\n",
    "\n",
    "#     for i, c in enumerate(centers):\n",
    "#         ax2.scatter(c[0], c[1], marker='$%d$' % i, alpha=1,\n",
    "#                     s=50, edgecolor='k')\n",
    "\n",
    "#     ax2.set_title(\"The visualization of the clustered data.\")\n",
    "#     ax2.set_xlabel(\"Feature space for the 1st feature\")\n",
    "#     ax2.set_ylabel(\"Feature space for the 2nd feature\")\n",
    "\n",
    "#     plt.suptitle((\"Silhouette analysis for KMeans clustering on sample data \"\n",
    "#                   \"with n_clusters = %d\" % n_clusters),\n",
    "#                  fontsize=14, fontweight='bold')\n",
    "\n",
    "# plt.show()"
   ]
  },
  {
   "cell_type": "code",
   "execution_count": null,
   "metadata": {},
   "outputs": [],
   "source": []
  },
  {
   "cell_type": "code",
   "execution_count": null,
   "metadata": {},
   "outputs": [],
   "source": []
  },
  {
   "cell_type": "code",
   "execution_count": null,
   "metadata": {},
   "outputs": [],
   "source": []
  },
  {
   "cell_type": "code",
   "execution_count": null,
   "metadata": {},
   "outputs": [],
   "source": []
  }
 ],
 "metadata": {
  "kernelspec": {
   "display_name": "Python 3",
   "language": "python",
   "name": "python3"
  },
  "language_info": {
   "codemirror_mode": {
    "name": "ipython",
    "version": 3
   },
   "file_extension": ".py",
   "mimetype": "text/x-python",
   "name": "python",
   "nbconvert_exporter": "python",
   "pygments_lexer": "ipython3",
   "version": "3.8.5"
  }
 },
 "nbformat": 4,
 "nbformat_minor": 4
}
