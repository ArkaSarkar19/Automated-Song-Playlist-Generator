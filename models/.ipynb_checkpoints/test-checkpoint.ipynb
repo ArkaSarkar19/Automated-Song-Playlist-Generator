{
 "cells": [
  {
   "cell_type": "code",
   "execution_count": 16,
   "metadata": {},
   "outputs": [
    {
     "name": "stdout",
     "output_type": "stream",
     "text": [
      "Kill the Lights, Britney Spears\n"
     ]
    }
   ],
   "source": [
    "import os\n",
    "import pickle\n",
    "import spotipy\n",
    "import pandas as pd\n",
    "from spotipy.oauth2 import SpotifyClientCredentials\n",
    "\n",
    "sp = spotipy.Spotify(auth_manager=SpotifyClientCredentials(client_id=\"f053486a0d364fe09c5bddf49fc4657e\",\n",
    "                                                           client_secret=\"701cacd9264046d7889ab46f6f7610a9\"))\n",
    "\n",
    "song_ids = ['263w5yLLnexUUOMc5Py9m5',\n",
    " '6RL5nRfZ2ubP8wIiPOjOSr',\n",
    " '5YeQoMo5py82YmqXMTjM5S',\n",
    " '5isQpYKJvXAACz4A105fJC',\n",
    " '63aVbch5VRXtQnCITdeDTZ',\n",
    " '004ZH9ISUSEwansKKbUdJs',\n",
    " '7JElqB4CULpz3L0nGsVbGk',\n",
    " '6IyENT301qDiw9GHUFsGTO',\n",
    " '2b9lp5A6CqSzwOrBfAFhof',\n",
    " '1c9dnQbOzw01ID7X2IsYOE',\n",
    " '6EMImSrB2kkbz0ZHtMa7zj',\n",
    " '23DpTSrlyQCkjG8qChwWX6',\n",
    " '3tD4AR8vbvM0b9X09YBYE0',\n",
    " '5stIYIS2BnzkSzKeVUimdj',\n",
    " '4QC1Kd4dctVuVA5I6HFuoj',\n",
    " '7dox9B92nanss0YuviceR9',\n",
    " '7CWUSZqFXxoWrOCP5I3tpd',\n",
    " '7rGFyfE73J6lkEvFnCHucC',\n",
    " '2Hy27APwGt3lMfpZ0Bzf13',\n",
    " '5QNj3V5X2Hv8qSnejQ06eO',\n",
    " '2FTZeRHQ4gRPViPMpWL9uX',\n",
    " '5bv551r1rJZxuJBVAuuW4w',\n",
    " '4shKoD4U0rsE6UDjyPEjyK',\n",
    " '2qQYmjXYPmFPGzuIHeVWar',\n",
    " '6g48vpikqU2atsrDXdGzKo',\n",
    " '0oEyOMJOc13vLNeaU1XehU',\n",
    " '1cojSYj0ugS7tmcwKIxMX4',\n",
    " '72oiKwTwejHrwUxJ7Nur8r',\n",
    " '2Gah9qQMVdxCZJllU9HmnZ',\n",
    " '15wj47tE34wiwaJTDtcZgr',\n",
    " '4CpertYLR6sEQcDLdiAzdu',\n",
    " '4gDBc1RxPAvinJrZzZ9nYX',\n",
    " '3n2PcAGXz4UzEXcRAZ9a11',\n",
    " '5iIEOb16gPjJaepmZZ59E0',\n",
    " '1hZ36KgOEk28zCRuN3Y969',\n",
    " '0Cgd3CK6D2hhbwmLRvtscH',\n",
    " '19u8aI7kMiSi2GG2YFoOk0',\n",
    " '3Ph7fws05DvPwpn5CQHTBy',\n",
    " '0Npw8kETzhGtLUobZaBr5u',\n",
    " '13dXfwqqLCiWIqA2b1wQZa',\n",
    " '54TUMbmJFfebiiVR7BJ8XQ',\n",
    " '7lznzPjPyRFdcYaD9gN7a3',\n",
    " '0pADow4Na78pXZFOf7c2Wu',\n",
    " '3lTEXatUG1GWFiDhWsrYAi',\n",
    " '79bFISfLM4YH2sWJba0vIX',\n",
    " '5cUENUZPejtoGUs8ScWh33',\n",
    " '6DCALWbYX0BCOAGy0hMmRs',\n",
    " '4onabc1MqnCIsrr0On3Sa3',\n",
    " '5GGYQ6LWLMLWQTvaGU9StD',\n",
    " '2VZYQKBRyGQdVMrzUhRf7J']\n",
    "\n",
    "for song_id  in song_ids[:1]:  \n",
    "    results = sp.track(song_id)\n",
    "\n",
    "    print(results['name'] + ', ' + results['album']['artists'][0]['name'])    "
   ]
  },
  {
   "cell_type": "code",
   "execution_count": null,
   "metadata": {},
   "outputs": [],
   "source": []
  }
 ],
 "metadata": {
  "kernelspec": {
   "display_name": "Python 3",
   "language": "python",
   "name": "python3"
  },
  "language_info": {
   "codemirror_mode": {
    "name": "ipython",
    "version": 3
   },
   "file_extension": ".py",
   "mimetype": "text/x-python",
   "name": "python",
   "nbconvert_exporter": "python",
   "pygments_lexer": "ipython3",
   "version": "3.8.5"
  }
 },
 "nbformat": 4,
 "nbformat_minor": 4
}
