{
 "cells": [
  {
   "cell_type": "code",
   "execution_count": 1,
   "metadata": {},
   "outputs": [],
   "source": [
    "import pandas as pd\n",
    "import numpy as np\n",
    "from sklearn.linear_model import LogisticRegression, SGDClassifier\n",
    "from sklearn.model_selection import train_test_split\n",
    "from sklearn.metrics import precision_score\n",
    "from sklearn.metrics import f1_score\n",
    "from sklearn.metrics import balanced_accuracy_score\n",
    "from sklearn.preprocessing import StandardScaler\n",
    "from sklearn.metrics import recall_score\n",
    "from tqdm import tqdm\n",
    "from imblearn.ensemble import BalancedBaggingClassifier\n",
    "from imblearn.under_sampling import RandomUnderSampler\n",
    "from sklearn.svm import SVC\n",
    "from xgboost import XGBClassifier\n",
    "import pickle\n",
    "import tensorflow as tf\n",
    "import math\n",
    "import keras\n",
    "from tensorflow.keras.models import Sequential\n",
    "from tensorflow.keras.layers import Dense\n",
    "from sklearn.tree import DecisionTreeClassifier\n",
    "from sklearn.ensemble import RandomForestClassifier\n",
    "import xgboost as xgb\n",
    "from xgboost.sklearn import XGBClassifier\n",
    "from sklearn.neighbors import KNeighborsClassifier\n",
    "from sklearn.model_selection import learning_curve\n",
    "import matplotlib.pyplot as plt\n",
    "from sklearn.metrics import plot_roc_curve"
   ]
  },
  {
   "cell_type": "code",
   "execution_count": 2,
   "metadata": {},
   "outputs": [
    {
     "data": {
      "text/plain": [
       "' One v.s. All binary classification '"
      ]
     },
     "execution_count": 2,
     "metadata": {},
     "output_type": "execute_result"
    }
   ],
   "source": [
    "\"\"\" One v.s. All binary classification \"\"\""
   ]
  },
  {
   "cell_type": "code",
   "execution_count": 3,
   "metadata": {},
   "outputs": [],
   "source": [
    "df = pd.read_csv(\"../Data_Scrape/Dataset/updated_dataset.csv\")"
   ]
  },
  {
   "cell_type": "code",
   "execution_count": 4,
   "metadata": {},
   "outputs": [
    {
     "data": {
      "text/html": [
       "<div>\n",
       "<style scoped>\n",
       "    .dataframe tbody tr th:only-of-type {\n",
       "        vertical-align: middle;\n",
       "    }\n",
       "\n",
       "    .dataframe tbody tr th {\n",
       "        vertical-align: top;\n",
       "    }\n",
       "\n",
       "    .dataframe thead th {\n",
       "        text-align: right;\n",
       "    }\n",
       "</style>\n",
       "<table border=\"1\" class=\"dataframe\">\n",
       "  <thead>\n",
       "    <tr style=\"text-align: right;\">\n",
       "      <th></th>\n",
       "      <th>sp_song_id</th>\n",
       "      <th>danceability</th>\n",
       "      <th>energy</th>\n",
       "      <th>key</th>\n",
       "      <th>loudness</th>\n",
       "      <th>mode</th>\n",
       "      <th>speechiness</th>\n",
       "      <th>acousticness</th>\n",
       "      <th>instrumentalness</th>\n",
       "      <th>liveness</th>\n",
       "      <th>...</th>\n",
       "      <th>lda_topic_11</th>\n",
       "      <th>lda_topic_12</th>\n",
       "      <th>lda_topic_13</th>\n",
       "      <th>lda_topic_14</th>\n",
       "      <th>lda_topic_15</th>\n",
       "      <th>lda_topic_16</th>\n",
       "      <th>lda_topic_17</th>\n",
       "      <th>lda_topic_18</th>\n",
       "      <th>lda_topic_19</th>\n",
       "      <th>Playlists</th>\n",
       "    </tr>\n",
       "  </thead>\n",
       "  <tbody>\n",
       "    <tr>\n",
       "      <th>0</th>\n",
       "      <td>6edQfeOlqbGteYixpJl3Sm</td>\n",
       "      <td>0.857</td>\n",
       "      <td>0.602</td>\n",
       "      <td>10</td>\n",
       "      <td>-8.311</td>\n",
       "      <td>1</td>\n",
       "      <td>0.0290</td>\n",
       "      <td>0.489000</td>\n",
       "      <td>0.02440</td>\n",
       "      <td>0.3170</td>\n",
       "      <td>...</td>\n",
       "      <td>0.0</td>\n",
       "      <td>0.022993</td>\n",
       "      <td>0.000000</td>\n",
       "      <td>0.122078</td>\n",
       "      <td>0.0</td>\n",
       "      <td>0.000000</td>\n",
       "      <td>0.000000</td>\n",
       "      <td>0.081108</td>\n",
       "      <td>0.386042</td>\n",
       "      <td>[165]</td>\n",
       "    </tr>\n",
       "    <tr>\n",
       "      <th>1</th>\n",
       "      <td>5Oe7wHPL4hdEXeF4AOayCi</td>\n",
       "      <td>0.322</td>\n",
       "      <td>0.990</td>\n",
       "      <td>8</td>\n",
       "      <td>-1.785</td>\n",
       "      <td>1</td>\n",
       "      <td>0.1710</td>\n",
       "      <td>0.000044</td>\n",
       "      <td>0.41700</td>\n",
       "      <td>0.0366</td>\n",
       "      <td>...</td>\n",
       "      <td>0.0</td>\n",
       "      <td>0.000000</td>\n",
       "      <td>0.163142</td>\n",
       "      <td>0.022999</td>\n",
       "      <td>0.0</td>\n",
       "      <td>0.144614</td>\n",
       "      <td>0.187207</td>\n",
       "      <td>0.000000</td>\n",
       "      <td>0.000000</td>\n",
       "      <td>[79]</td>\n",
       "    </tr>\n",
       "    <tr>\n",
       "      <th>2</th>\n",
       "      <td>6i1uWZYWabNHq2wQnoca58</td>\n",
       "      <td>0.666</td>\n",
       "      <td>0.884</td>\n",
       "      <td>9</td>\n",
       "      <td>-5.243</td>\n",
       "      <td>0</td>\n",
       "      <td>0.0429</td>\n",
       "      <td>0.506000</td>\n",
       "      <td>0.00612</td>\n",
       "      <td>0.0408</td>\n",
       "      <td>...</td>\n",
       "      <td>0.0</td>\n",
       "      <td>0.000000</td>\n",
       "      <td>0.000000</td>\n",
       "      <td>0.000000</td>\n",
       "      <td>0.0</td>\n",
       "      <td>0.000000</td>\n",
       "      <td>0.000000</td>\n",
       "      <td>0.000000</td>\n",
       "      <td>0.582131</td>\n",
       "      <td>[15]</td>\n",
       "    </tr>\n",
       "    <tr>\n",
       "      <th>3</th>\n",
       "      <td>4BzBtS6PBreni5hNPo2hos</td>\n",
       "      <td>0.609</td>\n",
       "      <td>0.578</td>\n",
       "      <td>9</td>\n",
       "      <td>-7.081</td>\n",
       "      <td>1</td>\n",
       "      <td>0.0414</td>\n",
       "      <td>0.296000</td>\n",
       "      <td>0.00000</td>\n",
       "      <td>0.1500</td>\n",
       "      <td>...</td>\n",
       "      <td>0.0</td>\n",
       "      <td>0.000000</td>\n",
       "      <td>0.511716</td>\n",
       "      <td>0.084905</td>\n",
       "      <td>0.0</td>\n",
       "      <td>0.000000</td>\n",
       "      <td>0.000000</td>\n",
       "      <td>0.115004</td>\n",
       "      <td>0.108140</td>\n",
       "      <td>[168]</td>\n",
       "    </tr>\n",
       "    <tr>\n",
       "      <th>4</th>\n",
       "      <td>0GvhHQbWSnGltjl0je61dI</td>\n",
       "      <td>0.699</td>\n",
       "      <td>0.514</td>\n",
       "      <td>4</td>\n",
       "      <td>-12.610</td>\n",
       "      <td>1</td>\n",
       "      <td>0.0315</td>\n",
       "      <td>0.587000</td>\n",
       "      <td>0.02900</td>\n",
       "      <td>0.2200</td>\n",
       "      <td>...</td>\n",
       "      <td>0.0</td>\n",
       "      <td>0.000000</td>\n",
       "      <td>0.000000</td>\n",
       "      <td>0.401954</td>\n",
       "      <td>0.0</td>\n",
       "      <td>0.000000</td>\n",
       "      <td>0.000000</td>\n",
       "      <td>0.000000</td>\n",
       "      <td>0.000000</td>\n",
       "      <td>[30, 133]</td>\n",
       "    </tr>\n",
       "  </tbody>\n",
       "</table>\n",
       "<p>5 rows × 36 columns</p>\n",
       "</div>"
      ],
      "text/plain": [
       "               sp_song_id  danceability  energy  key  loudness  mode  \\\n",
       "0  6edQfeOlqbGteYixpJl3Sm         0.857   0.602   10    -8.311     1   \n",
       "1  5Oe7wHPL4hdEXeF4AOayCi         0.322   0.990    8    -1.785     1   \n",
       "2  6i1uWZYWabNHq2wQnoca58         0.666   0.884    9    -5.243     0   \n",
       "3  4BzBtS6PBreni5hNPo2hos         0.609   0.578    9    -7.081     1   \n",
       "4  0GvhHQbWSnGltjl0je61dI         0.699   0.514    4   -12.610     1   \n",
       "\n",
       "   speechiness  acousticness  instrumentalness  liveness  ...  lda_topic_11  \\\n",
       "0       0.0290      0.489000           0.02440    0.3170  ...           0.0   \n",
       "1       0.1710      0.000044           0.41700    0.0366  ...           0.0   \n",
       "2       0.0429      0.506000           0.00612    0.0408  ...           0.0   \n",
       "3       0.0414      0.296000           0.00000    0.1500  ...           0.0   \n",
       "4       0.0315      0.587000           0.02900    0.2200  ...           0.0   \n",
       "\n",
       "   lda_topic_12  lda_topic_13  lda_topic_14  lda_topic_15  lda_topic_16  \\\n",
       "0      0.022993      0.000000      0.122078           0.0      0.000000   \n",
       "1      0.000000      0.163142      0.022999           0.0      0.144614   \n",
       "2      0.000000      0.000000      0.000000           0.0      0.000000   \n",
       "3      0.000000      0.511716      0.084905           0.0      0.000000   \n",
       "4      0.000000      0.000000      0.401954           0.0      0.000000   \n",
       "\n",
       "   lda_topic_17  lda_topic_18  lda_topic_19  Playlists  \n",
       "0      0.000000      0.081108      0.386042      [165]  \n",
       "1      0.187207      0.000000      0.000000       [79]  \n",
       "2      0.000000      0.000000      0.582131       [15]  \n",
       "3      0.000000      0.115004      0.108140      [168]  \n",
       "4      0.000000      0.000000      0.000000  [30, 133]  \n",
       "\n",
       "[5 rows x 36 columns]"
      ]
     },
     "execution_count": 4,
     "metadata": {},
     "output_type": "execute_result"
    }
   ],
   "source": [
    "df.head()"
   ]
  },
  {
   "cell_type": "code",
   "execution_count": 5,
   "metadata": {},
   "outputs": [
    {
     "data": {
      "text/plain": [
       "' SVM - Linear Classification  '"
      ]
     },
     "execution_count": 5,
     "metadata": {},
     "output_type": "execute_result"
    }
   ],
   "source": [
    "\"\"\" SVM - Linear Classification  \"\"\""
   ]
  },
  {
   "cell_type": "code",
   "execution_count": 12,
   "metadata": {
    "scrolled": true
   },
   "outputs": [],
   "source": [
    "def run_model(model_type = \"LR\", neighbours = 5):\n",
    "    playlists = []\n",
    "    result_history = {}\n",
    "\n",
    "    np.random.seed(123)\n",
    "\n",
    "    for playlist in tqdm(range(100,101,1), desc = \"Progress : \", position = 0, leave = True):\n",
    "        X = []\n",
    "        y = []\n",
    "        list_of_is = []\n",
    "        for i in df.index:\n",
    "            a = list(df.iloc[i])[1:-1]\n",
    "            if playlist in eval(df['Playlists'][i]):\n",
    "                X.append(a)\n",
    "                y.append(1)\n",
    "            else:\n",
    "                _ = np.random.randint(0, 26)\n",
    "                if _ == 0:\n",
    "                    X.append(a)\n",
    "                    y.append(0)\n",
    "\n",
    "\n",
    "\n",
    "        X = np.array(X)\n",
    "        y = np.array(y)\n",
    "\n",
    "\n",
    "\n",
    "        X_train, X_test, y_train, y_test = train_test_split(X, y, test_size=0.2, random_state=10, stratify = y)\n",
    "\n",
    "        standardScalar = StandardScaler()\n",
    "        X_train = standardScalar.fit_transform(X_train)\n",
    "        X_test = standardScalar.transform(X_test)\n",
    "        \n",
    "        \n",
    "        if(model_type == \"LR\" ):\n",
    "            model = LogisticRegression()\n",
    "            \n",
    "        elif(model_type == \"SVM\"):\n",
    "            model = SVC(kernel = 'linear')\n",
    "        \n",
    "        elif (model_type == \"DT\"):\n",
    "            model = DecisionTreeClassifier(criterion = 'entropy', max_depth =  20)\n",
    "            \n",
    "        elif (model_type == \"RF\"):\n",
    "            model = RandomForestClassifier(criterion = 'entropy')\n",
    "            \n",
    "        \n",
    "        elif(model_type == \"XGB\"):\n",
    "            \n",
    "            param = {\n",
    "                \"learning_rate\" : 0.1,\n",
    "                \"n_estimators\" : 500,\n",
    "                \"max_depth\" : 20,\n",
    "                \"min_child_weight\" : 1,\n",
    "                \"gamma\" : 0.1,\n",
    "                \"subsample\": 0.9,\n",
    "                \"colsample_bytree\" : 0.9,\n",
    "                \"objective\" : 'binary:logistic',\n",
    "                \"nthread\" : 4,\n",
    "                \"scale_pos_weight\" :  1,\n",
    "                \"seed\" : 27\n",
    "            }\n",
    "            \n",
    "            model = XGBClassifier(**param)\n",
    "        \n",
    "        elif(model_type == \"KNN\"):\n",
    "            model = KNeighborsClassifier(n_neighbors=neighbours)\n",
    "            \n",
    "        elif(model_type == \"ANN\"):\n",
    "            model = Sequential([Dense(units = 24, input_shape = (34, ), activation = 'relu'),\n",
    "            Dense(units = 12, activation = 'relu'),\n",
    "            Dense(units = 4, activation = 'relu'),       \n",
    "            Dense(units = 1, activation = 'sigmoid')\n",
    "            ])\n",
    "            model.compile(optimizer = tf.keras.optimizers.Adam(lr = 0.05), loss = 'binary_crossentropy', metrics = ['accuracy'])\n",
    "            model.summary()\n",
    "            \n",
    "            \n",
    "#         fig, axes = plt.subplots(3, 2, figsize=(10, 15))\n",
    "\n",
    "\n",
    "#         cv = 5\n",
    "#         title = \"Learning Curves (SVM, RBF kernel, $\\gamma=0.001$)\"\n",
    "#         plot_learning_curve(model, title, X, y, axes=axes[:, 0], ylim=(0.7, 1.01),\n",
    "#                             cv=cv)\n",
    "                            \n",
    "                        \n",
    "       \n",
    "\n",
    "#         plt.show()\n",
    "\n",
    "\n",
    "            \n",
    "        train_sizes, train_f1_scores, val_f1_scores = learning_curve(model, X_train, y_train, cv = 5, train_sizes =[30, 60, 90, 120, 150, 180, 210, 240, 270], scoring = 'f1_macro')\n",
    "        print(train_sizes)\n",
    "#         print(train_f1_scores.shape)\n",
    "        print(train_f1_scores)\n",
    "        print(val_f1_scores)\n",
    "        \n",
    "        print(\"yoyoyo\")\n",
    "        \n",
    "        print(len(X), \"yoyoyo\")\n",
    "        \n",
    "        \n",
    "        train_f1_scores_mean = np.mean(train_f1_scores, axis=1)\n",
    "        train_f1_scores_std = np.std(train_f1_scores, axis=1)\n",
    "        val_f1_scores_mean = np.mean(val_f1_scores, axis=1)\n",
    "        val_f1_scores_std = np.std(val_f1_scores, axis=1)\n",
    "        \n",
    "        print(train_f1_scores_mean)\n",
    "        print(val_f1_scores_mean)\n",
    "        \n",
    "        \n",
    "        plt.plot([30, 60, 90, 120, 150, 180, 210, 240, 270], train_f1_scores_mean, \"b-\", label = \"Training Score\")\n",
    "        plt.plot([30, 60, 90, 120, 150, 180, 210, 240, 270], val_f1_scores_mean, \"r-\", label = \"Validation Score\")\n",
    "        plt.title(\"Linear SVC\")\n",
    "        plt.xlabel(\"Number of training samples\")\n",
    "        plt.ylabel(\"F1 Score (Macro)\")\n",
    "        plt.legend()\n",
    "        plt.grid()\n",
    "        plt.show()\n",
    "        \n",
    "        \n",
    "#         print(\"Training F1:\", train_f1_scores.mean())\n",
    "#         print(\"Validation F1:\", val_f1_scores.mean())\n",
    "        \n",
    "        \n",
    "#         train_sizes, train_prec_scores, val_prec_scores = learning_curve(model, X_train, y_train, cv = 5, train_sizes =[30, 60, 90, 120, 150, 180, 210, 240, 270], scoring = 'precision_macro')\n",
    "#         print(train_prec_scores)\n",
    "#         print(val_prec_scores)\n",
    "#         print(\"Training Precision:\", train_prec_scores.mean())\n",
    "#         print(\"Validation Precision:\", val_prec_scores.mean())\n",
    "        \n",
    "#         train_sizes, train_rec_scores, val_rec_scores = learning_curve(model, X_train, y_train, cv = 5, train_sizes =[30, 60, 90, 120, 150, 180, 210, 240, 270], scoring = 'recall_macro')\n",
    "#         print(train_rec_scores)\n",
    "#         print(val_rec_scores)\n",
    "#         print(\"Training Recall:\", train_rec_scores.mean())\n",
    "#         print(\"Validation Recall:\", val_rec_scores.mean())\n",
    "        \n",
    "        \n",
    "\n",
    "\n",
    "#         xgb = XGBClassifier(**param)    \n",
    "        \n",
    "        if model_type != 'ANN':\n",
    "            model.fit(X_train, y_train)\n",
    "            y_pred = model.predict(X_test)\n",
    "            if model_type == 'SVM':\n",
    "                plot_roc_curve(model, X_test, y_test)\n",
    "                plt.grid()\n",
    "                plt.plot(color = 'g-')\n",
    "                plt.show()\n",
    "        else:\n",
    "            model.fit(X_train, y_train, validation_data = (X_test, y_test), batch_size = 64, epochs = 20)\n",
    "            y_pred = model.predict_classes(X_test)\n",
    "            \n",
    "\n",
    "        pres_score = precision_score(y_test, y_pred, average = \"macro\")\n",
    "\n",
    "        f1= f1_score(y_test, y_pred, average = \"macro\")\n",
    "        recall_Score = recall_score(y_test, y_pred, average = \"macro\")\n",
    "\n",
    "        result_history[playlist] = {\"Precision Score \" : pres_score, \"Recall Score \" : recall_Score, \"F1 Score \" : f1 }\n",
    "\n",
    "\n",
    "    print(result_history)\n",
    "    return result_history"
   ]
  },
  {
   "cell_type": "code",
   "execution_count": null,
   "metadata": {},
   "outputs": [],
   "source": [
    "\"\"\" Logistic Regression Result\"\"\""
   ]
  },
  {
   "cell_type": "code",
   "execution_count": null,
   "metadata": {},
   "outputs": [],
   "source": [
    "result_history = run_model(model_type = \"LR\")"
   ]
  },
  {
   "cell_type": "code",
   "execution_count": null,
   "metadata": {},
   "outputs": [],
   "source": [
    "\"\"\" Decision Tree Result\"\"\""
   ]
  },
  {
   "cell_type": "code",
   "execution_count": null,
   "metadata": {},
   "outputs": [],
   "source": [
    "result_history = run_model(model_type = \"DT\")"
   ]
  },
  {
   "cell_type": "code",
   "execution_count": null,
   "metadata": {},
   "outputs": [],
   "source": [
    "\"\"\" Random Forest Result\"\"\""
   ]
  },
  {
   "cell_type": "code",
   "execution_count": null,
   "metadata": {},
   "outputs": [],
   "source": [
    "result_history = run_model(model_type = \"RF\")"
   ]
  },
  {
   "cell_type": "code",
   "execution_count": null,
   "metadata": {},
   "outputs": [],
   "source": [
    "\"\"\" XG Boost Result\"\"\""
   ]
  },
  {
   "cell_type": "code",
   "execution_count": null,
   "metadata": {},
   "outputs": [],
   "source": [
    "result_history = run_model(model_type = \"XGB\")"
   ]
  },
  {
   "cell_type": "code",
   "execution_count": null,
   "metadata": {},
   "outputs": [],
   "source": [
    "result_history"
   ]
  },
  {
   "cell_type": "markdown",
   "metadata": {},
   "source": [
    "KNN Classification"
   ]
  },
  {
   "cell_type": "code",
   "execution_count": null,
   "metadata": {},
   "outputs": [],
   "source": [
    "n_neighbours = 13"
   ]
  },
  {
   "cell_type": "code",
   "execution_count": null,
   "metadata": {},
   "outputs": [],
   "source": [
    "result_history = run_model(model_type = \"KNN\", neighbours = n_neighbours)"
   ]
  },
  {
   "cell_type": "markdown",
   "metadata": {},
   "source": [
    "ANN Classification (Deep Learning)"
   ]
  },
  {
   "cell_type": "code",
   "execution_count": null,
   "metadata": {},
   "outputs": [],
   "source": [
    "result_history = run_model(model_type = \"ANN\")"
   ]
  },
  {
   "cell_type": "code",
   "execution_count": 13,
   "metadata": {},
   "outputs": [
    {
     "name": "stderr",
     "output_type": "stream",
     "text": [
      "Progress :   0%|          | 0/1 [00:00<?, ?it/s]"
     ]
    },
    {
     "name": "stdout",
     "output_type": "stream",
     "text": [
      "[ 30  60  90 120 150 180 210 240 270]\n",
      "[[1.         1.         1.         1.         1.        ]\n",
      " [0.95555556 1.         1.         1.         1.        ]\n",
      " [0.96527778 1.         1.         1.         1.        ]\n",
      " [0.95587695 1.         0.98583402 0.98583402 0.98583402]\n",
      " [0.96660482 1.         0.97862639 0.97862639 0.97862639]\n",
      " [0.97249249 0.99061278 0.98144712 0.98186946 0.98186946]\n",
      " [0.97565217 0.99170976 0.98359631 0.97457525 0.97457525]\n",
      " [0.97727201 0.992424   0.97772208 0.97166804 0.97166804]\n",
      " [0.97124294 0.97821351 0.97180451 0.96636688 0.98115008]]\n",
      "[[0.75086806 0.92234848 0.95920398 0.93699767 0.88317308]\n",
      " [0.89527458 0.92234848 0.95920398 0.93699767 0.90486258]\n",
      " [0.89527458 0.94033471 0.97905492 0.93699767 0.94016252]\n",
      " [0.91386555 0.88352273 0.91840796 0.88888889 0.93699767]\n",
      " [0.91386555 0.90055785 0.94033471 0.91364606 0.94016252]\n",
      " [0.93716475 0.92234848 0.92234848 0.91364606 0.94016252]\n",
      " [0.93716475 0.92234848 0.95920398 0.88888889 0.91818182]\n",
      " [0.91840796 0.83681592 0.91840796 0.88888889 0.91818182]\n",
      " [0.89527458 0.85338442 0.93716475 0.87046908 0.94016252]]\n",
      "yoyoyo\n",
      "510 yoyoyo\n",
      "[1.         0.99111111 0.99305556 0.9826758  0.9804968  0.98165826\n",
      " 0.98002175 0.97815084 0.97375558]\n",
      "[0.89051825 0.92373746 0.93836488 0.90833656 0.92171334 0.92713406\n",
      " 0.92515758 0.89614051 0.89929107]\n"
     ]
    },
    {
     "data": {
      "image/png": "[encoded data removed]",
      "text/plain": [
       "<Figure size 432x288 with 1 Axes>"
      ]
     },
     "metadata": {
      "needs_background": "light"
     },
     "output_type": "display_data"
    },
    {
     "data": {
      "image/png": "[encoded data removed]",
      "text/plain": [
       "<Figure size 432x288 with 1 Axes>"
      ]
     },
     "metadata": {
      "needs_background": "light"
     },
     "output_type": "display_data"
    },
    {
     "name": "stderr",
     "output_type": "stream",
     "text": [
      "Progress : 100%|██████████| 1/1 [00:03<00:00,  3.46s/it]"
     ]
    },
    {
     "name": "stdout",
     "output_type": "stream",
     "text": [
      "{100: {'Precision Score ': 0.8863636363636364, 'Recall Score ': 0.9705882352941176, 'F1 Score ': 0.9207459207459208}}\n"
     ]
    },
    {
     "name": "stderr",
     "output_type": "stream",
     "text": [
      "\n"
     ]
    }
   ],
   "source": [
    "result_history = run_model(model_type = \"SVM\")"
   ]
  },
  {
   "cell_type": "code",
   "execution_count": null,
   "metadata": {},
   "outputs": [],
   "source": []
  }
 ],
 "metadata": {
  "kernelspec": {
   "display_name": "Python 3",
   "language": "python",
   "name": "python3"
  },
  "language_info": {
   "codemirror_mode": {
    "name": "ipython",
    "version": 3
   },
   "file_extension": ".py",
   "mimetype": "text/x-python",
   "name": "python",
   "nbconvert_exporter": "python",
   "pygments_lexer": "ipython3",
   "version": "3.8.5"
  }
 },
 "nbformat": 4,
 "nbformat_minor": 4
}
